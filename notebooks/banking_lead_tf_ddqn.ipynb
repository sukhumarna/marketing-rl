{
 "cells": [
  {
   "cell_type": "markdown",
   "id": "bb7c9b56-0b9d-48e6-9ad0-912fa10ff547",
   "metadata": {},
   "source": [
    "# DDQN Model with Flexible Reward Environment for Banking Lead Conversion Prediction"
   ]
  },
  {
   "cell_type": "code",
   "execution_count": 1,
   "id": "7ba103a1-77f6-4252-97b2-24830f287726",
   "metadata": {},
   "outputs": [],
   "source": [
    "import os\n",
    "import sys\n",
    "curr_folder = globals()['_dh']\n",
    "\n",
    "os.chdir(os.path.join(curr_folder[0], '..'))\n",
    "sys.path.append(os.path.join(curr_folder[0], '..'))\n",
    "sys.path.append(os.path.join(curr_folder[0], '../marketing_rl'))"
   ]
  },
  {
   "cell_type": "code",
   "execution_count": 2,
   "id": "2d7d6cc2-7949-4225-a6e8-677331659eef",
   "metadata": {},
   "outputs": [],
   "source": [
    "import math\n",
    "import pandas as pd\n",
    "import numpy as np\n",
    "import matplotlib.pyplot as plt\n",
    "import seaborn as sns\n",
    "from dateutil.relativedelta import relativedelta\n",
    "from sklearn.model_selection import train_test_split, cross_validate\n",
    "from sklearn.pipeline import Pipeline\n",
    "from sklearn.compose import ColumnTransformer\n",
    "from sklearn.preprocessing import OneHotEncoder, StandardScaler, OrdinalEncoder\n",
    "from sklearn.impute import SimpleImputer\n",
    "from sklearn.metrics import classification_report, roc_curve, roc_auc_score, auc, confusion_matrix, fbeta_score\n",
    "\n",
    "import tensorflow as tf\n",
    "import tf_agents.utils.common as common\n",
    "from tf_agents.agents.dqn import dqn_agent\n",
    "from tf_agents.drivers import dynamic_step_driver\n",
    "from tf_agents.networks.q_network import QNetwork\n",
    "from tf_agents.metrics import tf_metrics\n",
    "from tf_agents.environments import tf_py_environment\n",
    "from tf_agents.replay_buffers import TFUniformReplayBuffer\n",
    "\n",
    "from marketing_rl.environment.flexi_biclass_tf_env import FlexiBiClassTFEnv, EnvMode"
   ]
  },
  {
   "cell_type": "markdown",
   "id": "d04e376e-d1d5-49e2-bcbd-4b3c9a63547e",
   "metadata": {},
   "source": [
    "## Read Data"
   ]
  },
  {
   "cell_type": "code",
   "execution_count": 3,
   "id": "990b942e-6320-485b-8033-36d232a912da",
   "metadata": {},
   "outputs": [
    {
     "name": "stdout",
     "output_type": "stream",
     "text": [
      "total data size is 69713\n"
     ]
    }
   ],
   "source": [
    "data_path = 'data/Banking | Marketing | Leads Conversion Data/train_loan/train.csv'\n",
    "df = pd.read_csv(data_path)\n",
    "print('total data size is', df.shape[0])"
   ]
  },
  {
   "cell_type": "markdown",
   "id": "d45a9ec7-6509-4b4c-a90a-8e41ee2feb87",
   "metadata": {},
   "source": [
    "## Feature Extraction"
   ]
  },
  {
   "cell_type": "code",
   "execution_count": 4,
   "id": "f16f2c32-0a97-48ec-9df5-f9e375de1e1c",
   "metadata": {},
   "outputs": [
    {
     "data": {
      "text/plain": [
       "0.6025275056302268"
      ]
     },
     "execution_count": 4,
     "metadata": {},
     "output_type": "execute_result"
    }
   ],
   "source": [
    "df['DOB'] = df['DOB'].apply(pd.to_datetime)\n",
    "df['Lead_Creation_Date'] = df['Lead_Creation_Date'].apply(pd.to_datetime)\n",
    "df['Age'] = (df['Lead_Creation_Date'] - df['DOB'])/ np.timedelta64(1, 'Y')\n",
    "df['Age'] = np.where(df['Age'] < 0, np.nan, df['Age'])\n",
    "df['Apply'] = np.where(df['Loan_Amount']>0, 1, 0)\n",
    "df['Apply'].mean()"
   ]
  },
  {
   "cell_type": "code",
   "execution_count": 5,
   "id": "b8334307-f8f9-4a1b-aa3a-8a7cc3abf73c",
   "metadata": {},
   "outputs": [],
   "source": [
    "label_col = 'Apply'\n",
    "index_col = 'ID'\n",
    "date_col = 'Lead_Creation_Date'\n",
    "feat_cols = ['Gender', 'Age', 'City_Category', 'Employer_Category1', 'Employer_Category2', \n",
    "             'Monthly_Income', 'Primary_Bank_Type',\n",
    "             'Source_Category', 'Existing_EMI']"
   ]
  },
  {
   "cell_type": "code",
   "execution_count": 6,
   "id": "0b848852-bfc2-48e9-acde-b159fdf9e653",
   "metadata": {},
   "outputs": [
    {
     "name": "stdout",
     "output_type": "stream",
     "text": [
      "train size is 45576\n",
      "test size is 24137\n"
     ]
    }
   ],
   "source": [
    "test_cond = df['Lead_Creation_Date'] > '2016-09-01'\n",
    "train_df = df.loc[~test_cond, :].copy()\n",
    "test_df = df.loc[test_cond, :].copy()\n",
    "print('train size is', train_df.shape[0])\n",
    "print('test size is', test_df.shape[0])"
   ]
  },
  {
   "cell_type": "code",
   "execution_count": 7,
   "id": "d98a2115-9997-44e7-a3d7-279d266c5e72",
   "metadata": {},
   "outputs": [
    {
     "name": "stdout",
     "output_type": "stream",
     "text": [
      "train size is 45576\n",
      "test size is 24137\n"
     ]
    }
   ],
   "source": [
    "X_train = train_df[feat_cols]\n",
    "y_train = train_df[label_col]\n",
    "X_test = test_df[feat_cols]\n",
    "y_test = test_df[label_col]\n",
    "print('train size is', X_train.shape[0])\n",
    "print('test size is', X_test.shape[0])"
   ]
  },
  {
   "cell_type": "code",
   "execution_count": 8,
   "id": "c639a54d-5b4b-4da7-a032-721bdba6bd39",
   "metadata": {},
   "outputs": [],
   "source": [
    "numer_feats = ['Age', 'Monthly_Income', 'Existing_EMI']\n",
    "numer_transformer = Pipeline(\n",
    "    steps=[(\"imputer\", SimpleImputer(strategy=\"mean\")), (\"scaler\", StandardScaler())]\n",
    ")\n",
    "\n",
    "cat_feats = ['Gender', 'City_Category', 'Employer_Category1', 'Employer_Category2', \n",
    "             'Primary_Bank_Type', 'Source_Category']\n",
    "cat_transformer = OneHotEncoder(handle_unknown='ignore')\n",
    "\n",
    "transformer = ColumnTransformer(\n",
    "    transformers=[\n",
    "        (\"num\", numer_transformer, numer_feats),\n",
    "        # (\"ordinal\", binary_transformer, binary_feats),\n",
    "        (\"cat\", cat_transformer, cat_feats)\n",
    "    ], sparse_threshold = 0\n",
    ")"
   ]
  },
  {
   "cell_type": "code",
   "execution_count": 9,
   "id": "a4239089-7068-4fb8-b8c3-00f3053a2dd4",
   "metadata": {},
   "outputs": [],
   "source": [
    "X_train_t = transformer.fit_transform(X_train)\n",
    "X_test_t = transformer.transform(X_test)"
   ]
  },
  {
   "cell_type": "code",
   "execution_count": 10,
   "id": "c81d4817-3a74-44bb-b27a-02d9a78462e5",
   "metadata": {},
   "outputs": [
    {
     "name": "stderr",
     "output_type": "stream",
     "text": [
      "/Users/sukhumarn/anaconda3/envs/mar_rl/lib/python3.10/site-packages/sklearn/utils/deprecation.py:87: FutureWarning: Function get_feature_names is deprecated; get_feature_names is deprecated in 1.0 and will be removed in 1.2. Please use get_feature_names_out instead.\n",
      "  warnings.warn(msg, category=FutureWarning)\n"
     ]
    }
   ],
   "source": [
    "transformers = transformer.get_params()['transformers']\n",
    "feature_names = []\n",
    "for name, _, features in transformers:\n",
    "    try:\n",
    "        Var = transformer.named_transformers_[name].get_feature_names().tolist()\n",
    "    except AttributeError:\n",
    "        Var = features\n",
    "    feature_names = feature_names + Var"
   ]
  },
  {
   "cell_type": "markdown",
   "id": "70be69ee-59d8-44e6-9882-685bcb6cf9cd",
   "metadata": {},
   "source": [
    "## Prep Agents Environment"
   ]
  },
  {
   "cell_type": "code",
   "execution_count": 11,
   "id": "04ef89bc-bb59-489f-b4ef-934c4c65f949",
   "metadata": {},
   "outputs": [
    {
     "name": "stdout",
     "output_type": "stream",
     "text": [
      "[train] positive sample to negative sample is 1.595296395421673\n"
     ]
    }
   ],
   "source": [
    "pos_neg_ratio = sum(y_train==1)/sum(y_train==0)\n",
    "print('[train] positive sample to negative sample is', pos_neg_ratio)"
   ]
  },
  {
   "cell_type": "code",
   "execution_count": 12,
   "id": "5974277f-fe4c-41c4-8ec7-d2386f92944c",
   "metadata": {},
   "outputs": [
    {
     "name": "stdout",
     "output_type": "stream",
     "text": [
      "[train] early stop is 22788.0\n"
     ]
    }
   ],
   "source": [
    "early_stop = train_df.shape[0] * 0.5\n",
    "print(f'[train] early stop is {early_stop}')"
   ]
  },
  {
   "cell_type": "code",
   "execution_count": 13,
   "id": "c74cc566-c069-485f-9306-82fb6309d68b",
   "metadata": {},
   "outputs": [
    {
     "data": {
      "text/plain": [
       "count     28015.000000\n",
       "mean      39237.943959\n",
       "std       30192.645464\n",
       "min        5000.000000\n",
       "25%       20000.000000\n",
       "50%       30000.000000\n",
       "75%       50000.000000\n",
       "max      300000.000000\n",
       "Name: Loan_Amount, dtype: float64"
      ]
     },
     "execution_count": 13,
     "metadata": {},
     "output_type": "execute_result"
    }
   ],
   "source": [
    "train_df['Loan_Amount'].describe()"
   ]
  },
  {
   "cell_type": "code",
   "execution_count": 14,
   "id": "ff44e086-2964-4a9e-9a72-b77170f69d06",
   "metadata": {},
   "outputs": [],
   "source": [
    "def normalize_data(value, min_val, max_val):\n",
    "    new_value = (value -  min_val)/(max_val - min_val)\n",
    "    return new_value\n",
    "train_df['add_reward'] = train_df['Loan_Amount'].apply(lambda x: normalize_data(x, 5000, 100000))\n",
    "train_df.fillna(0, inplace=True)\n",
    "train_df['add_reward'] = train_df['add_reward'].clip(0, 1)\n",
    "train_df['total_reward'] = train_df['Apply'] + train_df['add_reward']\n",
    "\n",
    "test_df['add_reward'] = test_df['Loan_Amount'].apply(lambda x: normalize_data(x, 5000, 100000))\n",
    "test_df.fillna(0, inplace=True)\n",
    "test_df['add_reward'] = test_df['add_reward'].clip(0, 1)\n",
    "test_df['total_reward'] = test_df['Apply'] + test_df['add_reward']"
   ]
  },
  {
   "cell_type": "code",
   "execution_count": 15,
   "id": "e08c5e68-b2b2-4b07-af2c-f79483b8e7ea",
   "metadata": {},
   "outputs": [],
   "source": [
    "train_data_x = np.array(X_train_t)\n",
    "train_data_y = np.array(y_train)\n",
    "reward = np.array(train_df['total_reward'])"
   ]
  },
  {
   "cell_type": "code",
   "execution_count": 16,
   "id": "ff72a0cc-08b2-44cb-b515-dfd56cd28a09",
   "metadata": {},
   "outputs": [],
   "source": [
    "train_env = FlexiBiClassTFEnv(data_x=train_data_x, data_y=train_data_y, pos_neg_ratio=1, \n",
    "                              discount=0.1, reward=reward, early_stop=early_stop)\n",
    "train_tf_env = tf_py_environment.TFPyEnvironment(train_env)"
   ]
  },
  {
   "cell_type": "code",
   "execution_count": 17,
   "id": "58c6f240-c516-47fb-9c00-a949e3d1a706",
   "metadata": {},
   "outputs": [],
   "source": [
    "eval_data_x = np.array(X_test_t)\n",
    "eval_data_y = np.array(y_test)\n",
    "eval_reward = np.array(test_df['total_reward'])\n",
    "\n",
    "eval_env = FlexiBiClassTFEnv(data_x=eval_data_x, data_y=eval_data_y, reward=eval_reward, \n",
    "                        pos_neg_ratio=1, mode=EnvMode.TEST)\n",
    "eval_tf_env = tf_py_environment.TFPyEnvironment(eval_env)"
   ]
  },
  {
   "cell_type": "markdown",
   "id": "7e4d320d-28d8-4a06-8c71-f8092e85d9e6",
   "metadata": {},
   "source": [
    "## Agents"
   ]
  },
  {
   "cell_type": "markdown",
   "id": "991156f5-6c80-4b58-98fc-5cb5091d2800",
   "metadata": {},
   "source": [
    "### Set Parameters"
   ]
  },
  {
   "cell_type": "code",
   "execution_count": 18,
   "id": "d5eff2fe-23d6-4533-8c61-b62892d7897e",
   "metadata": {},
   "outputs": [],
   "source": [
    "# define parameters\n",
    "fc_layers = (64,)\n",
    "learning_rate = 1e-5\n",
    "batch_size = 64\n",
    "replay_buffer_capacity = 100000\n",
    "\n",
    "num_iterations = 30000\n",
    "num_eval_episodes = 1\n",
    "\n",
    "log_interval = 200\n",
    "eval_interval = 1000"
   ]
  },
  {
   "cell_type": "markdown",
   "id": "401cbe00-0b95-4857-8ea8-69e4d829edcb",
   "metadata": {},
   "source": [
    "### Set Q-network and initialize agent"
   ]
  },
  {
   "cell_type": "code",
   "execution_count": 19,
   "id": "8cd8b570-d2e7-49bf-b0df-b670f27c00cb",
   "metadata": {},
   "outputs": [
    {
     "name": "stderr",
     "output_type": "stream",
     "text": [
      "2022-07-03 15:54:41.592987: I tensorflow/core/platform/cpu_feature_guard.cc:193] This TensorFlow binary is optimized with oneAPI Deep Neural Network Library (oneDNN) to use the following CPU instructions in performance-critical operations:  AVX2 FMA\n",
      "To enable them in other operations, rebuild TensorFlow with the appropriate compiler flags.\n"
     ]
    }
   ],
   "source": [
    "# q network\n",
    "q_net = QNetwork(\n",
    "    input_tensor_spec = train_tf_env.observation_spec(),\n",
    "    action_spec = train_tf_env.action_spec(),\n",
    "    fc_layer_params = fc_layers,\n",
    ")\n",
    "\n",
    "optimizer = tf.compat.v1.train.AdamOptimizer(learning_rate=learning_rate)\n",
    "# train_step_counter = tf.compat.v2.Variable(0)\n",
    "global_step = tf.compat.v1.train.get_or_create_global_step()\n",
    "\n",
    "\n",
    "# ddqn agent\n",
    "agent = dqn_agent.DdqnAgent(\n",
    "    time_step_spec = train_tf_env.time_step_spec(),\n",
    "    action_spec = train_tf_env.action_spec(),\n",
    "    q_network = q_net,\n",
    "    optimizer = optimizer,\n",
    "    td_errors_loss_fn = common.element_wise_squared_loss,\n",
    "    train_step_counter = global_step,\n",
    "    emit_log_probability = True\n",
    ")\n",
    "agent.initialize()"
   ]
  },
  {
   "cell_type": "code",
   "execution_count": 20,
   "id": "7c0be2a7-c818-4f75-b6a2-00dacbf3ee7a",
   "metadata": {},
   "outputs": [
    {
     "data": {
      "text/plain": [
       "<tf.Variable 'global_step:0' shape=() dtype=int64, numpy=0>"
      ]
     },
     "execution_count": 20,
     "metadata": {},
     "output_type": "execute_result"
    }
   ],
   "source": [
    "global_step"
   ]
  },
  {
   "cell_type": "code",
   "execution_count": 21,
   "id": "f8decdd0-20a9-424a-adc8-d2e2186e95df",
   "metadata": {},
   "outputs": [
    {
     "name": "stdout",
     "output_type": "stream",
     "text": [
      "Batch Size: None\n"
     ]
    }
   ],
   "source": [
    "# initiate replay buffer for training\n",
    "replay_buffer = TFUniformReplayBuffer(\n",
    "    data_spec = agent.collect_data_spec,\n",
    "    batch_size = train_tf_env.batch_size,\n",
    "    max_length = replay_buffer_capacity,\n",
    ")\n",
    "print(\"Batch Size: {}\".format(train_env.batch_size))\n",
    "\n",
    "replay_observer = [replay_buffer.add_batch]\n",
    "metrics = [\n",
    "    tf_metrics.NumberOfEpisodes(),\n",
    "    tf_metrics.EnvironmentSteps(),\n",
    "    tf_metrics.AverageReturnMetric(),\n",
    "    tf_metrics.AverageEpisodeLengthMetric(),\n",
    "    \n",
    "]\n",
    "\n",
    "# policy\n",
    "eval_policy = agent.policy\n",
    "collect_policy = agent.collect_policy\n",
    "\n",
    "agent.train = common.function(agent.train)\n"
   ]
  },
  {
   "cell_type": "markdown",
   "id": "1b985028-cb8d-4257-95ca-0bee3743a778",
   "metadata": {},
   "source": [
    "### Set Checkpoint"
   ]
  },
  {
   "cell_type": "code",
   "execution_count": 22,
   "id": "22d09c99-784f-4e10-ae88-69f309e5d6a9",
   "metadata": {},
   "outputs": [],
   "source": [
    "checkpoint_folder = 'banking_lead_ddqn_cp'\n",
    "train_checkpointer = common.Checkpointer(\n",
    "    ckpt_dir=checkpoint_folder,\n",
    "    max_to_keep=1,\n",
    "    agent=agent,\n",
    "    policy=agent.policy,\n",
    "    replay_buffer=replay_buffer,\n",
    "    global_step=global_step\n",
    ")"
   ]
  },
  {
   "cell_type": "markdown",
   "id": "95a00864-8a9c-4971-a5c9-56967df8b379",
   "metadata": {},
   "source": [
    "### Set Dataset Iteration and Driver"
   ]
  },
  {
   "cell_type": "code",
   "execution_count": 23,
   "id": "313bb481-e000-41ab-9f32-1b40703b6ad9",
   "metadata": {},
   "outputs": [
    {
     "name": "stdout",
     "output_type": "stream",
     "text": [
      "WARNING:tensorflow:From /Users/sukhumarn/anaconda3/envs/mar_rl/lib/python3.10/site-packages/tensorflow/python/autograph/impl/api.py:377: ReplayBuffer.get_next (from tf_agents.replay_buffers.replay_buffer) is deprecated and will be removed in a future version.\n",
      "Instructions for updating:\n",
      "Use `as_dataset(..., single_deterministic_pass=False) instead.\n"
     ]
    },
    {
     "name": "stderr",
     "output_type": "stream",
     "text": [
      "WARNING:tensorflow:From /Users/sukhumarn/anaconda3/envs/mar_rl/lib/python3.10/site-packages/tensorflow/python/autograph/impl/api.py:377: ReplayBuffer.get_next (from tf_agents.replay_buffers.replay_buffer) is deprecated and will be removed in a future version.\n",
      "Instructions for updating:\n",
      "Use `as_dataset(..., single_deterministic_pass=False) instead.\n"
     ]
    }
   ],
   "source": [
    "dataset = replay_buffer.as_dataset(\n",
    "    num_parallel_calls = 3, \n",
    "    sample_batch_size = batch_size,\n",
    "    num_steps = 2\n",
    ").prefetch(3)\n",
    "\n",
    "driver = dynamic_step_driver.DynamicStepDriver(\n",
    "    env = train_tf_env,\n",
    "    policy = collect_policy,\n",
    "    observers = replay_observer + metrics,\n",
    ")\n",
    "\n",
    "data_iter = iter(dataset)"
   ]
  },
  {
   "cell_type": "code",
   "execution_count": 24,
   "id": "aa06940e-9b5b-4fea-b20b-a2182747afc5",
   "metadata": {},
   "outputs": [],
   "source": [
    "def compute_avg_return(environment, policy, num_episodes=1):\n",
    "    total_return = 0.0\n",
    "    total_step = 0\n",
    "    for i in range(num_episodes):\n",
    "        time_step = environment.reset()\n",
    "        episode_return = 0.0\n",
    "\n",
    "        while not time_step.is_last():\n",
    "            action_step = policy.action(time_step)\n",
    "            time_step = environment.step(action_step.action)\n",
    "            episode_return += time_step.reward\n",
    "            total_step += 1\n",
    "        total_return += episode_return\n",
    "            \n",
    "    print(f'total step is {total_step}')\n",
    "    print(f'total reward is {total_return}')\n",
    "    avg_return = total_return / num_episodes\n",
    "    return avg_return.numpy()[0]"
   ]
  },
  {
   "cell_type": "markdown",
   "id": "d96f3438-54ab-417d-b80f-5aead5241f87",
   "metadata": {},
   "source": [
    "### Train agent"
   ]
  },
  {
   "cell_type": "code",
   "execution_count": 67,
   "id": "7216fc10-b81b-4b56-8157-a6026e185a1e",
   "metadata": {
    "scrolled": true,
    "tags": []
   },
   "outputs": [
    {
     "name": "stdout",
     "output_type": "stream",
     "text": [
      "step = 30200: loss = 0.48088622093200684\n",
      "Average episode length: 0.0\n",
      "Number of Steps:  30201\n",
      "step = 30400: loss = 0.24870836734771729\n",
      "Average episode length: 0.0\n",
      "Number of Steps:  30401\n",
      "step = 30600: loss = 0.39354920387268066\n",
      "Average episode length: 0.0\n",
      "Number of Steps:  30601\n",
      "step = 30800: loss = 0.4594568610191345\n",
      "Average episode length: 0.0\n",
      "Number of Steps:  30801\n",
      "step = 31000: loss = 0.37051934003829956\n",
      "Average episode length: 0.0\n",
      "Number of Steps:  31001\n",
      "total step is 24137\n",
      "total reward is [23482.008]\n",
      "step = 31000: Average Return = 23482.0078125\n",
      "step = 31200: loss = 0.3532012104988098\n",
      "Average episode length: 0.0\n",
      "Number of Steps:  31201\n",
      "step = 31400: loss = 0.3931571841239929\n",
      "Average episode length: 0.0\n",
      "Number of Steps:  31401\n",
      "step = 31600: loss = 0.3720095753669739\n",
      "Average episode length: 0.0\n",
      "Number of Steps:  31601\n",
      "step = 31800: loss = 0.5912201404571533\n",
      "Average episode length: 0.0\n",
      "Number of Steps:  31801\n",
      "step = 32000: loss = 0.46363842487335205\n",
      "Average episode length: 0.0\n",
      "Number of Steps:  32001\n",
      "total step is 24137\n",
      "total reward is [23482.082]\n",
      "step = 32000: Average Return = 23482.08203125\n",
      "step = 32200: loss = 0.25454795360565186\n",
      "Average episode length: 0.0\n",
      "Number of Steps:  32201\n",
      "step = 32400: loss = 0.1867699772119522\n",
      "Average episode length: 0.0\n",
      "Number of Steps:  32401\n",
      "step = 32600: loss = 0.5265182256698608\n",
      "Average episode length: 0.0\n",
      "Number of Steps:  32601\n",
      "step = 32800: loss = 0.39987123012542725\n",
      "Average episode length: 0.0\n",
      "Number of Steps:  32801\n",
      "step = 33000: loss = 0.38520437479019165\n",
      "Average episode length: 0.0\n",
      "Number of Steps:  33001\n",
      "total step is 24137\n",
      "total reward is [23507.172]\n",
      "step = 33000: Average Return = 23507.171875\n",
      "step = 33200: loss = 0.28971582651138306\n",
      "Average episode length: 0.0\n",
      "Number of Steps:  33201\n",
      "step = 33400: loss = 0.22299425303936005\n",
      "Average episode length: 0.0\n",
      "Number of Steps:  33401\n",
      "step = 33600: loss = 0.42517879605293274\n",
      "Average episode length: 0.0\n",
      "Number of Steps:  33601\n",
      "step = 33800: loss = 0.3652005195617676\n",
      "Average episode length: 0.0\n",
      "Number of Steps:  33801\n",
      "step = 34000: loss = 0.4402199983596802\n",
      "Average episode length: 0.0\n",
      "Number of Steps:  34001\n",
      "total step is 24137\n",
      "total reward is [23503.357]\n",
      "step = 34000: Average Return = 23503.357421875\n",
      "step = 34200: loss = 0.2946622967720032\n",
      "Average episode length: 0.0\n",
      "Number of Steps:  34201\n",
      "step = 34400: loss = 0.2503907084465027\n",
      "Average episode length: 0.0\n",
      "Number of Steps:  34401\n",
      "step = 34600: loss = 0.4637488126754761\n",
      "Average episode length: 0.0\n",
      "Number of Steps:  34601\n",
      "step = 34800: loss = 0.4377186894416809\n",
      "Average episode length: 0.0\n",
      "Number of Steps:  34801\n",
      "step = 35000: loss = 0.4802248179912567\n",
      "Average episode length: 0.0\n",
      "Number of Steps:  35001\n",
      "total step is 24137\n",
      "total reward is [23511.127]\n",
      "step = 35000: Average Return = 23511.126953125\n",
      "step = 35200: loss = 0.16529831290245056\n",
      "Average episode length: 0.0\n",
      "Number of Steps:  35201\n",
      "step = 35400: loss = 0.12648746371269226\n",
      "Average episode length: 0.0\n",
      "Number of Steps:  35401\n",
      "step = 35600: loss = 0.49111610651016235\n",
      "Average episode length: 0.0\n",
      "Number of Steps:  35601\n",
      "step = 35800: loss = 0.440336138010025\n",
      "Average episode length: 0.0\n",
      "Number of Steps:  35801\n",
      "step = 36000: loss = 0.49406707286834717\n",
      "Average episode length: 0.0\n",
      "Number of Steps:  36001\n",
      "total step is 24137\n",
      "total reward is [23511.121]\n",
      "step = 36000: Average Return = 23511.12109375\n",
      "step = 36200: loss = 0.3336350619792938\n",
      "Average episode length: 0.0\n",
      "Number of Steps:  36201\n",
      "step = 36400: loss = 0.22454489767551422\n",
      "Average episode length: 0.0\n",
      "Number of Steps:  36401\n",
      "step = 36600: loss = 0.5087897777557373\n",
      "Average episode length: 0.0\n",
      "Number of Steps:  36601\n",
      "step = 36800: loss = 0.3942570686340332\n",
      "Average episode length: 0.0\n",
      "Number of Steps:  36801\n",
      "step = 37000: loss = 0.461233913898468\n",
      "Average episode length: 0.0\n",
      "Number of Steps:  37001\n",
      "total step is 24137\n",
      "total reward is [23511.17]\n",
      "step = 37000: Average Return = 23511.169921875\n",
      "step = 37200: loss = 0.2715684473514557\n",
      "Average episode length: 0.0\n",
      "Number of Steps:  37201\n",
      "step = 37400: loss = 0.38488852977752686\n",
      "Average episode length: 0.0\n",
      "Number of Steps:  37401\n",
      "step = 37600: loss = 0.6357927918434143\n",
      "Average episode length: 0.0\n",
      "Number of Steps:  37601\n",
      "step = 37800: loss = 0.3094600439071655\n",
      "Average episode length: 0.0\n",
      "Number of Steps:  37801\n",
      "step = 38000: loss = 0.5264931917190552\n",
      "Average episode length: 0.0\n",
      "Number of Steps:  38001\n",
      "total step is 24137\n",
      "total reward is [23519.145]\n",
      "step = 38000: Average Return = 23519.14453125\n",
      "step = 38200: loss = 0.33862000703811646\n",
      "Average episode length: 0.0\n",
      "Number of Steps:  38201\n",
      "step = 38400: loss = 0.4884685277938843\n",
      "Average episode length: 0.0\n",
      "Number of Steps:  38401\n",
      "step = 38600: loss = 0.27835187315940857\n",
      "Average episode length: 0.0\n",
      "Number of Steps:  38601\n",
      "step = 38800: loss = 0.6208510398864746\n",
      "Average episode length: 0.0\n",
      "Number of Steps:  38801\n",
      "step = 39000: loss = 0.41423261165618896\n",
      "Average episode length: 0.0\n",
      "Number of Steps:  39001\n",
      "total step is 24137\n",
      "total reward is [23519.148]\n",
      "step = 39000: Average Return = 23519.1484375\n",
      "step = 39200: loss = 0.2779086232185364\n",
      "Average episode length: 0.0\n",
      "Number of Steps:  39201\n",
      "step = 39400: loss = 0.2648669183254242\n",
      "Average episode length: 0.0\n",
      "Number of Steps:  39401\n",
      "step = 39600: loss = 0.339394211769104\n",
      "Average episode length: 0.0\n",
      "Number of Steps:  39601\n",
      "step = 39800: loss = 0.28292205929756165\n",
      "Average episode length: 0.0\n",
      "Number of Steps:  39801\n",
      "step = 40000: loss = 0.3427334129810333\n",
      "Average episode length: 0.0\n",
      "Number of Steps:  40001\n",
      "total step is 24137\n",
      "total reward is [23523.123]\n",
      "step = 40000: Average Return = 23523.123046875\n"
     ]
    }
   ],
   "source": [
    "# final_time_step, policy_state = driver.run()\n",
    "# episode_len = []\n",
    "# step_len = []\n",
    "# losses = []\n",
    "# returns = []\n",
    "# agent.train_step_counter.assign(0)\n",
    "num_iterations = 10000\n",
    "\n",
    "for i in range(num_iterations+1):\n",
    "    # time_step, _ = driver.run(time_step)\n",
    "    final_time_step, _ = driver.run(final_time_step, policy_state)\n",
    "    \n",
    "    experience, _ = next(data_iter)\n",
    "    train_loss = agent.train(experience=experience)\n",
    "    step = agent.train_step_counter.numpy()\n",
    "\n",
    "    if step % log_interval == 0:\n",
    "        print('step = {0}: loss = {1}'.format(step, train_loss.loss))\n",
    "        episode_len.append(metrics[3].result().numpy())\n",
    "        step_len.append(step)\n",
    "        print('Average episode length: {}'.format(metrics[3].result().numpy()))\n",
    "        print('Number of Steps: ', metrics[1].result().numpy())\n",
    "    \n",
    "    if step % eval_interval == 0:\n",
    "        avg_return = compute_avg_return(eval_tf_env, agent.policy, num_eval_episodes)\n",
    "        print('step = {0}: Average Return = {1}'.format(step, avg_return))\n",
    "        losses.append(train_loss)\n",
    "        returns.append(avg_return)\n",
    "        train_checkpointer.save(global_step)"
   ]
  },
  {
   "cell_type": "markdown",
   "id": "68ef0a5e-8f2f-447d-9e51-fde8a14f9b8c",
   "metadata": {},
   "source": [
    "### Load Checkpoint"
   ]
  },
  {
   "cell_type": "code",
   "execution_count": 26,
   "id": "2bca20cd-c1b3-44c2-8908-f58b93cf142a",
   "metadata": {},
   "outputs": [
    {
     "name": "stdout",
     "output_type": "stream",
     "text": [
      "global step is <tf.Variable 'global_step:0' shape=() dtype=int64, numpy=40000>\n",
      "num_iterations is 3000\n"
     ]
    }
   ],
   "source": [
    "num_iterations = 3000\n",
    "train_checkpointer.initialize_or_restore()\n",
    "global_step = tf.compat.v1.train.get_global_step()\n",
    "print('global step is', global_step)\n",
    "print('num_iterations is', num_iterations)"
   ]
  },
  {
   "cell_type": "code",
   "execution_count": null,
   "id": "4db10783-1e77-405d-aea8-cebd1b981cb1",
   "metadata": {
    "scrolled": true,
    "tags": []
   },
   "outputs": [],
   "source": [
    "episode_len = []\n",
    "step_len = []\n",
    "losses = []\n",
    "returns = []\n",
    "final_time_step, policy_state = driver.run()\n",
    "for i in range(num_iterations+1):\n",
    "    # time_step, _ = driver.run(time_step)\n",
    "    final_time_step, _ = driver.run(final_time_step, policy_state)\n",
    "    \n",
    "    experience, _ = next(data_iter)\n",
    "    train_loss = agent.train(experience=experience)\n",
    "    step = agent.train_step_counter.numpy()\n",
    "\n",
    "    if step % log_interval == 0:\n",
    "        print('step = {0}: loss = {1}'.format(step, train_loss.loss))\n",
    "        episode_len.append(metrics[3].result().numpy())\n",
    "        step_len.append(step)\n",
    "        print('Average episode length: {}'.format(metrics[3].result().numpy()))\n",
    "        print('Number of Steps: ', metrics[1].result().numpy())\n",
    "    \n",
    "    if step % eval_interval == 0:\n",
    "        avg_return = compute_avg_return(eval_tf_env, agent.policy, num_eval_episodes)\n",
    "        print('step = {0}: Average Return = {1}'.format(step, avg_return))\n",
    "        losses.append(train_loss)\n",
    "        returns.append(avg_return)\n",
    "        train_checkpointer.save(global_step)"
   ]
  },
  {
   "cell_type": "markdown",
   "id": "3b12a91c-d0b1-4c19-b636-e8bfcd5e0977",
   "metadata": {},
   "source": [
    "### Plot Rewards"
   ]
  },
  {
   "cell_type": "code",
   "execution_count": 39,
   "id": "c05ba959-c51f-4088-a666-9d9a1f244978",
   "metadata": {},
   "outputs": [
    {
     "data": {
      "image/png": "[encoded data removed]",
      "text/plain": [
       "<Figure size 432x288 with 1 Axes>"
      ]
     },
     "metadata": {
      "needs_background": "light"
     },
     "output_type": "display_data"
    }
   ],
   "source": [
    "import seaborn as sns\n",
    "sns.lineplot(data=returns)\n",
    "# plt.xlim(10, len(returns))\n",
    "# plt.ylim(13250, max(returns)+500)\n",
    "plt.show()"
   ]
  },
  {
   "cell_type": "markdown",
   "id": "290c538d-4f9b-44be-9199-0d7ba19c94bd",
   "metadata": {},
   "source": [
    "## Evaluation"
   ]
  },
  {
   "cell_type": "markdown",
   "id": "09cfaf48-1cbe-4997-bf8c-9e06501cf472",
   "metadata": {},
   "source": [
    "### ROCAUC"
   ]
  },
  {
   "cell_type": "code",
   "execution_count": 68,
   "id": "0857199e-8638-460b-826c-19c5d13344f7",
   "metadata": {},
   "outputs": [],
   "source": [
    "eval_q_values, _ = agent._q_network(eval_data_x) \n",
    "train_q_values, _ = agent._q_network(train_data_x) "
   ]
  },
  {
   "cell_type": "code",
   "execution_count": 69,
   "id": "d7cefa44-6c5d-4910-bdf3-7acb871220a8",
   "metadata": {},
   "outputs": [],
   "source": [
    "train_fpr, train_tpr, _ = roc_curve(train_data_y, train_q_values[:, 1])\n",
    "test_fpr, test_tpr, _ = roc_curve(eval_data_y, eval_q_values[:, 1])\n",
    "\n",
    "train_auc = roc_auc_score(y_train, train_q_values[:, 1])\n",
    "test_auc = roc_auc_score(y_test, eval_q_values[:, 1])"
   ]
  },
  {
   "cell_type": "code",
   "execution_count": 70,
   "id": "6082ed14-0523-4613-b3a5-258590421afc",
   "metadata": {},
   "outputs": [
    {
     "data": {
      "image/png": "[encoded data removed]",
      "text/plain": [
       "<Figure size 432x288 with 1 Axes>"
      ]
     },
     "metadata": {
      "needs_background": "light"
     },
     "output_type": "display_data"
    }
   ],
   "source": [
    "plt.figure()\n",
    "lw = 2\n",
    "plt.plot(train_fpr, train_tpr, color=\"b\",lw=lw, label=\"Train ROC curve (area = %0.4f)\" % train_auc)\n",
    "plt.plot(test_fpr, test_tpr, color=\"r\",lw=lw, label=\"Test ROC curve (area = %0.4f)\" % test_auc)\n",
    "plt.plot([0, 1], [0, 1], color=\"navy\", lw=lw, linestyle=\"--\")\n",
    "plt.xlim([0.0, 1.0])\n",
    "plt.ylim([0.0, 1.05])\n",
    "plt.xlabel(\"False Positive Rate\")\n",
    "plt.ylabel(\"True Positive Rate\")\n",
    "plt.title(\"Receiver operating characteristic example\")\n",
    "plt.legend(loc=\"lower right\")\n",
    "plt.show()"
   ]
  },
  {
   "cell_type": "markdown",
   "id": "f8dc119d-acf2-4c75-9396-e7ffca70c9c9",
   "metadata": {},
   "source": [
    "## Threshold Analysis"
   ]
  },
  {
   "cell_type": "code",
   "execution_count": 43,
   "id": "bcdc8b8a-a07d-4697-b67e-af31e2f333b6",
   "metadata": {},
   "outputs": [],
   "source": [
    "def threshold_analysis(result, label_col, proba_col, tops=None):\n",
    "    if tops is None:\n",
    "        tops = [1]\n",
    "        tops.extend(np.arange(2, 6, 1))\n",
    "        tops.extend(np.arange(10, 105, 5))\n",
    "        tops = [t/100 for t in tops]\n",
    "\n",
    "    threshold_opt = pd.DataFrame()\n",
    "\n",
    "    for top in tops:\n",
    "        percentile = 1-top\n",
    "        threshold = result[proba_col].astype(float).quantile(percentile)\n",
    "\n",
    "        tn, fp, fn, tp = confusion_matrix(result[label_col], result[proba_col] > threshold).ravel()\n",
    "\n",
    "        precision = tp/(tp+fp)\n",
    "        recall = tp/(tp+fn)\n",
    "\n",
    "        f1 = fbeta_score(result[label_col], result[proba_col] > threshold, beta=1)\n",
    "        f2 = fbeta_score(result[label_col], result[proba_col] > threshold, beta=2)\n",
    "\n",
    "        top_idx = top*100\n",
    "        threshold_opt.loc[top_idx, 'threshold'] = threshold\n",
    "        threshold_opt.loc[top_idx, 'lead_size'] = (result[proba_col] > threshold).sum()\n",
    "        threshold_opt.loc[top_idx, 'true_positive'] = tp\n",
    "        threshold_opt.loc[top_idx, 'false_positive'] = fp\n",
    "        threshold_opt.loc[top_idx, 'true_negative'] = tn\n",
    "        threshold_opt.loc[top_idx, 'false_negative'] = fn\n",
    "        threshold_opt.loc[top_idx, 'precision'] = precision\n",
    "        threshold_opt.loc[top_idx, 'recall'] = recall\n",
    "        threshold_opt.loc[top_idx, 'f1'] = f1\n",
    "        threshold_opt.loc[top_idx, 'f2'] = f2\n",
    "\n",
    "        threshold_opt.index.name = 'top'\n",
    "\n",
    "        cols = ['lead_size', 'true_positive', 'false_positive', 'true_negative', 'false_negative']\n",
    "        threshold_opt[cols] = threshold_opt[cols].astype(int)\n",
    "    threshold_opt.reset_index(inplace=True)\n",
    "\n",
    "    return threshold_opt"
   ]
  },
  {
   "cell_type": "code",
   "execution_count": 71,
   "id": "9dee057e-50f8-4819-94a2-cf2ae57e8f6e",
   "metadata": {},
   "outputs": [
    {
     "data": {
      "text/html": [
       "<div>\n",
       "<style scoped>\n",
       "    .dataframe tbody tr th:only-of-type {\n",
       "        vertical-align: middle;\n",
       "    }\n",
       "\n",
       "    .dataframe tbody tr th {\n",
       "        vertical-align: top;\n",
       "    }\n",
       "\n",
       "    .dataframe thead th {\n",
       "        text-align: right;\n",
       "    }\n",
       "</style>\n",
       "<table border=\"1\" class=\"dataframe\">\n",
       "  <thead>\n",
       "    <tr style=\"text-align: right;\">\n",
       "      <th></th>\n",
       "      <th>top</th>\n",
       "      <th>threshold</th>\n",
       "      <th>lead_size</th>\n",
       "      <th>true_positive</th>\n",
       "      <th>false_positive</th>\n",
       "      <th>true_negative</th>\n",
       "      <th>false_negative</th>\n",
       "      <th>precision</th>\n",
       "      <th>recall</th>\n",
       "      <th>f1</th>\n",
       "      <th>f2</th>\n",
       "    </tr>\n",
       "  </thead>\n",
       "  <tbody>\n",
       "    <tr>\n",
       "      <th>0</th>\n",
       "      <td>1.0</td>\n",
       "      <td>1.655494</td>\n",
       "      <td>242</td>\n",
       "      <td>242</td>\n",
       "      <td>0</td>\n",
       "      <td>10148</td>\n",
       "      <td>13747</td>\n",
       "      <td>1.000000</td>\n",
       "      <td>0.017299</td>\n",
       "      <td>0.034010</td>\n",
       "      <td>0.021531</td>\n",
       "    </tr>\n",
       "    <tr>\n",
       "      <th>1</th>\n",
       "      <td>2.0</td>\n",
       "      <td>1.606930</td>\n",
       "      <td>483</td>\n",
       "      <td>483</td>\n",
       "      <td>0</td>\n",
       "      <td>10148</td>\n",
       "      <td>13506</td>\n",
       "      <td>1.000000</td>\n",
       "      <td>0.034527</td>\n",
       "      <td>0.066750</td>\n",
       "      <td>0.042790</td>\n",
       "    </tr>\n",
       "    <tr>\n",
       "      <th>2</th>\n",
       "      <td>3.0</td>\n",
       "      <td>1.577100</td>\n",
       "      <td>725</td>\n",
       "      <td>725</td>\n",
       "      <td>0</td>\n",
       "      <td>10148</td>\n",
       "      <td>13264</td>\n",
       "      <td>1.000000</td>\n",
       "      <td>0.051826</td>\n",
       "      <td>0.098546</td>\n",
       "      <td>0.063954</td>\n",
       "    </tr>\n",
       "    <tr>\n",
       "      <th>3</th>\n",
       "      <td>4.0</td>\n",
       "      <td>1.548717</td>\n",
       "      <td>966</td>\n",
       "      <td>966</td>\n",
       "      <td>0</td>\n",
       "      <td>10148</td>\n",
       "      <td>13023</td>\n",
       "      <td>1.000000</td>\n",
       "      <td>0.069054</td>\n",
       "      <td>0.129188</td>\n",
       "      <td>0.084853</td>\n",
       "    </tr>\n",
       "    <tr>\n",
       "      <th>4</th>\n",
       "      <td>5.0</td>\n",
       "      <td>1.535349</td>\n",
       "      <td>1207</td>\n",
       "      <td>1207</td>\n",
       "      <td>0</td>\n",
       "      <td>10148</td>\n",
       "      <td>12782</td>\n",
       "      <td>1.000000</td>\n",
       "      <td>0.086282</td>\n",
       "      <td>0.158858</td>\n",
       "      <td>0.105575</td>\n",
       "    </tr>\n",
       "    <tr>\n",
       "      <th>5</th>\n",
       "      <td>10.0</td>\n",
       "      <td>1.496287</td>\n",
       "      <td>2414</td>\n",
       "      <td>2414</td>\n",
       "      <td>0</td>\n",
       "      <td>10148</td>\n",
       "      <td>11575</td>\n",
       "      <td>1.000000</td>\n",
       "      <td>0.172564</td>\n",
       "      <td>0.294336</td>\n",
       "      <td>0.206784</td>\n",
       "    </tr>\n",
       "    <tr>\n",
       "      <th>6</th>\n",
       "      <td>15.0</td>\n",
       "      <td>1.459299</td>\n",
       "      <td>3621</td>\n",
       "      <td>3621</td>\n",
       "      <td>0</td>\n",
       "      <td>10148</td>\n",
       "      <td>10368</td>\n",
       "      <td>1.000000</td>\n",
       "      <td>0.258846</td>\n",
       "      <td>0.411244</td>\n",
       "      <td>0.303892</td>\n",
       "    </tr>\n",
       "    <tr>\n",
       "      <th>7</th>\n",
       "      <td>20.0</td>\n",
       "      <td>1.431784</td>\n",
       "      <td>4828</td>\n",
       "      <td>4828</td>\n",
       "      <td>0</td>\n",
       "      <td>10148</td>\n",
       "      <td>9161</td>\n",
       "      <td>1.000000</td>\n",
       "      <td>0.345128</td>\n",
       "      <td>0.513153</td>\n",
       "      <td>0.397144</td>\n",
       "    </tr>\n",
       "    <tr>\n",
       "      <th>8</th>\n",
       "      <td>25.0</td>\n",
       "      <td>1.400887</td>\n",
       "      <td>6034</td>\n",
       "      <td>6034</td>\n",
       "      <td>0</td>\n",
       "      <td>10148</td>\n",
       "      <td>7955</td>\n",
       "      <td>1.000000</td>\n",
       "      <td>0.431339</td>\n",
       "      <td>0.602707</td>\n",
       "      <td>0.486691</td>\n",
       "    </tr>\n",
       "    <tr>\n",
       "      <th>9</th>\n",
       "      <td>30.0</td>\n",
       "      <td>1.367331</td>\n",
       "      <td>7241</td>\n",
       "      <td>7241</td>\n",
       "      <td>0</td>\n",
       "      <td>10148</td>\n",
       "      <td>6748</td>\n",
       "      <td>1.000000</td>\n",
       "      <td>0.517621</td>\n",
       "      <td>0.682148</td>\n",
       "      <td>0.572891</td>\n",
       "    </tr>\n",
       "    <tr>\n",
       "      <th>10</th>\n",
       "      <td>35.0</td>\n",
       "      <td>1.330371</td>\n",
       "      <td>8448</td>\n",
       "      <td>8448</td>\n",
       "      <td>0</td>\n",
       "      <td>10148</td>\n",
       "      <td>5541</td>\n",
       "      <td>1.000000</td>\n",
       "      <td>0.603903</td>\n",
       "      <td>0.753042</td>\n",
       "      <td>0.655860</td>\n",
       "    </tr>\n",
       "    <tr>\n",
       "      <th>11</th>\n",
       "      <td>40.0</td>\n",
       "      <td>1.280260</td>\n",
       "      <td>9655</td>\n",
       "      <td>9655</td>\n",
       "      <td>0</td>\n",
       "      <td>10148</td>\n",
       "      <td>4334</td>\n",
       "      <td>1.000000</td>\n",
       "      <td>0.690185</td>\n",
       "      <td>0.816698</td>\n",
       "      <td>0.735776</td>\n",
       "    </tr>\n",
       "    <tr>\n",
       "      <th>12</th>\n",
       "      <td>45.0</td>\n",
       "      <td>1.183336</td>\n",
       "      <td>10862</td>\n",
       "      <td>10862</td>\n",
       "      <td>0</td>\n",
       "      <td>10148</td>\n",
       "      <td>3127</td>\n",
       "      <td>1.000000</td>\n",
       "      <td>0.776467</td>\n",
       "      <td>0.874170</td>\n",
       "      <td>0.812805</td>\n",
       "    </tr>\n",
       "    <tr>\n",
       "      <th>13</th>\n",
       "      <td>50.0</td>\n",
       "      <td>0.738836</td>\n",
       "      <td>12068</td>\n",
       "      <td>11964</td>\n",
       "      <td>104</td>\n",
       "      <td>10044</td>\n",
       "      <td>2025</td>\n",
       "      <td>0.991382</td>\n",
       "      <td>0.855243</td>\n",
       "      <td>0.918295</td>\n",
       "      <td>0.879396</td>\n",
       "    </tr>\n",
       "    <tr>\n",
       "      <th>14</th>\n",
       "      <td>55.0</td>\n",
       "      <td>-0.267298</td>\n",
       "      <td>13275</td>\n",
       "      <td>12449</td>\n",
       "      <td>826</td>\n",
       "      <td>9322</td>\n",
       "      <td>1540</td>\n",
       "      <td>0.937778</td>\n",
       "      <td>0.889914</td>\n",
       "      <td>0.913219</td>\n",
       "      <td>0.899091</td>\n",
       "    </tr>\n",
       "    <tr>\n",
       "      <th>15</th>\n",
       "      <td>60.0</td>\n",
       "      <td>-0.353057</td>\n",
       "      <td>14482</td>\n",
       "      <td>12780</td>\n",
       "      <td>1702</td>\n",
       "      <td>8446</td>\n",
       "      <td>1209</td>\n",
       "      <td>0.882475</td>\n",
       "      <td>0.913575</td>\n",
       "      <td>0.897756</td>\n",
       "      <td>0.907181</td>\n",
       "    </tr>\n",
       "    <tr>\n",
       "      <th>16</th>\n",
       "      <td>65.0</td>\n",
       "      <td>-0.418360</td>\n",
       "      <td>15689</td>\n",
       "      <td>13072</td>\n",
       "      <td>2617</td>\n",
       "      <td>7531</td>\n",
       "      <td>917</td>\n",
       "      <td>0.833195</td>\n",
       "      <td>0.934448</td>\n",
       "      <td>0.880922</td>\n",
       "      <td>0.912276</td>\n",
       "    </tr>\n",
       "    <tr>\n",
       "      <th>17</th>\n",
       "      <td>70.0</td>\n",
       "      <td>-0.456715</td>\n",
       "      <td>16896</td>\n",
       "      <td>13336</td>\n",
       "      <td>3560</td>\n",
       "      <td>6588</td>\n",
       "      <td>653</td>\n",
       "      <td>0.789299</td>\n",
       "      <td>0.953320</td>\n",
       "      <td>0.863591</td>\n",
       "      <td>0.915280</td>\n",
       "    </tr>\n",
       "    <tr>\n",
       "      <th>18</th>\n",
       "      <td>75.0</td>\n",
       "      <td>-0.501746</td>\n",
       "      <td>18102</td>\n",
       "      <td>13559</td>\n",
       "      <td>4543</td>\n",
       "      <td>5605</td>\n",
       "      <td>430</td>\n",
       "      <td>0.749033</td>\n",
       "      <td>0.969262</td>\n",
       "      <td>0.845034</td>\n",
       "      <td>0.915431</td>\n",
       "    </tr>\n",
       "    <tr>\n",
       "      <th>19</th>\n",
       "      <td>80.0</td>\n",
       "      <td>-0.549593</td>\n",
       "      <td>19309</td>\n",
       "      <td>13724</td>\n",
       "      <td>5585</td>\n",
       "      <td>4563</td>\n",
       "      <td>265</td>\n",
       "      <td>0.710757</td>\n",
       "      <td>0.981057</td>\n",
       "      <td>0.824314</td>\n",
       "      <td>0.911712</td>\n",
       "    </tr>\n",
       "    <tr>\n",
       "      <th>20</th>\n",
       "      <td>85.0</td>\n",
       "      <td>-0.602687</td>\n",
       "      <td>20516</td>\n",
       "      <td>13827</td>\n",
       "      <td>6689</td>\n",
       "      <td>3459</td>\n",
       "      <td>162</td>\n",
       "      <td>0.673962</td>\n",
       "      <td>0.988419</td>\n",
       "      <td>0.801449</td>\n",
       "      <td>0.904056</td>\n",
       "    </tr>\n",
       "    <tr>\n",
       "      <th>21</th>\n",
       "      <td>90.0</td>\n",
       "      <td>-0.645296</td>\n",
       "      <td>21723</td>\n",
       "      <td>13879</td>\n",
       "      <td>7844</td>\n",
       "      <td>2304</td>\n",
       "      <td>110</td>\n",
       "      <td>0.638908</td>\n",
       "      <td>0.992137</td>\n",
       "      <td>0.777274</td>\n",
       "      <td>0.893356</td>\n",
       "    </tr>\n",
       "    <tr>\n",
       "      <th>22</th>\n",
       "      <td>95.0</td>\n",
       "      <td>-0.777791</td>\n",
       "      <td>22930</td>\n",
       "      <td>13961</td>\n",
       "      <td>8969</td>\n",
       "      <td>1179</td>\n",
       "      <td>28</td>\n",
       "      <td>0.608853</td>\n",
       "      <td>0.997998</td>\n",
       "      <td>0.756304</td>\n",
       "      <td>0.884885</td>\n",
       "    </tr>\n",
       "    <tr>\n",
       "      <th>23</th>\n",
       "      <td>100.0</td>\n",
       "      <td>-1.849293</td>\n",
       "      <td>24136</td>\n",
       "      <td>13989</td>\n",
       "      <td>10147</td>\n",
       "      <td>1</td>\n",
       "      <td>0</td>\n",
       "      <td>0.579591</td>\n",
       "      <td>1.000000</td>\n",
       "      <td>0.733849</td>\n",
       "      <td>0.873308</td>\n",
       "    </tr>\n",
       "  </tbody>\n",
       "</table>\n",
       "</div>"
      ],
      "text/plain": [
       "      top  threshold  lead_size  true_positive  false_positive  true_negative  \\\n",
       "0     1.0   1.655494        242            242               0          10148   \n",
       "1     2.0   1.606930        483            483               0          10148   \n",
       "2     3.0   1.577100        725            725               0          10148   \n",
       "3     4.0   1.548717        966            966               0          10148   \n",
       "4     5.0   1.535349       1207           1207               0          10148   \n",
       "5    10.0   1.496287       2414           2414               0          10148   \n",
       "6    15.0   1.459299       3621           3621               0          10148   \n",
       "7    20.0   1.431784       4828           4828               0          10148   \n",
       "8    25.0   1.400887       6034           6034               0          10148   \n",
       "9    30.0   1.367331       7241           7241               0          10148   \n",
       "10   35.0   1.330371       8448           8448               0          10148   \n",
       "11   40.0   1.280260       9655           9655               0          10148   \n",
       "12   45.0   1.183336      10862          10862               0          10148   \n",
       "13   50.0   0.738836      12068          11964             104          10044   \n",
       "14   55.0  -0.267298      13275          12449             826           9322   \n",
       "15   60.0  -0.353057      14482          12780            1702           8446   \n",
       "16   65.0  -0.418360      15689          13072            2617           7531   \n",
       "17   70.0  -0.456715      16896          13336            3560           6588   \n",
       "18   75.0  -0.501746      18102          13559            4543           5605   \n",
       "19   80.0  -0.549593      19309          13724            5585           4563   \n",
       "20   85.0  -0.602687      20516          13827            6689           3459   \n",
       "21   90.0  -0.645296      21723          13879            7844           2304   \n",
       "22   95.0  -0.777791      22930          13961            8969           1179   \n",
       "23  100.0  -1.849293      24136          13989           10147              1   \n",
       "\n",
       "    false_negative  precision    recall        f1        f2  \n",
       "0            13747   1.000000  0.017299  0.034010  0.021531  \n",
       "1            13506   1.000000  0.034527  0.066750  0.042790  \n",
       "2            13264   1.000000  0.051826  0.098546  0.063954  \n",
       "3            13023   1.000000  0.069054  0.129188  0.084853  \n",
       "4            12782   1.000000  0.086282  0.158858  0.105575  \n",
       "5            11575   1.000000  0.172564  0.294336  0.206784  \n",
       "6            10368   1.000000  0.258846  0.411244  0.303892  \n",
       "7             9161   1.000000  0.345128  0.513153  0.397144  \n",
       "8             7955   1.000000  0.431339  0.602707  0.486691  \n",
       "9             6748   1.000000  0.517621  0.682148  0.572891  \n",
       "10            5541   1.000000  0.603903  0.753042  0.655860  \n",
       "11            4334   1.000000  0.690185  0.816698  0.735776  \n",
       "12            3127   1.000000  0.776467  0.874170  0.812805  \n",
       "13            2025   0.991382  0.855243  0.918295  0.879396  \n",
       "14            1540   0.937778  0.889914  0.913219  0.899091  \n",
       "15            1209   0.882475  0.913575  0.897756  0.907181  \n",
       "16             917   0.833195  0.934448  0.880922  0.912276  \n",
       "17             653   0.789299  0.953320  0.863591  0.915280  \n",
       "18             430   0.749033  0.969262  0.845034  0.915431  \n",
       "19             265   0.710757  0.981057  0.824314  0.911712  \n",
       "20             162   0.673962  0.988419  0.801449  0.904056  \n",
       "21             110   0.638908  0.992137  0.777274  0.893356  \n",
       "22              28   0.608853  0.997998  0.756304  0.884885  \n",
       "23               0   0.579591  1.000000  0.733849  0.873308  "
      ]
     },
     "execution_count": 71,
     "metadata": {},
     "output_type": "execute_result"
    }
   ],
   "source": [
    "y_test_score = eval_q_values[:, 1].numpy()\n",
    "eval_df = pd.DataFrame({'y_true': y_test, 'y_pred': y_test_score})\n",
    "threshold_analysis(eval_df, 'y_true', 'y_pred', tops=None)"
   ]
  },
  {
   "cell_type": "code",
   "execution_count": 72,
   "id": "95b993b1-1dd0-4a80-b9b5-0576efdaa8f0",
   "metadata": {},
   "outputs": [],
   "source": [
    "threshold = 1.183336\n",
    "test_df['predict'] = np.where(y_test_score >= threshold, 1, 0)\n",
    "test_df['predicted_reward'] = y_test_score"
   ]
  },
  {
   "cell_type": "code",
   "execution_count": 73,
   "id": "7345191c-9d65-4bb8-8aca-c9ba25e34aef",
   "metadata": {},
   "outputs": [
    {
     "data": {
      "text/html": [
       "<div>\n",
       "<style scoped>\n",
       "    .dataframe tbody tr th:only-of-type {\n",
       "        vertical-align: middle;\n",
       "    }\n",
       "\n",
       "    .dataframe tbody tr th {\n",
       "        vertical-align: top;\n",
       "    }\n",
       "\n",
       "    .dataframe thead th {\n",
       "        text-align: right;\n",
       "    }\n",
       "</style>\n",
       "<table border=\"1\" class=\"dataframe\">\n",
       "  <thead>\n",
       "    <tr style=\"text-align: right;\">\n",
       "      <th></th>\n",
       "      <th>ID</th>\n",
       "      <th>Apply</th>\n",
       "      <th>Loan_Amount</th>\n",
       "    </tr>\n",
       "    <tr>\n",
       "      <th>predict</th>\n",
       "      <th></th>\n",
       "      <th></th>\n",
       "      <th></th>\n",
       "    </tr>\n",
       "  </thead>\n",
       "  <tbody>\n",
       "    <tr>\n",
       "      <th>0</th>\n",
       "      <td>13275</td>\n",
       "      <td>3127</td>\n",
       "      <td>117758000.0</td>\n",
       "    </tr>\n",
       "    <tr>\n",
       "      <th>1</th>\n",
       "      <td>10862</td>\n",
       "      <td>10862</td>\n",
       "      <td>439208000.0</td>\n",
       "    </tr>\n",
       "  </tbody>\n",
       "</table>\n",
       "</div>"
      ],
      "text/plain": [
       "            ID  Apply  Loan_Amount\n",
       "predict                           \n",
       "0        13275   3127  117758000.0\n",
       "1        10862  10862  439208000.0"
      ]
     },
     "execution_count": 73,
     "metadata": {},
     "output_type": "execute_result"
    }
   ],
   "source": [
    "test_df.groupby('predict').agg({\n",
    "    'ID': 'count',\n",
    "    'Apply': 'sum',\n",
    "    'Loan_Amount': 'sum'\n",
    "})"
   ]
  },
  {
   "cell_type": "code",
   "execution_count": 76,
   "id": "49176f61-4d1a-49d0-8638-a7871c366a28",
   "metadata": {},
   "outputs": [
    {
     "data": {
      "text/plain": [
       "predicted_reward         1.474449\n",
       "Loan_Amount               50000.0\n",
       "cumsum_loan_amount    142427000.0\n",
       "Name: 3000, dtype: object"
      ]
     },
     "execution_count": 76,
     "metadata": {},
     "output_type": "execute_result"
    }
   ],
   "source": [
    "sorted_test_df = test_df.sort_values(by=['predicted_reward'], ascending=False)\n",
    "sorted_test_df['cumsum_loan_amount'] = sorted_test_df['Loan_Amount'].cumsum()\n",
    "sorted_test_df.reset_index(inplace=True)\n",
    "sorted_test_df.loc[3000, ['predicted_reward', 'Loan_Amount', 'cumsum_loan_amount']]"
   ]
  },
  {
   "cell_type": "code",
   "execution_count": null,
   "id": "692768ed-9d7b-43a0-af0f-cd21613bc6c4",
   "metadata": {},
   "outputs": [],
   "source": []
  }
 ],
 "metadata": {
  "kernelspec": {
   "display_name": "virtualENV",
   "language": "python",
   "name": "virtualenv"
  },
  "language_info": {
   "codemirror_mode": {
    "name": "ipython",
    "version": 3
   },
   "file_extension": ".py",
   "mimetype": "text/x-python",
   "name": "python",
   "nbconvert_exporter": "python",
   "pygments_lexer": "ipython3",
   "version": "3.9.7"
  }
 },
 "nbformat": 4,
 "nbformat_minor": 5
}
