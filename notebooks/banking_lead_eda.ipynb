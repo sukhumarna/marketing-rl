{
 "cells": [
  {
   "cell_type": "markdown",
   "id": "b16ba3ae-a1d6-4457-91ed-cfadf620d384",
   "metadata": {},
   "source": [
    "# EDA Banking Lead Conversion Prediction"
   ]
  },
  {
   "cell_type": "code",
   "execution_count": 2,
   "id": "fdf6aa3e-07a5-460d-afed-0647bd35d248",
   "metadata": {},
   "outputs": [],
   "source": [
    "import pandas as pd\n",
    "import numpy as np\n",
    "import matplotlib.pyplot as plt\n",
    "import seaborn as sns\n",
    "import optuna\n",
    "from dateutil.relativedelta import relativedelta\n",
    "from sklearn.model_selection import train_test_split, cross_validate\n",
    "from sklearn.pipeline import Pipeline\n",
    "from sklearn.compose import ColumnTransformer\n",
    "from sklearn.preprocessing import OneHotEncoder, StandardScaler, OrdinalEncoder\n",
    "from sklearn.impute import SimpleImputer\n",
    "from sklearn.ensemble import RandomForestClassifier\n",
    "from sklearn.metrics import classification_report, roc_curve, roc_auc_score"
   ]
  },
  {
   "cell_type": "markdown",
   "id": "0c727f2d-2a7b-4e01-84b0-450ad4da6a24",
   "metadata": {},
   "source": [
    "## Read Data\n",
    "\n",
    "Data source: https://www.kaggle.com/datasets/arashnic/banking-loan-prediction"
   ]
  },
  {
   "cell_type": "code",
   "execution_count": 3,
   "id": "d1304eb0-5513-4533-a9ce-8efaf4ad7978",
   "metadata": {},
   "outputs": [
    {
     "name": "stdout",
     "output_type": "stream",
     "text": [
      "total data size is 69713\n"
     ]
    }
   ],
   "source": [
    "data_path = '../data/Banking | Marketing | Leads Conversion Data/train_loan/train.csv'\n",
    "df = pd.read_csv(data_path)\n",
    "print('total data size is', df.shape[0])"
   ]
  },
  {
   "cell_type": "code",
   "execution_count": 4,
   "id": "20d41ebf-4961-4ff0-9bd8-4d3f0d86edef",
   "metadata": {},
   "outputs": [
    {
     "data": {
      "text/plain": [
       "Index(['ID', 'Gender', 'DOB', 'Lead_Creation_Date', 'City_Code',\n",
       "       'City_Category', 'Employer_Code', 'Employer_Category1',\n",
       "       'Employer_Category2', 'Monthly_Income',\n",
       "       'Customer_Existing_Primary_Bank_Code', 'Primary_Bank_Type', 'Contacted',\n",
       "       'Source', 'Source_Category', 'Existing_EMI', 'Loan_Amount',\n",
       "       'Loan_Period', 'Interest_Rate', 'EMI', 'Var1', 'Approved'],\n",
       "      dtype='object')"
      ]
     },
     "execution_count": 4,
     "metadata": {},
     "output_type": "execute_result"
    }
   ],
   "source": [
    "df.columns"
   ]
  },
  {
   "cell_type": "code",
   "execution_count": 5,
   "id": "9f9677fe-7b9f-42bd-a147-623a3553be3e",
   "metadata": {},
   "outputs": [],
   "source": [
    "label_col = 'Approved'\n",
    "index_col = 'ID'\n",
    "feat_cols = ['Gender', 'DOB', 'Lead_Creation_Date', 'City_Code', 'City_Category',\n",
    "             'Employer_Code', 'Employer_Category1', 'Employer_Category2', 'Monthly_Income',\n",
    "             'Customer_Existing_Primary_Bank_Code', 'Primary_Bank_Type', 'Contacted',\n",
    "             'Source', 'Source_Category', 'Existing_EMI', 'EMI', 'Var1'\n",
    "            ]"
   ]
  },
  {
   "cell_type": "markdown",
   "id": "4f28f2d0-b4fc-461c-864d-56be6c19f412",
   "metadata": {},
   "source": [
    "## Exploratory Data Analysis"
   ]
  },
  {
   "cell_type": "code",
   "execution_count": 6,
   "id": "b59c8eb3-0487-4668-8d5e-54093cc9cdaf",
   "metadata": {},
   "outputs": [
    {
     "data": {
      "text/html": [
       "<div>\n",
       "<style scoped>\n",
       "    .dataframe tbody tr th:only-of-type {\n",
       "        vertical-align: middle;\n",
       "    }\n",
       "\n",
       "    .dataframe tbody tr th {\n",
       "        vertical-align: top;\n",
       "    }\n",
       "\n",
       "    .dataframe thead th {\n",
       "        text-align: right;\n",
       "    }\n",
       "</style>\n",
       "<table border=\"1\" class=\"dataframe\">\n",
       "  <thead>\n",
       "    <tr style=\"text-align: right;\">\n",
       "      <th></th>\n",
       "      <th>ID</th>\n",
       "      <th>Gender</th>\n",
       "      <th>DOB</th>\n",
       "      <th>Lead_Creation_Date</th>\n",
       "      <th>City_Code</th>\n",
       "      <th>City_Category</th>\n",
       "      <th>Employer_Code</th>\n",
       "      <th>Employer_Category1</th>\n",
       "      <th>Employer_Category2</th>\n",
       "      <th>Monthly_Income</th>\n",
       "      <th>...</th>\n",
       "      <th>Contacted</th>\n",
       "      <th>Source</th>\n",
       "      <th>Source_Category</th>\n",
       "      <th>Existing_EMI</th>\n",
       "      <th>Loan_Amount</th>\n",
       "      <th>Loan_Period</th>\n",
       "      <th>Interest_Rate</th>\n",
       "      <th>EMI</th>\n",
       "      <th>Var1</th>\n",
       "      <th>Approved</th>\n",
       "    </tr>\n",
       "  </thead>\n",
       "  <tbody>\n",
       "    <tr>\n",
       "      <th>0</th>\n",
       "      <td>APPC90493171225</td>\n",
       "      <td>Female</td>\n",
       "      <td>23/07/79</td>\n",
       "      <td>15/07/16</td>\n",
       "      <td>C10001</td>\n",
       "      <td>A</td>\n",
       "      <td>COM0044082</td>\n",
       "      <td>A</td>\n",
       "      <td>4.0</td>\n",
       "      <td>2000.0</td>\n",
       "      <td>...</td>\n",
       "      <td>N</td>\n",
       "      <td>S122</td>\n",
       "      <td>G</td>\n",
       "      <td>0.0</td>\n",
       "      <td>NaN</td>\n",
       "      <td>NaN</td>\n",
       "      <td>NaN</td>\n",
       "      <td>NaN</td>\n",
       "      <td>0</td>\n",
       "      <td>0</td>\n",
       "    </tr>\n",
       "    <tr>\n",
       "      <th>5</th>\n",
       "      <td>APPI90914237819</td>\n",
       "      <td>Female</td>\n",
       "      <td>23/12/88</td>\n",
       "      <td>01/07/16</td>\n",
       "      <td>C10402</td>\n",
       "      <td>C</td>\n",
       "      <td>COM0007740</td>\n",
       "      <td>A</td>\n",
       "      <td>4.0</td>\n",
       "      <td>7000.0</td>\n",
       "      <td>...</td>\n",
       "      <td>N</td>\n",
       "      <td>S133</td>\n",
       "      <td>B</td>\n",
       "      <td>0.0</td>\n",
       "      <td>NaN</td>\n",
       "      <td>NaN</td>\n",
       "      <td>NaN</td>\n",
       "      <td>NaN</td>\n",
       "      <td>0</td>\n",
       "      <td>0</td>\n",
       "    </tr>\n",
       "    <tr>\n",
       "      <th>9</th>\n",
       "      <td>APPN60714112334</td>\n",
       "      <td>Female</td>\n",
       "      <td>13/12/90</td>\n",
       "      <td>02/07/16</td>\n",
       "      <td>C10014</td>\n",
       "      <td>B</td>\n",
       "      <td>COM0042212</td>\n",
       "      <td>A</td>\n",
       "      <td>4.0</td>\n",
       "      <td>2500.0</td>\n",
       "      <td>...</td>\n",
       "      <td>N</td>\n",
       "      <td>S122</td>\n",
       "      <td>B</td>\n",
       "      <td>0.0</td>\n",
       "      <td>NaN</td>\n",
       "      <td>NaN</td>\n",
       "      <td>NaN</td>\n",
       "      <td>NaN</td>\n",
       "      <td>0</td>\n",
       "      <td>0</td>\n",
       "    </tr>\n",
       "    <tr>\n",
       "      <th>12</th>\n",
       "      <td>APPT10286486907</td>\n",
       "      <td>Female</td>\n",
       "      <td>08/03/91</td>\n",
       "      <td>01/07/16</td>\n",
       "      <td>C10001</td>\n",
       "      <td>A</td>\n",
       "      <td>COM0003151</td>\n",
       "      <td>C</td>\n",
       "      <td>4.0</td>\n",
       "      <td>2000.0</td>\n",
       "      <td>...</td>\n",
       "      <td>N</td>\n",
       "      <td>S122</td>\n",
       "      <td>B</td>\n",
       "      <td>0.0</td>\n",
       "      <td>NaN</td>\n",
       "      <td>NaN</td>\n",
       "      <td>NaN</td>\n",
       "      <td>NaN</td>\n",
       "      <td>0</td>\n",
       "      <td>0</td>\n",
       "    </tr>\n",
       "    <tr>\n",
       "      <th>15</th>\n",
       "      <td>APPY60885704429</td>\n",
       "      <td>Female</td>\n",
       "      <td>27/03/88</td>\n",
       "      <td>01/07/16</td>\n",
       "      <td>C10006</td>\n",
       "      <td>A</td>\n",
       "      <td>COM0033048</td>\n",
       "      <td>A</td>\n",
       "      <td>4.0</td>\n",
       "      <td>1200.0</td>\n",
       "      <td>...</td>\n",
       "      <td>N</td>\n",
       "      <td>S133</td>\n",
       "      <td>C</td>\n",
       "      <td>0.0</td>\n",
       "      <td>NaN</td>\n",
       "      <td>NaN</td>\n",
       "      <td>NaN</td>\n",
       "      <td>NaN</td>\n",
       "      <td>0</td>\n",
       "      <td>0</td>\n",
       "    </tr>\n",
       "    <tr>\n",
       "      <th>...</th>\n",
       "      <td>...</td>\n",
       "      <td>...</td>\n",
       "      <td>...</td>\n",
       "      <td>...</td>\n",
       "      <td>...</td>\n",
       "      <td>...</td>\n",
       "      <td>...</td>\n",
       "      <td>...</td>\n",
       "      <td>...</td>\n",
       "      <td>...</td>\n",
       "      <td>...</td>\n",
       "      <td>...</td>\n",
       "      <td>...</td>\n",
       "      <td>...</td>\n",
       "      <td>...</td>\n",
       "      <td>...</td>\n",
       "      <td>...</td>\n",
       "      <td>...</td>\n",
       "      <td>...</td>\n",
       "      <td>...</td>\n",
       "      <td>...</td>\n",
       "    </tr>\n",
       "    <tr>\n",
       "      <th>69691</th>\n",
       "      <td>APPV60899685135</td>\n",
       "      <td>Female</td>\n",
       "      <td>30/12/82</td>\n",
       "      <td>30/09/16</td>\n",
       "      <td>C10003</td>\n",
       "      <td>A</td>\n",
       "      <td>COM0000021</td>\n",
       "      <td>A</td>\n",
       "      <td>1.0</td>\n",
       "      <td>5500.0</td>\n",
       "      <td>...</td>\n",
       "      <td>N</td>\n",
       "      <td>S122</td>\n",
       "      <td>G</td>\n",
       "      <td>1854.9</td>\n",
       "      <td>NaN</td>\n",
       "      <td>NaN</td>\n",
       "      <td>NaN</td>\n",
       "      <td>NaN</td>\n",
       "      <td>10</td>\n",
       "      <td>0</td>\n",
       "    </tr>\n",
       "    <tr>\n",
       "      <th>69700</th>\n",
       "      <td>APPG50483428223</td>\n",
       "      <td>Female</td>\n",
       "      <td>02/01/64</td>\n",
       "      <td>30/09/16</td>\n",
       "      <td>C10078</td>\n",
       "      <td>C</td>\n",
       "      <td>COM0002784</td>\n",
       "      <td>A</td>\n",
       "      <td>4.0</td>\n",
       "      <td>5152.4</td>\n",
       "      <td>...</td>\n",
       "      <td>N</td>\n",
       "      <td>S122</td>\n",
       "      <td>G</td>\n",
       "      <td>2364.8</td>\n",
       "      <td>NaN</td>\n",
       "      <td>NaN</td>\n",
       "      <td>NaN</td>\n",
       "      <td>NaN</td>\n",
       "      <td>0</td>\n",
       "      <td>0</td>\n",
       "    </tr>\n",
       "    <tr>\n",
       "      <th>69701</th>\n",
       "      <td>APPI40463125441</td>\n",
       "      <td>Female</td>\n",
       "      <td>05/08/91</td>\n",
       "      <td>30/09/16</td>\n",
       "      <td>C10126</td>\n",
       "      <td>C</td>\n",
       "      <td>COM0001852</td>\n",
       "      <td>C</td>\n",
       "      <td>4.0</td>\n",
       "      <td>1300.0</td>\n",
       "      <td>...</td>\n",
       "      <td>N</td>\n",
       "      <td>S122</td>\n",
       "      <td>G</td>\n",
       "      <td>500.0</td>\n",
       "      <td>NaN</td>\n",
       "      <td>NaN</td>\n",
       "      <td>NaN</td>\n",
       "      <td>NaN</td>\n",
       "      <td>0</td>\n",
       "      <td>0</td>\n",
       "    </tr>\n",
       "    <tr>\n",
       "      <th>69708</th>\n",
       "      <td>APPU90955789628</td>\n",
       "      <td>Female</td>\n",
       "      <td>31/07/83</td>\n",
       "      <td>30/09/16</td>\n",
       "      <td>C10006</td>\n",
       "      <td>A</td>\n",
       "      <td>COM0000010</td>\n",
       "      <td>A</td>\n",
       "      <td>1.0</td>\n",
       "      <td>4900.0</td>\n",
       "      <td>...</td>\n",
       "      <td>N</td>\n",
       "      <td>S122</td>\n",
       "      <td>G</td>\n",
       "      <td>0.0</td>\n",
       "      <td>NaN</td>\n",
       "      <td>NaN</td>\n",
       "      <td>NaN</td>\n",
       "      <td>NaN</td>\n",
       "      <td>10</td>\n",
       "      <td>0</td>\n",
       "    </tr>\n",
       "    <tr>\n",
       "      <th>69709</th>\n",
       "      <td>APPV80989824738</td>\n",
       "      <td>Female</td>\n",
       "      <td>27/01/71</td>\n",
       "      <td>30/09/16</td>\n",
       "      <td>C10116</td>\n",
       "      <td>C</td>\n",
       "      <td>COM0045789</td>\n",
       "      <td>A</td>\n",
       "      <td>4.0</td>\n",
       "      <td>7190.1</td>\n",
       "      <td>...</td>\n",
       "      <td>N</td>\n",
       "      <td>S122</td>\n",
       "      <td>G</td>\n",
       "      <td>1450.0</td>\n",
       "      <td>NaN</td>\n",
       "      <td>NaN</td>\n",
       "      <td>NaN</td>\n",
       "      <td>NaN</td>\n",
       "      <td>7</td>\n",
       "      <td>0</td>\n",
       "    </tr>\n",
       "  </tbody>\n",
       "</table>\n",
       "<p>27709 rows × 22 columns</p>\n",
       "</div>"
      ],
      "text/plain": [
       "                    ID  Gender       DOB Lead_Creation_Date City_Code  \\\n",
       "0      APPC90493171225  Female  23/07/79           15/07/16    C10001   \n",
       "5      APPI90914237819  Female  23/12/88           01/07/16    C10402   \n",
       "9      APPN60714112334  Female  13/12/90           02/07/16    C10014   \n",
       "12     APPT10286486907  Female  08/03/91           01/07/16    C10001   \n",
       "15     APPY60885704429  Female  27/03/88           01/07/16    C10006   \n",
       "...                ...     ...       ...                ...       ...   \n",
       "69691  APPV60899685135  Female  30/12/82           30/09/16    C10003   \n",
       "69700  APPG50483428223  Female  02/01/64           30/09/16    C10078   \n",
       "69701  APPI40463125441  Female  05/08/91           30/09/16    C10126   \n",
       "69708  APPU90955789628  Female  31/07/83           30/09/16    C10006   \n",
       "69709  APPV80989824738  Female  27/01/71           30/09/16    C10116   \n",
       "\n",
       "      City_Category Employer_Code Employer_Category1  Employer_Category2  \\\n",
       "0                 A    COM0044082                  A                 4.0   \n",
       "5                 C    COM0007740                  A                 4.0   \n",
       "9                 B    COM0042212                  A                 4.0   \n",
       "12                A    COM0003151                  C                 4.0   \n",
       "15                A    COM0033048                  A                 4.0   \n",
       "...             ...           ...                ...                 ...   \n",
       "69691             A    COM0000021                  A                 1.0   \n",
       "69700             C    COM0002784                  A                 4.0   \n",
       "69701             C    COM0001852                  C                 4.0   \n",
       "69708             A    COM0000010                  A                 1.0   \n",
       "69709             C    COM0045789                  A                 4.0   \n",
       "\n",
       "       Monthly_Income  ... Contacted Source Source_Category Existing_EMI  \\\n",
       "0              2000.0  ...         N   S122               G          0.0   \n",
       "5              7000.0  ...         N   S133               B          0.0   \n",
       "9              2500.0  ...         N   S122               B          0.0   \n",
       "12             2000.0  ...         N   S122               B          0.0   \n",
       "15             1200.0  ...         N   S133               C          0.0   \n",
       "...               ...  ...       ...    ...             ...          ...   \n",
       "69691          5500.0  ...         N   S122               G       1854.9   \n",
       "69700          5152.4  ...         N   S122               G       2364.8   \n",
       "69701          1300.0  ...         N   S122               G        500.0   \n",
       "69708          4900.0  ...         N   S122               G          0.0   \n",
       "69709          7190.1  ...         N   S122               G       1450.0   \n",
       "\n",
       "      Loan_Amount  Loan_Period  Interest_Rate  EMI  Var1  Approved  \n",
       "0             NaN          NaN            NaN  NaN     0         0  \n",
       "5             NaN          NaN            NaN  NaN     0         0  \n",
       "9             NaN          NaN            NaN  NaN     0         0  \n",
       "12            NaN          NaN            NaN  NaN     0         0  \n",
       "15            NaN          NaN            NaN  NaN     0         0  \n",
       "...           ...          ...            ...  ...   ...       ...  \n",
       "69691         NaN          NaN            NaN  NaN    10         0  \n",
       "69700         NaN          NaN            NaN  NaN     0         0  \n",
       "69701         NaN          NaN            NaN  NaN     0         0  \n",
       "69708         NaN          NaN            NaN  NaN    10         0  \n",
       "69709         NaN          NaN            NaN  NaN     7         0  \n",
       "\n",
       "[27709 rows x 22 columns]"
      ]
     },
     "execution_count": 6,
     "metadata": {},
     "output_type": "execute_result"
    }
   ],
   "source": [
    "df[df.Loan_Amount.isnull()]"
   ]
  },
  {
   "cell_type": "code",
   "execution_count": 11,
   "id": "b7d334f0-aae9-4e3d-aff6-eaac308214f4",
   "metadata": {},
   "outputs": [
    {
     "data": {
      "text/html": [
       "<div>\n",
       "<style scoped>\n",
       "    .dataframe tbody tr th:only-of-type {\n",
       "        vertical-align: middle;\n",
       "    }\n",
       "\n",
       "    .dataframe tbody tr th {\n",
       "        vertical-align: top;\n",
       "    }\n",
       "\n",
       "    .dataframe thead th {\n",
       "        text-align: right;\n",
       "    }\n",
       "</style>\n",
       "<table border=\"1\" class=\"dataframe\">\n",
       "  <thead>\n",
       "    <tr style=\"text-align: right;\">\n",
       "      <th></th>\n",
       "      <th>ID</th>\n",
       "      <th>Gender</th>\n",
       "      <th>DOB</th>\n",
       "      <th>Lead_Creation_Date</th>\n",
       "      <th>City_Code</th>\n",
       "      <th>City_Category</th>\n",
       "      <th>Employer_Code</th>\n",
       "      <th>Employer_Category1</th>\n",
       "      <th>Employer_Category2</th>\n",
       "      <th>Monthly_Income</th>\n",
       "      <th>...</th>\n",
       "      <th>Contacted</th>\n",
       "      <th>Source</th>\n",
       "      <th>Source_Category</th>\n",
       "      <th>Existing_EMI</th>\n",
       "      <th>Loan_Amount</th>\n",
       "      <th>Loan_Period</th>\n",
       "      <th>Interest_Rate</th>\n",
       "      <th>EMI</th>\n",
       "      <th>Var1</th>\n",
       "      <th>Approved</th>\n",
       "    </tr>\n",
       "  </thead>\n",
       "  <tbody>\n",
       "    <tr>\n",
       "      <th>144</th>\n",
       "      <td>APPF30910113718</td>\n",
       "      <td>Female</td>\n",
       "      <td>06/02/90</td>\n",
       "      <td>01/07/16</td>\n",
       "      <td>C10268</td>\n",
       "      <td>C</td>\n",
       "      <td>COM0000196</td>\n",
       "      <td>C</td>\n",
       "      <td>4.0</td>\n",
       "      <td>4800.0</td>\n",
       "      <td>...</td>\n",
       "      <td>N</td>\n",
       "      <td>S133</td>\n",
       "      <td>B</td>\n",
       "      <td>2100.0</td>\n",
       "      <td>NaN</td>\n",
       "      <td>NaN</td>\n",
       "      <td>NaN</td>\n",
       "      <td>NaN</td>\n",
       "      <td>0</td>\n",
       "      <td>0</td>\n",
       "    </tr>\n",
       "    <tr>\n",
       "      <th>147</th>\n",
       "      <td>APPJ10903445104</td>\n",
       "      <td>Female</td>\n",
       "      <td>06/02/90</td>\n",
       "      <td>01/07/16</td>\n",
       "      <td>C10268</td>\n",
       "      <td>C</td>\n",
       "      <td>COM0000196</td>\n",
       "      <td>C</td>\n",
       "      <td>4.0</td>\n",
       "      <td>4800.0</td>\n",
       "      <td>...</td>\n",
       "      <td>N</td>\n",
       "      <td>S133</td>\n",
       "      <td>B</td>\n",
       "      <td>2100.0</td>\n",
       "      <td>NaN</td>\n",
       "      <td>NaN</td>\n",
       "      <td>NaN</td>\n",
       "      <td>NaN</td>\n",
       "      <td>0</td>\n",
       "      <td>0</td>\n",
       "    </tr>\n",
       "    <tr>\n",
       "      <th>205</th>\n",
       "      <td>APPZ50631657908</td>\n",
       "      <td>Female</td>\n",
       "      <td>05/10/94</td>\n",
       "      <td>01/07/16</td>\n",
       "      <td>C10001</td>\n",
       "      <td>A</td>\n",
       "      <td>COM0003046</td>\n",
       "      <td>A</td>\n",
       "      <td>4.0</td>\n",
       "      <td>1500.0</td>\n",
       "      <td>...</td>\n",
       "      <td>N</td>\n",
       "      <td>S122</td>\n",
       "      <td>B</td>\n",
       "      <td>0.0</td>\n",
       "      <td>NaN</td>\n",
       "      <td>NaN</td>\n",
       "      <td>NaN</td>\n",
       "      <td>NaN</td>\n",
       "      <td>0</td>\n",
       "      <td>0</td>\n",
       "    </tr>\n",
       "    <tr>\n",
       "      <th>207</th>\n",
       "      <td>APPC70100241238</td>\n",
       "      <td>Female</td>\n",
       "      <td>05/10/94</td>\n",
       "      <td>01/07/16</td>\n",
       "      <td>C10001</td>\n",
       "      <td>A</td>\n",
       "      <td>COM0003046</td>\n",
       "      <td>A</td>\n",
       "      <td>4.0</td>\n",
       "      <td>1500.0</td>\n",
       "      <td>...</td>\n",
       "      <td>N</td>\n",
       "      <td>S122</td>\n",
       "      <td>B</td>\n",
       "      <td>0.0</td>\n",
       "      <td>NaN</td>\n",
       "      <td>NaN</td>\n",
       "      <td>NaN</td>\n",
       "      <td>NaN</td>\n",
       "      <td>0</td>\n",
       "      <td>0</td>\n",
       "    </tr>\n",
       "    <tr>\n",
       "      <th>451</th>\n",
       "      <td>APPF20862639728</td>\n",
       "      <td>Male</td>\n",
       "      <td>28/04/84</td>\n",
       "      <td>01/07/16</td>\n",
       "      <td>C10006</td>\n",
       "      <td>A</td>\n",
       "      <td>COM0000194</td>\n",
       "      <td>C</td>\n",
       "      <td>4.0</td>\n",
       "      <td>2200.0</td>\n",
       "      <td>...</td>\n",
       "      <td>Y</td>\n",
       "      <td>S133</td>\n",
       "      <td>C</td>\n",
       "      <td>0.0</td>\n",
       "      <td>32000.0</td>\n",
       "      <td>5.0</td>\n",
       "      <td>16.75</td>\n",
       "      <td>791.0</td>\n",
       "      <td>4</td>\n",
       "      <td>0</td>\n",
       "    </tr>\n",
       "    <tr>\n",
       "      <th>...</th>\n",
       "      <td>...</td>\n",
       "      <td>...</td>\n",
       "      <td>...</td>\n",
       "      <td>...</td>\n",
       "      <td>...</td>\n",
       "      <td>...</td>\n",
       "      <td>...</td>\n",
       "      <td>...</td>\n",
       "      <td>...</td>\n",
       "      <td>...</td>\n",
       "      <td>...</td>\n",
       "      <td>...</td>\n",
       "      <td>...</td>\n",
       "      <td>...</td>\n",
       "      <td>...</td>\n",
       "      <td>...</td>\n",
       "      <td>...</td>\n",
       "      <td>...</td>\n",
       "      <td>...</td>\n",
       "      <td>...</td>\n",
       "      <td>...</td>\n",
       "    </tr>\n",
       "    <tr>\n",
       "      <th>69433</th>\n",
       "      <td>APPK10393425814</td>\n",
       "      <td>Female</td>\n",
       "      <td>31/07/90</td>\n",
       "      <td>30/09/16</td>\n",
       "      <td>C10070</td>\n",
       "      <td>C</td>\n",
       "      <td>COM0014516</td>\n",
       "      <td>B</td>\n",
       "      <td>4.0</td>\n",
       "      <td>1850.0</td>\n",
       "      <td>...</td>\n",
       "      <td>N</td>\n",
       "      <td>S122</td>\n",
       "      <td>G</td>\n",
       "      <td>0.0</td>\n",
       "      <td>NaN</td>\n",
       "      <td>NaN</td>\n",
       "      <td>NaN</td>\n",
       "      <td>NaN</td>\n",
       "      <td>0</td>\n",
       "      <td>0</td>\n",
       "    </tr>\n",
       "    <tr>\n",
       "      <th>69564</th>\n",
       "      <td>APPF70069792503</td>\n",
       "      <td>Female</td>\n",
       "      <td>21/09/92</td>\n",
       "      <td>30/09/16</td>\n",
       "      <td>C10006</td>\n",
       "      <td>A</td>\n",
       "      <td>COM0008067</td>\n",
       "      <td>A</td>\n",
       "      <td>4.0</td>\n",
       "      <td>2038.0</td>\n",
       "      <td>...</td>\n",
       "      <td>N</td>\n",
       "      <td>S122</td>\n",
       "      <td>G</td>\n",
       "      <td>170.0</td>\n",
       "      <td>NaN</td>\n",
       "      <td>NaN</td>\n",
       "      <td>NaN</td>\n",
       "      <td>NaN</td>\n",
       "      <td>0</td>\n",
       "      <td>0</td>\n",
       "    </tr>\n",
       "    <tr>\n",
       "      <th>69566</th>\n",
       "      <td>APPH70973679738</td>\n",
       "      <td>Female</td>\n",
       "      <td>21/09/92</td>\n",
       "      <td>30/09/16</td>\n",
       "      <td>C10006</td>\n",
       "      <td>A</td>\n",
       "      <td>COM0008067</td>\n",
       "      <td>A</td>\n",
       "      <td>4.0</td>\n",
       "      <td>2038.0</td>\n",
       "      <td>...</td>\n",
       "      <td>N</td>\n",
       "      <td>S122</td>\n",
       "      <td>G</td>\n",
       "      <td>170.0</td>\n",
       "      <td>NaN</td>\n",
       "      <td>NaN</td>\n",
       "      <td>NaN</td>\n",
       "      <td>NaN</td>\n",
       "      <td>0</td>\n",
       "      <td>0</td>\n",
       "    </tr>\n",
       "    <tr>\n",
       "      <th>69584</th>\n",
       "      <td>APPC70406717815</td>\n",
       "      <td>Female</td>\n",
       "      <td>07/04/93</td>\n",
       "      <td>30/09/16</td>\n",
       "      <td>C10016</td>\n",
       "      <td>B</td>\n",
       "      <td>COM0001474</td>\n",
       "      <td>C</td>\n",
       "      <td>4.0</td>\n",
       "      <td>850.0</td>\n",
       "      <td>...</td>\n",
       "      <td>N</td>\n",
       "      <td>S122</td>\n",
       "      <td>G</td>\n",
       "      <td>0.0</td>\n",
       "      <td>NaN</td>\n",
       "      <td>NaN</td>\n",
       "      <td>NaN</td>\n",
       "      <td>NaN</td>\n",
       "      <td>0</td>\n",
       "      <td>0</td>\n",
       "    </tr>\n",
       "    <tr>\n",
       "      <th>69586</th>\n",
       "      <td>APPE90898195045</td>\n",
       "      <td>Female</td>\n",
       "      <td>07/04/93</td>\n",
       "      <td>30/09/16</td>\n",
       "      <td>C10016</td>\n",
       "      <td>B</td>\n",
       "      <td>COM0001474</td>\n",
       "      <td>C</td>\n",
       "      <td>4.0</td>\n",
       "      <td>850.0</td>\n",
       "      <td>...</td>\n",
       "      <td>N</td>\n",
       "      <td>S122</td>\n",
       "      <td>G</td>\n",
       "      <td>0.0</td>\n",
       "      <td>NaN</td>\n",
       "      <td>NaN</td>\n",
       "      <td>NaN</td>\n",
       "      <td>NaN</td>\n",
       "      <td>0</td>\n",
       "      <td>0</td>\n",
       "    </tr>\n",
       "  </tbody>\n",
       "</table>\n",
       "<p>2104 rows × 22 columns</p>\n",
       "</div>"
      ],
      "text/plain": [
       "                    ID  Gender       DOB Lead_Creation_Date City_Code  \\\n",
       "144    APPF30910113718  Female  06/02/90           01/07/16    C10268   \n",
       "147    APPJ10903445104  Female  06/02/90           01/07/16    C10268   \n",
       "205    APPZ50631657908  Female  05/10/94           01/07/16    C10001   \n",
       "207    APPC70100241238  Female  05/10/94           01/07/16    C10001   \n",
       "451    APPF20862639728    Male  28/04/84           01/07/16    C10006   \n",
       "...                ...     ...       ...                ...       ...   \n",
       "69433  APPK10393425814  Female  31/07/90           30/09/16    C10070   \n",
       "69564  APPF70069792503  Female  21/09/92           30/09/16    C10006   \n",
       "69566  APPH70973679738  Female  21/09/92           30/09/16    C10006   \n",
       "69584  APPC70406717815  Female  07/04/93           30/09/16    C10016   \n",
       "69586  APPE90898195045  Female  07/04/93           30/09/16    C10016   \n",
       "\n",
       "      City_Category Employer_Code Employer_Category1  Employer_Category2  \\\n",
       "144               C    COM0000196                  C                 4.0   \n",
       "147               C    COM0000196                  C                 4.0   \n",
       "205               A    COM0003046                  A                 4.0   \n",
       "207               A    COM0003046                  A                 4.0   \n",
       "451               A    COM0000194                  C                 4.0   \n",
       "...             ...           ...                ...                 ...   \n",
       "69433             C    COM0014516                  B                 4.0   \n",
       "69564             A    COM0008067                  A                 4.0   \n",
       "69566             A    COM0008067                  A                 4.0   \n",
       "69584             B    COM0001474                  C                 4.0   \n",
       "69586             B    COM0001474                  C                 4.0   \n",
       "\n",
       "       Monthly_Income  ... Contacted Source Source_Category Existing_EMI  \\\n",
       "144            4800.0  ...         N   S133               B       2100.0   \n",
       "147            4800.0  ...         N   S133               B       2100.0   \n",
       "205            1500.0  ...         N   S122               B          0.0   \n",
       "207            1500.0  ...         N   S122               B          0.0   \n",
       "451            2200.0  ...         Y   S133               C          0.0   \n",
       "...               ...  ...       ...    ...             ...          ...   \n",
       "69433          1850.0  ...         N   S122               G          0.0   \n",
       "69564          2038.0  ...         N   S122               G        170.0   \n",
       "69566          2038.0  ...         N   S122               G        170.0   \n",
       "69584           850.0  ...         N   S122               G          0.0   \n",
       "69586           850.0  ...         N   S122               G          0.0   \n",
       "\n",
       "      Loan_Amount  Loan_Period  Interest_Rate    EMI  Var1  Approved  \n",
       "144           NaN          NaN            NaN    NaN     0         0  \n",
       "147           NaN          NaN            NaN    NaN     0         0  \n",
       "205           NaN          NaN            NaN    NaN     0         0  \n",
       "207           NaN          NaN            NaN    NaN     0         0  \n",
       "451       32000.0          5.0          16.75  791.0     4         0  \n",
       "...           ...          ...            ...    ...   ...       ...  \n",
       "69433         NaN          NaN            NaN    NaN     0         0  \n",
       "69564         NaN          NaN            NaN    NaN     0         0  \n",
       "69566         NaN          NaN            NaN    NaN     0         0  \n",
       "69584         NaN          NaN            NaN    NaN     0         0  \n",
       "69586         NaN          NaN            NaN    NaN     0         0  \n",
       "\n",
       "[2104 rows x 22 columns]"
      ]
     },
     "execution_count": 11,
     "metadata": {},
     "output_type": "execute_result"
    }
   ],
   "source": [
    "df[df.duplicated(subset=feat_cols, keep=False)]"
   ]
  },
  {
   "cell_type": "markdown",
   "id": "c6da9ff2-1ee5-45f2-ae3d-a01896589a51",
   "metadata": {},
   "source": [
    "### Lead Response"
   ]
  },
  {
   "cell_type": "code",
   "execution_count": 153,
   "id": "2c2bea4e-ae5d-4d28-aba1-570fa4434161",
   "metadata": {},
   "outputs": [
    {
     "data": {
      "text/plain": [
       "0.6025275056302268"
      ]
     },
     "execution_count": 153,
     "metadata": {},
     "output_type": "execute_result"
    }
   ],
   "source": [
    "df['Apply'] = np.where(df['Loan_Amount']>0, 1, 0)\n",
    "df['Apply'].mean()"
   ]
  },
  {
   "cell_type": "code",
   "execution_count": 151,
   "id": "4ce039f0-8a52-4641-9a11-bb7c3404b347",
   "metadata": {},
   "outputs": [
    {
     "data": {
      "text/plain": [
       "0.014631417382697631"
      ]
     },
     "execution_count": 151,
     "metadata": {},
     "output_type": "execute_result"
    }
   ],
   "source": [
    "df['Approved'].mean()"
   ]
  },
  {
   "cell_type": "markdown",
   "id": "dc651b8f-664b-4c18-8927-b042d3388f60",
   "metadata": {},
   "source": [
    "### Gender"
   ]
  },
  {
   "cell_type": "code",
   "execution_count": 36,
   "id": "9f1c5e50-c74d-4195-a1c4-5e0ce4e932a1",
   "metadata": {},
   "outputs": [
    {
     "data": {
      "image/png": "[encoded data removed]",
      "text/plain": [
       "<Figure size 432x288 with 1 Axes>"
      ]
     },
     "metadata": {},
     "output_type": "display_data"
    }
   ],
   "source": [
    "gender = df['Gender'].value_counts()\n",
    "colors = sns.color_palette('pastel')[0:5]\n",
    "plt.pie(gender, labels=gender.index, colors=colors, autopct='%.0f%%');"
   ]
  },
  {
   "cell_type": "markdown",
   "id": "7b462c6a-722f-48dc-81f7-d0d0af565f92",
   "metadata": {},
   "source": [
    "### Age"
   ]
  },
  {
   "cell_type": "code",
   "execution_count": 12,
   "id": "93a1b2f7-3ce8-459f-a44e-1539c436921b",
   "metadata": {},
   "outputs": [],
   "source": [
    "df['DOB'] = df['DOB'].apply(pd.to_datetime)\n",
    "df['Lead_Creation_Date'] = df['Lead_Creation_Date'].apply(pd.to_datetime)\n"
   ]
  },
  {
   "cell_type": "code",
   "execution_count": 19,
   "id": "a18e006a-4054-4565-825e-342e2251e5c4",
   "metadata": {},
   "outputs": [],
   "source": [
    "df['Age'] = (df['Lead_Creation_Date'] - df['DOB'])/ np.timedelta64(1, 'Y')\n"
   ]
  },
  {
   "cell_type": "code",
   "execution_count": 29,
   "id": "fb87f7a8-617c-4a30-9ade-27f419650905",
   "metadata": {},
   "outputs": [
    {
     "name": "stdout",
     "output_type": "stream",
     "text": [
      "the total of minus age customers is  4241\n"
     ]
    }
   ],
   "source": [
    "print('the total of minus age customers is ', (df['Age']<0).sum())\n",
    "   "
   ]
  },
  {
   "cell_type": "code",
   "execution_count": 31,
   "id": "a7df65a7-8c99-4fa1-b28e-71c7394de877",
   "metadata": {},
   "outputs": [
    {
     "data": {
      "text/plain": [
       "count    65457.000000\n",
       "mean        29.555024\n",
       "std          5.082830\n",
       "min         16.802535\n",
       "25%         25.815725\n",
       "50%         28.824685\n",
       "75%         32.646803\n",
       "max         44.816800\n",
       "Name: Age, dtype: float64"
      ]
     },
     "execution_count": 31,
     "metadata": {},
     "output_type": "execute_result"
    }
   ],
   "source": [
    "df['Age'] = np.where(df['Age'] < 0, np.nan, df['Age'])\n",
    "df['Age'].describe()"
   ]
  },
  {
   "cell_type": "code",
   "execution_count": 32,
   "id": "d63f5c99-e1cf-405d-a0dd-ca1ebefc3a68",
   "metadata": {},
   "outputs": [
    {
     "data": {
      "text/plain": [
       "<AxesSubplot:xlabel='Approved', ylabel='Age'>"
      ]
     },
     "execution_count": 32,
     "metadata": {},
     "output_type": "execute_result"
    },
    {
     "data": {
      "image/png": "[encoded data removed]",
      "text/plain": [
       "<Figure size 432x288 with 1 Axes>"
      ]
     },
     "metadata": {
      "needs_background": "light"
     },
     "output_type": "display_data"
    }
   ],
   "source": [
    "sns.boxplot(data=df, y='Age', x=label_col)"
   ]
  },
  {
   "cell_type": "markdown",
   "id": "70e5f464-8538-4246-bf0f-d4de247670b0",
   "metadata": {},
   "source": [
    "### City\n",
    "#### City Code"
   ]
  },
  {
   "cell_type": "code",
   "execution_count": 39,
   "id": "28278eb7-b97f-4663-be65-f90a7119c2c7",
   "metadata": {},
   "outputs": [],
   "source": [
    "city_codes = df['City_Code'].value_counts()"
   ]
  },
  {
   "cell_type": "code",
   "execution_count": 43,
   "id": "5297c7b2-6f5a-4f7b-bbf9-90b117cbee99",
   "metadata": {},
   "outputs": [],
   "source": [
    "city_code_agg = df.groupby('City_Code').agg({\n",
    "    'ID': 'count',\n",
    "    label_col: 'mean'\n",
    "}).reset_index()"
   ]
  },
  {
   "cell_type": "code",
   "execution_count": 50,
   "id": "f47508fe-ff22-409f-b5d7-25dcf808a42c",
   "metadata": {},
   "outputs": [
    {
     "data": {
      "text/html": [
       "<div>\n",
       "<style scoped>\n",
       "    .dataframe tbody tr th:only-of-type {\n",
       "        vertical-align: middle;\n",
       "    }\n",
       "\n",
       "    .dataframe tbody tr th {\n",
       "        vertical-align: top;\n",
       "    }\n",
       "\n",
       "    .dataframe thead th {\n",
       "        text-align: right;\n",
       "    }\n",
       "</style>\n",
       "<table border=\"1\" class=\"dataframe\">\n",
       "  <thead>\n",
       "    <tr style=\"text-align: right;\">\n",
       "      <th></th>\n",
       "      <th>City_Code</th>\n",
       "      <th>ID</th>\n",
       "      <th>Approved</th>\n",
       "    </tr>\n",
       "  </thead>\n",
       "  <tbody>\n",
       "    <tr>\n",
       "      <th>0</th>\n",
       "      <td>C10001</td>\n",
       "      <td>10007</td>\n",
       "      <td>0.021685</td>\n",
       "    </tr>\n",
       "    <tr>\n",
       "      <th>1</th>\n",
       "      <td>C10002</td>\n",
       "      <td>8716</td>\n",
       "      <td>0.016521</td>\n",
       "    </tr>\n",
       "    <tr>\n",
       "      <th>2</th>\n",
       "      <td>C10003</td>\n",
       "      <td>8666</td>\n",
       "      <td>0.015117</td>\n",
       "    </tr>\n",
       "    <tr>\n",
       "      <th>3</th>\n",
       "      <td>C10004</td>\n",
       "      <td>5843</td>\n",
       "      <td>0.011809</td>\n",
       "    </tr>\n",
       "    <tr>\n",
       "      <th>4</th>\n",
       "      <td>C10005</td>\n",
       "      <td>5564</td>\n",
       "      <td>0.010244</td>\n",
       "    </tr>\n",
       "  </tbody>\n",
       "</table>\n",
       "</div>"
      ],
      "text/plain": [
       "  City_Code     ID  Approved\n",
       "0    C10001  10007  0.021685\n",
       "1    C10002   8716  0.016521\n",
       "2    C10003   8666  0.015117\n",
       "3    C10004   5843  0.011809\n",
       "4    C10005   5564  0.010244"
      ]
     },
     "execution_count": 50,
     "metadata": {},
     "output_type": "execute_result"
    }
   ],
   "source": [
    "city_code_agg = city_code_agg[city_code_agg['ID'] > 500]\n",
    "city_code_agg.head()"
   ]
  },
  {
   "cell_type": "code",
   "execution_count": 62,
   "id": "6db78e0e-5641-44da-8f54-d40b252ca6bb",
   "metadata": {},
   "outputs": [
    {
     "data": {
      "image/png": "[encoded data removed]",
      "text/plain": [
       "<Figure size 432x288 with 1 Axes>"
      ]
     },
     "metadata": {
      "needs_background": "light"
     },
     "output_type": "display_data"
    }
   ],
   "source": [
    "sns.barplot(x=\"City_Code\", y=\"ID\", data=city_code_agg, palette=\"Blues_r\")\n",
    "plt.xticks(rotation=45)\n",
    "plt.ylabel('The number of customers')\n",
    "plt.xlabel('City Code')\n",
    "plt.title('No. of customers in each city code')\n",
    "plt.show()"
   ]
  },
  {
   "cell_type": "code",
   "execution_count": 73,
   "id": "e9f521fd-6885-46ad-b7f1-746ecc7df9fd",
   "metadata": {},
   "outputs": [
    {
     "data": {
      "image/png": "[encoded data removed]",
      "text/plain": [
       "<Figure size 432x288 with 1 Axes>"
      ]
     },
     "metadata": {
      "needs_background": "light"
     },
     "output_type": "display_data"
    }
   ],
   "source": [
    "# define the color palette of different colors\n",
    "pal = sns.color_palette(\"Greens_d\", len(city_code_agg))\n",
    "# use argsort method\n",
    "rank = city_code_agg[\"Approved\"].argsort()[::-1].argsort()\n",
    "sns.barplot(x=\"City_Code\", y=\"Approved\", data=city_code_agg, palette=np.array(pal[::-1])[rank])\n",
    "plt.xticks(rotation=45)\n",
    "plt.ylabel('Appproval Rate')\n",
    "plt.xlabel('City Code')\n",
    "plt.title('Approve Rate by City Code')\n",
    "plt.show()"
   ]
  },
  {
   "cell_type": "markdown",
   "id": "4ae1651a-7682-4b6d-b35a-79b0d3f51a5e",
   "metadata": {},
   "source": [
    "#### City Category"
   ]
  },
  {
   "cell_type": "code",
   "execution_count": 78,
   "id": "b6f3b9b6-0b8c-4f41-8dc4-c8e4eadada8f",
   "metadata": {},
   "outputs": [],
   "source": [
    "city_cat_agg = df.groupby('City_Category').agg({\n",
    "    'ID': 'count',\n",
    "    label_col: 'mean'\n",
    "}).reset_index()"
   ]
  },
  {
   "cell_type": "code",
   "execution_count": 80,
   "id": "9f15c77b-0826-4d94-891a-99c3c63bf554",
   "metadata": {},
   "outputs": [
    {
     "data": {
      "text/html": [
       "<div>\n",
       "<style scoped>\n",
       "    .dataframe tbody tr th:only-of-type {\n",
       "        vertical-align: middle;\n",
       "    }\n",
       "\n",
       "    .dataframe tbody tr th {\n",
       "        vertical-align: top;\n",
       "    }\n",
       "\n",
       "    .dataframe thead th {\n",
       "        text-align: right;\n",
       "    }\n",
       "</style>\n",
       "<table border=\"1\" class=\"dataframe\">\n",
       "  <thead>\n",
       "    <tr style=\"text-align: right;\">\n",
       "      <th></th>\n",
       "      <th>City_Category</th>\n",
       "      <th>ID</th>\n",
       "      <th>Approved</th>\n",
       "    </tr>\n",
       "  </thead>\n",
       "  <tbody>\n",
       "    <tr>\n",
       "      <th>0</th>\n",
       "      <td>A</td>\n",
       "      <td>49885</td>\n",
       "      <td>0.016558</td>\n",
       "    </tr>\n",
       "    <tr>\n",
       "      <th>1</th>\n",
       "      <td>B</td>\n",
       "      <td>7320</td>\n",
       "      <td>0.013388</td>\n",
       "    </tr>\n",
       "    <tr>\n",
       "      <th>2</th>\n",
       "      <td>C</td>\n",
       "      <td>11694</td>\n",
       "      <td>0.008038</td>\n",
       "    </tr>\n",
       "  </tbody>\n",
       "</table>\n",
       "</div>"
      ],
      "text/plain": [
       "  City_Category     ID  Approved\n",
       "0             A  49885  0.016558\n",
       "1             B   7320  0.013388\n",
       "2             C  11694  0.008038"
      ]
     },
     "execution_count": 80,
     "metadata": {},
     "output_type": "execute_result"
    }
   ],
   "source": [
    "city_cat_agg"
   ]
  },
  {
   "cell_type": "code",
   "execution_count": 89,
   "id": "42351a29-b2b3-4077-b422-1544506a17d1",
   "metadata": {},
   "outputs": [
    {
     "data": {
      "image/png": "[encoded data removed]",
      "text/plain": [
       "<Figure size 432x288 with 1 Axes>"
      ]
     },
     "metadata": {
      "needs_background": "light"
     },
     "output_type": "display_data"
    }
   ],
   "source": [
    "# define the color palette of different colors\n",
    "pal = sns.color_palette(\"Blues_d\", len(city_cat_agg))\n",
    "# use argsort method\n",
    "rank = city_cat_agg[\"ID\"].argsort()[::-1].argsort()\n",
    "sns.barplot(x=\"City_Category\", y=\"ID\", data=city_cat_agg, palette=np.array(pal[::-1])[rank])\n",
    "plt.xticks(rotation=45)\n",
    "plt.ylabel('The number of customers')\n",
    "plt.xlabel('City Category')\n",
    "plt.title('No. of customers in each city category')\n",
    "plt.show()"
   ]
  },
  {
   "cell_type": "code",
   "execution_count": 91,
   "id": "15e467f3-f5fc-46d5-9c72-06eacea6e731",
   "metadata": {},
   "outputs": [
    {
     "data": {
      "image/png": "[encoded data removed]",
      "text/plain": [
       "<Figure size 432x288 with 1 Axes>"
      ]
     },
     "metadata": {
      "needs_background": "light"
     },
     "output_type": "display_data"
    }
   ],
   "source": [
    "# define the color palette of different colors\n",
    "pal = sns.color_palette(\"Greens_d\", len(city_cat_agg))\n",
    "# use argsort method\n",
    "rank = city_cat_agg[\"Approved\"].argsort()[::-1].argsort()\n",
    "sns.barplot(x=\"City_Category\", y=\"Approved\", data=city_cat_agg, palette=np.array(pal[::-1])[rank])\n",
    "plt.xticks(rotation=45)\n",
    "plt.ylabel('Appproval Rate')\n",
    "plt.xlabel('City Category')\n",
    "plt.title('Approve Rate by City Category')\n",
    "plt.show()"
   ]
  },
  {
   "cell_type": "markdown",
   "id": "103189a4-e278-4831-bf75-4d0900d1d4ba",
   "metadata": {},
   "source": [
    "### Employer"
   ]
  },
  {
   "cell_type": "markdown",
   "id": "d3a86462-47ec-49cc-ad9b-401f61376b93",
   "metadata": {},
   "source": [
    "#### Employer Code"
   ]
  },
  {
   "cell_type": "code",
   "execution_count": 94,
   "id": "f5aee026-6ab2-4d71-b0ab-206eee057afb",
   "metadata": {},
   "outputs": [
    {
     "data": {
      "text/plain": [
       "36617"
      ]
     },
     "execution_count": 94,
     "metadata": {},
     "output_type": "execute_result"
    }
   ],
   "source": [
    "df['Employer_Code'].nunique()"
   ]
  },
  {
   "cell_type": "markdown",
   "id": "1e571613-5552-4208-83f5-ac26153eeea4",
   "metadata": {},
   "source": [
    "#### Employer Category1"
   ]
  },
  {
   "cell_type": "code",
   "execution_count": 97,
   "id": "7f5cf396-2445-4cb3-94b5-ff3686e8d378",
   "metadata": {},
   "outputs": [],
   "source": [
    "emp_cat1_agg = df.groupby('Employer_Category1').agg({\n",
    "    'ID': 'count',\n",
    "    label_col: 'mean'\n",
    "}).reset_index()"
   ]
  },
  {
   "cell_type": "code",
   "execution_count": 98,
   "id": "b2678c5a-1574-435b-aaac-1fc15b97728d",
   "metadata": {},
   "outputs": [
    {
     "data": {
      "image/png": "[encoded data removed]",
      "text/plain": [
       "<Figure size 432x288 with 1 Axes>"
      ]
     },
     "metadata": {
      "needs_background": "light"
     },
     "output_type": "display_data"
    }
   ],
   "source": [
    "# define the color palette of different colors\n",
    "pal = sns.color_palette(\"Blues_d\", len(emp_cat1_agg))\n",
    "# use argsort method\n",
    "rank = emp_cat1_agg[\"ID\"].argsort()[::-1].argsort()\n",
    "sns.barplot(x=\"Employer_Category1\", y=\"ID\", data=emp_cat1_agg, palette=np.array(pal[::-1])[rank])\n",
    "plt.xticks(rotation=45)\n",
    "plt.ylabel('The number of customers')\n",
    "plt.xlabel('Employer Category1')\n",
    "plt.title('No. of customers in each employee category 1')\n",
    "plt.show()"
   ]
  },
  {
   "cell_type": "code",
   "execution_count": 103,
   "id": "ae4eea69-ca36-43d0-bf67-e70a51dc8f91",
   "metadata": {},
   "outputs": [
    {
     "data": {
      "image/png": "[encoded data removed]",
      "text/plain": [
       "<Figure size 432x288 with 1 Axes>"
      ]
     },
     "metadata": {
      "needs_background": "light"
     },
     "output_type": "display_data"
    }
   ],
   "source": [
    "pal = sns.color_palette(\"Greens_d\", len(emp_cat1_agg))\n",
    "# use argsort method\n",
    "rank = emp_cat1_agg[\"Approved\"].argsort()[::-1].argsort()\n",
    "sns.barplot(x=\"Employer_Category1\", y=\"Approved\", data=emp_cat1_agg, palette=np.array(pal[::-1])[rank])\n",
    "plt.xticks(rotation=45)\n",
    "plt.ylabel('Appproval Rate')\n",
    "plt.xlabel('Employer Category1')\n",
    "plt.title('Approve Rate by Employee Category1')\n",
    "plt.show()"
   ]
  },
  {
   "cell_type": "markdown",
   "id": "3478c764-4ef6-4c72-a046-73b7b6a26d73",
   "metadata": {},
   "source": [
    "#### Employer Category2"
   ]
  },
  {
   "cell_type": "code",
   "execution_count": 102,
   "id": "20e6dd6e-1264-4715-a438-a60dd5164161",
   "metadata": {},
   "outputs": [],
   "source": [
    "emp_cat2_agg = df.groupby('Employer_Category2').agg({\n",
    "    'ID': 'count',\n",
    "    label_col: 'mean'\n",
    "}).reset_index()"
   ]
  },
  {
   "cell_type": "code",
   "execution_count": 104,
   "id": "06ddc3c5-91fe-4a81-b272-2b3a1b21db83",
   "metadata": {},
   "outputs": [
    {
     "data": {
      "image/png": "[encoded data removed]",
      "text/plain": [
       "<Figure size 432x288 with 1 Axes>"
      ]
     },
     "metadata": {
      "needs_background": "light"
     },
     "output_type": "display_data"
    }
   ],
   "source": [
    "# define the color palette of different colors\n",
    "pal = sns.color_palette(\"Blues_d\", len(emp_cat2_agg))\n",
    "# use argsort method\n",
    "rank = emp_cat2_agg[\"ID\"].argsort()[::-1].argsort()\n",
    "sns.barplot(x=\"Employer_Category2\", y=\"ID\", data=emp_cat2_agg, palette=np.array(pal[::-1])[rank])\n",
    "plt.xticks(rotation=45)\n",
    "plt.ylabel('The number of customers')\n",
    "plt.xlabel('Employer Category2')\n",
    "plt.title('No. of customers in each employee category 2')\n",
    "plt.show()"
   ]
  },
  {
   "cell_type": "code",
   "execution_count": 105,
   "id": "9a6919ac-66af-4f8b-8909-d563dec55662",
   "metadata": {},
   "outputs": [
    {
     "data": {
      "image/png": "[encoded data removed]",
      "text/plain": [
       "<Figure size 432x288 with 1 Axes>"
      ]
     },
     "metadata": {
      "needs_background": "light"
     },
     "output_type": "display_data"
    }
   ],
   "source": [
    "pal = sns.color_palette(\"Greens_d\", len(emp_cat2_agg))\n",
    "# use argsort method\n",
    "rank = emp_cat2_agg[\"Approved\"].argsort()[::-1].argsort()\n",
    "sns.barplot(x=\"Employer_Category2\", y=\"Approved\", data=emp_cat2_agg, palette=np.array(pal[::-1])[rank])\n",
    "plt.xticks(rotation=45)\n",
    "plt.ylabel('Appproval Rate')\n",
    "plt.xlabel('Employer Category2')\n",
    "plt.title('Approve Rate by Employee Category2')\n",
    "plt.show()"
   ]
  },
  {
   "cell_type": "markdown",
   "id": "e2dcd8d4-3fdb-4480-9b35-b6599fe9211f",
   "metadata": {},
   "source": [
    "### Income"
   ]
  },
  {
   "cell_type": "code",
   "execution_count": 110,
   "id": "8bd0ebcf-72fd-486d-9466-dce7ad6f5d87",
   "metadata": {},
   "outputs": [
    {
     "data": {
      "image/png": "[encoded data removed]",
      "text/plain": [
       "<Figure size 432x288 with 1 Axes>"
      ]
     },
     "metadata": {
      "needs_background": "light"
     },
     "output_type": "display_data"
    }
   ],
   "source": [
    "sns.boxplot(data=df, y='Monthly_Income', x=label_col, showfliers=False)\n",
    "plt.xlabel('Approved Flag')\n",
    "plt.show()"
   ]
  },
  {
   "cell_type": "markdown",
   "id": "7ef35d5f-0b74-4667-a0a2-e116e5e719c9",
   "metadata": {},
   "source": [
    "### Primary Bank Code"
   ]
  },
  {
   "cell_type": "code",
   "execution_count": 112,
   "id": "64b71821-47b9-4bda-9160-27c864b313c6",
   "metadata": {},
   "outputs": [
    {
     "data": {
      "text/plain": [
       "57"
      ]
     },
     "execution_count": 112,
     "metadata": {},
     "output_type": "execute_result"
    }
   ],
   "source": [
    "df['Customer_Existing_Primary_Bank_Code'].nunique()"
   ]
  },
  {
   "cell_type": "code",
   "execution_count": 161,
   "id": "3eb2b146-d2c8-419c-b1eb-203481ac4066",
   "metadata": {},
   "outputs": [
    {
     "data": {
      "text/plain": [
       "2"
      ]
     },
     "execution_count": 161,
     "metadata": {},
     "output_type": "execute_result"
    }
   ],
   "source": [
    "df[''].nunique()"
   ]
  },
  {
   "cell_type": "code",
   "execution_count": 162,
   "id": "6e332279-66ed-4863-aaa7-cde5c14347d0",
   "metadata": {},
   "outputs": [
    {
     "data": {
      "image/png": "[encoded data removed]",
      "text/plain": [
       "<Figure size 504x360 with 1 Axes>"
      ]
     },
     "metadata": {},
     "output_type": "display_data"
    }
   ],
   "source": [
    "sns.countplot(x=\"Primary_Bank_Type\", hue=label_col, data=df)\n",
    "plt.xlabel('Approved Flag')\n",
    "plt.show()"
   ]
  },
  {
   "cell_type": "markdown",
   "id": "60ed1084-3a5d-430e-b993-3ac9da3b2d96",
   "metadata": {},
   "source": [
    "### Contacted"
   ]
  },
  {
   "cell_type": "code",
   "execution_count": 120,
   "id": "e3abe6de-6a9a-4005-a228-e725ffd48e9c",
   "metadata": {},
   "outputs": [
    {
     "data": {
      "image/png": "[encoded data removed]",
      "text/plain": [
       "<Figure size 432x288 with 1 Axes>"
      ]
     },
     "metadata": {
      "needs_background": "light"
     },
     "output_type": "display_data"
    }
   ],
   "source": [
    "sns.countplot(x=\"Contacted\", hue=label_col, data=df)\n",
    "plt.xlabel('Approved Flag')\n",
    "plt.show()"
   ]
  },
  {
   "cell_type": "code",
   "execution_count": 139,
   "id": "1c5da501-bdf8-4e8f-8f45-bf91f83bb83d",
   "metadata": {},
   "outputs": [
    {
     "data": {
      "image/png": "[encoded data removed]",
      "text/plain": [
       "<Figure size 504x360 with 1 Axes>"
      ]
     },
     "metadata": {},
     "output_type": "display_data"
    }
   ],
   "source": [
    "ctc_df = df.groupby(label_col)['Contacted'].value_counts(normalize=True).mul(100).rename('Percent').reset_index()\n",
    "sns.set(rc={\"figure.figsize\":(7, 5)})\n",
    "sns.barplot(x=\"Approved\", y='Percent', hue='Contacted', data=ctc_df)\n",
    "plt.title(\"%Approval by Contact Flag\")\n",
    "plt.show()"
   ]
  },
  {
   "cell_type": "markdown",
   "id": "58e1e1bb-fd71-479d-ba08-0c0e7e6670b1",
   "metadata": {},
   "source": [
    "### Source and Source Category"
   ]
  },
  {
   "cell_type": "code",
   "execution_count": 131,
   "id": "59f8a309-ab73-482f-a129-339f45634941",
   "metadata": {},
   "outputs": [
    {
     "data": {
      "text/plain": [
       "29"
      ]
     },
     "execution_count": 131,
     "metadata": {},
     "output_type": "execute_result"
    }
   ],
   "source": [
    "df['Source'].nunique()"
   ]
  },
  {
   "cell_type": "code",
   "execution_count": 132,
   "id": "a22218ff-bcde-4905-ab1c-ca793ec6ae92",
   "metadata": {},
   "outputs": [
    {
     "data": {
      "text/plain": [
       "7"
      ]
     },
     "execution_count": 132,
     "metadata": {},
     "output_type": "execute_result"
    }
   ],
   "source": [
    "df['Source_Category'].nunique()"
   ]
  },
  {
   "cell_type": "code",
   "execution_count": 137,
   "id": "0fd086d5-2f59-467b-a2f2-7e66cb22603c",
   "metadata": {},
   "outputs": [
    {
     "data": {
      "image/png": "[encoded data removed]",
      "text/plain": [
       "<Figure size 576x360 with 1 Axes>"
      ]
     },
     "metadata": {},
     "output_type": "display_data"
    }
   ],
   "source": [
    "ctc_df = df.groupby(label_col)['Source_Category'].value_counts(normalize=True).mul(100).rename('Percent').reset_index()\n",
    "sns.set(rc={\"figure.figsize\":(8, 5)})\n",
    "sns.barplot(x=\"Approved\", y='Percent', hue='Source_Category', data=ctc_df)\n",
    "plt.title(\"%Approval by Source_Category\")\n",
    "plt.show()"
   ]
  },
  {
   "cell_type": "markdown",
   "id": "e02f1b0b-f207-4018-9810-d3c472f7a0fd",
   "metadata": {},
   "source": [
    "### Existing EMI"
   ]
  },
  {
   "cell_type": "code",
   "execution_count": 143,
   "id": "76d1e4b6-864c-4518-aec1-b9a7bab24463",
   "metadata": {},
   "outputs": [
    {
     "data": {
      "image/png": "[encoded data removed]",
      "text/plain": [
       "<Figure size 504x360 with 1 Axes>"
      ]
     },
     "metadata": {},
     "output_type": "display_data"
    }
   ],
   "source": [
    "sns.boxplot(data=df, y='Existing_EMI', x=label_col, showfliers=False)\n",
    "plt.title(\"Existing EMI\")\n",
    "plt.show()"
   ]
  },
  {
   "cell_type": "markdown",
   "id": "76fa4263-0e75-4053-b2d3-19f7032157b4",
   "metadata": {
    "toc-hr-collapsed": true
   },
   "source": [
    "### Loan Detail\n",
    "#### Loan Amount"
   ]
  },
  {
   "cell_type": "code",
   "execution_count": 145,
   "id": "26754487-66f4-402a-9a4c-23e1dc906349",
   "metadata": {},
   "outputs": [
    {
     "data": {
      "image/png": "[encoded data removed]",
      "text/plain": [
       "<Figure size 504x360 with 1 Axes>"
      ]
     },
     "metadata": {},
     "output_type": "display_data"
    }
   ],
   "source": [
    "sns.boxplot(data=df, y='Loan_Amount', x=label_col, showfliers=False)\n",
    "plt.title(\"Loan Amount\")\n",
    "plt.show()"
   ]
  },
  {
   "cell_type": "markdown",
   "id": "0261d0ff-3fc9-4d8e-ac8a-7508b4c34371",
   "metadata": {},
   "source": [
    "#### Loan Period"
   ]
  },
  {
   "cell_type": "code",
   "execution_count": 154,
   "id": "deb254f3-d42f-45fe-8b1b-a61514adf347",
   "metadata": {},
   "outputs": [
    {
     "data": {
      "image/png": "[encoded data removed]",
      "text/plain": [
       "<Figure size 504x360 with 1 Axes>"
      ]
     },
     "metadata": {},
     "output_type": "display_data"
    }
   ],
   "source": [
    "sns.boxplot(data=df, y='Loan_Period', x=label_col, showfliers=False)\n",
    "plt.title(\"Loan Period\")\n",
    "plt.show()"
   ]
  },
  {
   "cell_type": "markdown",
   "id": "e051ea0b-562f-4b87-b5cd-40d6497b8c77",
   "metadata": {},
   "source": [
    "#### Interest Rate"
   ]
  },
  {
   "cell_type": "code",
   "execution_count": 156,
   "id": "94d46779-b3dd-40f1-885b-bb2a8c76edd2",
   "metadata": {},
   "outputs": [
    {
     "data": {
      "image/png": "[encoded data removed]",
      "text/plain": [
       "<Figure size 504x360 with 1 Axes>"
      ]
     },
     "metadata": {},
     "output_type": "display_data"
    }
   ],
   "source": [
    "sns.boxplot(data=df, y='Interest_Rate', x=label_col, showfliers=False)\n",
    "plt.title(\"Interest Rate\")\n",
    "plt.show()"
   ]
  },
  {
   "cell_type": "markdown",
   "id": "d884062a-d78c-4a6e-9607-d5be8eeb5437",
   "metadata": {},
   "source": [
    "### Var"
   ]
  },
  {
   "cell_type": "code",
   "execution_count": 158,
   "id": "ee8dd617-d1dc-4ec7-9222-07d831e81251",
   "metadata": {},
   "outputs": [
    {
     "data": {
      "text/plain": [
       "5"
      ]
     },
     "execution_count": 158,
     "metadata": {},
     "output_type": "execute_result"
    }
   ],
   "source": [
    "df['Var1'].nunique()"
   ]
  },
  {
   "cell_type": "code",
   "execution_count": 160,
   "id": "8ca2faa7-0b27-42a3-8003-d04b92526ac8",
   "metadata": {},
   "outputs": [
    {
     "data": {
      "image/png": "[encoded data removed]",
      "text/plain": [
       "<Figure size 504x360 with 1 Axes>"
      ]
     },
     "metadata": {},
     "output_type": "display_data"
    }
   ],
   "source": [
    "var_df = df.groupby(label_col)['Var1'].value_counts(normalize=True).mul(100).rename('Percent').reset_index()\n",
    "sns.set(rc={\"figure.figsize\":(7, 5)})\n",
    "sns.barplot(x=\"Approved\", y='Percent', hue='Var1', data=var_df)\n",
    "plt.title(\"%Approval by Var1\")\n",
    "plt.show()"
   ]
  }
 ],
 "metadata": {
  "kernelspec": {
   "display_name": "virtualENV",
   "language": "python",
   "name": "virtualenv"
  },
  "language_info": {
   "codemirror_mode": {
    "name": "ipython",
    "version": 3
   },
   "file_extension": ".py",
   "mimetype": "text/x-python",
   "name": "python",
   "nbconvert_exporter": "python",
   "pygments_lexer": "ipython3",
   "version": "3.9.7"
  }
 },
 "nbformat": 4,
 "nbformat_minor": 5
}
