{
 "cells": [
  {
   "cell_type": "code",
   "execution_count": 1,
   "id": "3307d3d8-8fcc-4876-859a-75fb9a942c04",
   "metadata": {},
   "outputs": [],
   "source": [
    "import numpy as np \n",
    "import pandas as pd \n",
    "import os\n",
    "import seaborn as sns\n",
    "import matplotlib.pyplot as plt\n"
   ]
  },
  {
   "cell_type": "markdown",
   "id": "d71371ab-49d3-4fe6-b83a-4cfd51968fac",
   "metadata": {},
   "source": [
    "## Load Data"
   ]
  },
  {
   "cell_type": "code",
   "execution_count": 11,
   "id": "03875b3f-d279-4f17-afe9-5073660690a4",
   "metadata": {},
   "outputs": [],
   "source": [
    "data_path = '../data/ECommerce/Multi-Store'\n",
    "train_file = 'train_down.parquet'\n",
    "val_file = 'val_down.parquet'\n",
    "test_file = 'test_down.parquet'\n"
   ]
  },
  {
   "cell_type": "code",
   "execution_count": 3,
   "id": "de7e3882-b9ea-44bd-a47d-13a9b8d7541f",
   "metadata": {},
   "outputs": [],
   "source": [
    "train_data = pd.read_parquet(os.path.join(data_path, train_file))\n"
   ]
  },
  {
   "cell_type": "markdown",
   "id": "3a5fcf5f-23c5-4f73-91ef-b5fdc3de8aa8",
   "metadata": {},
   "source": [
    "## Prep Label"
   ]
  },
  {
   "cell_type": "code",
   "execution_count": 4,
   "id": "6c7a8ed9-4ab4-4a44-bb60-0b15ee578617",
   "metadata": {},
   "outputs": [],
   "source": [
    "user_ids = train_data['user_id'].unique()"
   ]
  },
  {
   "cell_type": "code",
   "execution_count": 9,
   "id": "717aa71c-dd50-4858-8c99-dde8fbb27a92",
   "metadata": {},
   "outputs": [],
   "source": [
    "def prep_label(filename, event_months=None):\n",
    "    label = pd.read_parquet(os.path.join(data_path, filename), columns=['event_time', 'event_type', 'user_id', 'cat_0', 'price'])\n",
    "    label['event_month'] = label['event_time'].str[:7]\n",
    "    if event_months is None:\n",
    "        event_months = label['event_month'].unique()\n",
    "    print('total event months:', event_months)\n",
    "    cond = ((label['event_month'].isin(event_months)) | (label['event_type']=='purchase'))\n",
    "    label = label[cond]\n",
    "    \n",
    "    label = label.pivot_table(index=['user_id', 'event_month'], columns=['cat_0'], values=['event_time'], aggfunc='count')\n",
    "    flat_cols = ['count_' + col[1] for col in label.columns]\n",
    "    label.columns = flat_cols\n",
    "    label.reset_index(inplace=True)\n",
    "    \n",
    "    for m in event_months:\n",
    "        m_user_ids = set(label[label['event_month']==m]['user_id'].unique())\n",
    "        nopurchase_ids = set(user_ids).difference(m_user_ids)\n",
    "        print(f'add {len(nopurchase_ids)} users with no purchase to label df for month {m}')\n",
    "        \n",
    "        nopurchase_label = pd.DataFrame(nopurchase_ids, columns=['user_id'])\n",
    "        nopurchase_label['event_month'] = m\n",
    "        for col in label.columns[2:]:\n",
    "            nopurchase_label[col] = np.nan\n",
    "        label = pd.concat([label, nopurchase_label], ignore_index=True)\n",
    "    return label"
   ]
  },
  {
   "cell_type": "code",
   "execution_count": 7,
   "id": "1404e568-c1a8-4cf6-8852-762234ab857c",
   "metadata": {},
   "outputs": [],
   "source": [
    "train_data['event_month'] = train_data['event_time'].str[:7]"
   ]
  },
  {
   "cell_type": "code",
   "execution_count": 8,
   "id": "11d326bf-9e1f-44fe-a425-b8ae3e751831",
   "metadata": {},
   "outputs": [
    {
     "data": {
      "text/plain": [
       "2019-12    527046\n",
       "2020-02    500763\n",
       "2019-11    492652\n",
       "2020-01    416087\n",
       "2019-10    145312\n",
       "Name: event_month, dtype: int64"
      ]
     },
     "execution_count": 8,
     "metadata": {},
     "output_type": "execute_result"
    }
   ],
   "source": [
    "train_data['event_month'].value_counts(dropna=True)"
   ]
  },
  {
   "cell_type": "markdown",
   "id": "ed03f70b-77fe-4d0a-ae19-7fc34badf8bd",
   "metadata": {},
   "source": [
    "### Prep Train Label"
   ]
  },
  {
   "cell_type": "code",
   "execution_count": 12,
   "id": "285da49a-4d2b-4def-8190-cfd1e45f2e6e",
   "metadata": {},
   "outputs": [
    {
     "name": "stdout",
     "output_type": "stream",
     "text": [
      "total event months: ['2020-01', '2020-02']\n",
      "add 327390 users with no purchase to label df for month 2020-01\n",
      "add 318028 users with no purchase to label df for month 2020-02\n"
     ]
    }
   ],
   "source": [
    "train_label = prep_label(train_file, event_months=['2020-01', '2020-02'])"
   ]
  },
  {
   "cell_type": "code",
   "execution_count": 50,
   "id": "e2ade1d3-0605-4774-9034-cefb70b4af83",
   "metadata": {},
   "outputs": [
    {
     "data": {
      "text/plain": [
       "count_construction     940258\n",
       "count_electronics     1005682\n",
       "count_appliances      1028956\n",
       "count_NA              1046109\n",
       "count_apparel         1060096\n",
       "count_sport           1077225\n",
       "count_furniture       1091108\n",
       "count_computers       1092688\n",
       "count_kids            1103388\n",
       "count_auto            1108740\n",
       "count_accessories     1109020\n",
       "count_country_yard    1113135\n",
       "count_medicine        1114068\n",
       "count_stationery      1114130\n",
       "dtype: int64"
      ]
     },
     "execution_count": 50,
     "metadata": {},
     "output_type": "execute_result"
    }
   ],
   "source": [
    "train_label.iloc[:, 2:].isnull().sum().sort_values()"
   ]
  },
  {
   "cell_type": "code",
   "execution_count": 49,
   "id": "8f6f8141-d635-42d9-8985-813f71ed59cf",
   "metadata": {},
   "outputs": [
    {
     "data": {
      "text/plain": [
       "Index(['count_construction', 'count_electronics', 'count_appliances',\n",
       "       'count_NA', 'count_apparel', 'count_sport', 'count_furniture',\n",
       "       'count_computers', 'count_kids', 'count_auto', 'count_accessories',\n",
       "       'count_country_yard', 'count_medicine', 'count_stationery'],\n",
       "      dtype='object')"
      ]
     },
     "execution_count": 49,
     "metadata": {},
     "output_type": "execute_result"
    }
   ],
   "source": [
    "train_label.iloc[:, 2:].isnull().sum().sort_values().index"
   ]
  },
  {
   "cell_type": "code",
   "execution_count": 51,
   "id": "808261cd-6398-466b-8f22-f7ee47ff2f77",
   "metadata": {},
   "outputs": [],
   "source": [
    "select_cats = ['count_construction', 'count_electronics', 'count_appliances',\n",
    "               'count_NA', 'count_apparel', 'count_sport', 'count_furniture',\n",
    "               'count_computers', 'count_kids', 'count_auto']"
   ]
  },
  {
   "cell_type": "markdown",
   "id": "b6ba00f6-5235-400c-ac26-a01ef543e048",
   "metadata": {},
   "source": [
    "## Prep Val and Test Label"
   ]
  },
  {
   "cell_type": "code",
   "execution_count": 52,
   "id": "8050c5f2-9319-406c-8e2e-12e37e2a969d",
   "metadata": {},
   "outputs": [
    {
     "name": "stdout",
     "output_type": "stream",
     "text": [
      "total event months: ['2020-03']\n",
      "add 393905 users with no purchase to label df for month 2020-03\n"
     ]
    }
   ],
   "source": [
    "val_label = prep_label(val_file)"
   ]
  },
  {
   "cell_type": "code",
   "execution_count": 53,
   "id": "62d51968-62c3-487b-a645-6ac8a42df5c4",
   "metadata": {},
   "outputs": [
    {
     "name": "stdout",
     "output_type": "stream",
     "text": [
      "total event months: ['2020-04']\n",
      "add 407640 users with no purchase to label df for month 2020-04\n"
     ]
    }
   ],
   "source": [
    "test_label = prep_label(test_file)"
   ]
  },
  {
   "cell_type": "markdown",
   "id": "5bc395cd-ba29-4fea-801a-c5f987ca1767",
   "metadata": {},
   "source": [
    "## Save Label"
   ]
  },
  {
   "cell_type": "code",
   "execution_count": 55,
   "id": "0d3376ce-1445-41df-bb4a-9ebb090846e3",
   "metadata": {},
   "outputs": [],
   "source": [
    "index_cols = ['user_id', 'event_month']"
   ]
  },
  {
   "cell_type": "code",
   "execution_count": 54,
   "id": "ea7966ad-61fe-4308-a349-cd369abb0e69",
   "metadata": {},
   "outputs": [
    {
     "data": {
      "text/html": [
       "<div>\n",
       "<style scoped>\n",
       "    .dataframe tbody tr th:only-of-type {\n",
       "        vertical-align: middle;\n",
       "    }\n",
       "\n",
       "    .dataframe tbody tr th {\n",
       "        vertical-align: top;\n",
       "    }\n",
       "\n",
       "    .dataframe thead th {\n",
       "        text-align: right;\n",
       "    }\n",
       "</style>\n",
       "<table border=\"1\" class=\"dataframe\">\n",
       "  <thead>\n",
       "    <tr style=\"text-align: right;\">\n",
       "      <th></th>\n",
       "      <th>user_id</th>\n",
       "      <th>event_month</th>\n",
       "      <th>count_NA</th>\n",
       "      <th>count_accessories</th>\n",
       "      <th>count_apparel</th>\n",
       "      <th>count_appliances</th>\n",
       "      <th>count_auto</th>\n",
       "      <th>count_computers</th>\n",
       "      <th>count_construction</th>\n",
       "      <th>count_country_yard</th>\n",
       "      <th>count_electronics</th>\n",
       "      <th>count_furniture</th>\n",
       "      <th>count_kids</th>\n",
       "      <th>count_medicine</th>\n",
       "      <th>count_sport</th>\n",
       "      <th>count_stationery</th>\n",
       "    </tr>\n",
       "  </thead>\n",
       "  <tbody>\n",
       "    <tr>\n",
       "      <th>0</th>\n",
       "      <td>100037567</td>\n",
       "      <td>2020-01</td>\n",
       "      <td>NaN</td>\n",
       "      <td>NaN</td>\n",
       "      <td>3.0</td>\n",
       "      <td>NaN</td>\n",
       "      <td>NaN</td>\n",
       "      <td>NaN</td>\n",
       "      <td>NaN</td>\n",
       "      <td>NaN</td>\n",
       "      <td>NaN</td>\n",
       "      <td>NaN</td>\n",
       "      <td>NaN</td>\n",
       "      <td>NaN</td>\n",
       "      <td>NaN</td>\n",
       "      <td>NaN</td>\n",
       "    </tr>\n",
       "    <tr>\n",
       "      <th>1</th>\n",
       "      <td>100140882</td>\n",
       "      <td>2020-01</td>\n",
       "      <td>NaN</td>\n",
       "      <td>NaN</td>\n",
       "      <td>NaN</td>\n",
       "      <td>2.0</td>\n",
       "      <td>NaN</td>\n",
       "      <td>NaN</td>\n",
       "      <td>NaN</td>\n",
       "      <td>NaN</td>\n",
       "      <td>NaN</td>\n",
       "      <td>NaN</td>\n",
       "      <td>NaN</td>\n",
       "      <td>NaN</td>\n",
       "      <td>NaN</td>\n",
       "      <td>NaN</td>\n",
       "    </tr>\n",
       "    <tr>\n",
       "      <th>2</th>\n",
       "      <td>146333366</td>\n",
       "      <td>2020-01</td>\n",
       "      <td>NaN</td>\n",
       "      <td>NaN</td>\n",
       "      <td>NaN</td>\n",
       "      <td>NaN</td>\n",
       "      <td>NaN</td>\n",
       "      <td>NaN</td>\n",
       "      <td>1.0</td>\n",
       "      <td>NaN</td>\n",
       "      <td>NaN</td>\n",
       "      <td>NaN</td>\n",
       "      <td>NaN</td>\n",
       "      <td>NaN</td>\n",
       "      <td>NaN</td>\n",
       "      <td>NaN</td>\n",
       "    </tr>\n",
       "    <tr>\n",
       "      <th>3</th>\n",
       "      <td>151417990</td>\n",
       "      <td>2020-01</td>\n",
       "      <td>NaN</td>\n",
       "      <td>NaN</td>\n",
       "      <td>NaN</td>\n",
       "      <td>NaN</td>\n",
       "      <td>NaN</td>\n",
       "      <td>1.0</td>\n",
       "      <td>NaN</td>\n",
       "      <td>NaN</td>\n",
       "      <td>NaN</td>\n",
       "      <td>NaN</td>\n",
       "      <td>NaN</td>\n",
       "      <td>NaN</td>\n",
       "      <td>NaN</td>\n",
       "      <td>NaN</td>\n",
       "    </tr>\n",
       "    <tr>\n",
       "      <th>4</th>\n",
       "      <td>154128341</td>\n",
       "      <td>2020-02</td>\n",
       "      <td>1.0</td>\n",
       "      <td>NaN</td>\n",
       "      <td>NaN</td>\n",
       "      <td>2.0</td>\n",
       "      <td>NaN</td>\n",
       "      <td>NaN</td>\n",
       "      <td>NaN</td>\n",
       "      <td>NaN</td>\n",
       "      <td>NaN</td>\n",
       "      <td>NaN</td>\n",
       "      <td>NaN</td>\n",
       "      <td>NaN</td>\n",
       "      <td>NaN</td>\n",
       "      <td>NaN</td>\n",
       "    </tr>\n",
       "  </tbody>\n",
       "</table>\n",
       "</div>"
      ],
      "text/plain": [
       "     user_id event_month  count_NA  count_accessories  count_apparel  \\\n",
       "0  100037567     2020-01       NaN                NaN            3.0   \n",
       "1  100140882     2020-01       NaN                NaN            NaN   \n",
       "2  146333366     2020-01       NaN                NaN            NaN   \n",
       "3  151417990     2020-01       NaN                NaN            NaN   \n",
       "4  154128341     2020-02       1.0                NaN            NaN   \n",
       "\n",
       "   count_appliances  count_auto  count_computers  count_construction  \\\n",
       "0               NaN         NaN              NaN                 NaN   \n",
       "1               2.0         NaN              NaN                 NaN   \n",
       "2               NaN         NaN              NaN                 1.0   \n",
       "3               NaN         NaN              1.0                 NaN   \n",
       "4               2.0         NaN              NaN                 NaN   \n",
       "\n",
       "   count_country_yard  count_electronics  count_furniture  count_kids  \\\n",
       "0                 NaN                NaN              NaN         NaN   \n",
       "1                 NaN                NaN              NaN         NaN   \n",
       "2                 NaN                NaN              NaN         NaN   \n",
       "3                 NaN                NaN              NaN         NaN   \n",
       "4                 NaN                NaN              NaN         NaN   \n",
       "\n",
       "   count_medicine  count_sport  count_stationery  \n",
       "0             NaN          NaN               NaN  \n",
       "1             NaN          NaN               NaN  \n",
       "2             NaN          NaN               NaN  \n",
       "3             NaN          NaN               NaN  \n",
       "4             NaN          NaN               NaN  "
      ]
     },
     "execution_count": 54,
     "metadata": {},
     "output_type": "execute_result"
    }
   ],
   "source": [
    "train_label.head()"
   ]
  },
  {
   "cell_type": "code",
   "execution_count": 57,
   "id": "d5893791-643c-4bfb-ab88-c67d61b05d0e",
   "metadata": {},
   "outputs": [],
   "source": [
    "train_label[index_cols+select_cats].to_parquet(os.path.join(data_path, 'train_label.parquet'))"
   ]
  },
  {
   "cell_type": "code",
   "execution_count": 58,
   "id": "823e41a5-e4aa-465b-98fa-a9093dc79051",
   "metadata": {},
   "outputs": [],
   "source": [
    "val_label[index_cols+select_cats].to_parquet(os.path.join(data_path, 'val_label.parquet'))"
   ]
  },
  {
   "cell_type": "code",
   "execution_count": 59,
   "id": "be97d8af-edff-4f53-99f2-b92d61a89854",
   "metadata": {},
   "outputs": [],
   "source": [
    "test_label[index_cols+select_cats].to_parquet(os.path.join(data_path, 'test_label.parquet'))"
   ]
  }
 ],
 "metadata": {
  "kernelspec": {
   "display_name": "virtualENV",
   "language": "python",
   "name": "virtualenv"
  },
  "language_info": {
   "codemirror_mode": {
    "name": "ipython",
    "version": 3
   },
   "file_extension": ".py",
   "mimetype": "text/x-python",
   "name": "python",
   "nbconvert_exporter": "python",
   "pygments_lexer": "ipython3",
   "version": "3.9.7"
  }
 },
 "nbformat": 4,
 "nbformat_minor": 5
}
