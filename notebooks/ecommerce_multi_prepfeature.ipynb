{
 "cells": [
  {
   "cell_type": "code",
   "execution_count": 1,
   "id": "86679ff4-3f8a-4d82-a805-b701c8fb6696",
   "metadata": {},
   "outputs": [],
   "source": [
    "import datetime as dt\n",
    "import numpy as np \n",
    "import pandas as pd \n",
    "import os\n",
    "import seaborn as sns\n",
    "import matplotlib.pyplot as plt\n",
    "from dateutil.relativedelta import relativedelta"
   ]
  },
  {
   "cell_type": "markdown",
   "id": "bb01255e-3ef3-4847-aa09-01d5dbecdb56",
   "metadata": {},
   "source": [
    "# Define Data Path"
   ]
  },
  {
   "cell_type": "code",
   "execution_count": 2,
   "id": "1583f07e-5b0f-46e6-829f-b133abec16b4",
   "metadata": {},
   "outputs": [],
   "source": [
    "data_path = '../data/ECommerce/Multi-Store'\n",
    "train_file = 'train_down.parquet'\n",
    "val_file = 'val_down.parquet'\n",
    "test_file = 'test_down.parquet'\n",
    "\n",
    "train_label_file = 'train_label.parquet'\n",
    "val_label_file = 'val_label.parquet'\n",
    "test_label_file = 'test_label.parquet'"
   ]
  },
  {
   "cell_type": "markdown",
   "id": "64f2cc30-d06d-4651-b117-86171cea5d78",
   "metadata": {},
   "source": [
    "## Prep Train Feature"
   ]
  },
  {
   "cell_type": "code",
   "execution_count": 3,
   "id": "2e8a7b6c-5ddc-4a55-94ef-79ce49753c03",
   "metadata": {},
   "outputs": [],
   "source": [
    "train_data = pd.read_parquet(os.path.join(data_path, train_file))\n",
    "train_label = pd.read_parquet(os.path.join(data_path, train_label_file))"
   ]
  },
  {
   "cell_type": "code",
   "execution_count": 14,
   "id": "fe1a7165-58ba-47e4-8d81-c91d42d348b8",
   "metadata": {},
   "outputs": [],
   "source": [
    "classes = [col.replace('count_', '') for col in train_label.columns[2:]]"
   ]
  },
  {
   "cell_type": "code",
   "execution_count": 4,
   "id": "6a0a31cd-464d-4c5e-b51c-f2e25c05351d",
   "metadata": {},
   "outputs": [],
   "source": [
    "train_data['event_month'] = train_data['event_time'].str[:7]\n",
    "agg_count = pd.pivot_table(data=train_data, index=['user_id', 'event_month'],\n",
    "                           columns=['cat_0', 'event_type'], values='price',\n",
    "                           aggfunc='count'\n",
    "                          )"
   ]
  },
  {
   "cell_type": "markdown",
   "id": "da621a29-004d-482e-b453-9c6ff49b6a23",
   "metadata": {},
   "source": [
    "### Aggregate data"
   ]
  },
  {
   "cell_type": "code",
   "execution_count": 5,
   "id": "bc44b4a7-9d97-4337-8b25-013fc62b6989",
   "metadata": {},
   "outputs": [],
   "source": [
    "cols = [col[1]+'_'+col[0]+'_cnt' for col in agg_count.columns]\n",
    "agg_count.columns = cols"
   ]
  },
  {
   "cell_type": "code",
   "execution_count": 6,
   "id": "4eb86a6d-c838-42f2-b8b2-75f0c595bff7",
   "metadata": {},
   "outputs": [],
   "source": [
    "train_data['price'] = train_data['price'].apply(pd.to_numeric)"
   ]
  },
  {
   "cell_type": "code",
   "execution_count": 7,
   "id": "c7366732-c9c2-4182-8095-6e700d0d4680",
   "metadata": {},
   "outputs": [
    {
     "data": {
      "text/html": [
       "<div>\n",
       "<style scoped>\n",
       "    .dataframe tbody tr th:only-of-type {\n",
       "        vertical-align: middle;\n",
       "    }\n",
       "\n",
       "    .dataframe tbody tr th {\n",
       "        vertical-align: top;\n",
       "    }\n",
       "\n",
       "    .dataframe thead th {\n",
       "        text-align: right;\n",
       "    }\n",
       "</style>\n",
       "<table border=\"1\" class=\"dataframe\">\n",
       "  <thead>\n",
       "    <tr style=\"text-align: right;\">\n",
       "      <th></th>\n",
       "      <th></th>\n",
       "      <th>cart_NA_sum</th>\n",
       "      <th>purchase_NA_sum</th>\n",
       "      <th>cart_accessories_sum</th>\n",
       "      <th>purchase_accessories_sum</th>\n",
       "      <th>cart_apparel_sum</th>\n",
       "      <th>purchase_apparel_sum</th>\n",
       "      <th>cart_appliances_sum</th>\n",
       "      <th>purchase_appliances_sum</th>\n",
       "      <th>cart_auto_sum</th>\n",
       "      <th>purchase_auto_sum</th>\n",
       "      <th>...</th>\n",
       "      <th>cart_furniture_sum</th>\n",
       "      <th>purchase_furniture_sum</th>\n",
       "      <th>cart_kids_sum</th>\n",
       "      <th>purchase_kids_sum</th>\n",
       "      <th>cart_medicine_sum</th>\n",
       "      <th>purchase_medicine_sum</th>\n",
       "      <th>cart_sport_sum</th>\n",
       "      <th>purchase_sport_sum</th>\n",
       "      <th>cart_stationery_sum</th>\n",
       "      <th>purchase_stationery_sum</th>\n",
       "    </tr>\n",
       "    <tr>\n",
       "      <th>user_id</th>\n",
       "      <th>event_month</th>\n",
       "      <th></th>\n",
       "      <th></th>\n",
       "      <th></th>\n",
       "      <th></th>\n",
       "      <th></th>\n",
       "      <th></th>\n",
       "      <th></th>\n",
       "      <th></th>\n",
       "      <th></th>\n",
       "      <th></th>\n",
       "      <th></th>\n",
       "      <th></th>\n",
       "      <th></th>\n",
       "      <th></th>\n",
       "      <th></th>\n",
       "      <th></th>\n",
       "      <th></th>\n",
       "      <th></th>\n",
       "      <th></th>\n",
       "      <th></th>\n",
       "      <th></th>\n",
       "    </tr>\n",
       "  </thead>\n",
       "  <tbody>\n",
       "    <tr>\n",
       "      <th>100037567</th>\n",
       "      <th>2020-01</th>\n",
       "      <td>NaN</td>\n",
       "      <td>NaN</td>\n",
       "      <td>NaN</td>\n",
       "      <td>NaN</td>\n",
       "      <td>771.45</td>\n",
       "      <td>NaN</td>\n",
       "      <td>NaN</td>\n",
       "      <td>NaN</td>\n",
       "      <td>NaN</td>\n",
       "      <td>NaN</td>\n",
       "      <td>...</td>\n",
       "      <td>NaN</td>\n",
       "      <td>NaN</td>\n",
       "      <td>NaN</td>\n",
       "      <td>NaN</td>\n",
       "      <td>NaN</td>\n",
       "      <td>NaN</td>\n",
       "      <td>NaN</td>\n",
       "      <td>NaN</td>\n",
       "      <td>NaN</td>\n",
       "      <td>NaN</td>\n",
       "    </tr>\n",
       "    <tr>\n",
       "      <th>100140882</th>\n",
       "      <th>2020-01</th>\n",
       "      <td>NaN</td>\n",
       "      <td>NaN</td>\n",
       "      <td>NaN</td>\n",
       "      <td>NaN</td>\n",
       "      <td>NaN</td>\n",
       "      <td>NaN</td>\n",
       "      <td>411.8</td>\n",
       "      <td>NaN</td>\n",
       "      <td>NaN</td>\n",
       "      <td>NaN</td>\n",
       "      <td>...</td>\n",
       "      <td>NaN</td>\n",
       "      <td>NaN</td>\n",
       "      <td>NaN</td>\n",
       "      <td>NaN</td>\n",
       "      <td>NaN</td>\n",
       "      <td>NaN</td>\n",
       "      <td>NaN</td>\n",
       "      <td>NaN</td>\n",
       "      <td>NaN</td>\n",
       "      <td>NaN</td>\n",
       "    </tr>\n",
       "    <tr>\n",
       "      <th>107837897</th>\n",
       "      <th>2019-11</th>\n",
       "      <td>NaN</td>\n",
       "      <td>NaN</td>\n",
       "      <td>NaN</td>\n",
       "      <td>NaN</td>\n",
       "      <td>NaN</td>\n",
       "      <td>NaN</td>\n",
       "      <td>NaN</td>\n",
       "      <td>NaN</td>\n",
       "      <td>600.74</td>\n",
       "      <td>NaN</td>\n",
       "      <td>...</td>\n",
       "      <td>NaN</td>\n",
       "      <td>NaN</td>\n",
       "      <td>NaN</td>\n",
       "      <td>NaN</td>\n",
       "      <td>NaN</td>\n",
       "      <td>NaN</td>\n",
       "      <td>NaN</td>\n",
       "      <td>NaN</td>\n",
       "      <td>NaN</td>\n",
       "      <td>NaN</td>\n",
       "    </tr>\n",
       "    <tr>\n",
       "      <th>124298297</th>\n",
       "      <th>2019-11</th>\n",
       "      <td>95.24</td>\n",
       "      <td>NaN</td>\n",
       "      <td>NaN</td>\n",
       "      <td>NaN</td>\n",
       "      <td>NaN</td>\n",
       "      <td>NaN</td>\n",
       "      <td>NaN</td>\n",
       "      <td>NaN</td>\n",
       "      <td>NaN</td>\n",
       "      <td>NaN</td>\n",
       "      <td>...</td>\n",
       "      <td>NaN</td>\n",
       "      <td>NaN</td>\n",
       "      <td>NaN</td>\n",
       "      <td>NaN</td>\n",
       "      <td>NaN</td>\n",
       "      <td>NaN</td>\n",
       "      <td>NaN</td>\n",
       "      <td>NaN</td>\n",
       "      <td>NaN</td>\n",
       "      <td>NaN</td>\n",
       "    </tr>\n",
       "    <tr>\n",
       "      <th>125917727</th>\n",
       "      <th>2019-11</th>\n",
       "      <td>343.00</td>\n",
       "      <td>NaN</td>\n",
       "      <td>NaN</td>\n",
       "      <td>NaN</td>\n",
       "      <td>NaN</td>\n",
       "      <td>NaN</td>\n",
       "      <td>NaN</td>\n",
       "      <td>NaN</td>\n",
       "      <td>NaN</td>\n",
       "      <td>NaN</td>\n",
       "      <td>...</td>\n",
       "      <td>NaN</td>\n",
       "      <td>NaN</td>\n",
       "      <td>NaN</td>\n",
       "      <td>NaN</td>\n",
       "      <td>NaN</td>\n",
       "      <td>NaN</td>\n",
       "      <td>NaN</td>\n",
       "      <td>NaN</td>\n",
       "      <td>NaN</td>\n",
       "      <td>NaN</td>\n",
       "    </tr>\n",
       "  </tbody>\n",
       "</table>\n",
       "<p>5 rows × 28 columns</p>\n",
       "</div>"
      ],
      "text/plain": [
       "                       cart_NA_sum  purchase_NA_sum  cart_accessories_sum  \\\n",
       "user_id   event_month                                                       \n",
       "100037567 2020-01              NaN              NaN                   NaN   \n",
       "100140882 2020-01              NaN              NaN                   NaN   \n",
       "107837897 2019-11              NaN              NaN                   NaN   \n",
       "124298297 2019-11            95.24              NaN                   NaN   \n",
       "125917727 2019-11           343.00              NaN                   NaN   \n",
       "\n",
       "                       purchase_accessories_sum  cart_apparel_sum  \\\n",
       "user_id   event_month                                               \n",
       "100037567 2020-01                           NaN            771.45   \n",
       "100140882 2020-01                           NaN               NaN   \n",
       "107837897 2019-11                           NaN               NaN   \n",
       "124298297 2019-11                           NaN               NaN   \n",
       "125917727 2019-11                           NaN               NaN   \n",
       "\n",
       "                       purchase_apparel_sum  cart_appliances_sum  \\\n",
       "user_id   event_month                                              \n",
       "100037567 2020-01                       NaN                  NaN   \n",
       "100140882 2020-01                       NaN                411.8   \n",
       "107837897 2019-11                       NaN                  NaN   \n",
       "124298297 2019-11                       NaN                  NaN   \n",
       "125917727 2019-11                       NaN                  NaN   \n",
       "\n",
       "                       purchase_appliances_sum  cart_auto_sum  \\\n",
       "user_id   event_month                                           \n",
       "100037567 2020-01                          NaN            NaN   \n",
       "100140882 2020-01                          NaN            NaN   \n",
       "107837897 2019-11                          NaN         600.74   \n",
       "124298297 2019-11                          NaN            NaN   \n",
       "125917727 2019-11                          NaN            NaN   \n",
       "\n",
       "                       purchase_auto_sum  ...  cart_furniture_sum  \\\n",
       "user_id   event_month                     ...                       \n",
       "100037567 2020-01                    NaN  ...                 NaN   \n",
       "100140882 2020-01                    NaN  ...                 NaN   \n",
       "107837897 2019-11                    NaN  ...                 NaN   \n",
       "124298297 2019-11                    NaN  ...                 NaN   \n",
       "125917727 2019-11                    NaN  ...                 NaN   \n",
       "\n",
       "                       purchase_furniture_sum  cart_kids_sum  \\\n",
       "user_id   event_month                                          \n",
       "100037567 2020-01                         NaN            NaN   \n",
       "100140882 2020-01                         NaN            NaN   \n",
       "107837897 2019-11                         NaN            NaN   \n",
       "124298297 2019-11                         NaN            NaN   \n",
       "125917727 2019-11                         NaN            NaN   \n",
       "\n",
       "                       purchase_kids_sum  cart_medicine_sum  \\\n",
       "user_id   event_month                                         \n",
       "100037567 2020-01                    NaN                NaN   \n",
       "100140882 2020-01                    NaN                NaN   \n",
       "107837897 2019-11                    NaN                NaN   \n",
       "124298297 2019-11                    NaN                NaN   \n",
       "125917727 2019-11                    NaN                NaN   \n",
       "\n",
       "                       purchase_medicine_sum  cart_sport_sum  \\\n",
       "user_id   event_month                                          \n",
       "100037567 2020-01                        NaN             NaN   \n",
       "100140882 2020-01                        NaN             NaN   \n",
       "107837897 2019-11                        NaN             NaN   \n",
       "124298297 2019-11                        NaN             NaN   \n",
       "125917727 2019-11                        NaN             NaN   \n",
       "\n",
       "                       purchase_sport_sum  cart_stationery_sum  \\\n",
       "user_id   event_month                                            \n",
       "100037567 2020-01                     NaN                  NaN   \n",
       "100140882 2020-01                     NaN                  NaN   \n",
       "107837897 2019-11                     NaN                  NaN   \n",
       "124298297 2019-11                     NaN                  NaN   \n",
       "125917727 2019-11                     NaN                  NaN   \n",
       "\n",
       "                       purchase_stationery_sum  \n",
       "user_id   event_month                           \n",
       "100037567 2020-01                          NaN  \n",
       "100140882 2020-01                          NaN  \n",
       "107837897 2019-11                          NaN  \n",
       "124298297 2019-11                          NaN  \n",
       "125917727 2019-11                          NaN  \n",
       "\n",
       "[5 rows x 28 columns]"
      ]
     },
     "execution_count": 7,
     "metadata": {},
     "output_type": "execute_result"
    }
   ],
   "source": [
    "agg_price = pd.pivot_table(data=train_data, index=['user_id', 'event_month'],\n",
    "                           columns=['cat_0', 'event_type'], values='price',\n",
    "                           aggfunc='sum'\n",
    "                          )\n",
    "cols = [col[1]+'_'+col[0]+'_sum' for col in agg_price.columns]\n",
    "agg_price.columns = cols\n",
    "agg_price.head()"
   ]
  },
  {
   "cell_type": "code",
   "execution_count": 8,
   "id": "4def3f92-e18e-443d-a52e-5a59e03061ef",
   "metadata": {},
   "outputs": [],
   "source": [
    "index_cols = ['user_id', 'event_month']"
   ]
  },
  {
   "cell_type": "code",
   "execution_count": 9,
   "id": "3d061aaa-ddbc-440e-9d3d-adb9405f7bbd",
   "metadata": {},
   "outputs": [],
   "source": [
    "def get_previos_month(current, p=1):\n",
    "    curr_month = dt.datetime.strptime(current, \"%Y-%m\")\n",
    "    previous_month = curr_month-relativedelta(months=p)\n",
    "    return previous_month.strftime(\"%Y-%m\")"
   ]
  },
  {
   "cell_type": "code",
   "execution_count": 10,
   "id": "87ff07dc-3456-434a-93d4-2d719a008f41",
   "metadata": {},
   "outputs": [],
   "source": [
    "def get_feature(index_df, feature_df, p=1):\n",
    "    index_df['join_month'] = index_df['event_month'].apply(get_previos_month, p)\n",
    "    tmp_feature = index_df.merge(feature_df, left_on=['user_id', 'join_month'], \n",
    "                                 right_on=['user_id', 'event_month'], how='left')\n",
    "    tmp_feature.drop('join_month', axis=1, inplace=True)\n",
    "    tmp_feature.head()\n",
    "    feature_cols = tmp_feature.columns[2:]\n",
    "    feature_cols = [f'{col}_P{p}M' for col in feature_cols]\n",
    "    tmp_feature.columns = index_cols + feature_cols\n",
    "    return tmp_feature"
   ]
  },
  {
   "cell_type": "code",
   "execution_count": 11,
   "id": "96db2a02-6de3-48fc-8c2c-bb60617f964d",
   "metadata": {},
   "outputs": [],
   "source": [
    "train_index = train_label[index_cols].copy()\n",
    "index_df = train_index.set_index(['user_id', 'event_month'])\n",
    "for i in range(1,4):\n",
    "    feature = get_feature(train_index[index_cols], agg_count, p=i)\n",
    "    feature.set_index(['user_id', 'event_month'], inplace=True)\n",
    "    index_df = pd.concat([index_df, feature], join='inner', axis=1)\n",
    "    \n",
    "    feature = get_feature(train_index[index_cols], agg_price, p=i)\n",
    "    feature.set_index(['user_id', 'event_month'], inplace=True)\n",
    "    index_df = pd.concat([index_df, feature], join='inner', axis=1)"
   ]
  },
  {
   "cell_type": "code",
   "execution_count": 35,
   "id": "81bc7e8d-0d14-4bc9-b480-f9158f4b897a",
   "metadata": {},
   "outputs": [],
   "source": [
    "def get_purchase_freq(df):\n",
    "    for c in classes:\n",
    "        cols = [f'purchase_{c}_cnt_P{i}M' for i in range(1,4)]\n",
    "        col_nm = f'{c}_freq'\n",
    "        df[col_nm] = (df[cols]>0).sum(axis=1)\n",
    "    return df"
   ]
  },
  {
   "cell_type": "code",
   "execution_count": 36,
   "id": "18bc5a96-6cac-481d-b331-7d3002acf64a",
   "metadata": {},
   "outputs": [],
   "source": [
    "train_feature = get_purchase_freq(index_df)"
   ]
  },
  {
   "cell_type": "code",
   "execution_count": 40,
   "id": "4a062b1d-c37d-42ec-b486-2decf2ad0694",
   "metadata": {},
   "outputs": [],
   "source": [
    "train_feature.reset_index(inplace=True)\n",
    "train_feature.to_parquet(os.path.join(data_path, 'train_feature.parquet'))"
   ]
  },
  {
   "cell_type": "code",
   "execution_count": 69,
   "id": "fe58654c-df79-42d5-85e8-758d23134e04",
   "metadata": {},
   "outputs": [],
   "source": [
    "del index_df \n",
    "del train_feature"
   ]
  },
  {
   "cell_type": "markdown",
   "id": "7820455b-2ec9-438e-9454-c79259741ee0",
   "metadata": {},
   "source": [
    "## Prep Val Feature"
   ]
  },
  {
   "cell_type": "code",
   "execution_count": 79,
   "id": "70668da2-476b-46aa-8c42-8c1c57f5360d",
   "metadata": {},
   "outputs": [
    {
     "data": {
      "text/plain": [
       "2019-10    145312\n",
       "2019-11    492652\n",
       "2019-12    527046\n",
       "2020-01    416087\n",
       "2020-02    500763\n",
       "Name: event_month, dtype: int64"
      ]
     },
     "execution_count": 79,
     "metadata": {},
     "output_type": "execute_result"
    }
   ],
   "source": [
    "train_data['event_month'].value_counts().sort_index()"
   ]
  },
  {
   "cell_type": "code",
   "execution_count": 42,
   "id": "59e39674-73ef-4ea4-8e7e-373bfe22d536",
   "metadata": {},
   "outputs": [],
   "source": [
    "val_label = pd.read_parquet(os.path.join(data_path, val_label_file))"
   ]
  },
  {
   "cell_type": "code",
   "execution_count": 44,
   "id": "d300094a-b08a-408b-90b5-88da74cc4b7f",
   "metadata": {},
   "outputs": [],
   "source": [
    "val_index = val_label[index_cols].copy()\n",
    "index_df = val_index.set_index(['user_id', 'event_month'])\n",
    "for i in range(1,4):\n",
    "    feature = get_feature(val_index[index_cols], agg_count, p=i)\n",
    "    feature.set_index(['user_id', 'event_month'], inplace=True)\n",
    "    index_df = pd.concat([index_df, feature], join='inner', axis=1)\n",
    "    \n",
    "    feature = get_feature(val_index[index_cols], agg_price, p=i)\n",
    "    feature.set_index(['user_id', 'event_month'], inplace=True)\n",
    "    index_df = pd.concat([index_df, feature], join='inner', axis=1)"
   ]
  },
  {
   "cell_type": "code",
   "execution_count": 45,
   "id": "5ac6c00d-28a0-4577-afe4-04ad48a16f7f",
   "metadata": {},
   "outputs": [],
   "source": [
    "val_feature = get_purchase_freq(index_df)"
   ]
  },
  {
   "cell_type": "code",
   "execution_count": 46,
   "id": "91492232-44f2-46eb-9a80-17d2b07f3785",
   "metadata": {},
   "outputs": [],
   "source": [
    "val_feature.reset_index(inplace=True)\n",
    "val_feature.to_parquet(os.path.join(data_path, 'val_feature.parquet'))"
   ]
  },
  {
   "cell_type": "markdown",
   "id": "71f880ee-2147-4160-a5fa-593f9b4133e0",
   "metadata": {},
   "source": [
    "## Prep Test Feature"
   ]
  },
  {
   "cell_type": "code",
   "execution_count": 47,
   "id": "01b4d8de-0d1f-4994-973e-913cf75dfda0",
   "metadata": {},
   "outputs": [],
   "source": [
    "test_label = pd.read_parquet(os.path.join(data_path, test_label_file))"
   ]
  },
  {
   "cell_type": "code",
   "execution_count": 88,
   "id": "9ac52c41-e1f6-454e-8d4a-8f47a5b5bbca",
   "metadata": {},
   "outputs": [
    {
     "data": {
      "text/plain": [
       "array(['2020-04'], dtype=object)"
      ]
     },
     "execution_count": 88,
     "metadata": {},
     "output_type": "execute_result"
    }
   ],
   "source": [
    "test_label['event_month'].unique()"
   ]
  },
  {
   "cell_type": "code",
   "execution_count": 48,
   "id": "97638eec-36fd-48fd-a708-88fce19ba6d5",
   "metadata": {},
   "outputs": [],
   "source": [
    "val_data = pd.read_parquet(os.path.join(data_path, val_file))\n",
    "val_data['event_month'] = val_data['event_time'].str[:7]"
   ]
  },
  {
   "cell_type": "code",
   "execution_count": 49,
   "id": "bfa1856b-8427-4913-b1ea-f21073b0d321",
   "metadata": {},
   "outputs": [
    {
     "data": {
      "text/plain": [
       "2020-02    500763\n",
       "2020-01    416087\n",
       "2020-03    242725\n",
       "Name: event_month, dtype: int64"
      ]
     },
     "execution_count": 49,
     "metadata": {},
     "output_type": "execute_result"
    }
   ],
   "source": [
    "val_data = pd.concat([train_data[train_data['event_month'].isin(['2020-01', '2020-02'])], val_data], axis=0)\n",
    "val_data['event_month'].value_counts(dropna=False)"
   ]
  },
  {
   "cell_type": "code",
   "execution_count": 51,
   "id": "3a0db95a-e103-4a55-9a27-12ef41b5a0a3",
   "metadata": {},
   "outputs": [],
   "source": [
    "agg_count = pd.pivot_table(data=val_data, index=['user_id', 'event_month'],\n",
    "                           columns=['cat_0', 'event_type'], values='price',\n",
    "                           aggfunc='count'\n",
    "                          )\n",
    "cols = [col[1]+'_'+col[0]+'_cnt' for col in agg_count.columns]\n",
    "agg_count.columns = cols\n",
    "\n",
    "agg_price = pd.pivot_table(data=train_data, index=['user_id', 'event_month'],\n",
    "                           columns=['cat_0', 'event_type'], values='price',\n",
    "                           aggfunc='sum'\n",
    "                          )\n",
    "cols = [col[1]+'_'+col[0]+'_sum' for col in agg_price.columns]\n",
    "agg_price.columns = cols"
   ]
  },
  {
   "cell_type": "code",
   "execution_count": 52,
   "id": "17a32dfd-c6c5-4525-8b03-02cf5446b4c9",
   "metadata": {},
   "outputs": [],
   "source": [
    "test_index = test_label[index_cols].copy()\n",
    "index_df = test_index.set_index(['user_id', 'event_month'])\n",
    "for i in range(1,4):\n",
    "    feature = get_feature(test_index[index_cols], agg_count, p=i)\n",
    "    feature.set_index(['user_id', 'event_month'], inplace=True)\n",
    "    index_df = pd.concat([index_df, feature], join='inner', axis=1)\n",
    "    \n",
    "    feature = get_feature(test_index[index_cols], agg_price, p=i)\n",
    "    feature.set_index(['user_id', 'event_month'], inplace=True)\n",
    "    index_df = pd.concat([index_df, feature], join='inner', axis=1)"
   ]
  },
  {
   "cell_type": "code",
   "execution_count": 53,
   "id": "9ff04baf-3304-4157-925c-9c18f2351e1d",
   "metadata": {},
   "outputs": [],
   "source": [
    "test_feature = get_purchase_freq(index_df)"
   ]
  },
  {
   "cell_type": "code",
   "execution_count": 54,
   "id": "82fc173d-0634-419e-9512-e9a41af03d41",
   "metadata": {},
   "outputs": [],
   "source": [
    "test_feature.reset_index(inplace=True)\n",
    "test_feature.to_parquet(os.path.join(data_path, 'test_feature.parquet'))"
   ]
  }
 ],
 "metadata": {
  "kernelspec": {
   "display_name": "virtualENV",
   "language": "python",
   "name": "virtualenv"
  },
  "language_info": {
   "codemirror_mode": {
    "name": "ipython",
    "version": 3
   },
   "file_extension": ".py",
   "mimetype": "text/x-python",
   "name": "python",
   "nbconvert_exporter": "python",
   "pygments_lexer": "ipython3",
   "version": "3.9.7"
  }
 },
 "nbformat": 4,
 "nbformat_minor": 5
}
