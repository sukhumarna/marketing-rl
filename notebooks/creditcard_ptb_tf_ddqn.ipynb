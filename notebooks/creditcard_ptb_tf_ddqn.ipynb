{
 "cells": [
  {
   "cell_type": "markdown",
   "id": "0deb761b-3d9b-4ed2-b04e-7a933dd0b680",
   "metadata": {},
   "source": [
    "# Credit Card PTB by TF Agent DDQN"
   ]
  },
  {
   "cell_type": "code",
   "execution_count": 12,
   "id": "b88042bb-949c-4b77-90c0-e5030f416ce7",
   "metadata": {},
   "outputs": [],
   "source": [
    "import os\n",
    "import sys\n",
    "curr_folder = globals()['_dh']\n",
    "\n",
    "os.chdir(os.path.join(curr_folder[0], '..'))\n",
    "sys.path.append(os.path.join(curr_folder[0], '..'))\n",
    "sys.path.append(os.path.join(curr_folder[0], '../marketing_rl'))"
   ]
  },
  {
   "cell_type": "code",
   "execution_count": 2,
   "id": "a1ccfacc-6730-488d-891f-e993fae9187b",
   "metadata": {},
   "outputs": [],
   "source": [
    "import pandas as pd\n",
    "import numpy as np\n",
    "import matplotlib.pyplot as plt\n",
    "import tensorflow as tf\n",
    "import tf_agents.utils.common as common\n",
    "from tf_agents.agents.dqn import dqn_agent\n",
    "from tf_agents.drivers import dynamic_step_driver\n",
    "from tf_agents.networks.q_network import QNetwork\n",
    "from tf_agents.metrics import tf_metrics\n",
    "from tf_agents.environments import tf_py_environment\n",
    "from tf_agents.replay_buffers import TFUniformReplayBuffer\n",
    "from sklearn.model_selection import train_test_split\n",
    "from sklearn.pipeline import Pipeline\n",
    "from sklearn.compose import ColumnTransformer\n",
    "from sklearn.preprocessing import OneHotEncoder, StandardScaler, OrdinalEncoder\n",
    "from sklearn.impute import SimpleImputer\n",
    "from sklearn.metrics import roc_curve, roc_auc_score\n",
    "from marketing_rl.environment.biclass_tf_env import BiClassTFEnv, EnvMode"
   ]
  },
  {
   "cell_type": "markdown",
   "id": "ba1cfaa6-2531-4d05-ac65-63ca7a9ddf03",
   "metadata": {},
   "source": [
    "## Load Data"
   ]
  },
  {
   "cell_type": "code",
   "execution_count": 3,
   "id": "b4eb3588-03e1-4887-ad36-4607e885bda2",
   "metadata": {},
   "outputs": [
    {
     "name": "stdout",
     "output_type": "stream",
     "text": [
      "total data size is 245725\n"
     ]
    }
   ],
   "source": [
    "data_path = 'data/Credit Card Lead Prediction/train.csv'\n",
    "df = pd.read_csv(data_path)\n",
    "print('total data size is', df.shape[0])"
   ]
  },
  {
   "cell_type": "markdown",
   "id": "1aaeec99-a129-4f7f-824b-ca1780199085",
   "metadata": {},
   "source": [
    "## Preparation"
   ]
  },
  {
   "cell_type": "markdown",
   "id": "0e1a68cd-2de0-4bd3-a3aa-3f2ee32febb7",
   "metadata": {},
   "source": [
    "### Prep Data"
   ]
  },
  {
   "cell_type": "code",
   "execution_count": 4,
   "id": "55b6c298-df9c-4c6d-bba2-846ed4c32587",
   "metadata": {},
   "outputs": [],
   "source": [
    "label_col = 'Is_Lead'\n",
    "index_col = 'ID'\n",
    "feat_cols = ['Gender', 'Age', 'Region_Code', 'Occupation', 'Channel_Code',\n",
    "             'Vintage', 'Credit_Product', 'Avg_Account_Balance', 'Is_Active']"
   ]
  },
  {
   "cell_type": "code",
   "execution_count": 5,
   "id": "bad7e5dc-fc60-413c-91b0-84e1ee661f48",
   "metadata": {},
   "outputs": [
    {
     "name": "stdout",
     "output_type": "stream",
     "text": [
      "train size is 172007\n",
      "test size is 73718\n",
      "train positive 40818, train negative 131189\n"
     ]
    }
   ],
   "source": [
    "X_train, X_test, y_train, y_test = train_test_split(df[feat_cols], df[label_col], random_state=0, test_size=0.3, shuffle=True)\n",
    "print('train size is', X_train.shape[0])\n",
    "print('test size is', X_test.shape[0])\n",
    "print('train positive {}, train negative {}'.format(sum(y_train==1),sum(y_train==0)))"
   ]
  },
  {
   "cell_type": "code",
   "execution_count": 6,
   "id": "017526cc-5319-4c17-8c32-e0c3221d348e",
   "metadata": {},
   "outputs": [],
   "source": [
    "numer_feats = ['Age', 'Vintage', 'Avg_Account_Balance']\n",
    "numer_transformer = StandardScaler()\n",
    "\n",
    "\n",
    "binary_feats = ['Is_Active', 'Credit_Product']\n",
    "binary_transformer = Pipeline(\n",
    "    steps=[(\"imputer\", SimpleImputer(strategy=\"constant\", fill_value='No')), (\"ordinal\", OrdinalEncoder())]\n",
    ")\n",
    "\n",
    "cat_feats = ['Gender', 'Region_Code', 'Occupation', 'Channel_Code']\n",
    "cat_transformer = OneHotEncoder(handle_unknown='ignore')\n",
    "\n",
    "transformer = ColumnTransformer(\n",
    "    transformers=[\n",
    "        (\"num\", numer_transformer, numer_feats),\n",
    "        (\"ordinal\", binary_transformer, binary_feats),\n",
    "        (\"cat\", cat_transformer, cat_feats)\n",
    "    ], sparse_threshold = 0\n",
    ")"
   ]
  },
  {
   "cell_type": "code",
   "execution_count": 7,
   "id": "b1b14475-954f-490f-b1b2-5a76755cd6a9",
   "metadata": {},
   "outputs": [],
   "source": [
    "X_train_t = transformer.fit_transform(X_train)\n",
    "X_test_t = transformer.transform(X_test)"
   ]
  },
  {
   "cell_type": "code",
   "execution_count": 8,
   "id": "e0c66104-a6e4-4561-ac85-a2259fd0aabf",
   "metadata": {},
   "outputs": [
    {
     "name": "stdout",
     "output_type": "stream",
     "text": [
      "[train] positive sample to negative sample is 0.3111388912180137\n"
     ]
    }
   ],
   "source": [
    "pos_neg_ratio = sum(y_train==1)/sum(y_train==0)\n",
    "print('[train] positive sample to negative sample is', pos_neg_ratio)"
   ]
  },
  {
   "cell_type": "markdown",
   "id": "43dd9680-e29a-414b-9ab5-7711a39c5bf9",
   "metadata": {},
   "source": [
    "### Prep Environment"
   ]
  },
  {
   "cell_type": "code",
   "execution_count": 61,
   "id": "fd1a9ebc-ce2e-472c-9d0a-0c4b72f2cfca",
   "metadata": {},
   "outputs": [],
   "source": [
    "train_data_x = np.array(X_train_t)\n",
    "train_data_y = np.array(y_train)"
   ]
  },
  {
   "cell_type": "code",
   "execution_count": 62,
   "id": "eca18079-df42-4045-92f9-3db18c57d973",
   "metadata": {},
   "outputs": [],
   "source": [
    "train_env = BiClassTFEnv(data_x=train_data_x, data_y=train_data_y, pos_neg_ratio=pos_neg_ratio, discount=0.1, early_stop=10)\n",
    "train_tf_env = tf_py_environment.TFPyEnvironment(train_env)"
   ]
  },
  {
   "cell_type": "markdown",
   "id": "2e34678a-0d15-46de-836a-7cd0c4448391",
   "metadata": {},
   "source": [
    "## Agent Initialization"
   ]
  },
  {
   "cell_type": "code",
   "execution_count": 63,
   "id": "24dd957b-847a-46a1-bae8-ef06e120064e",
   "metadata": {},
   "outputs": [],
   "source": [
    "# define parameters\n",
    "fc_layers = (64,)\n",
    "learning_rate = 1e-4\n",
    "batch_size = 64\n",
    "replay_buffer_capacity = 100000\n",
    "\n",
    "num_iterations = 30000\n",
    "num_eval_episodes = 1\n",
    "\n",
    "log_interval = 200\n",
    "eval_interval = 1000\n"
   ]
  },
  {
   "cell_type": "code",
   "execution_count": 64,
   "id": "d6ffd703-7426-4343-bf8e-400469678985",
   "metadata": {},
   "outputs": [],
   "source": [
    "# q network\n",
    "q_net = QNetwork(\n",
    "    input_tensor_spec = train_tf_env.observation_spec(),\n",
    "    action_spec = train_tf_env.action_spec(),\n",
    "    fc_layer_params = fc_layers,\n",
    ")\n",
    "\n",
    "optimizer = tf.compat.v1.train.AdamOptimizer(learning_rate=learning_rate)\n",
    "train_step_counter = tf.compat.v2.Variable(0)\n",
    "global_step = tf.compat.v1.train.get_or_create_global_step()\n",
    "\n",
    "# dqn agent\n",
    "agent = dqn_agent.DdqnAgent(\n",
    "    time_step_spec = train_tf_env.time_step_spec(),\n",
    "    action_spec = train_tf_env.action_spec(),\n",
    "    q_network = q_net,\n",
    "    optimizer = optimizer,\n",
    "    td_errors_loss_fn = common.element_wise_squared_loss,\n",
    "    train_step_counter = train_step_counter,\n",
    "    emit_log_probability = True\n",
    ")\n",
    "agent.initialize()\n"
   ]
  },
  {
   "cell_type": "markdown",
   "id": "ce1848d0-a835-4762-b38e-6b5db2daf286",
   "metadata": {},
   "source": [
    "## Agent Training"
   ]
  },
  {
   "cell_type": "code",
   "execution_count": 65,
   "id": "2a7e179c-0629-4cd5-876c-28015455097b",
   "metadata": {},
   "outputs": [
    {
     "name": "stdout",
     "output_type": "stream",
     "text": [
      "Batch Size: None\n"
     ]
    }
   ],
   "source": [
    "# initiate replay buffer for training\n",
    "replay_buffer = TFUniformReplayBuffer(\n",
    "    data_spec = agent.collect_data_spec,\n",
    "    batch_size = train_tf_env.batch_size,\n",
    "    max_length = replay_buffer_capacity,\n",
    ")\n",
    "print(\"Batch Size: {}\".format(train_env.batch_size))\n",
    "\n",
    "replay_observer = [replay_buffer.add_batch]\n",
    "metrics = [\n",
    "    tf_metrics.NumberOfEpisodes(),\n",
    "    tf_metrics.EnvironmentSteps(),\n",
    "    tf_metrics.AverageReturnMetric(),\n",
    "    tf_metrics.AverageEpisodeLengthMetric(),\n",
    "    \n",
    "]\n",
    "\n",
    "# policy\n",
    "eval_policy = agent.policy\n",
    "collect_policy = agent.collect_policy\n"
   ]
  },
  {
   "cell_type": "code",
   "execution_count": 66,
   "id": "4d183343-19cc-497a-82c1-c9476d63e69a",
   "metadata": {},
   "outputs": [],
   "source": [
    "dataset = replay_buffer.as_dataset(\n",
    "    num_parallel_calls = 3, \n",
    "    sample_batch_size = batch_size,\n",
    "    num_steps = 2\n",
    ").prefetch(3)\n",
    "\n",
    "driver = dynamic_step_driver.DynamicStepDriver(\n",
    "    env = train_tf_env,\n",
    "    policy = collect_policy,\n",
    "    observers = replay_observer + metrics,\n",
    ")\n",
    "\n",
    "date_iter = iter(dataset)"
   ]
  },
  {
   "cell_type": "code",
   "execution_count": 67,
   "id": "a8579732-5cb7-4b1f-9d01-cba3610248f8",
   "metadata": {},
   "outputs": [],
   "source": [
    "def compute_avg_return(environment, policy, num_episodes=10):\n",
    "    print('computing average return for {} episodes'.format(num_episodes))\n",
    "    total_return = 0.0\n",
    "    total_step = 0\n",
    "    for i in range(num_episodes):\n",
    "        time_step = environment.reset()\n",
    "        episode_return = 0.0\n",
    "\n",
    "        while not time_step.is_last():\n",
    "            action_step = policy.action(time_step)\n",
    "            time_step = environment.step(action_step.action)\n",
    "            episode_return += time_step.reward\n",
    "            total_step += 1\n",
    "        total_return += episode_return\n",
    "            \n",
    "    print(f'total step is {total_step}')\n",
    "    print(f'total reward is {total_return}')\n",
    "    avg_return = total_return / num_episodes\n",
    "    return avg_return.numpy()[0]\n"
   ]
  },
  {
   "cell_type": "code",
   "execution_count": 68,
   "id": "357a9566-106a-4153-937e-7b1c67ca036f",
   "metadata": {},
   "outputs": [],
   "source": [
    "agent.train = common.function(agent.train)\n"
   ]
  },
  {
   "cell_type": "code",
   "execution_count": 69,
   "id": "07a04c08-0bd5-4632-ad2c-875e26b38ec3",
   "metadata": {},
   "outputs": [],
   "source": [
    "eval_data_x = np.array(X_test_t)\n",
    "eval_data_y = np.array(y_test)\n",
    "\n",
    "eval_env = BiClassTFEnv(data_x=eval_data_x, data_y=eval_data_y, pos_neg_ratio=pos_neg_ratio, mode=EnvMode.TEST)\n",
    "eval_tf_env = tf_py_environment.TFPyEnvironment(eval_env)\n"
   ]
  },
  {
   "cell_type": "code",
   "execution_count": 70,
   "id": "8d4b2a2a-15ec-4b76-91eb-8f8bf1c16967",
   "metadata": {
    "scrolled": true,
    "tags": []
   },
   "outputs": [
    {
     "name": "stdout",
     "output_type": "stream",
     "text": [
      "step = 200: loss = 0.2836221158504486\n",
      "Average episode length: 94.0\n",
      "step = 400: loss = 0.3189123570919037\n",
      "Average episode length: 95.0\n",
      "step = 600: loss = 0.17964237928390503\n",
      "Average episode length: 94.5999984741211\n",
      "step = 800: loss = 0.1923750340938568\n",
      "Average episode length: 110.0\n",
      "step = 1000: loss = 0.244232177734375\n",
      "Average episode length: 115.0\n",
      "computing average return for 1 episodes\n",
      "total step is 73718\n",
      "total reward is [11234.648]\n",
      "step = 1000: Average Return = 11234.6484375\n",
      "step = 1200: loss = 0.2025524079799652\n",
      "Average episode length: 128.55555725097656\n",
      "step = 1400: loss = 0.365480899810791\n",
      "Average episode length: 135.60000610351562\n",
      "step = 1600: loss = 0.20818758010864258\n",
      "Average episode length: 141.6999969482422\n",
      "step = 1800: loss = 0.1981208473443985\n",
      "Average episode length: 144.8000030517578\n",
      "step = 2000: loss = 0.2614309787750244\n",
      "Average episode length: 152.89999389648438\n",
      "computing average return for 1 episodes\n",
      "total step is 73718\n",
      "total reward is [11749.348]\n",
      "step = 2000: Average Return = 11749.34765625\n",
      "step = 2200: loss = 0.21601858735084534\n",
      "Average episode length: 164.0\n",
      "step = 2400: loss = 0.20969463884830475\n",
      "Average episode length: 172.0\n",
      "step = 2600: loss = 0.26170793175697327\n",
      "Average episode length: 172.5\n",
      "step = 2800: loss = 0.2493429034948349\n",
      "Average episode length: 174.5\n",
      "step = 3000: loss = 0.23236364126205444\n",
      "Average episode length: 183.8000030517578\n",
      "computing average return for 1 episodes\n",
      "total step is 73718\n",
      "total reward is [11874.454]\n",
      "step = 3000: Average Return = 11874.4541015625\n",
      "step = 3200: loss = 0.25231534242630005\n",
      "Average episode length: 182.10000610351562\n",
      "step = 3400: loss = 0.22713860869407654\n",
      "Average episode length: 180.6999969482422\n",
      "step = 3600: loss = 0.2023821473121643\n",
      "Average episode length: 191.60000610351562\n",
      "step = 3800: loss = 0.36806944012641907\n",
      "Average episode length: 187.89999389648438\n",
      "step = 4000: loss = 0.15642474591732025\n",
      "Average episode length: 192.6999969482422\n",
      "computing average return for 1 episodes\n",
      "total step is 73718\n",
      "total reward is [11876.229]\n",
      "step = 4000: Average Return = 11876.228515625\n",
      "step = 4200: loss = 0.23695328831672668\n",
      "Average episode length: 187.60000610351562\n",
      "step = 4400: loss = 0.30795249342918396\n",
      "Average episode length: 185.5\n",
      "step = 4600: loss = 0.2216252088546753\n",
      "Average episode length: 177.39999389648438\n",
      "step = 4800: loss = 0.24091768264770508\n",
      "Average episode length: 173.39999389648438\n",
      "step = 5000: loss = 0.2578938603401184\n",
      "Average episode length: 167.60000610351562\n",
      "computing average return for 1 episodes\n",
      "total step is 73718\n",
      "total reward is [11823.861]\n",
      "step = 5000: Average Return = 11823.861328125\n",
      "step = 5200: loss = 0.22963865101337433\n",
      "Average episode length: 162.1999969482422\n",
      "step = 5400: loss = 0.258137047290802\n",
      "Average episode length: 167.3000030517578\n",
      "step = 5600: loss = 0.22051414847373962\n",
      "Average episode length: 159.39999389648438\n",
      "step = 5800: loss = 0.23926201462745667\n",
      "Average episode length: 154.89999389648438\n",
      "step = 6000: loss = 0.17629237473011017\n",
      "Average episode length: 157.10000610351562\n",
      "computing average return for 1 episodes\n",
      "total step is 73718\n",
      "total reward is [11957.151]\n",
      "step = 6000: Average Return = 11957.1513671875\n",
      "step = 6200: loss = 0.24405205249786377\n",
      "Average episode length: 161.5\n",
      "step = 6400: loss = 0.1772027313709259\n",
      "Average episode length: 159.10000610351562\n",
      "step = 6600: loss = 0.24558532238006592\n",
      "Average episode length: 174.10000610351562\n",
      "step = 6800: loss = 0.2559266984462738\n",
      "Average episode length: 170.1999969482422\n",
      "step = 7000: loss = 0.24376073479652405\n",
      "Average episode length: 167.8000030517578\n",
      "computing average return for 1 episodes\n",
      "total step is 73718\n",
      "total reward is [12096.139]\n",
      "step = 7000: Average Return = 12096.138671875\n",
      "step = 7200: loss = 0.2336251139640808\n",
      "Average episode length: 169.0\n",
      "step = 7400: loss = 0.1973448246717453\n",
      "Average episode length: 171.39999389648438\n",
      "step = 7600: loss = 0.27789372205734253\n",
      "Average episode length: 172.10000610351562\n",
      "step = 7800: loss = 0.15741360187530518\n",
      "Average episode length: 173.5\n",
      "step = 8000: loss = 0.2553125023841858\n",
      "Average episode length: 175.0\n",
      "computing average return for 1 episodes\n",
      "total step is 73718\n",
      "total reward is [12229.835]\n",
      "step = 8000: Average Return = 12229.8349609375\n",
      "step = 8200: loss = 0.24565134942531586\n",
      "Average episode length: 153.0\n",
      "step = 8400: loss = 0.22336354851722717\n",
      "Average episode length: 162.6999969482422\n",
      "step = 8600: loss = 0.2512211799621582\n",
      "Average episode length: 159.1999969482422\n",
      "step = 8800: loss = 0.28463008999824524\n",
      "Average episode length: 154.5\n",
      "step = 9000: loss = 0.20971718430519104\n",
      "Average episode length: 156.10000610351562\n",
      "computing average return for 1 episodes\n",
      "total step is 73718\n",
      "total reward is [12319.656]\n",
      "step = 9000: Average Return = 12319.65625\n",
      "step = 9200: loss = 0.24754133820533752\n",
      "Average episode length: 158.89999389648438\n",
      "step = 9400: loss = 0.23024927079677582\n",
      "Average episode length: 159.89999389648438\n",
      "step = 9600: loss = 0.1995101273059845\n",
      "Average episode length: 155.10000610351562\n",
      "step = 9800: loss = 0.2581712603569031\n",
      "Average episode length: 160.89999389648438\n",
      "step = 10000: loss = 0.3116469979286194\n",
      "Average episode length: 149.10000610351562\n",
      "computing average return for 1 episodes\n",
      "total step is 73718\n",
      "total reward is [12401.814]\n",
      "step = 10000: Average Return = 12401.814453125\n",
      "step = 10200: loss = 0.24184507131576538\n",
      "Average episode length: 159.10000610351562\n",
      "step = 10400: loss = 0.2320365309715271\n",
      "Average episode length: 165.10000610351562\n",
      "step = 10600: loss = 0.3165116608142853\n",
      "Average episode length: 172.0\n",
      "step = 10800: loss = 0.27136871218681335\n",
      "Average episode length: 175.60000610351562\n",
      "step = 11000: loss = 0.28755131363868713\n",
      "Average episode length: 168.60000610351562\n",
      "computing average return for 1 episodes\n",
      "total step is 73718\n",
      "total reward is [12571.469]\n",
      "step = 11000: Average Return = 12571.46875\n",
      "step = 11200: loss = 0.2701840400695801\n",
      "Average episode length: 168.60000610351562\n",
      "step = 11400: loss = 0.3106449842453003\n",
      "Average episode length: 176.10000610351562\n",
      "step = 11600: loss = 0.24544501304626465\n",
      "Average episode length: 186.89999389648438\n",
      "step = 11800: loss = 0.28927353024482727\n",
      "Average episode length: 195.1999969482422\n",
      "step = 12000: loss = 0.20892605185508728\n",
      "Average episode length: 193.0\n",
      "computing average return for 1 episodes\n",
      "total step is 73718\n",
      "total reward is [12664.37]\n",
      "step = 12000: Average Return = 12664.3701171875\n",
      "step = 12200: loss = 0.34551116824150085\n",
      "Average episode length: 177.89999389648438\n",
      "step = 12400: loss = 0.20526370406150818\n",
      "Average episode length: 168.1999969482422\n",
      "step = 12600: loss = 0.2527947425842285\n",
      "Average episode length: 180.89999389648438\n",
      "step = 12800: loss = 0.321731299161911\n",
      "Average episode length: 182.0\n",
      "step = 13000: loss = 0.21753931045532227\n",
      "Average episode length: 191.0\n",
      "computing average return for 1 episodes\n",
      "total step is 73718\n",
      "total reward is [12752.842]\n",
      "step = 13000: Average Return = 12752.841796875\n",
      "step = 13200: loss = 0.25588035583496094\n",
      "Average episode length: 180.8000030517578\n",
      "step = 13400: loss = 0.26406311988830566\n",
      "Average episode length: 181.6999969482422\n",
      "step = 13600: loss = 0.26577121019363403\n",
      "Average episode length: 180.6999969482422\n",
      "step = 13800: loss = 0.23073026537895203\n",
      "Average episode length: 180.6999969482422\n",
      "step = 14000: loss = 0.24121110141277313\n",
      "Average episode length: 193.8000030517578\n",
      "computing average return for 1 episodes\n",
      "total step is 73718\n",
      "total reward is [12817.55]\n",
      "step = 14000: Average Return = 12817.5498046875\n",
      "step = 14200: loss = 0.3070179224014282\n",
      "Average episode length: 192.6999969482422\n",
      "step = 14400: loss = 0.25040966272354126\n",
      "Average episode length: 174.3000030517578\n",
      "step = 14600: loss = 0.21424610912799835\n",
      "Average episode length: 167.10000610351562\n",
      "step = 14800: loss = 0.24532450735569\n",
      "Average episode length: 172.60000610351562\n",
      "step = 15000: loss = 0.30691030621528625\n",
      "Average episode length: 158.89999389648438\n",
      "computing average return for 1 episodes\n",
      "total step is 73718\n",
      "total reward is [12828.115]\n",
      "step = 15000: Average Return = 12828.115234375\n",
      "step = 15200: loss = 0.22653338313102722\n",
      "Average episode length: 159.10000610351562\n",
      "step = 15400: loss = 0.23985429108142853\n",
      "Average episode length: 152.8000030517578\n",
      "step = 15600: loss = 0.3266717791557312\n",
      "Average episode length: 151.1999969482422\n",
      "step = 15800: loss = 0.26903852820396423\n",
      "Average episode length: 161.3000030517578\n",
      "step = 16000: loss = 0.22109822928905487\n",
      "Average episode length: 158.39999389648438\n",
      "computing average return for 1 episodes\n",
      "total step is 73718\n",
      "total reward is [12920.466]\n",
      "step = 16000: Average Return = 12920.4658203125\n",
      "step = 16200: loss = 0.22965487837791443\n",
      "Average episode length: 164.6999969482422\n",
      "step = 16400: loss = 0.3449174761772156\n",
      "Average episode length: 174.60000610351562\n",
      "step = 16600: loss = 0.30841612815856934\n",
      "Average episode length: 175.8000030517578\n",
      "step = 16800: loss = 0.22064998745918274\n",
      "Average episode length: 177.39999389648438\n",
      "step = 17000: loss = 0.28095686435699463\n",
      "Average episode length: 180.8000030517578\n",
      "computing average return for 1 episodes\n",
      "total step is 73718\n",
      "total reward is [12891.834]\n",
      "step = 17000: Average Return = 12891.833984375\n",
      "step = 17200: loss = 0.26100942492485046\n",
      "Average episode length: 193.1999969482422\n",
      "step = 17400: loss = 0.22940030694007874\n",
      "Average episode length: 198.5\n",
      "step = 17600: loss = 0.27801287174224854\n",
      "Average episode length: 204.3000030517578\n",
      "step = 17800: loss = 0.2510141134262085\n",
      "Average episode length: 194.6999969482422\n",
      "step = 18000: loss = 0.3447529077529907\n",
      "Average episode length: 202.39999389648438\n",
      "computing average return for 1 episodes\n",
      "total step is 73718\n",
      "total reward is [12993.963]\n",
      "step = 18000: Average Return = 12993.962890625\n",
      "step = 18200: loss = 0.34737932682037354\n",
      "Average episode length: 196.39999389648438\n",
      "step = 18400: loss = 0.23953324556350708\n",
      "Average episode length: 200.3000030517578\n",
      "step = 18600: loss = 0.28841784596443176\n",
      "Average episode length: 204.3000030517578\n",
      "step = 18800: loss = 0.3350519835948944\n",
      "Average episode length: 207.60000610351562\n",
      "step = 19000: loss = 0.24621060490608215\n",
      "Average episode length: 202.60000610351562\n",
      "computing average return for 1 episodes\n",
      "total step is 73718\n",
      "total reward is [12993.539]\n",
      "step = 19000: Average Return = 12993.5390625\n",
      "step = 19200: loss = 0.3131833076477051\n",
      "Average episode length: 194.3000030517578\n",
      "step = 19400: loss = 0.2177102267742157\n",
      "Average episode length: 182.89999389648438\n",
      "step = 19600: loss = 0.2158871591091156\n",
      "Average episode length: 183.0\n",
      "step = 19800: loss = 0.31635284423828125\n",
      "Average episode length: 176.6999969482422\n",
      "step = 20000: loss = 0.24788397550582886\n",
      "Average episode length: 182.60000610351562\n",
      "computing average return for 1 episodes\n",
      "total step is 73718\n",
      "total reward is [12867.234]\n",
      "step = 20000: Average Return = 12867.234375\n",
      "step = 20200: loss = 0.2627142667770386\n",
      "Average episode length: 182.1999969482422\n",
      "step = 20400: loss = 0.20213603973388672\n",
      "Average episode length: 159.10000610351562\n",
      "step = 20600: loss = 0.2228018045425415\n",
      "Average episode length: 146.60000610351562\n",
      "step = 20800: loss = 0.2812657952308655\n",
      "Average episode length: 143.6999969482422\n",
      "step = 21000: loss = 0.19663873314857483\n",
      "Average episode length: 142.60000610351562\n",
      "computing average return for 1 episodes\n"
     ]
    },
    {
     "ename": "KeyboardInterrupt",
     "evalue": "",
     "output_type": "error",
     "traceback": [
      "\u001b[0;31m---------------------------------------------------------------------------\u001b[0m",
      "\u001b[0;31mKeyboardInterrupt\u001b[0m                         Traceback (most recent call last)",
      "\u001b[0;32m/var/folders/s_/15d95d2n5lngt5bwjl37xn3m0000gq/T/ipykernel_81106/2545776196.py\u001b[0m in \u001b[0;36m<cell line: 8>\u001b[0;34m()\u001b[0m\n\u001b[1;32m     21\u001b[0m \u001b[0;34m\u001b[0m\u001b[0m\n\u001b[1;32m     22\u001b[0m     \u001b[0;32mif\u001b[0m \u001b[0mstep\u001b[0m \u001b[0;34m%\u001b[0m \u001b[0meval_interval\u001b[0m \u001b[0;34m==\u001b[0m \u001b[0;36m0\u001b[0m\u001b[0;34m:\u001b[0m\u001b[0;34m\u001b[0m\u001b[0;34m\u001b[0m\u001b[0m\n\u001b[0;32m---> 23\u001b[0;31m         \u001b[0mavg_return\u001b[0m \u001b[0;34m=\u001b[0m \u001b[0mcompute_avg_return\u001b[0m\u001b[0;34m(\u001b[0m\u001b[0meval_tf_env\u001b[0m\u001b[0;34m,\u001b[0m \u001b[0magent\u001b[0m\u001b[0;34m.\u001b[0m\u001b[0mpolicy\u001b[0m\u001b[0;34m,\u001b[0m \u001b[0mnum_eval_episodes\u001b[0m\u001b[0;34m)\u001b[0m\u001b[0;34m\u001b[0m\u001b[0;34m\u001b[0m\u001b[0m\n\u001b[0m\u001b[1;32m     24\u001b[0m         \u001b[0mprint\u001b[0m\u001b[0;34m(\u001b[0m\u001b[0;34m'step = {0}: Average Return = {1}'\u001b[0m\u001b[0;34m.\u001b[0m\u001b[0mformat\u001b[0m\u001b[0;34m(\u001b[0m\u001b[0mstep\u001b[0m\u001b[0;34m,\u001b[0m \u001b[0mavg_return\u001b[0m\u001b[0;34m)\u001b[0m\u001b[0;34m)\u001b[0m\u001b[0;34m\u001b[0m\u001b[0;34m\u001b[0m\u001b[0m\n\u001b[1;32m     25\u001b[0m         \u001b[0mlosses\u001b[0m\u001b[0;34m.\u001b[0m\u001b[0mappend\u001b[0m\u001b[0;34m(\u001b[0m\u001b[0mtrain_loss\u001b[0m\u001b[0;34m)\u001b[0m\u001b[0;34m\u001b[0m\u001b[0;34m\u001b[0m\u001b[0m\n",
      "\u001b[0;32m/var/folders/s_/15d95d2n5lngt5bwjl37xn3m0000gq/T/ipykernel_81106/501056968.py\u001b[0m in \u001b[0;36mcompute_avg_return\u001b[0;34m(environment, policy, num_episodes)\u001b[0m\n\u001b[1;32m      8\u001b[0m \u001b[0;34m\u001b[0m\u001b[0m\n\u001b[1;32m      9\u001b[0m         \u001b[0;32mwhile\u001b[0m \u001b[0;32mnot\u001b[0m \u001b[0mtime_step\u001b[0m\u001b[0;34m.\u001b[0m\u001b[0mis_last\u001b[0m\u001b[0;34m(\u001b[0m\u001b[0;34m)\u001b[0m\u001b[0;34m:\u001b[0m\u001b[0;34m\u001b[0m\u001b[0;34m\u001b[0m\u001b[0m\n\u001b[0;32m---> 10\u001b[0;31m             \u001b[0maction_step\u001b[0m \u001b[0;34m=\u001b[0m \u001b[0mpolicy\u001b[0m\u001b[0;34m.\u001b[0m\u001b[0maction\u001b[0m\u001b[0;34m(\u001b[0m\u001b[0mtime_step\u001b[0m\u001b[0;34m)\u001b[0m\u001b[0;34m\u001b[0m\u001b[0;34m\u001b[0m\u001b[0m\n\u001b[0m\u001b[1;32m     11\u001b[0m             \u001b[0mtime_step\u001b[0m \u001b[0;34m=\u001b[0m \u001b[0menvironment\u001b[0m\u001b[0;34m.\u001b[0m\u001b[0mstep\u001b[0m\u001b[0;34m(\u001b[0m\u001b[0maction_step\u001b[0m\u001b[0;34m.\u001b[0m\u001b[0maction\u001b[0m\u001b[0;34m)\u001b[0m\u001b[0;34m\u001b[0m\u001b[0;34m\u001b[0m\u001b[0m\n\u001b[1;32m     12\u001b[0m             \u001b[0mepisode_return\u001b[0m \u001b[0;34m+=\u001b[0m \u001b[0mtime_step\u001b[0m\u001b[0;34m.\u001b[0m\u001b[0mreward\u001b[0m\u001b[0;34m\u001b[0m\u001b[0;34m\u001b[0m\u001b[0m\n",
      "\u001b[0;32m~/Documents/Data Science/RL for Marketing/notebooks/virtualENV/lib/python3.9/site-packages/tf_agents/policies/tf_policy.py\u001b[0m in \u001b[0;36maction\u001b[0;34m(self, time_step, policy_state, seed)\u001b[0m\n\u001b[1;32m    321\u001b[0m     \u001b[0;32mif\u001b[0m \u001b[0mself\u001b[0m\u001b[0;34m.\u001b[0m\u001b[0m_automatic_state_reset\u001b[0m\u001b[0;34m:\u001b[0m\u001b[0;34m\u001b[0m\u001b[0;34m\u001b[0m\u001b[0m\n\u001b[1;32m    322\u001b[0m       \u001b[0mpolicy_state\u001b[0m \u001b[0;34m=\u001b[0m \u001b[0mself\u001b[0m\u001b[0;34m.\u001b[0m\u001b[0m_maybe_reset_state\u001b[0m\u001b[0;34m(\u001b[0m\u001b[0mtime_step\u001b[0m\u001b[0;34m,\u001b[0m \u001b[0mpolicy_state\u001b[0m\u001b[0;34m)\u001b[0m\u001b[0;34m\u001b[0m\u001b[0;34m\u001b[0m\u001b[0m\n\u001b[0;32m--> 323\u001b[0;31m     \u001b[0mstep\u001b[0m \u001b[0;34m=\u001b[0m \u001b[0maction_fn\u001b[0m\u001b[0;34m(\u001b[0m\u001b[0mtime_step\u001b[0m\u001b[0;34m=\u001b[0m\u001b[0mtime_step\u001b[0m\u001b[0;34m,\u001b[0m \u001b[0mpolicy_state\u001b[0m\u001b[0;34m=\u001b[0m\u001b[0mpolicy_state\u001b[0m\u001b[0;34m,\u001b[0m \u001b[0mseed\u001b[0m\u001b[0;34m=\u001b[0m\u001b[0mseed\u001b[0m\u001b[0;34m)\u001b[0m\u001b[0;34m\u001b[0m\u001b[0;34m\u001b[0m\u001b[0m\n\u001b[0m\u001b[1;32m    324\u001b[0m \u001b[0;34m\u001b[0m\u001b[0m\n\u001b[1;32m    325\u001b[0m     \u001b[0;32mdef\u001b[0m \u001b[0mclip_action\u001b[0m\u001b[0;34m(\u001b[0m\u001b[0maction\u001b[0m\u001b[0;34m,\u001b[0m \u001b[0maction_spec\u001b[0m\u001b[0;34m)\u001b[0m\u001b[0;34m:\u001b[0m\u001b[0;34m\u001b[0m\u001b[0;34m\u001b[0m\u001b[0m\n",
      "\u001b[0;32m~/Documents/Data Science/RL for Marketing/notebooks/virtualENV/lib/python3.9/site-packages/tf_agents/utils/common.py\u001b[0m in \u001b[0;36mwith_check_resource_vars\u001b[0;34m(*fn_args, **fn_kwargs)\u001b[0m\n\u001b[1;32m    186\u001b[0m         \u001b[0;31m# We're either in eager mode or in tf.function mode (no in-between); so\u001b[0m\u001b[0;34m\u001b[0m\u001b[0;34m\u001b[0m\u001b[0m\n\u001b[1;32m    187\u001b[0m         \u001b[0;31m# autodep-like behavior is already expected of fn.\u001b[0m\u001b[0;34m\u001b[0m\u001b[0;34m\u001b[0m\u001b[0m\n\u001b[0;32m--> 188\u001b[0;31m         \u001b[0;32mreturn\u001b[0m \u001b[0mfn\u001b[0m\u001b[0;34m(\u001b[0m\u001b[0;34m*\u001b[0m\u001b[0mfn_args\u001b[0m\u001b[0;34m,\u001b[0m \u001b[0;34m**\u001b[0m\u001b[0mfn_kwargs\u001b[0m\u001b[0;34m)\u001b[0m\u001b[0;34m\u001b[0m\u001b[0;34m\u001b[0m\u001b[0m\n\u001b[0m\u001b[1;32m    189\u001b[0m       \u001b[0;32mif\u001b[0m \u001b[0;32mnot\u001b[0m \u001b[0mresource_variables_enabled\u001b[0m\u001b[0;34m(\u001b[0m\u001b[0;34m)\u001b[0m\u001b[0;34m:\u001b[0m\u001b[0;34m\u001b[0m\u001b[0;34m\u001b[0m\u001b[0m\n\u001b[1;32m    190\u001b[0m         \u001b[0;32mraise\u001b[0m \u001b[0mRuntimeError\u001b[0m\u001b[0;34m(\u001b[0m\u001b[0mMISSING_RESOURCE_VARIABLES_ERROR\u001b[0m\u001b[0;34m)\u001b[0m\u001b[0;34m\u001b[0m\u001b[0;34m\u001b[0m\u001b[0m\n",
      "\u001b[0;32m~/Documents/Data Science/RL for Marketing/notebooks/virtualENV/lib/python3.9/site-packages/tf_agents/policies/tf_policy.py\u001b[0m in \u001b[0;36m_action\u001b[0;34m(self, time_step, policy_state, seed)\u001b[0m\n\u001b[1;32m    558\u001b[0m     \u001b[0mseed_stream\u001b[0m \u001b[0;34m=\u001b[0m \u001b[0mtfp\u001b[0m\u001b[0;34m.\u001b[0m\u001b[0mutil\u001b[0m\u001b[0;34m.\u001b[0m\u001b[0mSeedStream\u001b[0m\u001b[0;34m(\u001b[0m\u001b[0mseed\u001b[0m\u001b[0;34m=\u001b[0m\u001b[0mseed\u001b[0m\u001b[0;34m,\u001b[0m \u001b[0msalt\u001b[0m\u001b[0;34m=\u001b[0m\u001b[0;34m'tf_agents_tf_policy'\u001b[0m\u001b[0;34m)\u001b[0m\u001b[0;34m\u001b[0m\u001b[0;34m\u001b[0m\u001b[0m\n\u001b[1;32m    559\u001b[0m     \u001b[0mdistribution_step\u001b[0m \u001b[0;34m=\u001b[0m \u001b[0mself\u001b[0m\u001b[0;34m.\u001b[0m\u001b[0m_distribution\u001b[0m\u001b[0;34m(\u001b[0m\u001b[0mtime_step\u001b[0m\u001b[0;34m,\u001b[0m \u001b[0mpolicy_state\u001b[0m\u001b[0;34m)\u001b[0m  \u001b[0;31m# pytype: disable=wrong-arg-types\u001b[0m\u001b[0;34m\u001b[0m\u001b[0;34m\u001b[0m\u001b[0m\n\u001b[0;32m--> 560\u001b[0;31m     actions = tf.nest.map_structure(\n\u001b[0m\u001b[1;32m    561\u001b[0m         \u001b[0;32mlambda\u001b[0m \u001b[0md\u001b[0m\u001b[0;34m:\u001b[0m \u001b[0mreparameterized_sampling\u001b[0m\u001b[0;34m.\u001b[0m\u001b[0msample\u001b[0m\u001b[0;34m(\u001b[0m\u001b[0md\u001b[0m\u001b[0;34m,\u001b[0m \u001b[0mseed\u001b[0m\u001b[0;34m=\u001b[0m\u001b[0mseed_stream\u001b[0m\u001b[0;34m(\u001b[0m\u001b[0;34m)\u001b[0m\u001b[0;34m)\u001b[0m\u001b[0;34m,\u001b[0m\u001b[0;34m\u001b[0m\u001b[0;34m\u001b[0m\u001b[0m\n\u001b[1;32m    562\u001b[0m         distribution_step.action)\n",
      "\u001b[0;32m~/Documents/Data Science/RL for Marketing/notebooks/virtualENV/lib/python3.9/site-packages/tensorflow/python/util/nest.py\u001b[0m in \u001b[0;36mmap_structure\u001b[0;34m(func, *structure, **kwargs)\u001b[0m\n\u001b[1;32m    912\u001b[0m \u001b[0;34m\u001b[0m\u001b[0m\n\u001b[1;32m    913\u001b[0m   return pack_sequence_as(\n\u001b[0;32m--> 914\u001b[0;31m       \u001b[0mstructure\u001b[0m\u001b[0;34m[\u001b[0m\u001b[0;36m0\u001b[0m\u001b[0;34m]\u001b[0m\u001b[0;34m,\u001b[0m \u001b[0;34m[\u001b[0m\u001b[0mfunc\u001b[0m\u001b[0;34m(\u001b[0m\u001b[0;34m*\u001b[0m\u001b[0mx\u001b[0m\u001b[0;34m)\u001b[0m \u001b[0;32mfor\u001b[0m \u001b[0mx\u001b[0m \u001b[0;32min\u001b[0m \u001b[0mentries\u001b[0m\u001b[0;34m]\u001b[0m\u001b[0;34m,\u001b[0m\u001b[0;34m\u001b[0m\u001b[0;34m\u001b[0m\u001b[0m\n\u001b[0m\u001b[1;32m    915\u001b[0m       expand_composites=expand_composites)\n\u001b[1;32m    916\u001b[0m \u001b[0;34m\u001b[0m\u001b[0m\n",
      "\u001b[0;32m~/Documents/Data Science/RL for Marketing/notebooks/virtualENV/lib/python3.9/site-packages/tensorflow/python/util/nest.py\u001b[0m in \u001b[0;36m<listcomp>\u001b[0;34m(.0)\u001b[0m\n\u001b[1;32m    912\u001b[0m \u001b[0;34m\u001b[0m\u001b[0m\n\u001b[1;32m    913\u001b[0m   return pack_sequence_as(\n\u001b[0;32m--> 914\u001b[0;31m       \u001b[0mstructure\u001b[0m\u001b[0;34m[\u001b[0m\u001b[0;36m0\u001b[0m\u001b[0;34m]\u001b[0m\u001b[0;34m,\u001b[0m \u001b[0;34m[\u001b[0m\u001b[0mfunc\u001b[0m\u001b[0;34m(\u001b[0m\u001b[0;34m*\u001b[0m\u001b[0mx\u001b[0m\u001b[0;34m)\u001b[0m \u001b[0;32mfor\u001b[0m \u001b[0mx\u001b[0m \u001b[0;32min\u001b[0m \u001b[0mentries\u001b[0m\u001b[0;34m]\u001b[0m\u001b[0;34m,\u001b[0m\u001b[0;34m\u001b[0m\u001b[0;34m\u001b[0m\u001b[0m\n\u001b[0m\u001b[1;32m    915\u001b[0m       expand_composites=expand_composites)\n\u001b[1;32m    916\u001b[0m \u001b[0;34m\u001b[0m\u001b[0m\n",
      "\u001b[0;32m~/Documents/Data Science/RL for Marketing/notebooks/virtualENV/lib/python3.9/site-packages/tf_agents/policies/tf_policy.py\u001b[0m in \u001b[0;36m<lambda>\u001b[0;34m(d)\u001b[0m\n\u001b[1;32m    559\u001b[0m     \u001b[0mdistribution_step\u001b[0m \u001b[0;34m=\u001b[0m \u001b[0mself\u001b[0m\u001b[0;34m.\u001b[0m\u001b[0m_distribution\u001b[0m\u001b[0;34m(\u001b[0m\u001b[0mtime_step\u001b[0m\u001b[0;34m,\u001b[0m \u001b[0mpolicy_state\u001b[0m\u001b[0;34m)\u001b[0m  \u001b[0;31m# pytype: disable=wrong-arg-types\u001b[0m\u001b[0;34m\u001b[0m\u001b[0;34m\u001b[0m\u001b[0m\n\u001b[1;32m    560\u001b[0m     actions = tf.nest.map_structure(\n\u001b[0;32m--> 561\u001b[0;31m         \u001b[0;32mlambda\u001b[0m \u001b[0md\u001b[0m\u001b[0;34m:\u001b[0m \u001b[0mreparameterized_sampling\u001b[0m\u001b[0;34m.\u001b[0m\u001b[0msample\u001b[0m\u001b[0;34m(\u001b[0m\u001b[0md\u001b[0m\u001b[0;34m,\u001b[0m \u001b[0mseed\u001b[0m\u001b[0;34m=\u001b[0m\u001b[0mseed_stream\u001b[0m\u001b[0;34m(\u001b[0m\u001b[0;34m)\u001b[0m\u001b[0;34m)\u001b[0m\u001b[0;34m,\u001b[0m\u001b[0;34m\u001b[0m\u001b[0;34m\u001b[0m\u001b[0m\n\u001b[0m\u001b[1;32m    562\u001b[0m         distribution_step.action)\n\u001b[1;32m    563\u001b[0m     \u001b[0minfo\u001b[0m \u001b[0;34m=\u001b[0m \u001b[0mdistribution_step\u001b[0m\u001b[0;34m.\u001b[0m\u001b[0minfo\u001b[0m\u001b[0;34m\u001b[0m\u001b[0;34m\u001b[0m\u001b[0m\n",
      "\u001b[0;32m~/Documents/Data Science/RL for Marketing/notebooks/virtualENV/lib/python3.9/site-packages/tf_agents/distributions/reparameterized_sampling.py\u001b[0m in \u001b[0;36msample\u001b[0;34m(distribution, reparam, **kwargs)\u001b[0m\n\u001b[1;32m     49\u001b[0m       \u001b[0;32mreturn\u001b[0m \u001b[0mdistribution\u001b[0m\u001b[0;34m.\u001b[0m\u001b[0mconvert_to_one_hot\u001b[0m\u001b[0;34m(\u001b[0m\u001b[0msamples\u001b[0m\u001b[0;34m)\u001b[0m\u001b[0;34m\u001b[0m\u001b[0;34m\u001b[0m\u001b[0m\n\u001b[1;32m     50\u001b[0m     \u001b[0;32melse\u001b[0m\u001b[0;34m:\u001b[0m\u001b[0;34m\u001b[0m\u001b[0;34m\u001b[0m\u001b[0m\n\u001b[0;32m---> 51\u001b[0;31m       \u001b[0;32mreturn\u001b[0m \u001b[0mdistribution\u001b[0m\u001b[0;34m.\u001b[0m\u001b[0msample\u001b[0m\u001b[0;34m(\u001b[0m\u001b[0;34m**\u001b[0m\u001b[0mkwargs\u001b[0m\u001b[0;34m)\u001b[0m\u001b[0;34m\u001b[0m\u001b[0;34m\u001b[0m\u001b[0m\n\u001b[0m",
      "\u001b[0;32m~/Documents/Data Science/RL for Marketing/notebooks/virtualENV/lib/python3.9/site-packages/tensorflow_probability/python/distributions/distribution.py\u001b[0m in \u001b[0;36msample\u001b[0;34m(self, sample_shape, seed, name, **kwargs)\u001b[0m\n\u001b[1;32m   1232\u001b[0m     \"\"\"\n\u001b[1;32m   1233\u001b[0m     \u001b[0;32mwith\u001b[0m \u001b[0mself\u001b[0m\u001b[0;34m.\u001b[0m\u001b[0m_name_and_control_scope\u001b[0m\u001b[0;34m(\u001b[0m\u001b[0mname\u001b[0m\u001b[0;34m)\u001b[0m\u001b[0;34m:\u001b[0m\u001b[0;34m\u001b[0m\u001b[0;34m\u001b[0m\u001b[0m\n\u001b[0;32m-> 1234\u001b[0;31m       \u001b[0;32mreturn\u001b[0m \u001b[0mself\u001b[0m\u001b[0;34m.\u001b[0m\u001b[0m_call_sample_n\u001b[0m\u001b[0;34m(\u001b[0m\u001b[0msample_shape\u001b[0m\u001b[0;34m,\u001b[0m \u001b[0mseed\u001b[0m\u001b[0;34m,\u001b[0m \u001b[0;34m**\u001b[0m\u001b[0mkwargs\u001b[0m\u001b[0;34m)\u001b[0m\u001b[0;34m\u001b[0m\u001b[0;34m\u001b[0m\u001b[0m\n\u001b[0m\u001b[1;32m   1235\u001b[0m \u001b[0;34m\u001b[0m\u001b[0m\n\u001b[1;32m   1236\u001b[0m   \u001b[0;32mdef\u001b[0m \u001b[0m_call_sample_and_log_prob\u001b[0m\u001b[0;34m(\u001b[0m\u001b[0mself\u001b[0m\u001b[0;34m,\u001b[0m \u001b[0msample_shape\u001b[0m\u001b[0;34m,\u001b[0m \u001b[0mseed\u001b[0m\u001b[0;34m,\u001b[0m \u001b[0;34m**\u001b[0m\u001b[0mkwargs\u001b[0m\u001b[0;34m)\u001b[0m\u001b[0;34m:\u001b[0m\u001b[0;34m\u001b[0m\u001b[0;34m\u001b[0m\u001b[0m\n",
      "\u001b[0;32m~/Documents/Data Science/RL for Marketing/notebooks/virtualENV/lib/python3.9/site-packages/tensorflow_probability/python/distributions/distribution.py\u001b[0m in \u001b[0;36m_call_sample_n\u001b[0;34m(self, sample_shape, seed, **kwargs)\u001b[0m\n\u001b[1;32m   1209\u001b[0m     sample_shape, n = self._expand_sample_shape_to_vector(\n\u001b[1;32m   1210\u001b[0m         sample_shape, 'sample_shape')\n\u001b[0;32m-> 1211\u001b[0;31m     samples = self._sample_n(\n\u001b[0m\u001b[1;32m   1212\u001b[0m         n, seed=seed() if callable(seed) else seed, **kwargs)\n\u001b[1;32m   1213\u001b[0m     samples = tf.nest.map_structure(\n",
      "\u001b[0;32m~/Documents/Data Science/RL for Marketing/notebooks/virtualENV/lib/python3.9/site-packages/tensorflow_probability/python/distributions/deterministic.py\u001b[0m in \u001b[0;36m_sample_n\u001b[0;34m(***failed resolving arguments***)\u001b[0m\n\u001b[1;32m    157\u001b[0m     return tf.broadcast_to(\n\u001b[1;32m    158\u001b[0m         \u001b[0mloc\u001b[0m\u001b[0;34m,\u001b[0m\u001b[0;34m\u001b[0m\u001b[0;34m\u001b[0m\u001b[0m\n\u001b[0;32m--> 159\u001b[0;31m         ps.concat([[n], self._batch_shape_tensor(loc=loc),\n\u001b[0m\u001b[1;32m    160\u001b[0m                    self._event_shape_tensor(loc=loc)],\n\u001b[1;32m    161\u001b[0m                   axis=0))\n",
      "\u001b[0;32m~/Documents/Data Science/RL for Marketing/notebooks/virtualENV/lib/python3.9/site-packages/tensorflow_probability/python/distributions/distribution.py\u001b[0m in \u001b[0;36m_batch_shape_tensor\u001b[0;34m(self, **parameter_kwargs)\u001b[0m\n\u001b[1;32m   1011\u001b[0m     \"\"\"\n\u001b[1;32m   1012\u001b[0m     \u001b[0;32mtry\u001b[0m\u001b[0;34m:\u001b[0m\u001b[0;34m\u001b[0m\u001b[0;34m\u001b[0m\u001b[0m\n\u001b[0;32m-> 1013\u001b[0;31m       return batch_shape_lib.inferred_batch_shape_tensor(\n\u001b[0m\u001b[1;32m   1014\u001b[0m           self, **parameter_kwargs)\n\u001b[1;32m   1015\u001b[0m     \u001b[0;32mexcept\u001b[0m \u001b[0mNotImplementedError\u001b[0m\u001b[0;34m:\u001b[0m\u001b[0;34m\u001b[0m\u001b[0;34m\u001b[0m\u001b[0m\n",
      "\u001b[0;31mKeyboardInterrupt\u001b[0m: "
     ]
    }
   ],
   "source": [
    "# time_step = train_tf_env.reset()\n",
    "final_time_step, policy_state = driver.run()\n",
    "episode_len = []\n",
    "step_len = []\n",
    "losses = []\n",
    "returns = []\n",
    "agent.train_step_counter.assign(0)\n",
    "for i in range(num_iterations+1):\n",
    "    # time_step, _ = driver.run(time_step)\n",
    "    final_time_step, _ = driver.run(final_time_step, policy_state)\n",
    "    \n",
    "    experience, _ = next(date_iter)\n",
    "    train_loss = agent.train(experience=experience)\n",
    "    step = agent.train_step_counter.numpy()\n",
    "\n",
    "    if step % log_interval == 0:\n",
    "        print('step = {0}: loss = {1}'.format(step, train_loss.loss))\n",
    "        episode_len.append(metrics[3].result().numpy())\n",
    "        step_len.append(step)\n",
    "        print('Average episode length: {}'.format(metrics[3].result().numpy()))\n",
    "    \n",
    "    if step % eval_interval == 0:\n",
    "        avg_return = compute_avg_return(eval_tf_env, agent.policy, num_eval_episodes)\n",
    "        print('step = {0}: Average Return = {1}'.format(step, avg_return))\n",
    "        losses.append(train_loss)\n",
    "        returns.append(avg_return)\n",
    "        "
   ]
  },
  {
   "cell_type": "markdown",
   "id": "00100e75-3703-4424-92bf-8ec3dc51e113",
   "metadata": {},
   "source": [
    "## Evaluation"
   ]
  },
  {
   "cell_type": "code",
   "execution_count": 71,
   "id": "b171799c-ea94-49c2-b141-599f6754365a",
   "metadata": {},
   "outputs": [],
   "source": [
    "from tf_agents.trajectories import StepType \n"
   ]
  },
  {
   "cell_type": "code",
   "execution_count": 72,
   "id": "9bd7059d-e64b-46fc-b002-137e4a5a6aa8",
   "metadata": {},
   "outputs": [],
   "source": [
    "eval_q_values, _ = agent._q_network(eval_data_x) \n",
    "train_q_values, _ = agent._q_network(train_data_x) \n"
   ]
  },
  {
   "cell_type": "code",
   "execution_count": 73,
   "id": "b2e2e9d7-ffe7-4068-ba42-72dc6981a3f6",
   "metadata": {},
   "outputs": [],
   "source": [
    "qval_df = pd.DataFrame(eval_q_values.numpy(), columns=['not_apply', 'apply'])"
   ]
  },
  {
   "cell_type": "code",
   "execution_count": 74,
   "id": "c651c2d6-5177-4888-acaf-c7896b937672",
   "metadata": {},
   "outputs": [
    {
     "data": {
      "text/html": [
       "<div>\n",
       "<style scoped>\n",
       "    .dataframe tbody tr th:only-of-type {\n",
       "        vertical-align: middle;\n",
       "    }\n",
       "\n",
       "    .dataframe tbody tr th {\n",
       "        vertical-align: top;\n",
       "    }\n",
       "\n",
       "    .dataframe thead th {\n",
       "        text-align: right;\n",
       "    }\n",
       "</style>\n",
       "<table border=\"1\" class=\"dataframe\">\n",
       "  <thead>\n",
       "    <tr style=\"text-align: right;\">\n",
       "      <th></th>\n",
       "      <th>not_apply</th>\n",
       "      <th>apply</th>\n",
       "      <th>total_qvals</th>\n",
       "      <th>apply_ratio</th>\n",
       "    </tr>\n",
       "  </thead>\n",
       "  <tbody>\n",
       "    <tr>\n",
       "      <th>0</th>\n",
       "      <td>0.202379</td>\n",
       "      <td>-0.278748</td>\n",
       "      <td>-0.076369</td>\n",
       "      <td>3.650031</td>\n",
       "    </tr>\n",
       "    <tr>\n",
       "      <th>1</th>\n",
       "      <td>0.157231</td>\n",
       "      <td>-0.133839</td>\n",
       "      <td>0.023391</td>\n",
       "      <td>-5.721756</td>\n",
       "    </tr>\n",
       "    <tr>\n",
       "      <th>2</th>\n",
       "      <td>0.255672</td>\n",
       "      <td>-0.208785</td>\n",
       "      <td>0.046888</td>\n",
       "      <td>-4.452875</td>\n",
       "    </tr>\n",
       "    <tr>\n",
       "      <th>3</th>\n",
       "      <td>0.175812</td>\n",
       "      <td>-0.166738</td>\n",
       "      <td>0.009074</td>\n",
       "      <td>-18.375126</td>\n",
       "    </tr>\n",
       "    <tr>\n",
       "      <th>4</th>\n",
       "      <td>-0.233968</td>\n",
       "      <td>0.212126</td>\n",
       "      <td>-0.021842</td>\n",
       "      <td>-9.712049</td>\n",
       "    </tr>\n",
       "  </tbody>\n",
       "</table>\n",
       "</div>"
      ],
      "text/plain": [
       "   not_apply     apply  total_qvals  apply_ratio\n",
       "0   0.202379 -0.278748    -0.076369     3.650031\n",
       "1   0.157231 -0.133839     0.023391    -5.721756\n",
       "2   0.255672 -0.208785     0.046888    -4.452875\n",
       "3   0.175812 -0.166738     0.009074   -18.375126\n",
       "4  -0.233968  0.212126    -0.021842    -9.712049"
      ]
     },
     "execution_count": 74,
     "metadata": {},
     "output_type": "execute_result"
    }
   ],
   "source": [
    "qval_df['total_qvals'] = qval_df['not_apply'] + qval_df['apply']\n",
    "qval_df['apply_ratio'] = qval_df['apply']/qval_df['total_qvals']\n",
    "qval_df.head()"
   ]
  },
  {
   "cell_type": "code",
   "execution_count": 75,
   "id": "3a5eade3-f3d3-41f2-9a3e-77454bfff8ce",
   "metadata": {},
   "outputs": [],
   "source": [
    "train_fpr, train_tpr, _ = roc_curve(train_data_y, train_q_values[:, 1])\n",
    "test_fpr, test_tpr, _ = roc_curve(eval_data_y, eval_q_values[:, 1])\n",
    "# test_fpr, test_tpr, _ = roc_curve(eval_data_y, qval_df['apply_ratio'])\n",
    "\n",
    "train_auc = roc_auc_score(y_train, train_q_values[:, 1])\n",
    "test_auc = roc_auc_score(y_test, eval_q_values[:, 1])\n"
   ]
  },
  {
   "cell_type": "code",
   "execution_count": 76,
   "id": "159f9475-3fd5-40d5-ad36-bd3cf52c7b78",
   "metadata": {},
   "outputs": [
    {
     "data": {
      "image/png": "[encoded data removed]",
      "text/plain": [
       "<Figure size 432x288 with 1 Axes>"
      ]
     },
     "metadata": {
      "needs_background": "light"
     },
     "output_type": "display_data"
    }
   ],
   "source": [
    "plt.figure()\n",
    "lw = 2\n",
    "plt.plot(train_fpr, train_tpr, color=\"b\",lw=lw, label=\"Train ROC curve (area = %0.4f)\" % train_auc)\n",
    "plt.plot(test_fpr, test_tpr, color=\"r\",lw=lw, label=\"Test ROC curve (area = %0.4f)\" % test_auc)\n",
    "plt.plot([0, 1], [0, 1], color=\"navy\", lw=lw, linestyle=\"--\")\n",
    "plt.xlim([0.0, 1.0])\n",
    "plt.ylim([0.0, 1.05])\n",
    "plt.xlabel(\"False Positive Rate\")\n",
    "plt.ylabel(\"True Positive Rate\")\n",
    "plt.title(\"Receiver operating characteristic example\")\n",
    "plt.legend(loc=\"lower right\")\n",
    "plt.show()\n"
   ]
  }
 ],
 "metadata": {
  "kernelspec": {
   "display_name": "virtualENV",
   "language": "python",
   "name": "virtualenv"
  },
  "language_info": {
   "codemirror_mode": {
    "name": "ipython",
    "version": 3
   },
   "file_extension": ".py",
   "mimetype": "text/x-python",
   "name": "python",
   "nbconvert_exporter": "python",
   "pygments_lexer": "ipython3",
   "version": "3.9.7"
  }
 },
 "nbformat": 4,
 "nbformat_minor": 5
}
