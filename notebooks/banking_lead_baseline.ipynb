{
 "cells": [
  {
   "cell_type": "markdown",
   "id": "1bed140f-83fc-4021-8b29-898c101e3177",
   "metadata": {},
   "source": [
    "# Baseline Model for Banking Lead Conversion Prediction"
   ]
  },
  {
   "cell_type": "code",
   "execution_count": 2,
   "id": "ae22f853-8512-409a-a14b-06b7e4a00572",
   "metadata": {},
   "outputs": [
    {
     "name": "stderr",
     "output_type": "stream",
     "text": [
      "/Users/sukhumarn/anaconda3/envs/mar_rl/lib/python3.10/site-packages/tqdm/auto.py:22: TqdmWarning: IProgress not found. Please update jupyter and ipywidgets. See https://ipywidgets.readthedocs.io/en/stable/user_install.html\n",
      "  from .autonotebook import tqdm as notebook_tqdm\n"
     ]
    }
   ],
   "source": [
    "import math\n",
    "import pandas as pd\n",
    "import numpy as np\n",
    "import matplotlib.pyplot as plt\n",
    "import seaborn as sns\n",
    "import optuna\n",
    "from dateutil.relativedelta import relativedelta\n",
    "from sklearn.model_selection import train_test_split, cross_validate\n",
    "from sklearn.pipeline import Pipeline\n",
    "from sklearn.compose import ColumnTransformer\n",
    "from sklearn.preprocessing import OneHotEncoder, StandardScaler, OrdinalEncoder\n",
    "from sklearn.impute import SimpleImputer\n",
    "from sklearn.ensemble import RandomForestClassifier\n",
    "from sklearn.metrics import classification_report, roc_curve, roc_auc_score, auc, confusion_matrix, fbeta_score"
   ]
  },
  {
   "cell_type": "markdown",
   "id": "7ac1d4d9-dc0a-415f-b790-2d925faf590e",
   "metadata": {},
   "source": [
    "## Read Data"
   ]
  },
  {
   "cell_type": "code",
   "execution_count": 3,
   "id": "6e105ac0-e641-40b1-a245-e44d8061f342",
   "metadata": {},
   "outputs": [
    {
     "name": "stdout",
     "output_type": "stream",
     "text": [
      "total data size is 69713\n"
     ]
    }
   ],
   "source": [
    "data_path = '../data/Banking | Marketing | Leads Conversion Data/train_loan/train.csv'\n",
    "df = pd.read_csv(data_path)\n",
    "print('total data size is', df.shape[0])"
   ]
  },
  {
   "cell_type": "markdown",
   "id": "d8f5f460-8082-47ee-a4f8-9ae54e18297f",
   "metadata": {},
   "source": [
    "## Feature Extraction"
   ]
  },
  {
   "cell_type": "code",
   "execution_count": 4,
   "id": "dc81300c-012f-4ccd-863c-54d5c554c995",
   "metadata": {},
   "outputs": [
    {
     "data": {
      "text/plain": [
       "0.6025275056302268"
      ]
     },
     "execution_count": 4,
     "metadata": {},
     "output_type": "execute_result"
    }
   ],
   "source": [
    "df['DOB'] = df['DOB'].apply(pd.to_datetime)\n",
    "df['Lead_Creation_Date'] = df['Lead_Creation_Date'].apply(pd.to_datetime)\n",
    "df['Age'] = (df['Lead_Creation_Date'] - df['DOB'])/ np.timedelta64(1, 'Y')\n",
    "df['Age'] = np.where(df['Age'] < 0, np.nan, df['Age'])\n",
    "df['Apply'] = np.where(df['Loan_Amount']>0, 1, 0)\n",
    "df['Apply'].mean()"
   ]
  },
  {
   "cell_type": "code",
   "execution_count": 5,
   "id": "3b339c79-6104-4922-82d0-2825ae608e53",
   "metadata": {},
   "outputs": [],
   "source": [
    "label_col = 'Apply'\n",
    "index_col = 'ID'\n",
    "date_col = 'Lead_Creation_Date'\n",
    "feat_cols = ['Gender', 'Age', 'City_Category', 'Employer_Category1', 'Employer_Category2', \n",
    "             'Monthly_Income', 'Primary_Bank_Type',\n",
    "             'Source_Category', 'Existing_EMI']"
   ]
  },
  {
   "cell_type": "markdown",
   "id": "7a6c10ed-3e91-42a2-8102-f8d0ce4cec51",
   "metadata": {},
   "source": [
    "df['lead_month']## Prep Data"
   ]
  },
  {
   "cell_type": "code",
   "execution_count": 6,
   "id": "bb6b3b6c-998d-41a3-8f11-dd63d2defdff",
   "metadata": {},
   "outputs": [
    {
     "data": {
      "text/plain": [
       "lead_month\n",
       "2016-01     1994\n",
       "2016-02     3200\n",
       "2016-03     2003\n",
       "2016-04     2298\n",
       "2016-05     2476\n",
       "2016-06     2220\n",
       "2016-07    15466\n",
       "2016-08    15919\n",
       "2016-09    18446\n",
       "2016-10     1616\n",
       "2016-11     1800\n",
       "2016-12     2275\n",
       "dtype: int64"
      ]
     },
     "execution_count": 6,
     "metadata": {},
     "output_type": "execute_result"
    }
   ],
   "source": [
    "df['lead_month'] = df['Lead_Creation_Date'].astype(str)\n",
    "df['lead_month'] = df['lead_month'].str[:7]\n",
    "df.groupby('lead_month').size()"
   ]
  },
  {
   "cell_type": "code",
   "execution_count": 27,
   "id": "b9af1b2d-5d9b-483e-a0fb-3d92829a9b7d",
   "metadata": {},
   "outputs": [
    {
     "name": "stdout",
     "output_type": "stream",
     "text": [
      "train size is 45576\n",
      "test size is 24137\n"
     ]
    }
   ],
   "source": [
    "test_cond = df['Lead_Creation_Date'] > '2016-09-01'\n",
    "train_df = df.loc[~test_cond, :]\n",
    "test_df = df.loc[test_cond, :].copy()\n",
    "print('train size is', train_df.shape[0])\n",
    "print('test size is', test_df.shape[0])"
   ]
  },
  {
   "cell_type": "code",
   "execution_count": 8,
   "id": "438991fd-b788-49ea-8fa9-b7fe994cd1d8",
   "metadata": {},
   "outputs": [
    {
     "name": "stdout",
     "output_type": "stream",
     "text": [
      "train size is 45576\n",
      "test size is 24137\n"
     ]
    }
   ],
   "source": [
    "X_train = train_df[feat_cols]\n",
    "y_train = train_df[label_col]\n",
    "X_test = test_df[feat_cols]\n",
    "y_test = test_df[label_col]\n",
    "print('train size is', X_train.shape[0])\n",
    "print('test size is', X_test.shape[0])"
   ]
  },
  {
   "cell_type": "code",
   "execution_count": 9,
   "id": "19931993-ed01-428a-8bbc-da0b1bf2f81a",
   "metadata": {},
   "outputs": [],
   "source": [
    "numer_feats = ['Age', 'Monthly_Income', 'Existing_EMI']\n",
    "numer_transformer = Pipeline(\n",
    "    steps=[(\"imputer\", SimpleImputer(strategy=\"mean\")), (\"scaler\", StandardScaler())]\n",
    ")\n",
    "\n",
    "cat_feats = ['Gender', 'City_Category', 'Employer_Category1', 'Employer_Category2', \n",
    "             'Primary_Bank_Type', 'Source_Category']\n",
    "cat_transformer = OneHotEncoder(handle_unknown='ignore')\n",
    "\n",
    "# binary_feats = ['Contacted']\n",
    "# binary_transformer = Pipeline(\n",
    "#     steps=[(\"imputer\", SimpleImputer(strategy=\"constant\", fill_value='No')), (\"ordinal\", OrdinalEncoder())]\n",
    "# )\n",
    "\n",
    "transformer = ColumnTransformer(\n",
    "    transformers=[\n",
    "        (\"num\", numer_transformer, numer_feats),\n",
    "        # (\"ordinal\", binary_transformer, binary_feats),\n",
    "        (\"cat\", cat_transformer, cat_feats)\n",
    "    ], sparse_threshold = 0\n",
    ")"
   ]
  },
  {
   "cell_type": "code",
   "execution_count": 10,
   "id": "5c55a0e0-4d7a-4f69-8e3d-c5b5fb5e8a45",
   "metadata": {},
   "outputs": [],
   "source": [
    "transformer.fit(X_train);"
   ]
  },
  {
   "cell_type": "code",
   "execution_count": 11,
   "id": "dacc2551-f77d-440b-96b8-44acb3f76307",
   "metadata": {},
   "outputs": [],
   "source": [
    "X_train_t = transformer.transform(X_train)\n",
    "X_test_t = transformer.transform(X_test)"
   ]
  },
  {
   "cell_type": "code",
   "execution_count": 12,
   "id": "38bfb26c-98be-444a-84dc-50356e090e29",
   "metadata": {},
   "outputs": [
    {
     "name": "stderr",
     "output_type": "stream",
     "text": [
      "/Users/sukhumarn/anaconda3/envs/mar_rl/lib/python3.10/site-packages/sklearn/utils/deprecation.py:87: FutureWarning: Function get_feature_names is deprecated; get_feature_names is deprecated in 1.0 and will be removed in 1.2. Please use get_feature_names_out instead.\n",
      "  warnings.warn(msg, category=FutureWarning)\n"
     ]
    }
   ],
   "source": [
    "transformers = transformer.get_params()['transformers']\n",
    "feature_names = []\n",
    "for name, _, features in transformers:\n",
    "    try:\n",
    "        Var = transformer.named_transformers_[name].get_feature_names().tolist()\n",
    "    except AttributeError:\n",
    "        Var = features\n",
    "    feature_names = feature_names + Var"
   ]
  },
  {
   "cell_type": "markdown",
   "id": "f863283a-c524-4bbe-8e19-a008d29441fb",
   "metadata": {},
   "source": [
    "## Model Training"
   ]
  },
  {
   "cell_type": "markdown",
   "id": "a51605c5-ca15-4b1b-b0d1-6d679fb918e3",
   "metadata": {},
   "source": [
    "### Parameter Tuning"
   ]
  },
  {
   "cell_type": "code",
   "execution_count": 14,
   "id": "4e8c9138-ad84-496a-b609-b247b9575fde",
   "metadata": {},
   "outputs": [],
   "source": [
    "def objective(trial, X, y):\n",
    "    params = {\n",
    "        'n_estimators': trial.suggest_int('n_estimators', 10, 500),\n",
    "        'max_depth': trial.suggest_int('max_depth', 2, 10),\n",
    "        'max_features': trial.suggest_categorical(\"max_features\", ['sqrt', 'log2']),\n",
    "        'min_samples_split': trial.suggest_uniform('min_samples_split', 1e-5, 0.5),\n",
    "        'min_samples_leaf': trial.suggest_uniform('min_samples_leaf', 1e-5, 0.5),\n",
    "        'class_weight': trial.suggest_categorical('class_weight', ['balanced', 'balanced_subsample']),\n",
    "    }\n",
    "    clf = RandomForestClassifier(**params, random_state=0)\n",
    "    score = cross_validate(clf, X, y, cv = 3, scoring = 'roc_auc', return_train_score=True)\n",
    "    train_score = np.mean(score['train_score'])\n",
    "    test_score = np.mean(score['test_score'])\n",
    "    return -(test_score - 0.25 * abs(train_score - test_score))\n",
    "    "
   ]
  },
  {
   "cell_type": "code",
   "execution_count": 15,
   "id": "1bcebb42-24e9-45a9-bce0-3a1003d1e421",
   "metadata": {},
   "outputs": [],
   "source": [
    "#optuna.delete_study(study_name='banking-lead', storage='sqlite:///../cc-tuning.db')"
   ]
  },
  {
   "cell_type": "code",
   "execution_count": 13,
   "id": "98987e78-8a89-496d-aadd-92fe9004b0e5",
   "metadata": {
    "scrolled": true,
    "tags": []
   },
   "outputs": [],
   "source": [
    "obj_func = lambda trial: objective(trial, X_train_t, y_train)\n",
    "train = False\n",
    "if train:\n",
    "    study = optuna.create_study(study_name='banking-lead', storage='sqlite:///cc-tuning.db', load_if_exists=True)\n",
    "    study.optimize(obj_func, n_trials=50)\n",
    "else:\n",
    "    study = optuna.load_study(study_name='banking-lead', storage='sqlite:///cc-tuning.db')"
   ]
  },
  {
   "cell_type": "markdown",
   "id": "270a497e-06a0-4e90-97a6-b8ef2c81fe98",
   "metadata": {},
   "source": [
    "## Model Evaluation"
   ]
  },
  {
   "cell_type": "code",
   "execution_count": 14,
   "id": "9f5d6ea6-14b5-41c2-866b-7fede59a181a",
   "metadata": {},
   "outputs": [],
   "source": [
    "pipeline = Pipeline([('transformer', transformer), ('rf', RandomForestClassifier(**study.best_params))])"
   ]
  },
  {
   "cell_type": "code",
   "execution_count": 15,
   "id": "a36d3ca7-442a-44ff-aabc-f986fbbf95ca",
   "metadata": {},
   "outputs": [
    {
     "data": {
      "text/html": [
       "<style>#sk-container-id-1 {color: black;background-color: white;}#sk-container-id-1 pre{padding: 0;}#sk-container-id-1 div.sk-toggleable {background-color: white;}#sk-container-id-1 label.sk-toggleable__label {cursor: pointer;display: block;width: 100%;margin-bottom: 0;padding: 0.3em;box-sizing: border-box;text-align: center;}#sk-container-id-1 label.sk-toggleable__label-arrow:before {content: \"▸\";float: left;margin-right: 0.25em;color: #696969;}#sk-container-id-1 label.sk-toggleable__label-arrow:hover:before {color: black;}#sk-container-id-1 div.sk-estimator:hover label.sk-toggleable__label-arrow:before {color: black;}#sk-container-id-1 div.sk-toggleable__content {max-height: 0;max-width: 0;overflow: hidden;text-align: left;background-color: #f0f8ff;}#sk-container-id-1 div.sk-toggleable__content pre {margin: 0.2em;color: black;border-radius: 0.25em;background-color: #f0f8ff;}#sk-container-id-1 input.sk-toggleable__control:checked~div.sk-toggleable__content {max-height: 200px;max-width: 100%;overflow: auto;}#sk-container-id-1 input.sk-toggleable__control:checked~label.sk-toggleable__label-arrow:before {content: \"▾\";}#sk-container-id-1 div.sk-estimator input.sk-toggleable__control:checked~label.sk-toggleable__label {background-color: #d4ebff;}#sk-container-id-1 div.sk-label input.sk-toggleable__control:checked~label.sk-toggleable__label {background-color: #d4ebff;}#sk-container-id-1 input.sk-hidden--visually {border: 0;clip: rect(1px 1px 1px 1px);clip: rect(1px, 1px, 1px, 1px);height: 1px;margin: -1px;overflow: hidden;padding: 0;position: absolute;width: 1px;}#sk-container-id-1 div.sk-estimator {font-family: monospace;background-color: #f0f8ff;border: 1px dotted black;border-radius: 0.25em;box-sizing: border-box;margin-bottom: 0.5em;}#sk-container-id-1 div.sk-estimator:hover {background-color: #d4ebff;}#sk-container-id-1 div.sk-parallel-item::after {content: \"\";width: 100%;border-bottom: 1px solid gray;flex-grow: 1;}#sk-container-id-1 div.sk-label:hover label.sk-toggleable__label {background-color: #d4ebff;}#sk-container-id-1 div.sk-serial::before {content: \"\";position: absolute;border-left: 1px solid gray;box-sizing: border-box;top: 0;bottom: 0;left: 50%;z-index: 0;}#sk-container-id-1 div.sk-serial {display: flex;flex-direction: column;align-items: center;background-color: white;padding-right: 0.2em;padding-left: 0.2em;position: relative;}#sk-container-id-1 div.sk-item {position: relative;z-index: 1;}#sk-container-id-1 div.sk-parallel {display: flex;align-items: stretch;justify-content: center;background-color: white;position: relative;}#sk-container-id-1 div.sk-item::before, #sk-container-id-1 div.sk-parallel-item::before {content: \"\";position: absolute;border-left: 1px solid gray;box-sizing: border-box;top: 0;bottom: 0;left: 50%;z-index: -1;}#sk-container-id-1 div.sk-parallel-item {display: flex;flex-direction: column;z-index: 1;position: relative;background-color: white;}#sk-container-id-1 div.sk-parallel-item:first-child::after {align-self: flex-end;width: 50%;}#sk-container-id-1 div.sk-parallel-item:last-child::after {align-self: flex-start;width: 50%;}#sk-container-id-1 div.sk-parallel-item:only-child::after {width: 0;}#sk-container-id-1 div.sk-dashed-wrapped {border: 1px dashed gray;margin: 0 0.4em 0.5em 0.4em;box-sizing: border-box;padding-bottom: 0.4em;background-color: white;}#sk-container-id-1 div.sk-label label {font-family: monospace;font-weight: bold;display: inline-block;line-height: 1.2em;}#sk-container-id-1 div.sk-label-container {text-align: center;}#sk-container-id-1 div.sk-container {/* jupyter's `normalize.less` sets `[hidden] { display: none; }` but bootstrap.min.css set `[hidden] { display: none !important; }` so we also need the `!important` here to be able to override the default hidden behavior on the sphinx rendered scikit-learn.org. See: https://github.com/scikit-learn/scikit-learn/issues/21755 */display: inline-block !important;position: relative;}#sk-container-id-1 div.sk-text-repr-fallback {display: none;}</style><div id=\"sk-container-id-1\" class=\"sk-top-container\"><div class=\"sk-text-repr-fallback\"><pre>Pipeline(steps=[(&#x27;transformer&#x27;,\n",
       "                 ColumnTransformer(sparse_threshold=0,\n",
       "                                   transformers=[(&#x27;num&#x27;,\n",
       "                                                  Pipeline(steps=[(&#x27;imputer&#x27;,\n",
       "                                                                   SimpleImputer()),\n",
       "                                                                  (&#x27;scaler&#x27;,\n",
       "                                                                   StandardScaler())]),\n",
       "                                                  [&#x27;Age&#x27;, &#x27;Monthly_Income&#x27;,\n",
       "                                                   &#x27;Existing_EMI&#x27;]),\n",
       "                                                 (&#x27;cat&#x27;,\n",
       "                                                  OneHotEncoder(handle_unknown=&#x27;ignore&#x27;),\n",
       "                                                  [&#x27;Gender&#x27;, &#x27;City_Category&#x27;,\n",
       "                                                   &#x27;Employer_Category1&#x27;,\n",
       "                                                   &#x27;Employer_Category2&#x27;,\n",
       "                                                   &#x27;Primary_Bank_Type&#x27;,\n",
       "                                                   &#x27;Source_Category&#x27;])])),\n",
       "                (&#x27;rf&#x27;,\n",
       "                 RandomForestClassifier(class_weight=&#x27;balanced&#x27;, max_depth=10,\n",
       "                                        max_features=&#x27;log2&#x27;,\n",
       "                                        min_samples_leaf=2.6576714888898456e-05,\n",
       "                                        min_samples_split=0.00031176148168907125,\n",
       "                                        n_estimators=332))])</pre><b>In a Jupyter environment, please rerun this cell to show the HTML representation or trust the notebook. <br />On GitHub, the HTML representation is unable to render, please try loading this page with nbviewer.org.</b></div><div class=\"sk-container\" hidden><div class=\"sk-item sk-dashed-wrapped\"><div class=\"sk-label-container\"><div class=\"sk-label sk-toggleable\"><input class=\"sk-toggleable__control sk-hidden--visually\" id=\"sk-estimator-id-1\" type=\"checkbox\" ><label for=\"sk-estimator-id-1\" class=\"sk-toggleable__label sk-toggleable__label-arrow\">Pipeline</label><div class=\"sk-toggleable__content\"><pre>Pipeline(steps=[(&#x27;transformer&#x27;,\n",
       "                 ColumnTransformer(sparse_threshold=0,\n",
       "                                   transformers=[(&#x27;num&#x27;,\n",
       "                                                  Pipeline(steps=[(&#x27;imputer&#x27;,\n",
       "                                                                   SimpleImputer()),\n",
       "                                                                  (&#x27;scaler&#x27;,\n",
       "                                                                   StandardScaler())]),\n",
       "                                                  [&#x27;Age&#x27;, &#x27;Monthly_Income&#x27;,\n",
       "                                                   &#x27;Existing_EMI&#x27;]),\n",
       "                                                 (&#x27;cat&#x27;,\n",
       "                                                  OneHotEncoder(handle_unknown=&#x27;ignore&#x27;),\n",
       "                                                  [&#x27;Gender&#x27;, &#x27;City_Category&#x27;,\n",
       "                                                   &#x27;Employer_Category1&#x27;,\n",
       "                                                   &#x27;Employer_Category2&#x27;,\n",
       "                                                   &#x27;Primary_Bank_Type&#x27;,\n",
       "                                                   &#x27;Source_Category&#x27;])])),\n",
       "                (&#x27;rf&#x27;,\n",
       "                 RandomForestClassifier(class_weight=&#x27;balanced&#x27;, max_depth=10,\n",
       "                                        max_features=&#x27;log2&#x27;,\n",
       "                                        min_samples_leaf=2.6576714888898456e-05,\n",
       "                                        min_samples_split=0.00031176148168907125,\n",
       "                                        n_estimators=332))])</pre></div></div></div><div class=\"sk-serial\"><div class=\"sk-item sk-dashed-wrapped\"><div class=\"sk-label-container\"><div class=\"sk-label sk-toggleable\"><input class=\"sk-toggleable__control sk-hidden--visually\" id=\"sk-estimator-id-2\" type=\"checkbox\" ><label for=\"sk-estimator-id-2\" class=\"sk-toggleable__label sk-toggleable__label-arrow\">transformer: ColumnTransformer</label><div class=\"sk-toggleable__content\"><pre>ColumnTransformer(sparse_threshold=0,\n",
       "                  transformers=[(&#x27;num&#x27;,\n",
       "                                 Pipeline(steps=[(&#x27;imputer&#x27;, SimpleImputer()),\n",
       "                                                 (&#x27;scaler&#x27;, StandardScaler())]),\n",
       "                                 [&#x27;Age&#x27;, &#x27;Monthly_Income&#x27;, &#x27;Existing_EMI&#x27;]),\n",
       "                                (&#x27;cat&#x27;, OneHotEncoder(handle_unknown=&#x27;ignore&#x27;),\n",
       "                                 [&#x27;Gender&#x27;, &#x27;City_Category&#x27;,\n",
       "                                  &#x27;Employer_Category1&#x27;, &#x27;Employer_Category2&#x27;,\n",
       "                                  &#x27;Primary_Bank_Type&#x27;, &#x27;Source_Category&#x27;])])</pre></div></div></div><div class=\"sk-parallel\"><div class=\"sk-parallel-item\"><div class=\"sk-item\"><div class=\"sk-label-container\"><div class=\"sk-label sk-toggleable\"><input class=\"sk-toggleable__control sk-hidden--visually\" id=\"sk-estimator-id-3\" type=\"checkbox\" ><label for=\"sk-estimator-id-3\" class=\"sk-toggleable__label sk-toggleable__label-arrow\">num</label><div class=\"sk-toggleable__content\"><pre>[&#x27;Age&#x27;, &#x27;Monthly_Income&#x27;, &#x27;Existing_EMI&#x27;]</pre></div></div></div><div class=\"sk-serial\"><div class=\"sk-item\"><div class=\"sk-serial\"><div class=\"sk-item\"><div class=\"sk-estimator sk-toggleable\"><input class=\"sk-toggleable__control sk-hidden--visually\" id=\"sk-estimator-id-4\" type=\"checkbox\" ><label for=\"sk-estimator-id-4\" class=\"sk-toggleable__label sk-toggleable__label-arrow\">SimpleImputer</label><div class=\"sk-toggleable__content\"><pre>SimpleImputer()</pre></div></div></div><div class=\"sk-item\"><div class=\"sk-estimator sk-toggleable\"><input class=\"sk-toggleable__control sk-hidden--visually\" id=\"sk-estimator-id-5\" type=\"checkbox\" ><label for=\"sk-estimator-id-5\" class=\"sk-toggleable__label sk-toggleable__label-arrow\">StandardScaler</label><div class=\"sk-toggleable__content\"><pre>StandardScaler()</pre></div></div></div></div></div></div></div></div><div class=\"sk-parallel-item\"><div class=\"sk-item\"><div class=\"sk-label-container\"><div class=\"sk-label sk-toggleable\"><input class=\"sk-toggleable__control sk-hidden--visually\" id=\"sk-estimator-id-6\" type=\"checkbox\" ><label for=\"sk-estimator-id-6\" class=\"sk-toggleable__label sk-toggleable__label-arrow\">cat</label><div class=\"sk-toggleable__content\"><pre>[&#x27;Gender&#x27;, &#x27;City_Category&#x27;, &#x27;Employer_Category1&#x27;, &#x27;Employer_Category2&#x27;, &#x27;Primary_Bank_Type&#x27;, &#x27;Source_Category&#x27;]</pre></div></div></div><div class=\"sk-serial\"><div class=\"sk-item\"><div class=\"sk-estimator sk-toggleable\"><input class=\"sk-toggleable__control sk-hidden--visually\" id=\"sk-estimator-id-7\" type=\"checkbox\" ><label for=\"sk-estimator-id-7\" class=\"sk-toggleable__label sk-toggleable__label-arrow\">OneHotEncoder</label><div class=\"sk-toggleable__content\"><pre>OneHotEncoder(handle_unknown=&#x27;ignore&#x27;)</pre></div></div></div></div></div></div></div></div><div class=\"sk-item\"><div class=\"sk-estimator sk-toggleable\"><input class=\"sk-toggleable__control sk-hidden--visually\" id=\"sk-estimator-id-8\" type=\"checkbox\" ><label for=\"sk-estimator-id-8\" class=\"sk-toggleable__label sk-toggleable__label-arrow\">RandomForestClassifier</label><div class=\"sk-toggleable__content\"><pre>RandomForestClassifier(class_weight=&#x27;balanced&#x27;, max_depth=10,\n",
       "                       max_features=&#x27;log2&#x27;,\n",
       "                       min_samples_leaf=2.6576714888898456e-05,\n",
       "                       min_samples_split=0.00031176148168907125,\n",
       "                       n_estimators=332)</pre></div></div></div></div></div></div></div>"
      ],
      "text/plain": [
       "Pipeline(steps=[('transformer',\n",
       "                 ColumnTransformer(sparse_threshold=0,\n",
       "                                   transformers=[('num',\n",
       "                                                  Pipeline(steps=[('imputer',\n",
       "                                                                   SimpleImputer()),\n",
       "                                                                  ('scaler',\n",
       "                                                                   StandardScaler())]),\n",
       "                                                  ['Age', 'Monthly_Income',\n",
       "                                                   'Existing_EMI']),\n",
       "                                                 ('cat',\n",
       "                                                  OneHotEncoder(handle_unknown='ignore'),\n",
       "                                                  ['Gender', 'City_Category',\n",
       "                                                   'Employer_Category1',\n",
       "                                                   'Employer_Category2',\n",
       "                                                   'Primary_Bank_Type',\n",
       "                                                   'Source_Category'])])),\n",
       "                ('rf',\n",
       "                 RandomForestClassifier(class_weight='balanced', max_depth=10,\n",
       "                                        max_features='log2',\n",
       "                                        min_samples_leaf=2.6576714888898456e-05,\n",
       "                                        min_samples_split=0.00031176148168907125,\n",
       "                                        n_estimators=332))])"
      ]
     },
     "execution_count": 15,
     "metadata": {},
     "output_type": "execute_result"
    }
   ],
   "source": [
    "# clf = RandomForestClassifier(**study.best_params)\n",
    "# clf.fit(X_train_t, y_train)\n",
    "pipeline.fit(train_df[feat_cols], y_train)"
   ]
  },
  {
   "cell_type": "code",
   "execution_count": 16,
   "id": "28ec16d3-69c6-440b-a0b3-8bb0c1ca07ab",
   "metadata": {},
   "outputs": [],
   "source": [
    "# y_train_score = clf.predict_proba(X_train_t)\n",
    "# y_test_score = clf.predict_proba(X_test_t)\n",
    "y_train_score = pipeline.predict_proba(train_df[feat_cols])\n",
    "y_test_score = pipeline.predict_proba(test_df[feat_cols])\n",
    "y_train_pred = np.where(y_train_score[:, 1] > 0.5, 1, 0)\n",
    "y_test_pred = np.where(y_test_score[:, 1] > 0.5, 1, 0)"
   ]
  },
  {
   "cell_type": "code",
   "execution_count": 17,
   "id": "d94d9068-6405-47ba-9636-7d00232bf3cf",
   "metadata": {},
   "outputs": [
    {
     "name": "stdout",
     "output_type": "stream",
     "text": [
      "train classification report\n",
      "              precision    recall  f1-score   support\n",
      "\n",
      "           0       0.87      0.99      0.93     17561\n",
      "           1       1.00      0.90      0.95     28015\n",
      "\n",
      "    accuracy                           0.94     45576\n",
      "   macro avg       0.93      0.95      0.94     45576\n",
      "weighted avg       0.95      0.94      0.94     45576\n",
      "\n",
      "test classification report\n",
      "              precision    recall  f1-score   support\n",
      "\n",
      "           0       0.85      0.99      0.91     10148\n",
      "           1       0.99      0.87      0.93     13989\n",
      "\n",
      "    accuracy                           0.92     24137\n",
      "   macro avg       0.92      0.93      0.92     24137\n",
      "weighted avg       0.93      0.92      0.92     24137\n",
      "\n"
     ]
    }
   ],
   "source": [
    "print(\"train classification report\")\n",
    "print(classification_report(y_train, y_train_pred))\n",
    "print(\"test classification report\")\n",
    "print(classification_report(y_test, y_test_pred))"
   ]
  },
  {
   "cell_type": "markdown",
   "id": "0391e420-42a1-4dd3-9092-395336322d72",
   "metadata": {},
   "source": [
    "### ROCAUC"
   ]
  },
  {
   "cell_type": "code",
   "execution_count": 18,
   "id": "9983d0d0-5018-45e3-8965-8c235274eecd",
   "metadata": {},
   "outputs": [],
   "source": [
    "train_fpr, train_tpr, _ = roc_curve(y_train, y_train_score[:, 1])\n",
    "test_fpr, test_tpr, _ = roc_curve(y_test, y_test_score[:, 1])\n",
    "\n",
    "train_auc = roc_auc_score(y_train, y_train_score[:, 1])\n",
    "test_auc = roc_auc_score(y_test, y_test_score[:, 1])"
   ]
  },
  {
   "cell_type": "code",
   "execution_count": 19,
   "id": "3d9eea57-da51-409a-9f1e-621526e848a9",
   "metadata": {},
   "outputs": [
    {
     "data": {
      "image/png": "[encoded data removed]",
      "text/plain": [
       "<Figure size 432x288 with 1 Axes>"
      ]
     },
     "metadata": {
      "needs_background": "light"
     },
     "output_type": "display_data"
    }
   ],
   "source": [
    "plt.figure()\n",
    "lw = 2\n",
    "plt.plot(train_fpr, train_tpr, color=\"b\",lw=lw, label=\"Train ROC curve (area = %0.4f)\" % train_auc)\n",
    "plt.plot(test_fpr, test_tpr, color=\"r\",lw=lw, label=\"Test ROC curve (area = %0.4f)\" % test_auc)\n",
    "plt.plot([0, 1], [0, 1], color=\"navy\", lw=lw, linestyle=\"--\")\n",
    "plt.xlim([0.0, 1.0])\n",
    "plt.ylim([0.0, 1.05])\n",
    "plt.xlabel(\"False Positive Rate\")\n",
    "plt.ylabel(\"True Positive Rate\")\n",
    "plt.title(\"Receiver operating characteristic example\")\n",
    "plt.legend(loc=\"lower right\")\n",
    "plt.show()"
   ]
  },
  {
   "cell_type": "code",
   "execution_count": 20,
   "id": "ef32ae78-16c0-4992-9cea-528320daf020",
   "metadata": {},
   "outputs": [],
   "source": [
    "def threshold_analysis(result, label_col, proba_col, tops=None):\n",
    "    if tops is None:\n",
    "        tops = [1]\n",
    "        tops.extend(np.arange(2, 6, 1))\n",
    "        tops.extend(np.arange(10, 105, 5))\n",
    "        tops = [t/100 for t in tops]\n",
    "\n",
    "    threshold_opt = pd.DataFrame()\n",
    "\n",
    "    for top in tops:\n",
    "        percentile = 1-top\n",
    "        threshold = result[proba_col].astype(float).quantile(percentile)\n",
    "\n",
    "        tn, fp, fn, tp = confusion_matrix(result[label_col], result[proba_col] > threshold).ravel()\n",
    "\n",
    "        precision = tp/(tp+fp)\n",
    "        recall = tp/(tp+fn)\n",
    "\n",
    "        f1 = fbeta_score(result[label_col], result[proba_col] > threshold, beta=1)\n",
    "        f2 = fbeta_score(result[label_col], result[proba_col] > threshold, beta=2)\n",
    "\n",
    "        top_idx = top*100\n",
    "        threshold_opt.loc[top_idx, 'threshold'] = threshold\n",
    "        threshold_opt.loc[top_idx, 'lead_size'] = (result[proba_col] > threshold).sum()\n",
    "        threshold_opt.loc[top_idx, 'true_positive'] = tp\n",
    "        threshold_opt.loc[top_idx, 'false_positive'] = fp\n",
    "        threshold_opt.loc[top_idx, 'true_negative'] = tn\n",
    "        threshold_opt.loc[top_idx, 'false_negative'] = fn\n",
    "        threshold_opt.loc[top_idx, 'precision'] = precision\n",
    "        threshold_opt.loc[top_idx, 'recall'] = recall\n",
    "        threshold_opt.loc[top_idx, 'f1'] = f1\n",
    "        threshold_opt.loc[top_idx, 'f2'] = f2\n",
    "\n",
    "        threshold_opt.index.name = 'top'\n",
    "\n",
    "        cols = ['lead_size', 'true_positive', 'false_positive', 'true_negative', 'false_negative']\n",
    "        threshold_opt[cols] = threshold_opt[cols].astype(int)\n",
    "    threshold_opt.reset_index(inplace=True)\n",
    "\n",
    "    return threshold_opt"
   ]
  },
  {
   "cell_type": "code",
   "execution_count": 21,
   "id": "33bbf3d7-4f91-4bd5-8c57-12eca6cf8315",
   "metadata": {},
   "outputs": [
    {
     "data": {
      "text/html": [
       "<div>\n",
       "<style scoped>\n",
       "    .dataframe tbody tr th:only-of-type {\n",
       "        vertical-align: middle;\n",
       "    }\n",
       "\n",
       "    .dataframe tbody tr th {\n",
       "        vertical-align: top;\n",
       "    }\n",
       "\n",
       "    .dataframe thead th {\n",
       "        text-align: right;\n",
       "    }\n",
       "</style>\n",
       "<table border=\"1\" class=\"dataframe\">\n",
       "  <thead>\n",
       "    <tr style=\"text-align: right;\">\n",
       "      <th></th>\n",
       "      <th>top</th>\n",
       "      <th>threshold</th>\n",
       "      <th>lead_size</th>\n",
       "      <th>true_positive</th>\n",
       "      <th>false_positive</th>\n",
       "      <th>true_negative</th>\n",
       "      <th>false_negative</th>\n",
       "      <th>precision</th>\n",
       "      <th>recall</th>\n",
       "      <th>f1</th>\n",
       "      <th>f2</th>\n",
       "    </tr>\n",
       "  </thead>\n",
       "  <tbody>\n",
       "    <tr>\n",
       "      <th>0</th>\n",
       "      <td>1.0</td>\n",
       "      <td>0.997469</td>\n",
       "      <td>241</td>\n",
       "      <td>241</td>\n",
       "      <td>0</td>\n",
       "      <td>10148</td>\n",
       "      <td>13748</td>\n",
       "      <td>1.000000</td>\n",
       "      <td>0.017228</td>\n",
       "      <td>0.033872</td>\n",
       "      <td>0.021442</td>\n",
       "    </tr>\n",
       "    <tr>\n",
       "      <th>1</th>\n",
       "      <td>2.0</td>\n",
       "      <td>0.996596</td>\n",
       "      <td>483</td>\n",
       "      <td>483</td>\n",
       "      <td>0</td>\n",
       "      <td>10148</td>\n",
       "      <td>13506</td>\n",
       "      <td>1.000000</td>\n",
       "      <td>0.034527</td>\n",
       "      <td>0.066750</td>\n",
       "      <td>0.042790</td>\n",
       "    </tr>\n",
       "    <tr>\n",
       "      <th>2</th>\n",
       "      <td>3.0</td>\n",
       "      <td>0.994297</td>\n",
       "      <td>725</td>\n",
       "      <td>725</td>\n",
       "      <td>0</td>\n",
       "      <td>10148</td>\n",
       "      <td>13264</td>\n",
       "      <td>1.000000</td>\n",
       "      <td>0.051826</td>\n",
       "      <td>0.098546</td>\n",
       "      <td>0.063954</td>\n",
       "    </tr>\n",
       "    <tr>\n",
       "      <th>3</th>\n",
       "      <td>4.0</td>\n",
       "      <td>0.991832</td>\n",
       "      <td>966</td>\n",
       "      <td>966</td>\n",
       "      <td>0</td>\n",
       "      <td>10148</td>\n",
       "      <td>13023</td>\n",
       "      <td>1.000000</td>\n",
       "      <td>0.069054</td>\n",
       "      <td>0.129188</td>\n",
       "      <td>0.084853</td>\n",
       "    </tr>\n",
       "    <tr>\n",
       "      <th>4</th>\n",
       "      <td>5.0</td>\n",
       "      <td>0.990671</td>\n",
       "      <td>1207</td>\n",
       "      <td>1207</td>\n",
       "      <td>0</td>\n",
       "      <td>10148</td>\n",
       "      <td>12782</td>\n",
       "      <td>1.000000</td>\n",
       "      <td>0.086282</td>\n",
       "      <td>0.158858</td>\n",
       "      <td>0.105575</td>\n",
       "    </tr>\n",
       "    <tr>\n",
       "      <th>5</th>\n",
       "      <td>10.0</td>\n",
       "      <td>0.988207</td>\n",
       "      <td>2410</td>\n",
       "      <td>2410</td>\n",
       "      <td>0</td>\n",
       "      <td>10148</td>\n",
       "      <td>11579</td>\n",
       "      <td>1.000000</td>\n",
       "      <td>0.172278</td>\n",
       "      <td>0.293920</td>\n",
       "      <td>0.206456</td>\n",
       "    </tr>\n",
       "    <tr>\n",
       "      <th>6</th>\n",
       "      <td>15.0</td>\n",
       "      <td>0.986599</td>\n",
       "      <td>3621</td>\n",
       "      <td>3621</td>\n",
       "      <td>0</td>\n",
       "      <td>10148</td>\n",
       "      <td>10368</td>\n",
       "      <td>1.000000</td>\n",
       "      <td>0.258846</td>\n",
       "      <td>0.411244</td>\n",
       "      <td>0.303892</td>\n",
       "    </tr>\n",
       "    <tr>\n",
       "      <th>7</th>\n",
       "      <td>20.0</td>\n",
       "      <td>0.984684</td>\n",
       "      <td>4828</td>\n",
       "      <td>4828</td>\n",
       "      <td>0</td>\n",
       "      <td>10148</td>\n",
       "      <td>9161</td>\n",
       "      <td>1.000000</td>\n",
       "      <td>0.345128</td>\n",
       "      <td>0.513153</td>\n",
       "      <td>0.397144</td>\n",
       "    </tr>\n",
       "    <tr>\n",
       "      <th>8</th>\n",
       "      <td>25.0</td>\n",
       "      <td>0.983061</td>\n",
       "      <td>6034</td>\n",
       "      <td>6034</td>\n",
       "      <td>0</td>\n",
       "      <td>10148</td>\n",
       "      <td>7955</td>\n",
       "      <td>1.000000</td>\n",
       "      <td>0.431339</td>\n",
       "      <td>0.602707</td>\n",
       "      <td>0.486691</td>\n",
       "    </tr>\n",
       "    <tr>\n",
       "      <th>9</th>\n",
       "      <td>30.0</td>\n",
       "      <td>0.980832</td>\n",
       "      <td>7241</td>\n",
       "      <td>7241</td>\n",
       "      <td>0</td>\n",
       "      <td>10148</td>\n",
       "      <td>6748</td>\n",
       "      <td>1.000000</td>\n",
       "      <td>0.517621</td>\n",
       "      <td>0.682148</td>\n",
       "      <td>0.572891</td>\n",
       "    </tr>\n",
       "    <tr>\n",
       "      <th>10</th>\n",
       "      <td>35.0</td>\n",
       "      <td>0.977780</td>\n",
       "      <td>8448</td>\n",
       "      <td>8448</td>\n",
       "      <td>0</td>\n",
       "      <td>10148</td>\n",
       "      <td>5541</td>\n",
       "      <td>1.000000</td>\n",
       "      <td>0.603903</td>\n",
       "      <td>0.753042</td>\n",
       "      <td>0.655860</td>\n",
       "    </tr>\n",
       "    <tr>\n",
       "      <th>11</th>\n",
       "      <td>40.0</td>\n",
       "      <td>0.973934</td>\n",
       "      <td>9650</td>\n",
       "      <td>9650</td>\n",
       "      <td>0</td>\n",
       "      <td>10148</td>\n",
       "      <td>4339</td>\n",
       "      <td>1.000000</td>\n",
       "      <td>0.689828</td>\n",
       "      <td>0.816447</td>\n",
       "      <td>0.735451</td>\n",
       "    </tr>\n",
       "    <tr>\n",
       "      <th>12</th>\n",
       "      <td>45.0</td>\n",
       "      <td>0.966562</td>\n",
       "      <td>10862</td>\n",
       "      <td>10862</td>\n",
       "      <td>0</td>\n",
       "      <td>10148</td>\n",
       "      <td>3127</td>\n",
       "      <td>1.000000</td>\n",
       "      <td>0.776467</td>\n",
       "      <td>0.874170</td>\n",
       "      <td>0.812805</td>\n",
       "    </tr>\n",
       "    <tr>\n",
       "      <th>13</th>\n",
       "      <td>50.0</td>\n",
       "      <td>0.723445</td>\n",
       "      <td>12068</td>\n",
       "      <td>11998</td>\n",
       "      <td>70</td>\n",
       "      <td>10078</td>\n",
       "      <td>1991</td>\n",
       "      <td>0.994200</td>\n",
       "      <td>0.857674</td>\n",
       "      <td>0.920904</td>\n",
       "      <td>0.881895</td>\n",
       "    </tr>\n",
       "    <tr>\n",
       "      <th>14</th>\n",
       "      <td>55.0</td>\n",
       "      <td>0.278447</td>\n",
       "      <td>13274</td>\n",
       "      <td>12754</td>\n",
       "      <td>520</td>\n",
       "      <td>9628</td>\n",
       "      <td>1235</td>\n",
       "      <td>0.960826</td>\n",
       "      <td>0.911716</td>\n",
       "      <td>0.935627</td>\n",
       "      <td>0.921132</td>\n",
       "    </tr>\n",
       "    <tr>\n",
       "      <th>15</th>\n",
       "      <td>60.0</td>\n",
       "      <td>0.224643</td>\n",
       "      <td>14482</td>\n",
       "      <td>13215</td>\n",
       "      <td>1267</td>\n",
       "      <td>8881</td>\n",
       "      <td>774</td>\n",
       "      <td>0.912512</td>\n",
       "      <td>0.944671</td>\n",
       "      <td>0.928313</td>\n",
       "      <td>0.938059</td>\n",
       "    </tr>\n",
       "    <tr>\n",
       "      <th>16</th>\n",
       "      <td>65.0</td>\n",
       "      <td>0.150565</td>\n",
       "      <td>15689</td>\n",
       "      <td>13506</td>\n",
       "      <td>2183</td>\n",
       "      <td>7965</td>\n",
       "      <td>483</td>\n",
       "      <td>0.860858</td>\n",
       "      <td>0.965473</td>\n",
       "      <td>0.910169</td>\n",
       "      <td>0.942564</td>\n",
       "    </tr>\n",
       "    <tr>\n",
       "      <th>17</th>\n",
       "      <td>70.0</td>\n",
       "      <td>0.114550</td>\n",
       "      <td>16896</td>\n",
       "      <td>13623</td>\n",
       "      <td>3273</td>\n",
       "      <td>6875</td>\n",
       "      <td>366</td>\n",
       "      <td>0.806286</td>\n",
       "      <td>0.973837</td>\n",
       "      <td>0.882176</td>\n",
       "      <td>0.934978</td>\n",
       "    </tr>\n",
       "    <tr>\n",
       "      <th>18</th>\n",
       "      <td>75.0</td>\n",
       "      <td>0.093122</td>\n",
       "      <td>18102</td>\n",
       "      <td>13699</td>\n",
       "      <td>4403</td>\n",
       "      <td>5745</td>\n",
       "      <td>290</td>\n",
       "      <td>0.756767</td>\n",
       "      <td>0.979269</td>\n",
       "      <td>0.853760</td>\n",
       "      <td>0.924883</td>\n",
       "    </tr>\n",
       "    <tr>\n",
       "      <th>19</th>\n",
       "      <td>80.0</td>\n",
       "      <td>0.073749</td>\n",
       "      <td>19309</td>\n",
       "      <td>13834</td>\n",
       "      <td>5475</td>\n",
       "      <td>4673</td>\n",
       "      <td>155</td>\n",
       "      <td>0.716453</td>\n",
       "      <td>0.988920</td>\n",
       "      <td>0.830921</td>\n",
       "      <td>0.919019</td>\n",
       "    </tr>\n",
       "    <tr>\n",
       "      <th>20</th>\n",
       "      <td>85.0</td>\n",
       "      <td>0.055715</td>\n",
       "      <td>20516</td>\n",
       "      <td>13923</td>\n",
       "      <td>6593</td>\n",
       "      <td>3555</td>\n",
       "      <td>66</td>\n",
       "      <td>0.678641</td>\n",
       "      <td>0.995282</td>\n",
       "      <td>0.807013</td>\n",
       "      <td>0.910333</td>\n",
       "    </tr>\n",
       "    <tr>\n",
       "      <th>21</th>\n",
       "      <td>90.0</td>\n",
       "      <td>0.039699</td>\n",
       "      <td>21723</td>\n",
       "      <td>13960</td>\n",
       "      <td>7763</td>\n",
       "      <td>2385</td>\n",
       "      <td>29</td>\n",
       "      <td>0.642637</td>\n",
       "      <td>0.997927</td>\n",
       "      <td>0.781810</td>\n",
       "      <td>0.898570</td>\n",
       "    </tr>\n",
       "    <tr>\n",
       "      <th>22</th>\n",
       "      <td>95.0</td>\n",
       "      <td>0.021314</td>\n",
       "      <td>22925</td>\n",
       "      <td>13985</td>\n",
       "      <td>8940</td>\n",
       "      <td>1208</td>\n",
       "      <td>4</td>\n",
       "      <td>0.610033</td>\n",
       "      <td>0.999714</td>\n",
       "      <td>0.757707</td>\n",
       "      <td>0.886462</td>\n",
       "    </tr>\n",
       "    <tr>\n",
       "      <th>23</th>\n",
       "      <td>100.0</td>\n",
       "      <td>0.001960</td>\n",
       "      <td>24136</td>\n",
       "      <td>13989</td>\n",
       "      <td>10147</td>\n",
       "      <td>1</td>\n",
       "      <td>0</td>\n",
       "      <td>0.579591</td>\n",
       "      <td>1.000000</td>\n",
       "      <td>0.733849</td>\n",
       "      <td>0.873308</td>\n",
       "    </tr>\n",
       "  </tbody>\n",
       "</table>\n",
       "</div>"
      ],
      "text/plain": [
       "      top  threshold  lead_size  true_positive  false_positive  true_negative  \\\n",
       "0     1.0   0.997469        241            241               0          10148   \n",
       "1     2.0   0.996596        483            483               0          10148   \n",
       "2     3.0   0.994297        725            725               0          10148   \n",
       "3     4.0   0.991832        966            966               0          10148   \n",
       "4     5.0   0.990671       1207           1207               0          10148   \n",
       "5    10.0   0.988207       2410           2410               0          10148   \n",
       "6    15.0   0.986599       3621           3621               0          10148   \n",
       "7    20.0   0.984684       4828           4828               0          10148   \n",
       "8    25.0   0.983061       6034           6034               0          10148   \n",
       "9    30.0   0.980832       7241           7241               0          10148   \n",
       "10   35.0   0.977780       8448           8448               0          10148   \n",
       "11   40.0   0.973934       9650           9650               0          10148   \n",
       "12   45.0   0.966562      10862          10862               0          10148   \n",
       "13   50.0   0.723445      12068          11998              70          10078   \n",
       "14   55.0   0.278447      13274          12754             520           9628   \n",
       "15   60.0   0.224643      14482          13215            1267           8881   \n",
       "16   65.0   0.150565      15689          13506            2183           7965   \n",
       "17   70.0   0.114550      16896          13623            3273           6875   \n",
       "18   75.0   0.093122      18102          13699            4403           5745   \n",
       "19   80.0   0.073749      19309          13834            5475           4673   \n",
       "20   85.0   0.055715      20516          13923            6593           3555   \n",
       "21   90.0   0.039699      21723          13960            7763           2385   \n",
       "22   95.0   0.021314      22925          13985            8940           1208   \n",
       "23  100.0   0.001960      24136          13989           10147              1   \n",
       "\n",
       "    false_negative  precision    recall        f1        f2  \n",
       "0            13748   1.000000  0.017228  0.033872  0.021442  \n",
       "1            13506   1.000000  0.034527  0.066750  0.042790  \n",
       "2            13264   1.000000  0.051826  0.098546  0.063954  \n",
       "3            13023   1.000000  0.069054  0.129188  0.084853  \n",
       "4            12782   1.000000  0.086282  0.158858  0.105575  \n",
       "5            11579   1.000000  0.172278  0.293920  0.206456  \n",
       "6            10368   1.000000  0.258846  0.411244  0.303892  \n",
       "7             9161   1.000000  0.345128  0.513153  0.397144  \n",
       "8             7955   1.000000  0.431339  0.602707  0.486691  \n",
       "9             6748   1.000000  0.517621  0.682148  0.572891  \n",
       "10            5541   1.000000  0.603903  0.753042  0.655860  \n",
       "11            4339   1.000000  0.689828  0.816447  0.735451  \n",
       "12            3127   1.000000  0.776467  0.874170  0.812805  \n",
       "13            1991   0.994200  0.857674  0.920904  0.881895  \n",
       "14            1235   0.960826  0.911716  0.935627  0.921132  \n",
       "15             774   0.912512  0.944671  0.928313  0.938059  \n",
       "16             483   0.860858  0.965473  0.910169  0.942564  \n",
       "17             366   0.806286  0.973837  0.882176  0.934978  \n",
       "18             290   0.756767  0.979269  0.853760  0.924883  \n",
       "19             155   0.716453  0.988920  0.830921  0.919019  \n",
       "20              66   0.678641  0.995282  0.807013  0.910333  \n",
       "21              29   0.642637  0.997927  0.781810  0.898570  \n",
       "22               4   0.610033  0.999714  0.757707  0.886462  \n",
       "23               0   0.579591  1.000000  0.733849  0.873308  "
      ]
     },
     "execution_count": 21,
     "metadata": {},
     "output_type": "execute_result"
    }
   ],
   "source": [
    "eval_df = pd.DataFrame({'y_true': y_test, 'y_pred': y_test_score[:, 1]})\n",
    "threshold_analysis(eval_df, 'y_true', 'y_pred', tops=None)"
   ]
  },
  {
   "cell_type": "code",
   "execution_count": 28,
   "id": "1dff1f5b-38eb-4bf9-abc2-692f944613fe",
   "metadata": {},
   "outputs": [],
   "source": [
    "threshold = 0.966562\n",
    "test_df['predict_prob'] = y_test_score[:,1]\n",
    "test_df['predict'] = np.where(y_test_score[:, 1] >= threshold, 1, 0)"
   ]
  },
  {
   "cell_type": "code",
   "execution_count": 29,
   "id": "47d19d4d-b2c7-4935-8f08-78a4ac1fbe8b",
   "metadata": {},
   "outputs": [
    {
     "data": {
      "text/html": [
       "<div>\n",
       "<style scoped>\n",
       "    .dataframe tbody tr th:only-of-type {\n",
       "        vertical-align: middle;\n",
       "    }\n",
       "\n",
       "    .dataframe tbody tr th {\n",
       "        vertical-align: top;\n",
       "    }\n",
       "\n",
       "    .dataframe thead th {\n",
       "        text-align: right;\n",
       "    }\n",
       "</style>\n",
       "<table border=\"1\" class=\"dataframe\">\n",
       "  <thead>\n",
       "    <tr style=\"text-align: right;\">\n",
       "      <th></th>\n",
       "      <th>ID</th>\n",
       "      <th>Apply</th>\n",
       "      <th>Loan_Amount</th>\n",
       "    </tr>\n",
       "    <tr>\n",
       "      <th>predict</th>\n",
       "      <th></th>\n",
       "      <th></th>\n",
       "      <th></th>\n",
       "    </tr>\n",
       "  </thead>\n",
       "  <tbody>\n",
       "    <tr>\n",
       "      <th>0</th>\n",
       "      <td>13275</td>\n",
       "      <td>3127</td>\n",
       "      <td>110720000.0</td>\n",
       "    </tr>\n",
       "    <tr>\n",
       "      <th>1</th>\n",
       "      <td>10862</td>\n",
       "      <td>10862</td>\n",
       "      <td>446246000.0</td>\n",
       "    </tr>\n",
       "  </tbody>\n",
       "</table>\n",
       "</div>"
      ],
      "text/plain": [
       "            ID  Apply  Loan_Amount\n",
       "predict                           \n",
       "0        13275   3127  110720000.0\n",
       "1        10862  10862  446246000.0"
      ]
     },
     "execution_count": 29,
     "metadata": {},
     "output_type": "execute_result"
    }
   ],
   "source": [
    "test_df.groupby('predict').agg({\n",
    "    'ID': 'count',\n",
    "    'Apply': 'sum',\n",
    "    'Loan_Amount': 'sum'\n",
    "})"
   ]
  },
  {
   "cell_type": "code",
   "execution_count": 44,
   "id": "a11d635a-f7fc-409f-8dd8-a54e8dcfb0b4",
   "metadata": {},
   "outputs": [
    {
     "data": {
      "text/plain": [
       "predict_prob             0.987453\n",
       "Loan_Amount               35000.0\n",
       "cumsum_loan_amount    138757000.0\n",
       "Name: 3000, dtype: object"
      ]
     },
     "execution_count": 44,
     "metadata": {},
     "output_type": "execute_result"
    }
   ],
   "source": [
    "sorted_test_df = test_df.sort_values(by=['predict_prob'], ascending=False)\n",
    "sorted_test_df['cumsum_loan_amount'] = sorted_test_df['Loan_Amount'].cumsum()\n",
    "sorted_test_df.reset_index(inplace=True)\n",
    "sorted_test_df.loc[3000, ['predict_prob', 'Loan_Amount', 'cumsum_loan_amount']].head(30)"
   ]
  },
  {
   "cell_type": "markdown",
   "id": "0d538f9d-81a0-4201-8626-7e2c494689c5",
   "metadata": {},
   "source": [
    "## Verify Data"
   ]
  },
  {
   "cell_type": "code",
   "execution_count": null,
   "id": "b99d7a5e-58f0-4d71-8645-a329f923a587",
   "metadata": {},
   "outputs": [],
   "source": [
    "from deepchecks.checks import WholeDatasetDrift\n",
    "from deepchecks import Dataset\n",
    "from deepchecks.tabular.suites import full_suite"
   ]
  },
  {
   "cell_type": "code",
   "execution_count": 26,
   "id": "093657b0-1717-4563-a00b-caf128f91dfa",
   "metadata": {},
   "outputs": [],
   "source": [
    "train_df[cat_feats] = train_df[cat_feats].astype(str)\n",
    "test_df[cat_feats] = test_df[cat_feats].astype(str)"
   ]
  },
  {
   "cell_type": "code",
   "execution_count": 27,
   "id": "b55305b7-669d-45f1-96af-afa5066244ba",
   "metadata": {},
   "outputs": [
    {
     "data": {
      "text/plain": [
       "deepchecks.tabular.dataset.Dataset"
      ]
     },
     "execution_count": 27,
     "metadata": {},
     "output_type": "execute_result"
    }
   ],
   "source": [
    "Dataset"
   ]
  },
  {
   "cell_type": "code",
   "execution_count": 28,
   "id": "958e9f89-5190-46cb-9246-e11db74fe348",
   "metadata": {},
   "outputs": [],
   "source": [
    "train_ds = Dataset(train_df[feat_cols+[label_col, date_col]], label=label_col, cat_features=cat_feats, datetime_name=date_col)\n",
    "test_ds = Dataset(test_df[feat_cols+[label_col, date_col]], label=label_col, cat_features=cat_feats, datetime_name=date_col)"
   ]
  },
  {
   "cell_type": "code",
   "execution_count": null,
   "id": "3b7665a5-a731-4fce-86f3-e32df6873071",
   "metadata": {},
   "outputs": [],
   "source": [
    "suite = full_suite()\n",
    "suite_result = suite.run(train_dataset=train_ds, test_dataset=test_ds, model=pipeline)"
   ]
  },
  {
   "cell_type": "code",
   "execution_count": 30,
   "id": "959015b6-2e20-4de3-aea9-6ee1382bd9aa",
   "metadata": {},
   "outputs": [
    {
     "data": {
      "text/plain": [
       "'banking_lead_sult_result.html'"
      ]
     },
     "execution_count": 30,
     "metadata": {},
     "output_type": "execute_result"
    }
   ],
   "source": [
    "suite_result.save_as_html('banking_lead_sult_result.html')"
   ]
  }
 ],
 "metadata": {
  "kernelspec": {
   "display_name": "mar_rl",
   "language": "python",
   "name": "mar_rl"
  },
  "language_info": {
   "codemirror_mode": {
    "name": "ipython",
    "version": 3
   },
   "file_extension": ".py",
   "mimetype": "text/x-python",
   "name": "python",
   "nbconvert_exporter": "python",
   "pygments_lexer": "ipython3",
   "version": "3.10.4"
  }
 },
 "nbformat": 4,
 "nbformat_minor": 5
}
