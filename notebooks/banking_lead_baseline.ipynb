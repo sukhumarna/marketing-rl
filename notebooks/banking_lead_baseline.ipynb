{
 "cells": [
  {
   "cell_type": "markdown",
   "id": "1bed140f-83fc-4021-8b29-898c101e3177",
   "metadata": {},
   "source": [
    "# Baseline Model for Banking Lead Conversion Prediction"
   ]
  },
  {
   "cell_type": "code",
   "execution_count": 34,
   "id": "ae22f853-8512-409a-a14b-06b7e4a00572",
   "metadata": {},
   "outputs": [],
   "source": [
    "import math\n",
    "import pandas as pd\n",
    "import numpy as np\n",
    "import matplotlib.pyplot as plt\n",
    "import seaborn as sns\n",
    "import optuna\n",
    "from dateutil.relativedelta import relativedelta\n",
    "from sklearn.model_selection import train_test_split, cross_validate\n",
    "from sklearn.pipeline import Pipeline\n",
    "from sklearn.compose import ColumnTransformer\n",
    "from sklearn.preprocessing import OneHotEncoder, StandardScaler, OrdinalEncoder\n",
    "from sklearn.impute import SimpleImputer\n",
    "from sklearn.ensemble import RandomForestClassifier\n",
    "from sklearn.metrics import classification_report, roc_curve, roc_auc_score, auc, confusion_matrix, fbeta_score"
   ]
  },
  {
   "cell_type": "markdown",
   "id": "7ac1d4d9-dc0a-415f-b790-2d925faf590e",
   "metadata": {},
   "source": [
    "## Read Data"
   ]
  },
  {
   "cell_type": "code",
   "execution_count": 5,
   "id": "6e105ac0-e641-40b1-a245-e44d8061f342",
   "metadata": {},
   "outputs": [
    {
     "name": "stdout",
     "output_type": "stream",
     "text": [
      "total data size is 69713\n"
     ]
    }
   ],
   "source": [
    "data_path = '../data/Banking | Marketing | Leads Conversion Data/train_loan/train.csv'\n",
    "df = pd.read_csv(data_path)\n",
    "print('total data size is', df.shape[0])"
   ]
  },
  {
   "cell_type": "markdown",
   "id": "d8f5f460-8082-47ee-a4f8-9ae54e18297f",
   "metadata": {},
   "source": [
    "## Feature Extraction"
   ]
  },
  {
   "cell_type": "code",
   "execution_count": 6,
   "id": "dc81300c-012f-4ccd-863c-54d5c554c995",
   "metadata": {},
   "outputs": [
    {
     "data": {
      "text/plain": [
       "0.6025275056302268"
      ]
     },
     "execution_count": 6,
     "metadata": {},
     "output_type": "execute_result"
    }
   ],
   "source": [
    "df['DOB'] = df['DOB'].apply(pd.to_datetime)\n",
    "df['Lead_Creation_Date'] = df['Lead_Creation_Date'].apply(pd.to_datetime)\n",
    "df['Age'] = (df['Lead_Creation_Date'] - df['DOB'])/ np.timedelta64(1, 'Y')\n",
    "df['Age'] = np.where(df['Age'] < 0, np.nan, df['Age'])\n",
    "df['Apply'] = np.where(df['Loan_Amount']>0, 1, 0)\n",
    "df['Apply'].mean()"
   ]
  },
  {
   "cell_type": "code",
   "execution_count": 7,
   "id": "3b339c79-6104-4922-82d0-2825ae608e53",
   "metadata": {},
   "outputs": [],
   "source": [
    "label_col = 'Apply'\n",
    "index_col = 'ID'\n",
    "date_col = 'Lead_Creation_Date'\n",
    "feat_cols = ['Gender', 'Age', 'City_Category', 'Employer_Category1', 'Employer_Category2', \n",
    "             'Monthly_Income', 'Primary_Bank_Type',\n",
    "             'Source_Category', 'Existing_EMI']"
   ]
  },
  {
   "cell_type": "markdown",
   "id": "7a6c10ed-3e91-42a2-8102-f8d0ce4cec51",
   "metadata": {},
   "source": [
    "df['lead_month']## Prep Data"
   ]
  },
  {
   "cell_type": "code",
   "execution_count": 8,
   "id": "1256f5ba-f2d8-402b-b036-dcd756bd18c9",
   "metadata": {},
   "outputs": [
    {
     "data": {
      "text/plain": [
       "Index(['ID', 'Gender', 'DOB', 'Lead_Creation_Date', 'City_Code',\n",
       "       'City_Category', 'Employer_Code', 'Employer_Category1',\n",
       "       'Employer_Category2', 'Monthly_Income',\n",
       "       'Customer_Existing_Primary_Bank_Code', 'Primary_Bank_Type', 'Contacted',\n",
       "       'Source', 'Source_Category', 'Existing_EMI', 'Loan_Amount',\n",
       "       'Loan_Period', 'Interest_Rate', 'EMI', 'Var1', 'Approved', 'Age',\n",
       "       'Apply'],\n",
       "      dtype='object')"
      ]
     },
     "execution_count": 8,
     "metadata": {},
     "output_type": "execute_result"
    }
   ],
   "source": [
    "df.columns"
   ]
  },
  {
   "cell_type": "code",
   "execution_count": 9,
   "id": "bb6b3b6c-998d-41a3-8f11-dd63d2defdff",
   "metadata": {},
   "outputs": [
    {
     "data": {
      "text/plain": [
       "lead_month\n",
       "2016-01     1994\n",
       "2016-02     3200\n",
       "2016-03     2003\n",
       "2016-04     2298\n",
       "2016-05     2476\n",
       "2016-06     2220\n",
       "2016-07    15466\n",
       "2016-08    15919\n",
       "2016-09    18446\n",
       "2016-10     1616\n",
       "2016-11     1800\n",
       "2016-12     2275\n",
       "dtype: int64"
      ]
     },
     "execution_count": 9,
     "metadata": {},
     "output_type": "execute_result"
    }
   ],
   "source": [
    "df['lead_month'] = df['Lead_Creation_Date'].astype(str)\n",
    "df['lead_month'] = df['lead_month'].str[:7]\n",
    "df.groupby('lead_month').size()"
   ]
  },
  {
   "cell_type": "code",
   "execution_count": 10,
   "id": "b9af1b2d-5d9b-483e-a0fb-3d92829a9b7d",
   "metadata": {},
   "outputs": [
    {
     "name": "stdout",
     "output_type": "stream",
     "text": [
      "train size is 45576\n",
      "test size is 24137\n"
     ]
    }
   ],
   "source": [
    "test_cond = df['Lead_Creation_Date'] > '2016-09-01'\n",
    "train_df = df.loc[~test_cond, :]\n",
    "test_df = df.loc[test_cond, :]\n",
    "print('train size is', train_df.shape[0])\n",
    "print('test size is', test_df.shape[0])"
   ]
  },
  {
   "cell_type": "code",
   "execution_count": 11,
   "id": "438991fd-b788-49ea-8fa9-b7fe994cd1d8",
   "metadata": {},
   "outputs": [
    {
     "name": "stdout",
     "output_type": "stream",
     "text": [
      "train size is 45576\n",
      "test size is 24137\n"
     ]
    }
   ],
   "source": [
    "X_train = train_df[feat_cols]\n",
    "y_train = train_df[label_col]\n",
    "X_test = test_df[feat_cols]\n",
    "y_test = test_df[label_col]\n",
    "print('train size is', X_train.shape[0])\n",
    "print('test size is', X_test.shape[0])"
   ]
  },
  {
   "cell_type": "code",
   "execution_count": 12,
   "id": "19931993-ed01-428a-8bbc-da0b1bf2f81a",
   "metadata": {},
   "outputs": [],
   "source": [
    "numer_feats = ['Age', 'Monthly_Income', 'Existing_EMI']\n",
    "numer_transformer = Pipeline(\n",
    "    steps=[(\"imputer\", SimpleImputer(strategy=\"mean\")), (\"scaler\", StandardScaler())]\n",
    ")\n",
    "\n",
    "cat_feats = ['Gender', 'City_Category', 'Employer_Category1', 'Employer_Category2', \n",
    "             'Primary_Bank_Type', 'Source_Category']\n",
    "cat_transformer = OneHotEncoder(handle_unknown='ignore')\n",
    "\n",
    "# binary_feats = ['Contacted']\n",
    "# binary_transformer = Pipeline(\n",
    "#     steps=[(\"imputer\", SimpleImputer(strategy=\"constant\", fill_value='No')), (\"ordinal\", OrdinalEncoder())]\n",
    "# )\n",
    "\n",
    "transformer = ColumnTransformer(\n",
    "    transformers=[\n",
    "        (\"num\", numer_transformer, numer_feats),\n",
    "        # (\"ordinal\", binary_transformer, binary_feats),\n",
    "        (\"cat\", cat_transformer, cat_feats)\n",
    "    ], sparse_threshold = 0\n",
    ")"
   ]
  },
  {
   "cell_type": "code",
   "execution_count": 13,
   "id": "5c55a0e0-4d7a-4f69-8e3d-c5b5fb5e8a45",
   "metadata": {},
   "outputs": [],
   "source": [
    "transformer.fit(X_train);"
   ]
  },
  {
   "cell_type": "code",
   "execution_count": 14,
   "id": "dacc2551-f77d-440b-96b8-44acb3f76307",
   "metadata": {},
   "outputs": [],
   "source": [
    "X_train_t = transformer.transform(X_train)\n",
    "X_test_t = transformer.transform(X_test)"
   ]
  },
  {
   "cell_type": "code",
   "execution_count": 15,
   "id": "38bfb26c-98be-444a-84dc-50356e090e29",
   "metadata": {},
   "outputs": [],
   "source": [
    "transformers = transformer.get_params()['transformers']\n",
    "feature_names = []\n",
    "for name, _, features in transformers:\n",
    "    try:\n",
    "        Var = transformer.named_transformers_[name].get_feature_names().tolist()\n",
    "    except AttributeError:\n",
    "        Var = features\n",
    "    feature_names = feature_names + Var"
   ]
  },
  {
   "cell_type": "markdown",
   "id": "f863283a-c524-4bbe-8e19-a008d29441fb",
   "metadata": {},
   "source": [
    "## Model Training"
   ]
  },
  {
   "cell_type": "markdown",
   "id": "a51605c5-ca15-4b1b-b0d1-6d679fb918e3",
   "metadata": {},
   "source": [
    "### Parameter Tuning"
   ]
  },
  {
   "cell_type": "code",
   "execution_count": 16,
   "id": "4e8c9138-ad84-496a-b609-b247b9575fde",
   "metadata": {},
   "outputs": [],
   "source": [
    "def objective(trial, X, y):\n",
    "    params = {\n",
    "        'n_estimators': trial.suggest_int('n_estimators', 10, 500),\n",
    "        'max_depth': trial.suggest_int('max_depth', 2, 10),\n",
    "        'max_features': trial.suggest_categorical(\"max_features\", ['sqrt', 'log2']),\n",
    "        'min_samples_split': trial.suggest_uniform('min_samples_split', 1e-5, 0.5),\n",
    "        'min_samples_leaf': trial.suggest_uniform('min_samples_leaf', 1e-5, 0.5),\n",
    "        'class_weight': trial.suggest_categorical('class_weight', ['balanced', 'balanced_subsample']),\n",
    "    }\n",
    "    clf = RandomForestClassifier(**params, random_state=0)\n",
    "    score = cross_validate(clf, X, y, cv = 3, scoring = 'roc_auc', return_train_score=True)\n",
    "    train_score = np.mean(score['train_score'])\n",
    "    test_score = np.mean(score['test_score'])\n",
    "    return -(test_score - 0.25 * abs(train_score - test_score))\n",
    "    "
   ]
  },
  {
   "cell_type": "code",
   "execution_count": 17,
   "id": "1bcebb42-24e9-45a9-bce0-3a1003d1e421",
   "metadata": {},
   "outputs": [],
   "source": [
    "#optuna.delete_study(study_name='banking-lead', storage='sqlite:///../cc-tuning.db')"
   ]
  },
  {
   "cell_type": "code",
   "execution_count": 18,
   "id": "98987e78-8a89-496d-aadd-92fe9004b0e5",
   "metadata": {
    "scrolled": true,
    "tags": []
   },
   "outputs": [],
   "source": [
    "obj_func = lambda trial: objective(trial, X_train_t, y_train)\n",
    "train = False\n",
    "if train:\n",
    "    study = optuna.create_study(study_name='banking-lead', storage='sqlite:///../cc-tuning.db', load_if_exists=True)\n",
    "    study.optimize(obj_func, n_trials=20)\n",
    "else:\n",
    "    study = optuna.load_study(study_name='banking-lead', storage='sqlite:///../cc-tuning.db')"
   ]
  },
  {
   "cell_type": "markdown",
   "id": "270a497e-06a0-4e90-97a6-b8ef2c81fe98",
   "metadata": {},
   "source": [
    "## Model Evaluation"
   ]
  },
  {
   "cell_type": "code",
   "execution_count": 19,
   "id": "9f5d6ea6-14b5-41c2-866b-7fede59a181a",
   "metadata": {},
   "outputs": [],
   "source": [
    "pipeline = Pipeline([('transformer', transformer), ('rf', RandomForestClassifier(**study.best_params))])"
   ]
  },
  {
   "cell_type": "code",
   "execution_count": 20,
   "id": "a36d3ca7-442a-44ff-aabc-f986fbbf95ca",
   "metadata": {},
   "outputs": [
    {
     "data": {
      "text/plain": [
       "Pipeline(steps=[('transformer',\n",
       "                 ColumnTransformer(sparse_threshold=0,\n",
       "                                   transformers=[('num',\n",
       "                                                  Pipeline(steps=[('imputer',\n",
       "                                                                   SimpleImputer()),\n",
       "                                                                  ('scaler',\n",
       "                                                                   StandardScaler())]),\n",
       "                                                  ['Age', 'Monthly_Income',\n",
       "                                                   'Existing_EMI']),\n",
       "                                                 ('cat',\n",
       "                                                  OneHotEncoder(handle_unknown='ignore'),\n",
       "                                                  ['Gender', 'City_Category',\n",
       "                                                   'Employer_Category1',\n",
       "                                                   'Employer_Category2',\n",
       "                                                   'Primary_Bank_Type',\n",
       "                                                   'Source_Category'])])),\n",
       "                ('rf',\n",
       "                 RandomForestClassifier(class_weight='balanced', max_depth=9,\n",
       "                                        max_features='log2',\n",
       "                                        min_samples_leaf=0.0034212037785892047,\n",
       "                                        min_samples_split=0.3246977077434109,\n",
       "                                        n_estimators=20))])"
      ]
     },
     "execution_count": 20,
     "metadata": {},
     "output_type": "execute_result"
    }
   ],
   "source": [
    "# clf = RandomForestClassifier(**study.best_params)\n",
    "# clf.fit(X_train_t, y_train)\n",
    "pipeline.fit(train_df[feat_cols], y_train)"
   ]
  },
  {
   "cell_type": "code",
   "execution_count": 21,
   "id": "28ec16d3-69c6-440b-a0b3-8bb0c1ca07ab",
   "metadata": {},
   "outputs": [],
   "source": [
    "# y_train_score = clf.predict_proba(X_train_t)\n",
    "# y_test_score = clf.predict_proba(X_test_t)\n",
    "y_train_score = pipeline.predict_proba(train_df[feat_cols])\n",
    "y_test_score = pipeline.predict_proba(test_df[feat_cols])\n",
    "y_train_pred = np.where(y_train_score[:, 1] > 0.5, 1, 0)\n",
    "y_test_pred = np.where(y_test_score[:, 1] > 0.5, 1, 0)"
   ]
  },
  {
   "cell_type": "code",
   "execution_count": 22,
   "id": "d94d9068-6405-47ba-9636-7d00232bf3cf",
   "metadata": {},
   "outputs": [
    {
     "name": "stdout",
     "output_type": "stream",
     "text": [
      "train classification report\n",
      "              precision    recall  f1-score   support\n",
      "\n",
      "           0       0.83      0.99      0.91     17561\n",
      "           1       0.99      0.88      0.93     28015\n",
      "\n",
      "    accuracy                           0.92     45576\n",
      "   macro avg       0.91      0.93      0.92     45576\n",
      "weighted avg       0.93      0.92      0.92     45576\n",
      "\n",
      "test classification report\n",
      "              precision    recall  f1-score   support\n",
      "\n",
      "           0       0.84      0.99      0.91     10148\n",
      "           1       0.99      0.86      0.92     13989\n",
      "\n",
      "    accuracy                           0.91     24137\n",
      "   macro avg       0.91      0.92      0.91     24137\n",
      "weighted avg       0.93      0.91      0.92     24137\n",
      "\n"
     ]
    }
   ],
   "source": [
    "print(\"train classification report\")\n",
    "print(classification_report(y_train, y_train_pred))\n",
    "print(\"test classification report\")\n",
    "print(classification_report(y_test, y_test_pred))"
   ]
  },
  {
   "cell_type": "markdown",
   "id": "0391e420-42a1-4dd3-9092-395336322d72",
   "metadata": {},
   "source": [
    "### ROCAUC"
   ]
  },
  {
   "cell_type": "code",
   "execution_count": 23,
   "id": "9983d0d0-5018-45e3-8965-8c235274eecd",
   "metadata": {},
   "outputs": [],
   "source": [
    "train_fpr, train_tpr, _ = roc_curve(y_train, y_train_score[:, 1])\n",
    "test_fpr, test_tpr, _ = roc_curve(y_test, y_test_score[:, 1])\n",
    "\n",
    "train_auc = roc_auc_score(y_train, y_train_score[:, 1])\n",
    "test_auc = roc_auc_score(y_test, y_test_score[:, 1])"
   ]
  },
  {
   "cell_type": "code",
   "execution_count": 24,
   "id": "3d9eea57-da51-409a-9f1e-621526e848a9",
   "metadata": {},
   "outputs": [
    {
     "data": {
      "image/png": "[encoded data removed]",
      "text/plain": [
       "<Figure size 432x288 with 1 Axes>"
      ]
     },
     "metadata": {
      "needs_background": "light"
     },
     "output_type": "display_data"
    }
   ],
   "source": [
    "plt.figure()\n",
    "lw = 2\n",
    "plt.plot(train_fpr, train_tpr, color=\"b\",lw=lw, label=\"Train ROC curve (area = %0.4f)\" % train_auc)\n",
    "plt.plot(test_fpr, test_tpr, color=\"r\",lw=lw, label=\"Test ROC curve (area = %0.4f)\" % test_auc)\n",
    "plt.plot([0, 1], [0, 1], color=\"navy\", lw=lw, linestyle=\"--\")\n",
    "plt.xlim([0.0, 1.0])\n",
    "plt.ylim([0.0, 1.05])\n",
    "plt.xlabel(\"False Positive Rate\")\n",
    "plt.ylabel(\"True Positive Rate\")\n",
    "plt.title(\"Receiver operating characteristic example\")\n",
    "plt.legend(loc=\"lower right\")\n",
    "plt.show()"
   ]
  },
  {
   "cell_type": "code",
   "execution_count": 35,
   "id": "ef32ae78-16c0-4992-9cea-528320daf020",
   "metadata": {},
   "outputs": [],
   "source": [
    "def threshold_analysis(result, label_col, proba_col, tops=None):\n",
    "    if tops is None:\n",
    "        tops = [1]\n",
    "        tops.extend(np.arange(2, 6, 1))\n",
    "        tops.extend(np.arange(10, 105, 5))\n",
    "        tops = [t/100 for t in tops]\n",
    "\n",
    "    threshold_opt = pd.DataFrame()\n",
    "\n",
    "    for top in tops:\n",
    "        percentile = 1-top\n",
    "        threshold = result[proba_col].astype(float).quantile(percentile)\n",
    "\n",
    "        tn, fp, fn, tp = confusion_matrix(result[label_col], result[proba_col] > threshold).ravel()\n",
    "\n",
    "        precision = tp/(tp+fp)\n",
    "        recall = tp/(tp+fn)\n",
    "\n",
    "        f1 = fbeta_score(result[label_col], result[proba_col] > threshold, beta=1)\n",
    "        f2 = fbeta_score(result[label_col], result[proba_col] > threshold, beta=2)\n",
    "\n",
    "        top_idx = top*100\n",
    "        threshold_opt.loc[top_idx, 'threshold'] = threshold\n",
    "        threshold_opt.loc[top_idx, 'lead_size'] = (result[proba_col] > threshold).sum()\n",
    "        threshold_opt.loc[top_idx, 'true_positive'] = tp\n",
    "        threshold_opt.loc[top_idx, 'false_positive'] = fp\n",
    "        threshold_opt.loc[top_idx, 'true_negative'] = tn\n",
    "        threshold_opt.loc[top_idx, 'false_negative'] = fn\n",
    "        threshold_opt.loc[top_idx, 'precision'] = precision\n",
    "        threshold_opt.loc[top_idx, 'recall'] = recall\n",
    "        threshold_opt.loc[top_idx, 'f1'] = f1\n",
    "        threshold_opt.loc[top_idx, 'f2'] = f2\n",
    "\n",
    "        threshold_opt.index.name = 'top'\n",
    "\n",
    "        cols = ['lead_size', 'true_positive', 'false_positive', 'true_negative', 'false_negative']\n",
    "        threshold_opt[cols] = threshold_opt[cols].astype(int)\n",
    "    threshold_opt.reset_index(inplace=True)\n",
    "\n",
    "    return threshold_opt"
   ]
  },
  {
   "cell_type": "code",
   "execution_count": 36,
   "id": "33bbf3d7-4f91-4bd5-8c57-12eca6cf8315",
   "metadata": {},
   "outputs": [
    {
     "data": {
      "text/html": [
       "<div>\n",
       "<style scoped>\n",
       "    .dataframe tbody tr th:only-of-type {\n",
       "        vertical-align: middle;\n",
       "    }\n",
       "\n",
       "    .dataframe tbody tr th {\n",
       "        vertical-align: top;\n",
       "    }\n",
       "\n",
       "    .dataframe thead th {\n",
       "        text-align: right;\n",
       "    }\n",
       "</style>\n",
       "<table border=\"1\" class=\"dataframe\">\n",
       "  <thead>\n",
       "    <tr style=\"text-align: right;\">\n",
       "      <th></th>\n",
       "      <th>top</th>\n",
       "      <th>threshold</th>\n",
       "      <th>lead_size</th>\n",
       "      <th>true_positive</th>\n",
       "      <th>false_positive</th>\n",
       "      <th>true_negative</th>\n",
       "      <th>false_negative</th>\n",
       "      <th>precision</th>\n",
       "      <th>recall</th>\n",
       "      <th>f1</th>\n",
       "      <th>f2</th>\n",
       "    </tr>\n",
       "  </thead>\n",
       "  <tbody>\n",
       "    <tr>\n",
       "      <th>0</th>\n",
       "      <td>1.0</td>\n",
       "      <td>0.844955</td>\n",
       "      <td>209</td>\n",
       "      <td>209</td>\n",
       "      <td>0</td>\n",
       "      <td>10148</td>\n",
       "      <td>13780</td>\n",
       "      <td>1.000000</td>\n",
       "      <td>0.014940</td>\n",
       "      <td>0.029441</td>\n",
       "      <td>0.018606</td>\n",
       "    </tr>\n",
       "    <tr>\n",
       "      <th>1</th>\n",
       "      <td>2.0</td>\n",
       "      <td>0.834186</td>\n",
       "      <td>483</td>\n",
       "      <td>483</td>\n",
       "      <td>0</td>\n",
       "      <td>10148</td>\n",
       "      <td>13506</td>\n",
       "      <td>1.000000</td>\n",
       "      <td>0.034527</td>\n",
       "      <td>0.066750</td>\n",
       "      <td>0.042790</td>\n",
       "    </tr>\n",
       "    <tr>\n",
       "      <th>2</th>\n",
       "      <td>3.0</td>\n",
       "      <td>0.833239</td>\n",
       "      <td>600</td>\n",
       "      <td>600</td>\n",
       "      <td>0</td>\n",
       "      <td>10148</td>\n",
       "      <td>13389</td>\n",
       "      <td>1.000000</td>\n",
       "      <td>0.042891</td>\n",
       "      <td>0.082254</td>\n",
       "      <td>0.053045</td>\n",
       "    </tr>\n",
       "    <tr>\n",
       "      <th>3</th>\n",
       "      <td>4.0</td>\n",
       "      <td>0.827693</td>\n",
       "      <td>905</td>\n",
       "      <td>905</td>\n",
       "      <td>0</td>\n",
       "      <td>10148</td>\n",
       "      <td>13084</td>\n",
       "      <td>1.000000</td>\n",
       "      <td>0.064694</td>\n",
       "      <td>0.121525</td>\n",
       "      <td>0.079580</td>\n",
       "    </tr>\n",
       "    <tr>\n",
       "      <th>4</th>\n",
       "      <td>5.0</td>\n",
       "      <td>0.825755</td>\n",
       "      <td>1206</td>\n",
       "      <td>1206</td>\n",
       "      <td>0</td>\n",
       "      <td>10148</td>\n",
       "      <td>12783</td>\n",
       "      <td>1.000000</td>\n",
       "      <td>0.086211</td>\n",
       "      <td>0.158736</td>\n",
       "      <td>0.105490</td>\n",
       "    </tr>\n",
       "    <tr>\n",
       "      <th>5</th>\n",
       "      <td>10.0</td>\n",
       "      <td>0.796395</td>\n",
       "      <td>2319</td>\n",
       "      <td>2319</td>\n",
       "      <td>0</td>\n",
       "      <td>10148</td>\n",
       "      <td>11670</td>\n",
       "      <td>1.000000</td>\n",
       "      <td>0.165773</td>\n",
       "      <td>0.284400</td>\n",
       "      <td>0.198970</td>\n",
       "    </tr>\n",
       "    <tr>\n",
       "      <th>6</th>\n",
       "      <td>15.0</td>\n",
       "      <td>0.789572</td>\n",
       "      <td>3498</td>\n",
       "      <td>3498</td>\n",
       "      <td>0</td>\n",
       "      <td>10148</td>\n",
       "      <td>10491</td>\n",
       "      <td>1.000000</td>\n",
       "      <td>0.250054</td>\n",
       "      <td>0.400069</td>\n",
       "      <td>0.294177</td>\n",
       "    </tr>\n",
       "    <tr>\n",
       "      <th>7</th>\n",
       "      <td>20.0</td>\n",
       "      <td>0.784720</td>\n",
       "      <td>4560</td>\n",
       "      <td>4560</td>\n",
       "      <td>0</td>\n",
       "      <td>10148</td>\n",
       "      <td>9429</td>\n",
       "      <td>1.000000</td>\n",
       "      <td>0.325970</td>\n",
       "      <td>0.491671</td>\n",
       "      <td>0.376760</td>\n",
       "    </tr>\n",
       "    <tr>\n",
       "      <th>8</th>\n",
       "      <td>25.0</td>\n",
       "      <td>0.773955</td>\n",
       "      <td>5906</td>\n",
       "      <td>5906</td>\n",
       "      <td>0</td>\n",
       "      <td>10148</td>\n",
       "      <td>8083</td>\n",
       "      <td>1.000000</td>\n",
       "      <td>0.422189</td>\n",
       "      <td>0.593717</td>\n",
       "      <td>0.477353</td>\n",
       "    </tr>\n",
       "    <tr>\n",
       "      <th>9</th>\n",
       "      <td>30.0</td>\n",
       "      <td>0.770809</td>\n",
       "      <td>7222</td>\n",
       "      <td>7222</td>\n",
       "      <td>0</td>\n",
       "      <td>10148</td>\n",
       "      <td>6767</td>\n",
       "      <td>1.000000</td>\n",
       "      <td>0.516263</td>\n",
       "      <td>0.680967</td>\n",
       "      <td>0.571560</td>\n",
       "    </tr>\n",
       "    <tr>\n",
       "      <th>10</th>\n",
       "      <td>35.0</td>\n",
       "      <td>0.749694</td>\n",
       "      <td>8418</td>\n",
       "      <td>8418</td>\n",
       "      <td>0</td>\n",
       "      <td>10148</td>\n",
       "      <td>5571</td>\n",
       "      <td>1.000000</td>\n",
       "      <td>0.601759</td>\n",
       "      <td>0.751372</td>\n",
       "      <td>0.653835</td>\n",
       "    </tr>\n",
       "    <tr>\n",
       "      <th>11</th>\n",
       "      <td>40.0</td>\n",
       "      <td>0.682653</td>\n",
       "      <td>9655</td>\n",
       "      <td>9655</td>\n",
       "      <td>0</td>\n",
       "      <td>10148</td>\n",
       "      <td>4334</td>\n",
       "      <td>1.000000</td>\n",
       "      <td>0.690185</td>\n",
       "      <td>0.816698</td>\n",
       "      <td>0.735776</td>\n",
       "    </tr>\n",
       "    <tr>\n",
       "      <th>12</th>\n",
       "      <td>45.0</td>\n",
       "      <td>0.635478</td>\n",
       "      <td>10768</td>\n",
       "      <td>10768</td>\n",
       "      <td>0</td>\n",
       "      <td>10148</td>\n",
       "      <td>3221</td>\n",
       "      <td>1.000000</td>\n",
       "      <td>0.769748</td>\n",
       "      <td>0.869895</td>\n",
       "      <td>0.806906</td>\n",
       "    </tr>\n",
       "    <tr>\n",
       "      <th>13</th>\n",
       "      <td>50.0</td>\n",
       "      <td>0.570385</td>\n",
       "      <td>12059</td>\n",
       "      <td>11957</td>\n",
       "      <td>102</td>\n",
       "      <td>10046</td>\n",
       "      <td>2032</td>\n",
       "      <td>0.991542</td>\n",
       "      <td>0.854743</td>\n",
       "      <td>0.918074</td>\n",
       "      <td>0.878997</td>\n",
       "    </tr>\n",
       "    <tr>\n",
       "      <th>14</th>\n",
       "      <td>55.0</td>\n",
       "      <td>0.358964</td>\n",
       "      <td>13271</td>\n",
       "      <td>12104</td>\n",
       "      <td>1167</td>\n",
       "      <td>8981</td>\n",
       "      <td>1885</td>\n",
       "      <td>0.912064</td>\n",
       "      <td>0.865251</td>\n",
       "      <td>0.888041</td>\n",
       "      <td>0.874225</td>\n",
       "    </tr>\n",
       "    <tr>\n",
       "      <th>15</th>\n",
       "      <td>60.0</td>\n",
       "      <td>0.347984</td>\n",
       "      <td>14312</td>\n",
       "      <td>12451</td>\n",
       "      <td>1861</td>\n",
       "      <td>8287</td>\n",
       "      <td>1538</td>\n",
       "      <td>0.869969</td>\n",
       "      <td>0.890056</td>\n",
       "      <td>0.879898</td>\n",
       "      <td>0.885965</td>\n",
       "    </tr>\n",
       "    <tr>\n",
       "      <th>16</th>\n",
       "      <td>65.0</td>\n",
       "      <td>0.333622</td>\n",
       "      <td>15675</td>\n",
       "      <td>13008</td>\n",
       "      <td>2667</td>\n",
       "      <td>7481</td>\n",
       "      <td>981</td>\n",
       "      <td>0.829856</td>\n",
       "      <td>0.929873</td>\n",
       "      <td>0.877023</td>\n",
       "      <td>0.907987</td>\n",
       "    </tr>\n",
       "    <tr>\n",
       "      <th>17</th>\n",
       "      <td>70.0</td>\n",
       "      <td>0.327399</td>\n",
       "      <td>16854</td>\n",
       "      <td>13358</td>\n",
       "      <td>3496</td>\n",
       "      <td>6652</td>\n",
       "      <td>631</td>\n",
       "      <td>0.792571</td>\n",
       "      <td>0.954893</td>\n",
       "      <td>0.866193</td>\n",
       "      <td>0.917319</td>\n",
       "    </tr>\n",
       "    <tr>\n",
       "      <th>18</th>\n",
       "      <td>75.0</td>\n",
       "      <td>0.292843</td>\n",
       "      <td>18102</td>\n",
       "      <td>13542</td>\n",
       "      <td>4560</td>\n",
       "      <td>5588</td>\n",
       "      <td>447</td>\n",
       "      <td>0.748094</td>\n",
       "      <td>0.968046</td>\n",
       "      <td>0.843975</td>\n",
       "      <td>0.914283</td>\n",
       "    </tr>\n",
       "    <tr>\n",
       "      <th>19</th>\n",
       "      <td>80.0</td>\n",
       "      <td>0.247025</td>\n",
       "      <td>19010</td>\n",
       "      <td>13655</td>\n",
       "      <td>5355</td>\n",
       "      <td>4793</td>\n",
       "      <td>334</td>\n",
       "      <td>0.718306</td>\n",
       "      <td>0.976124</td>\n",
       "      <td>0.827601</td>\n",
       "      <td>0.910746</td>\n",
       "    </tr>\n",
       "    <tr>\n",
       "      <th>20</th>\n",
       "      <td>85.0</td>\n",
       "      <td>0.234404</td>\n",
       "      <td>20472</td>\n",
       "      <td>13797</td>\n",
       "      <td>6675</td>\n",
       "      <td>3473</td>\n",
       "      <td>192</td>\n",
       "      <td>0.673945</td>\n",
       "      <td>0.986275</td>\n",
       "      <td>0.800731</td>\n",
       "      <td>0.902614</td>\n",
       "    </tr>\n",
       "    <tr>\n",
       "      <th>21</th>\n",
       "      <td>90.0</td>\n",
       "      <td>0.227323</td>\n",
       "      <td>21668</td>\n",
       "      <td>13902</td>\n",
       "      <td>7766</td>\n",
       "      <td>2382</td>\n",
       "      <td>87</td>\n",
       "      <td>0.641591</td>\n",
       "      <td>0.993781</td>\n",
       "      <td>0.779763</td>\n",
       "      <td>0.895470</td>\n",
       "    </tr>\n",
       "    <tr>\n",
       "      <th>22</th>\n",
       "      <td>95.0</td>\n",
       "      <td>0.218137</td>\n",
       "      <td>22763</td>\n",
       "      <td>13947</td>\n",
       "      <td>8816</td>\n",
       "      <td>1332</td>\n",
       "      <td>42</td>\n",
       "      <td>0.612705</td>\n",
       "      <td>0.996998</td>\n",
       "      <td>0.758979</td>\n",
       "      <td>0.885873</td>\n",
       "    </tr>\n",
       "    <tr>\n",
       "      <th>23</th>\n",
       "      <td>100.0</td>\n",
       "      <td>0.158539</td>\n",
       "      <td>24135</td>\n",
       "      <td>13989</td>\n",
       "      <td>10146</td>\n",
       "      <td>2</td>\n",
       "      <td>0</td>\n",
       "      <td>0.579615</td>\n",
       "      <td>1.000000</td>\n",
       "      <td>0.733868</td>\n",
       "      <td>0.873319</td>\n",
       "    </tr>\n",
       "  </tbody>\n",
       "</table>\n",
       "</div>"
      ],
      "text/plain": [
       "      top  threshold  lead_size  true_positive  false_positive  true_negative  \\\n",
       "0     1.0   0.844955        209            209               0          10148   \n",
       "1     2.0   0.834186        483            483               0          10148   \n",
       "2     3.0   0.833239        600            600               0          10148   \n",
       "3     4.0   0.827693        905            905               0          10148   \n",
       "4     5.0   0.825755       1206           1206               0          10148   \n",
       "5    10.0   0.796395       2319           2319               0          10148   \n",
       "6    15.0   0.789572       3498           3498               0          10148   \n",
       "7    20.0   0.784720       4560           4560               0          10148   \n",
       "8    25.0   0.773955       5906           5906               0          10148   \n",
       "9    30.0   0.770809       7222           7222               0          10148   \n",
       "10   35.0   0.749694       8418           8418               0          10148   \n",
       "11   40.0   0.682653       9655           9655               0          10148   \n",
       "12   45.0   0.635478      10768          10768               0          10148   \n",
       "13   50.0   0.570385      12059          11957             102          10046   \n",
       "14   55.0   0.358964      13271          12104            1167           8981   \n",
       "15   60.0   0.347984      14312          12451            1861           8287   \n",
       "16   65.0   0.333622      15675          13008            2667           7481   \n",
       "17   70.0   0.327399      16854          13358            3496           6652   \n",
       "18   75.0   0.292843      18102          13542            4560           5588   \n",
       "19   80.0   0.247025      19010          13655            5355           4793   \n",
       "20   85.0   0.234404      20472          13797            6675           3473   \n",
       "21   90.0   0.227323      21668          13902            7766           2382   \n",
       "22   95.0   0.218137      22763          13947            8816           1332   \n",
       "23  100.0   0.158539      24135          13989           10146              2   \n",
       "\n",
       "    false_negative  precision    recall        f1        f2  \n",
       "0            13780   1.000000  0.014940  0.029441  0.018606  \n",
       "1            13506   1.000000  0.034527  0.066750  0.042790  \n",
       "2            13389   1.000000  0.042891  0.082254  0.053045  \n",
       "3            13084   1.000000  0.064694  0.121525  0.079580  \n",
       "4            12783   1.000000  0.086211  0.158736  0.105490  \n",
       "5            11670   1.000000  0.165773  0.284400  0.198970  \n",
       "6            10491   1.000000  0.250054  0.400069  0.294177  \n",
       "7             9429   1.000000  0.325970  0.491671  0.376760  \n",
       "8             8083   1.000000  0.422189  0.593717  0.477353  \n",
       "9             6767   1.000000  0.516263  0.680967  0.571560  \n",
       "10            5571   1.000000  0.601759  0.751372  0.653835  \n",
       "11            4334   1.000000  0.690185  0.816698  0.735776  \n",
       "12            3221   1.000000  0.769748  0.869895  0.806906  \n",
       "13            2032   0.991542  0.854743  0.918074  0.878997  \n",
       "14            1885   0.912064  0.865251  0.888041  0.874225  \n",
       "15            1538   0.869969  0.890056  0.879898  0.885965  \n",
       "16             981   0.829856  0.929873  0.877023  0.907987  \n",
       "17             631   0.792571  0.954893  0.866193  0.917319  \n",
       "18             447   0.748094  0.968046  0.843975  0.914283  \n",
       "19             334   0.718306  0.976124  0.827601  0.910746  \n",
       "20             192   0.673945  0.986275  0.800731  0.902614  \n",
       "21              87   0.641591  0.993781  0.779763  0.895470  \n",
       "22              42   0.612705  0.996998  0.758979  0.885873  \n",
       "23               0   0.579615  1.000000  0.733868  0.873319  "
      ]
     },
     "execution_count": 36,
     "metadata": {},
     "output_type": "execute_result"
    }
   ],
   "source": [
    "eval_df = pd.DataFrame({'y_true': y_test, 'y_pred': y_test_score[:, 1]})\n",
    "threshold_analysis(eval_df, 'y_true', 'y_pred', tops=None)"
   ]
  },
  {
   "cell_type": "code",
   "execution_count": 60,
   "id": "1dff1f5b-38eb-4bf9-abc2-692f944613fe",
   "metadata": {},
   "outputs": [],
   "source": [
    "threshold = 0.347984\n",
    "test_df['predict'] = np.where(y_test_score[:, 1] >= threshold, 1, 0)"
   ]
  },
  {
   "cell_type": "code",
   "execution_count": 61,
   "id": "b3d1cd60-1503-456a-8b96-f21ddc9ca3c1",
   "metadata": {},
   "outputs": [
    {
     "data": {
      "text/html": [
       "<div>\n",
       "<style scoped>\n",
       "    .dataframe tbody tr th:only-of-type {\n",
       "        vertical-align: middle;\n",
       "    }\n",
       "\n",
       "    .dataframe tbody tr th {\n",
       "        vertical-align: top;\n",
       "    }\n",
       "\n",
       "    .dataframe thead th {\n",
       "        text-align: right;\n",
       "    }\n",
       "</style>\n",
       "<table border=\"1\" class=\"dataframe\">\n",
       "  <thead>\n",
       "    <tr style=\"text-align: right;\">\n",
       "      <th></th>\n",
       "      <th>ID</th>\n",
       "      <th>Gender</th>\n",
       "      <th>DOB</th>\n",
       "      <th>Lead_Creation_Date</th>\n",
       "      <th>City_Code</th>\n",
       "      <th>City_Category</th>\n",
       "      <th>Employer_Code</th>\n",
       "      <th>Employer_Category1</th>\n",
       "      <th>Employer_Category2</th>\n",
       "      <th>Monthly_Income</th>\n",
       "      <th>...</th>\n",
       "      <th>Loan_Amount</th>\n",
       "      <th>Loan_Period</th>\n",
       "      <th>Interest_Rate</th>\n",
       "      <th>EMI</th>\n",
       "      <th>Var1</th>\n",
       "      <th>Approved</th>\n",
       "      <th>Age</th>\n",
       "      <th>Apply</th>\n",
       "      <th>lead_month</th>\n",
       "      <th>predict</th>\n",
       "    </tr>\n",
       "  </thead>\n",
       "  <tbody>\n",
       "    <tr>\n",
       "      <th>3</th>\n",
       "      <td>APPF80273865537</td>\n",
       "      <td>Male</td>\n",
       "      <td>1989-01-30</td>\n",
       "      <td>2016-09-07</td>\n",
       "      <td>C10477</td>\n",
       "      <td>C</td>\n",
       "      <td>COM0004143</td>\n",
       "      <td>A</td>\n",
       "      <td>4.0</td>\n",
       "      <td>3500.0</td>\n",
       "      <td>...</td>\n",
       "      <td>92000.0</td>\n",
       "      <td>5.0</td>\n",
       "      <td>NaN</td>\n",
       "      <td>NaN</td>\n",
       "      <td>7</td>\n",
       "      <td>0</td>\n",
       "      <td>27.603578</td>\n",
       "      <td>1</td>\n",
       "      <td>2016-09</td>\n",
       "      <td>1</td>\n",
       "    </tr>\n",
       "    <tr>\n",
       "      <th>10</th>\n",
       "      <td>APPP50632654511</td>\n",
       "      <td>Male</td>\n",
       "      <td>1983-08-24</td>\n",
       "      <td>2016-09-07</td>\n",
       "      <td>C10030</td>\n",
       "      <td>B</td>\n",
       "      <td>COM0002632</td>\n",
       "      <td>B</td>\n",
       "      <td>4.0</td>\n",
       "      <td>2700.0</td>\n",
       "      <td>...</td>\n",
       "      <td>20000.0</td>\n",
       "      <td>5.0</td>\n",
       "      <td>18.0</td>\n",
       "      <td>508.0</td>\n",
       "      <td>7</td>\n",
       "      <td>0</td>\n",
       "      <td>33.041062</td>\n",
       "      <td>1</td>\n",
       "      <td>2016-09</td>\n",
       "      <td>1</td>\n",
       "    </tr>\n",
       "    <tr>\n",
       "      <th>314</th>\n",
       "      <td>APPG70351847649</td>\n",
       "      <td>Male</td>\n",
       "      <td>1988-05-23</td>\n",
       "      <td>2016-12-07</td>\n",
       "      <td>C10013</td>\n",
       "      <td>B</td>\n",
       "      <td>COM0000765</td>\n",
       "      <td>A</td>\n",
       "      <td>4.0</td>\n",
       "      <td>3655.0</td>\n",
       "      <td>...</td>\n",
       "      <td>50000.0</td>\n",
       "      <td>4.0</td>\n",
       "      <td>18.0</td>\n",
       "      <td>1469.0</td>\n",
       "      <td>10</td>\n",
       "      <td>0</td>\n",
       "      <td>28.542681</td>\n",
       "      <td>1</td>\n",
       "      <td>2016-12</td>\n",
       "      <td>1</td>\n",
       "    </tr>\n",
       "    <tr>\n",
       "      <th>1943</th>\n",
       "      <td>APPY30246034645</td>\n",
       "      <td>Male</td>\n",
       "      <td>1981-07-12</td>\n",
       "      <td>2016-09-07</td>\n",
       "      <td>C10009</td>\n",
       "      <td>B</td>\n",
       "      <td>COM0006146</td>\n",
       "      <td>C</td>\n",
       "      <td>4.0</td>\n",
       "      <td>8000.0</td>\n",
       "      <td>...</td>\n",
       "      <td>120000.0</td>\n",
       "      <td>5.0</td>\n",
       "      <td>16.0</td>\n",
       "      <td>2918.0</td>\n",
       "      <td>10</td>\n",
       "      <td>0</td>\n",
       "      <td>35.157464</td>\n",
       "      <td>1</td>\n",
       "      <td>2016-09</td>\n",
       "      <td>1</td>\n",
       "    </tr>\n",
       "    <tr>\n",
       "      <th>3100</th>\n",
       "      <td>APPS40694833006</td>\n",
       "      <td>Female</td>\n",
       "      <td>1990-10-31</td>\n",
       "      <td>2016-10-07</td>\n",
       "      <td>C10003</td>\n",
       "      <td>A</td>\n",
       "      <td>COM0000295</td>\n",
       "      <td>A</td>\n",
       "      <td>4.0</td>\n",
       "      <td>6500.0</td>\n",
       "      <td>...</td>\n",
       "      <td>NaN</td>\n",
       "      <td>NaN</td>\n",
       "      <td>NaN</td>\n",
       "      <td>NaN</td>\n",
       "      <td>0</td>\n",
       "      <td>0</td>\n",
       "      <td>25.936193</td>\n",
       "      <td>0</td>\n",
       "      <td>2016-10</td>\n",
       "      <td>0</td>\n",
       "    </tr>\n",
       "  </tbody>\n",
       "</table>\n",
       "<p>5 rows × 26 columns</p>\n",
       "</div>"
      ],
      "text/plain": [
       "                   ID  Gender        DOB Lead_Creation_Date City_Code  \\\n",
       "3     APPF80273865537    Male 1989-01-30         2016-09-07    C10477   \n",
       "10    APPP50632654511    Male 1983-08-24         2016-09-07    C10030   \n",
       "314   APPG70351847649    Male 1988-05-23         2016-12-07    C10013   \n",
       "1943  APPY30246034645    Male 1981-07-12         2016-09-07    C10009   \n",
       "3100  APPS40694833006  Female 1990-10-31         2016-10-07    C10003   \n",
       "\n",
       "     City_Category Employer_Code Employer_Category1 Employer_Category2  \\\n",
       "3                C    COM0004143                  A                4.0   \n",
       "10               B    COM0002632                  B                4.0   \n",
       "314              B    COM0000765                  A                4.0   \n",
       "1943             B    COM0006146                  C                4.0   \n",
       "3100             A    COM0000295                  A                4.0   \n",
       "\n",
       "      Monthly_Income  ... Loan_Amount Loan_Period Interest_Rate     EMI Var1  \\\n",
       "3             3500.0  ...     92000.0         5.0           NaN     NaN    7   \n",
       "10            2700.0  ...     20000.0         5.0          18.0   508.0    7   \n",
       "314           3655.0  ...     50000.0         4.0          18.0  1469.0   10   \n",
       "1943          8000.0  ...    120000.0         5.0          16.0  2918.0   10   \n",
       "3100          6500.0  ...         NaN         NaN           NaN     NaN    0   \n",
       "\n",
       "      Approved        Age  Apply  lead_month  predict  \n",
       "3            0  27.603578      1     2016-09        1  \n",
       "10           0  33.041062      1     2016-09        1  \n",
       "314          0  28.542681      1     2016-12        1  \n",
       "1943         0  35.157464      1     2016-09        1  \n",
       "3100         0  25.936193      0     2016-10        0  \n",
       "\n",
       "[5 rows x 26 columns]"
      ]
     },
     "execution_count": 61,
     "metadata": {},
     "output_type": "execute_result"
    }
   ],
   "source": [
    "test_df.head()"
   ]
  },
  {
   "cell_type": "code",
   "execution_count": 62,
   "id": "47d19d4d-b2c7-4935-8f08-78a4ac1fbe8b",
   "metadata": {},
   "outputs": [
    {
     "data": {
      "text/html": [
       "<div>\n",
       "<style scoped>\n",
       "    .dataframe tbody tr th:only-of-type {\n",
       "        vertical-align: middle;\n",
       "    }\n",
       "\n",
       "    .dataframe tbody tr th {\n",
       "        vertical-align: top;\n",
       "    }\n",
       "\n",
       "    .dataframe thead th {\n",
       "        text-align: right;\n",
       "    }\n",
       "</style>\n",
       "<table border=\"1\" class=\"dataframe\">\n",
       "  <thead>\n",
       "    <tr style=\"text-align: right;\">\n",
       "      <th></th>\n",
       "      <th>ID</th>\n",
       "      <th>Apply</th>\n",
       "      <th>Loan_Amount</th>\n",
       "    </tr>\n",
       "    <tr>\n",
       "      <th>predict</th>\n",
       "      <th></th>\n",
       "      <th></th>\n",
       "      <th></th>\n",
       "    </tr>\n",
       "  </thead>\n",
       "  <tbody>\n",
       "    <tr>\n",
       "      <th>0</th>\n",
       "      <td>9825</td>\n",
       "      <td>1538</td>\n",
       "      <td>56044000.0</td>\n",
       "    </tr>\n",
       "    <tr>\n",
       "      <th>1</th>\n",
       "      <td>14312</td>\n",
       "      <td>12451</td>\n",
       "      <td>500922000.0</td>\n",
       "    </tr>\n",
       "  </tbody>\n",
       "</table>\n",
       "</div>"
      ],
      "text/plain": [
       "            ID  Apply  Loan_Amount\n",
       "predict                           \n",
       "0         9825   1538   56044000.0\n",
       "1        14312  12451  500922000.0"
      ]
     },
     "execution_count": 62,
     "metadata": {},
     "output_type": "execute_result"
    }
   ],
   "source": [
    "test_df.groupby('predict').agg({\n",
    "    'ID': 'count',\n",
    "    'Apply': 'sum',\n",
    "    'Loan_Amount': 'sum'\n",
    "})"
   ]
  },
  {
   "cell_type": "markdown",
   "id": "0d538f9d-81a0-4201-8626-7e2c494689c5",
   "metadata": {},
   "source": [
    "## Verify Data"
   ]
  },
  {
   "cell_type": "code",
   "execution_count": 25,
   "id": "b99d7a5e-58f0-4d71-8645-a329f923a587",
   "metadata": {},
   "outputs": [
    {
     "name": "stderr",
     "output_type": "stream",
     "text": [
      "/Users/sukhumarn.a/Documents/Data Science/RL for Marketing/notebooks/virtualENV/lib/python3.9/site-packages/deepchecks/checks.py:21: DeprecationWarning:\n",
      "\n",
      "Ability to import tabular checks from the `deepchecks.checks` is deprecated, please import from `deepchecks.tabular.checks` instead\n",
      "\n",
      "/Users/sukhumarn.a/Documents/Data Science/RL for Marketing/notebooks/virtualENV/lib/python3.9/site-packages/deepchecks/__init__.py:127: DeprecationWarning:\n",
      "\n",
      "Ability to import base tabular functionality from the `deepchecks` package directly is deprecated, please import from `deepchecks.tabular` instead\n",
      "\n"
     ]
    }
   ],
   "source": [
    "from deepchecks.checks import WholeDatasetDrift\n",
    "from deepchecks import Dataset\n",
    "from deepchecks.tabular.suites import full_suite"
   ]
  },
  {
   "cell_type": "code",
   "execution_count": 26,
   "id": "093657b0-1717-4563-a00b-caf128f91dfa",
   "metadata": {},
   "outputs": [],
   "source": [
    "train_df[cat_feats] = train_df[cat_feats].astype(str)\n",
    "test_df[cat_feats] = test_df[cat_feats].astype(str)"
   ]
  },
  {
   "cell_type": "code",
   "execution_count": 27,
   "id": "b55305b7-669d-45f1-96af-afa5066244ba",
   "metadata": {},
   "outputs": [
    {
     "data": {
      "text/plain": [
       "deepchecks.tabular.dataset.Dataset"
      ]
     },
     "execution_count": 27,
     "metadata": {},
     "output_type": "execute_result"
    }
   ],
   "source": [
    "Dataset"
   ]
  },
  {
   "cell_type": "code",
   "execution_count": 28,
   "id": "958e9f89-5190-46cb-9246-e11db74fe348",
   "metadata": {},
   "outputs": [],
   "source": [
    "train_ds = Dataset(train_df[feat_cols+[label_col, date_col]], label=label_col, cat_features=cat_feats, datetime_name=date_col)\n",
    "test_ds = Dataset(test_df[feat_cols+[label_col, date_col]], label=label_col, cat_features=cat_feats, datetime_name=date_col)"
   ]
  },
  {
   "cell_type": "code",
   "execution_count": 29,
   "id": "3b7665a5-a731-4fce-86f3-e32df6873071",
   "metadata": {},
   "outputs": [
    {
     "data": {
      "application/vnd.jupyter.widget-view+json": {
       "model_id": "208aaf40085740288c45f0c64814dbcc",
       "version_major": 2,
       "version_minor": 0
      },
      "text/plain": [
       "Full Suite:   0%|          | 0/36 [00:00<?, ? Check/s]"
      ]
     },
     "metadata": {},
     "output_type": "display_data"
    },
    {
     "name": "stderr",
     "output_type": "stream",
     "text": [
      "deepchecks - WARNING - Cannot use model's built-in feature importance on a Scikit-learn Pipeline, using permutation feature importance calculation instead\n",
      "deepchecks - WARNING - Calculating permutation feature importance without time limit. Expected to finish in 14 seconds\n",
      "/Users/sukhumarn.a/Documents/Data Science/RL for Marketing/notebooks/virtualENV/lib/python3.9/site-packages/category_encoders/target_encoder.py:92: FutureWarning:\n",
      "\n",
      "Default parameter min_samples_leaf will change in version 2.6.See https://github.com/scikit-learn-contrib/category_encoders/issues/327\n",
      "\n",
      "/Users/sukhumarn.a/Documents/Data Science/RL for Marketing/notebooks/virtualENV/lib/python3.9/site-packages/category_encoders/target_encoder.py:97: FutureWarning:\n",
      "\n",
      "Default parameter smoothing will change in version 2.6.See https://github.com/scikit-learn-contrib/category_encoders/issues/327\n",
      "\n",
      "/Users/sukhumarn.a/Documents/Data Science/RL for Marketing/notebooks/virtualENV/lib/python3.9/site-packages/category_encoders/target_encoder.py:92: FutureWarning:\n",
      "\n",
      "Default parameter min_samples_leaf will change in version 2.6.See https://github.com/scikit-learn-contrib/category_encoders/issues/327\n",
      "\n",
      "/Users/sukhumarn.a/Documents/Data Science/RL for Marketing/notebooks/virtualENV/lib/python3.9/site-packages/category_encoders/target_encoder.py:97: FutureWarning:\n",
      "\n",
      "Default parameter smoothing will change in version 2.6.See https://github.com/scikit-learn-contrib/category_encoders/issues/327\n",
      "\n",
      "deepchecks - WARNING - It is recommended to initialize Dataset with categorical features by doing \"Dataset(df, cat_features=categorical_list)\". No categorical features were passed, therefore heuristically inferring categorical features in the data. 6 categorical features were inferred.: Gender, City_Category, Employer_Category1, Employer_Category2, Primary_Bank_Type, Source_Category\n"
     ]
    }
   ],
   "source": [
    "suite = full_suite()\n",
    "suite_result = suite.run(train_dataset=train_ds, test_dataset=test_ds, model=pipeline)"
   ]
  },
  {
   "cell_type": "code",
   "execution_count": 30,
   "id": "959015b6-2e20-4de3-aea9-6ee1382bd9aa",
   "metadata": {},
   "outputs": [
    {
     "data": {
      "text/plain": [
       "'banking_lead_sult_result.html'"
      ]
     },
     "execution_count": 30,
     "metadata": {},
     "output_type": "execute_result"
    }
   ],
   "source": [
    "suite_result.save_as_html('banking_lead_sult_result.html')"
   ]
  }
 ],
 "metadata": {
  "kernelspec": {
   "display_name": "virtualENV",
   "language": "python",
   "name": "virtualenv"
  },
  "language_info": {
   "codemirror_mode": {
    "name": "ipython",
    "version": 3
   },
   "file_extension": ".py",
   "mimetype": "text/x-python",
   "name": "python",
   "nbconvert_exporter": "python",
   "pygments_lexer": "ipython3",
   "version": "3.9.7"
  }
 },
 "nbformat": 4,
 "nbformat_minor": 5
}
