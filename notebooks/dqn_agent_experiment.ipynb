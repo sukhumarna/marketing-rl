{
 "cells": [
  {
   "cell_type": "markdown",
   "id": "80e47fb9-4b1d-48b7-ac5c-ebb5ed49a222",
   "metadata": {},
   "source": [
    "# Deep Q-Learning for Credit Card Propensity-to-Buy Classification"
   ]
  },
  {
   "cell_type": "code",
   "execution_count": 4,
   "id": "016938d3-9afb-426a-b423-90216fa3ccdc",
   "metadata": {},
   "outputs": [],
   "source": [
    "import pandas as pd\n",
    "import numpy as np\n",
    "import matplotlib.pyplot as plt\n",
    "from sklearn.model_selection import train_test_split\n",
    "from sklearn.pipeline import Pipeline\n",
    "from sklearn.compose import ColumnTransformer\n",
    "from sklearn.preprocessing import OneHotEncoder, StandardScaler, OrdinalEncoder\n",
    "from sklearn.impute import SimpleImputer\n",
    "from sklearn.metrics import roc_curve, roc_auc_score\n",
    "from rl.agents.dqn import DQNAgent\n",
    "from rl.policy import EpsGreedyQPolicy, LinearAnnealedPolicy\n",
    "from rl.memory import SequentialMemory\n",
    "from rl.core import Processor\n",
    "from tensorflow.keras.optimizers import Adam\n",
    "from tensorflow.keras.models import Sequential\n",
    "from tensorflow.keras.layers import Dense, Flatten\n",
    "\n",
    "import sys\n",
    "sys.path.append('..')\n",
    "from marketing_rl.environment.biclass_env import BiClassEnvironment, EnvMode"
   ]
  },
  {
   "cell_type": "markdown",
   "id": "60116d8f-1595-4dbb-94ff-a2c7e8d7bcdf",
   "metadata": {},
   "source": [
    "## Prep Data"
   ]
  },
  {
   "cell_type": "markdown",
   "id": "f4858108-3692-4e1c-841d-ac28f0ef7039",
   "metadata": {},
   "source": [
    "### Prep Credit Card Data"
   ]
  },
  {
   "cell_type": "code",
   "execution_count": 2,
   "id": "892e464d-5298-4d8c-9695-a37ed0771d99",
   "metadata": {},
   "outputs": [
    {
     "name": "stdout",
     "output_type": "stream",
     "text": [
      "total data size is 245725\n"
     ]
    }
   ],
   "source": [
    "data_path = 'data/Credit Card Lead Prediction/train.csv'\n",
    "df = pd.read_csv(data_path)\n",
    "print('total data size is', df.shape[0])\n"
   ]
  },
  {
   "cell_type": "code",
   "execution_count": 3,
   "id": "8ab2093b-bd46-47d2-a8eb-6c0d6da98313",
   "metadata": {},
   "outputs": [],
   "source": [
    "label_col = 'Is_Lead'\n",
    "index_col = 'ID'\n",
    "feat_cols = ['Gender', 'Age', 'Region_Code', 'Occupation', 'Channel_Code',\n",
    "             'Vintage', 'Credit_Product', 'Avg_Account_Balance', 'Is_Active']"
   ]
  },
  {
   "cell_type": "code",
   "execution_count": 4,
   "id": "b280d0c7-57c5-4912-b33c-c10af1966039",
   "metadata": {},
   "outputs": [
    {
     "name": "stdout",
     "output_type": "stream",
     "text": [
      "train size is 172007\n",
      "test size is 73718\n",
      "train positive 40818, train negative 131189\n"
     ]
    }
   ],
   "source": [
    "X_train, X_test, y_train, y_test = train_test_split(df[feat_cols], df[label_col], random_state=0, test_size=0.3, shuffle=True)\n",
    "print('train size is', X_train.shape[0])\n",
    "print('test size is', X_test.shape[0])\n",
    "print('train positive {}, train negative {}'.format(sum(y_train==1),sum(y_train==0)))"
   ]
  },
  {
   "cell_type": "code",
   "execution_count": 5,
   "id": "1c8127ce-c236-4670-8ec4-0deea056e15d",
   "metadata": {},
   "outputs": [],
   "source": [
    "numer_feats = ['Age', 'Vintage', 'Avg_Account_Balance']\n",
    "numer_transformer = StandardScaler()\n",
    "\n",
    "\n",
    "binary_feats = ['Is_Active', 'Credit_Product']\n",
    "binary_transformer = Pipeline(\n",
    "    steps=[(\"imputer\", SimpleImputer(strategy=\"constant\", fill_value='No')), (\"ordinal\", OrdinalEncoder())]\n",
    ")\n",
    "\n",
    "cat_feats = ['Gender', 'Region_Code', 'Occupation', 'Channel_Code']\n",
    "cat_transformer = OneHotEncoder(handle_unknown='ignore')\n",
    "\n",
    "transformer = ColumnTransformer(\n",
    "    transformers=[\n",
    "        (\"num\", numer_transformer, numer_feats),\n",
    "        (\"ordinal\", binary_transformer, binary_feats),\n",
    "        (\"cat\", cat_transformer, cat_feats)\n",
    "    ], sparse_threshold = 0\n",
    ")"
   ]
  },
  {
   "cell_type": "code",
   "execution_count": 6,
   "id": "b4f7c7b3-8a32-4450-ba35-e604f6187f01",
   "metadata": {},
   "outputs": [],
   "source": [
    "X_train_t = transformer.fit_transform(X_train);\n",
    "X_test_t = transformer.transform(X_test)\n"
   ]
  },
  {
   "cell_type": "code",
   "execution_count": 7,
   "id": "ddea2511-a5b1-48f0-bb14-b0e8873071a3",
   "metadata": {},
   "outputs": [
    {
     "name": "stdout",
     "output_type": "stream",
     "text": [
      "[train] positive sample to negative sample is 0.3111388912180137\n"
     ]
    }
   ],
   "source": [
    "pos_neg_ratio = sum(y_train==1)/sum(y_train==0)\n",
    "print('[train] positive sample to negative sample is', pos_neg_ratio)\n"
   ]
  },
  {
   "cell_type": "markdown",
   "id": "9dd56329-5afb-4925-b9e2-851e8a0645a7",
   "metadata": {},
   "source": [
    "### Prep Environment"
   ]
  },
  {
   "cell_type": "code",
   "execution_count": 22,
   "id": "657a7176-6e08-46fb-8300-1017f2acba4b",
   "metadata": {},
   "outputs": [],
   "source": [
    "data_x = np.array(X_train_t)\n",
    "data_y = np.array(y_train)"
   ]
  },
  {
   "cell_type": "code",
   "execution_count": 23,
   "id": "f9fd385e-8c41-4442-8f93-9fc686b6673e",
   "metadata": {},
   "outputs": [],
   "source": [
    "env = BiClassEnvironment(data_x=data_x, data_y=data_y, pos_neg_ratio=pos_neg_ratio)"
   ]
  },
  {
   "cell_type": "markdown",
   "id": "7a52a2cb-7653-45a2-b34d-1d6cbd05d3ac",
   "metadata": {},
   "source": [
    "## Deep Q-Network Initalization"
   ]
  },
  {
   "cell_type": "code",
   "execution_count": 24,
   "id": "1a291fd9-0694-4016-972c-bd6bc10d0122",
   "metadata": {},
   "outputs": [],
   "source": [
    "class ClassifyProcessor(Processor):\n",
    "    def __init__(self, input_shape):\n",
    "        super(ClassifyProcessor, self).__init__()\n",
    "        self.input_shape = input_shape\n",
    "        \n",
    "    def process_observation(self, observation):\n",
    "        return observation\n",
    "    \n",
    "    def process_state_batch(self, batch):\n",
    "        batch.reshape((-1,)+self.input_shape)\n",
    "        # batch.astype(float32)/1.\n",
    "        return batch\n",
    "    \n",
    "    def process_reward(self, reward):\n",
    "        return np.clip(reward, -1., 1.)\n"
   ]
  },
  {
   "cell_type": "code",
   "execution_count": 25,
   "id": "1a9f10f3-2950-42d3-863f-8c33ae56b7cf",
   "metadata": {},
   "outputs": [],
   "source": [
    "input_shape = X_train_t.shape[1:]\n",
    "output_size = 2 \n",
    "\n",
    "# define memory, processor and policy\n",
    "memory = SequentialMemory(limit=1000, window_length=1)\n",
    "processor = ClassifyProcessor(input_shape=input_shape)\n",
    "policy = LinearAnnealedPolicy(EpsGreedyQPolicy(), attr='eps', value_max=1.,\n",
    "                             value_min=.1, value_test=.05, nb_steps=10000)\n",
    "\n",
    "# define model\n",
    "model = Sequential()\n",
    "model.add(Flatten(input_shape=(1,)+input_shape))\n",
    "model.add(Dense(64, activation='relu'))\n",
    "model.add(Dense(output_size, activation='linear'))\n",
    "\n",
    "# define dqn agent\n",
    "dqn = DQNAgent(model=model, nb_actions=output_size, policy=policy, memory=memory,\n",
    "              processor=processor, nb_steps_warmup=10000, gamma=0.5, target_model_update=1000)\n",
    "\n",
    "dqn.compile(Adam(learning_rate=.00025), metrics=['mae'])"
   ]
  },
  {
   "cell_type": "code",
   "execution_count": 26,
   "id": "f5ec9122-3b31-4f5d-ba82-4e5e00002a87",
   "metadata": {
    "tags": []
   },
   "outputs": [
    {
     "name": "stdout",
     "output_type": "stream",
     "text": [
      "Training for 30000 steps ...\n",
      "Interval 1 (0 steps performed)\n",
      " 130/1000 [==>...........................] - ETA: 0s - reward: -0.0680"
     ]
    },
    {
     "name": "stderr",
     "output_type": "stream",
     "text": [
      "/Users/sukhumarn.a/Documents/Data Science/RL for Marketing/notebooks/virtualENV/lib/python3.9/site-packages/keras/engine/training_v1.py:2079: UserWarning: `Model.state_updates` will be removed in a future version. This property should not be used in TensorFlow 2.0, as `updates` are applied automatically.\n",
      "  updates=self.state_updates,\n"
     ]
    },
    {
     "name": "stdout",
     "output_type": "stream",
     "text": [
      "1000/1000 [==============================] - 1s 840us/step - reward: -0.0260\n",
      "119 episodes - episode_reward: -0.219 [-2.556, 6.000]\n",
      "\n",
      "Interval 2 (1000 steps performed)\n",
      "1000/1000 [==============================] - 1s 781us/step - reward: -0.0050\n",
      "108 episodes - episode_reward: -0.055 [-3.178, 6.622]\n",
      "\n",
      "Interval 3 (2000 steps performed)\n",
      "1000/1000 [==============================] - 1s 697us/step - reward: 0.0068\n",
      "88 episodes - episode_reward: 0.084 [-2.978, 5.689]\n",
      "\n",
      "Interval 4 (3000 steps performed)\n",
      "1000/1000 [==============================] - 1s 637us/step - reward: 0.0333\n",
      "65 episodes - episode_reward: 0.492 [-3.667, 9.689]\n",
      "\n",
      "Interval 5 (4000 steps performed)\n",
      "1000/1000 [==============================] - 1s 612us/step - reward: 0.0289\n",
      "62 episodes - episode_reward: 0.435 [-2.867, 13.511]\n",
      "\n",
      "Interval 6 (5000 steps performed)\n",
      "1000/1000 [==============================] - 1s 636us/step - reward: -0.0135\n",
      "62 episodes - episode_reward: -0.161 [-3.467, 5.266]\n",
      "\n",
      "Interval 7 (6000 steps performed)\n",
      "1000/1000 [==============================] - 1s 600us/step - reward: -0.0156\n",
      "52 episodes - episode_reward: -0.164 [-3.489, 11.644]\n",
      "\n",
      "Interval 8 (7000 steps performed)\n",
      "1000/1000 [==============================] - 1s 636us/step - reward: 0.0100\n",
      "46 episodes - episode_reward: 0.088 [-7.845, 8.333]\n",
      "\n",
      "Interval 9 (8000 steps performed)\n",
      "1000/1000 [==============================] - 1s 553us/step - reward: -0.0382\n",
      "25 episodes - episode_reward: -1.596 [-6.780, 3.621]\n",
      "\n",
      "Interval 10 (9000 steps performed)\n",
      "1000/1000 [==============================] - 1s 558us/step - reward: -0.0180\n",
      "28 episodes - episode_reward: -0.598 [-5.401, 4.711]\n",
      "\n",
      "Interval 11 (10000 steps performed)\n",
      "1000/1000 [==============================] - 6s 6ms/step - reward: 0.1187\n",
      "45 episodes - episode_reward: 2.628 [-3.134, 15.466] - loss: 0.147 - mae: 0.321 - mean_q: 0.396 - mean_eps: 0.100\n",
      "\n",
      "Interval 12 (11000 steps performed)\n",
      "1000/1000 [==============================] - 4s 4ms/step - reward: 0.1383\n",
      "53 episodes - episode_reward: 2.603 [-1.311, 15.111] - loss: 0.131 - mae: 0.317 - mean_q: 0.394 - mean_eps: 0.100\n",
      "\n",
      "Interval 13 (12000 steps performed)\n",
      "1000/1000 [==============================] - 4s 4ms/step - reward: 0.1502\n",
      "46 episodes - episode_reward: 3.067 [-1.311, 15.800] - loss: 0.129 - mae: 0.298 - mean_q: 0.339 - mean_eps: 0.100\n",
      "\n",
      "Interval 14 (13000 steps performed)\n",
      "1000/1000 [==============================] - 5s 5ms/step - reward: 0.1204\n",
      "77 episodes - episode_reward: 1.662 [-1.622, 12.734] - loss: 0.137 - mae: 0.292 - mean_q: 0.343 - mean_eps: 0.100\n",
      "\n",
      "Interval 15 (14000 steps performed)\n",
      "1000/1000 [==============================] - 6s 6ms/step - reward: 0.1609\n",
      "44 episodes - episode_reward: 3.641 [-1.622, 12.978] - loss: 0.134 - mae: 0.310 - mean_q: 0.350 - mean_eps: 0.100\n",
      "\n",
      "Interval 16 (15000 steps performed)\n",
      "1000/1000 [==============================] - 4s 4ms/step - reward: 0.1468\n",
      "64 episodes - episode_reward: 2.083 [-1.622, 14.090] - loss: 0.127 - mae: 0.296 - mean_q: 0.344 - mean_eps: 0.100\n",
      "\n",
      "Interval 17 (16000 steps performed)\n",
      "1000/1000 [==============================] - 4s 4ms/step - reward: 0.1504\n",
      "62 episodes - episode_reward: 2.632 [-1.622, 19.311] - loss: 0.130 - mae: 0.298 - mean_q: 0.342 - mean_eps: 0.100\n",
      "\n",
      "Interval 18 (17000 steps performed)\n",
      "1000/1000 [==============================] - 4s 4ms/step - reward: 0.1442\n",
      "59 episodes - episode_reward: 2.405 [-2.556, 20.223] - loss: 0.123 - mae: 0.292 - mean_q: 0.338 - mean_eps: 0.100\n",
      "\n",
      "Interval 19 (18000 steps performed)\n",
      "1000/1000 [==============================] - 4s 4ms/step - reward: 0.1668\n",
      "50 episodes - episode_reward: 3.448 [-1.622, 22.423] - loss: 0.129 - mae: 0.307 - mean_q: 0.356 - mean_eps: 0.100\n",
      "\n",
      "Interval 20 (19000 steps performed)\n",
      "1000/1000 [==============================] - 4s 4ms/step - reward: 0.1523\n",
      "66 episodes - episode_reward: 2.249 [-1.933, 12.601] - loss: 0.115 - mae: 0.273 - mean_q: 0.343 - mean_eps: 0.100\n",
      "\n",
      "Interval 21 (20000 steps performed)\n",
      "1000/1000 [==============================] - 4s 4ms/step - reward: 0.1647\n",
      "58 episodes - episode_reward: 2.889 [-2.245, 13.178] - loss: 0.125 - mae: 0.296 - mean_q: 0.357 - mean_eps: 0.100\n",
      "\n",
      "Interval 22 (21000 steps performed)\n",
      "1000/1000 [==============================] - 4s 4ms/step - reward: 0.1498\n",
      "73 episodes - episode_reward: 2.026 [-2.245, 14.534] - loss: 0.127 - mae: 0.291 - mean_q: 0.348 - mean_eps: 0.100\n",
      "\n",
      "Interval 23 (22000 steps performed)\n",
      "1000/1000 [==============================] - 5s 5ms/step - reward: 0.1552\n",
      "61 episodes - episode_reward: 2.518 [-1.933, 25.156] - loss: 0.126 - mae: 0.312 - mean_q: 0.343 - mean_eps: 0.100\n",
      "\n",
      "Interval 24 (23000 steps performed)\n",
      "1000/1000 [==============================] - 5s 5ms/step - reward: 0.1786\n",
      "59 episodes - episode_reward: 2.988 [-1.311, 19.045] - loss: 0.128 - mae: 0.320 - mean_q: 0.358 - mean_eps: 0.100\n",
      "\n",
      "Interval 25 (24000 steps performed)\n",
      "1000/1000 [==============================] - 5s 5ms/step - reward: 0.1545\n",
      "60 episodes - episode_reward: 2.661 [-1.622, 23.978] - loss: 0.129 - mae: 0.339 - mean_q: 0.362 - mean_eps: 0.100\n",
      "\n",
      "Interval 26 (25000 steps performed)\n",
      "1000/1000 [==============================] - 5s 5ms/step - reward: 0.1316\n",
      "64 episodes - episode_reward: 2.052 [-1.933, 21.489] - loss: 0.130 - mae: 0.314 - mean_q: 0.349 - mean_eps: 0.100\n",
      "\n",
      "Interval 27 (26000 steps performed)\n",
      "1000/1000 [==============================] - 5s 5ms/step - reward: 0.1952\n",
      "46 episodes - episode_reward: 4.288 [-1.622, 21.556] - loss: 0.124 - mae: 0.321 - mean_q: 0.324 - mean_eps: 0.100\n",
      "\n",
      "Interval 28 (27000 steps performed)\n",
      "1000/1000 [==============================] - 6s 6ms/step - reward: 0.1655\n",
      "69 episodes - episode_reward: 2.120 [-1.933, 21.978] - loss: 0.135 - mae: 0.309 - mean_q: 0.411 - mean_eps: 0.100\n",
      "\n",
      "Interval 29 (28000 steps performed)\n",
      "1000/1000 [==============================] - 6s 6ms/step - reward: 0.1831\n",
      "54 episodes - episode_reward: 3.742 [-1.933, 22.622] - loss: 0.136 - mae: 0.299 - mean_q: 0.391 - mean_eps: 0.100\n",
      "\n",
      "Interval 30 (29000 steps performed)\n",
      "1000/1000 [==============================] - 5s 5ms/step - reward: 0.1298\n",
      "done, took 101.069 seconds\n"
     ]
    },
    {
     "data": {
      "text/plain": [
       "<keras.callbacks.History at 0x7f8238860160>"
      ]
     },
     "execution_count": 26,
     "metadata": {},
     "output_type": "execute_result"
    }
   ],
   "source": [
    "dqn.fit(env, nb_steps=30000, log_interval=1000)"
   ]
  },
  {
   "cell_type": "markdown",
   "id": "bcad60c6-8e3a-43c2-af1b-57af42517041",
   "metadata": {},
   "source": [
    "## Evaluation"
   ]
  },
  {
   "cell_type": "code",
   "execution_count": 27,
   "id": "3c6bc6a3-9b8c-4aa2-aa8f-d12e43b7e702",
   "metadata": {},
   "outputs": [],
   "source": [
    "data_test_x = np.array(X_test_t)\n",
    "data_test_y = np.array(y_test)"
   ]
  },
  {
   "cell_type": "code",
   "execution_count": 28,
   "id": "aff38694-1d5c-4162-82b1-da4f4cb5b416",
   "metadata": {},
   "outputs": [],
   "source": [
    "test_env = BiClassEnvironment(data_x=data_test_x, data_y=data_test_y, pos_neg_ratio=pos_neg_ratio, mode=EnvMode.TEST)"
   ]
  },
  {
   "cell_type": "code",
   "execution_count": 29,
   "id": "a8c9ad48-c15e-4b4b-acf9-a1a8ef7e1fda",
   "metadata": {},
   "outputs": [
    {
     "name": "stdout",
     "output_type": "stream",
     "text": [
      "Testing for 1 episodes ...\n",
      "Episode 1: reward: 12490.193, steps: 73718\n"
     ]
    }
   ],
   "source": [
    "history = dqn.test(test_env, nb_episodes=1, visualize=False)"
   ]
  },
  {
   "cell_type": "code",
   "execution_count": 30,
   "id": "27264e87-2e80-45d7-8138-7c87fb97e66a",
   "metadata": {},
   "outputs": [],
   "source": [
    "train_q_values = []\n",
    "for state in env.data_x:\n",
    "    q_val = list(dqn.compute_q_values([state]))\n",
    "    train_q_values.append(q_val)"
   ]
  },
  {
   "cell_type": "code",
   "execution_count": 31,
   "id": "f5e311c6-b569-4f6c-984f-24cffea99aa3",
   "metadata": {},
   "outputs": [],
   "source": [
    "test_q_values = []\n",
    "for state in test_env.data_x:\n",
    "    q_val = list(dqn.compute_q_values([state]))\n",
    "    test_q_values.append(q_val)"
   ]
  },
  {
   "cell_type": "code",
   "execution_count": 32,
   "id": "a88287cb-cca7-434b-bba7-5d9f8f48ddab",
   "metadata": {},
   "outputs": [],
   "source": [
    "y_train_pred = np.array(train_q_values)\n",
    "y_test_pred = np.array(test_q_values)"
   ]
  },
  {
   "cell_type": "code",
   "execution_count": 33,
   "id": "f7fefc1d-43b3-4de3-bf22-e6f973750942",
   "metadata": {},
   "outputs": [],
   "source": [
    "train_fpr, train_tpr, _ = roc_curve(y_train, y_train_pred[:, 1])\n",
    "test_fpr, test_tpr, _ = roc_curve(y_test, y_test_pred[:, 1])\n",
    "\n",
    "train_auc = roc_auc_score(y_train, y_train_pred[:, 1])\n",
    "test_auc = roc_auc_score(y_test, y_test_pred[:, 1])"
   ]
  },
  {
   "cell_type": "code",
   "execution_count": 34,
   "id": "ed2cf0a7-0141-433f-9d5f-f50ff11d08d5",
   "metadata": {},
   "outputs": [
    {
     "data": {
      "image/png": "[encoded data removed]",
      "text/plain": [
       "<Figure size 432x288 with 1 Axes>"
      ]
     },
     "metadata": {
      "needs_background": "light"
     },
     "output_type": "display_data"
    }
   ],
   "source": [
    "plt.figure()\n",
    "lw = 2\n",
    "plt.plot(train_fpr, train_tpr, color=\"b\",lw=lw, label=\"Train ROC curve (area = %0.2f)\" % train_auc)\n",
    "plt.plot(test_fpr, test_tpr, color=\"r\",lw=lw, label=\"Test ROC curve (area = %0.2f)\" % test_auc)\n",
    "plt.plot([0, 1], [0, 1], color=\"navy\", lw=lw, linestyle=\"--\")\n",
    "plt.xlim([0.0, 1.0])\n",
    "plt.ylim([0.0, 1.05])\n",
    "plt.xlabel(\"False Positive Rate\")\n",
    "plt.ylabel(\"True Positive Rate\")\n",
    "plt.title(\"Receiver operating characteristic example\")\n",
    "plt.legend(loc=\"lower right\")\n",
    "plt.show()"
   ]
  }
 ],
 "metadata": {
  "kernelspec": {
   "display_name": "virtualENV",
   "language": "python",
   "name": "virtualenv"
  },
  "language_info": {
   "codemirror_mode": {
    "name": "ipython",
    "version": 3
   },
   "file_extension": ".py",
   "mimetype": "text/x-python",
   "name": "python",
   "nbconvert_exporter": "python",
   "pygments_lexer": "ipython3",
   "version": "3.9.7"
  }
 },
 "nbformat": 4,
 "nbformat_minor": 5
}
