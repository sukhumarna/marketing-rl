{
 "cells": [
  {
   "cell_type": "markdown",
   "id": "efcb0045-bc9a-4415-bf79-e616e79c336e",
   "metadata": {},
   "source": [
    "Coupon Redemption for Credit Card Campaign\n",
    "=============="
   ]
  },
  {
   "cell_type": "code",
   "execution_count": 77,
   "id": "25dc8421-fd5f-4eb8-8c70-9ab78c148902",
   "metadata": {},
   "outputs": [],
   "source": [
    "import pandas as pd\n",
    "import numpy as np\n",
    "import seaborn as sns\n",
    "import matplotlib.pyplot as plt\n",
    "import re\n",
    "import optuna\n",
    "import os\n",
    "from sklearn.model_selection import cross_validate\n",
    "from sklearn.preprocessing import MultiLabelBinarizer\n",
    "from sklearn.pipeline import Pipeline\n",
    "from sklearn.compose import ColumnTransformer\n",
    "from sklearn.preprocessing import OneHotEncoder, StandardScaler, OrdinalEncoder\n",
    "from sklearn.impute import SimpleImputer\n",
    "from sklearn.ensemble import RandomForestClassifier\n",
    "from sklearn.metrics import classification_report, roc_curve, roc_auc_score"
   ]
  },
  {
   "cell_type": "code",
   "execution_count": 2,
   "id": "3bfb8c52-c81c-4432-b3b5-30bb6b3ab32c",
   "metadata": {},
   "outputs": [],
   "source": [
    "colors = sns.color_palette(\"deep\")"
   ]
  },
  {
   "cell_type": "markdown",
   "id": "b4a7a78e-efce-45bf-be67-5c1c898b48b0",
   "metadata": {},
   "source": [
    "# Load Data"
   ]
  },
  {
   "cell_type": "code",
   "execution_count": 3,
   "id": "24c3965c-ac94-473f-be2e-2ac5e550e20f",
   "metadata": {},
   "outputs": [],
   "source": [
    "data_path = '../data/Predicting Coupon Redemption'\n",
    "train_df = pd.read_csv(os.path.join(data_path, 'train.csv'))\n",
    "demo_df = pd.read_csv(os.path.join(data_path, 'customer_demographics.csv'))\n",
    "cmpn_df = pd.read_csv(os.path.join(data_path, 'campaign_data.csv'))\n",
    "cp_it_df = pd.read_csv(os.path.join(data_path, 'coupon_item_mapping.csv'))\n",
    "txn_df = pd.read_csv(os.path.join(data_path, 'customer_transaction_data.csv'))\n",
    "item_df = pd.read_csv(os.path.join(data_path, 'item_data.csv'))"
   ]
  },
  {
   "cell_type": "markdown",
   "id": "2eb329a0-5157-46d1-a757-3b4cb2b3c24b",
   "metadata": {},
   "source": [
    "# Prepare Data"
   ]
  },
  {
   "cell_type": "code",
   "execution_count": 4,
   "id": "70071a7d-9ee9-45dd-9fc0-250fbca7fe8b",
   "metadata": {},
   "outputs": [
    {
     "data": {
      "text/html": [
       "<div>\n",
       "<style scoped>\n",
       "    .dataframe tbody tr th:only-of-type {\n",
       "        vertical-align: middle;\n",
       "    }\n",
       "\n",
       "    .dataframe tbody tr th {\n",
       "        vertical-align: top;\n",
       "    }\n",
       "\n",
       "    .dataframe thead th {\n",
       "        text-align: right;\n",
       "    }\n",
       "</style>\n",
       "<table border=\"1\" class=\"dataframe\">\n",
       "  <thead>\n",
       "    <tr style=\"text-align: right;\">\n",
       "      <th></th>\n",
       "      <th>id</th>\n",
       "      <th>campaign_id</th>\n",
       "      <th>coupon_id</th>\n",
       "      <th>customer_id</th>\n",
       "      <th>redemption_status</th>\n",
       "    </tr>\n",
       "  </thead>\n",
       "  <tbody>\n",
       "    <tr>\n",
       "      <th>0</th>\n",
       "      <td>1</td>\n",
       "      <td>13</td>\n",
       "      <td>27</td>\n",
       "      <td>1053</td>\n",
       "      <td>0</td>\n",
       "    </tr>\n",
       "    <tr>\n",
       "      <th>1</th>\n",
       "      <td>2</td>\n",
       "      <td>13</td>\n",
       "      <td>116</td>\n",
       "      <td>48</td>\n",
       "      <td>0</td>\n",
       "    </tr>\n",
       "    <tr>\n",
       "      <th>2</th>\n",
       "      <td>6</td>\n",
       "      <td>9</td>\n",
       "      <td>635</td>\n",
       "      <td>205</td>\n",
       "      <td>0</td>\n",
       "    </tr>\n",
       "    <tr>\n",
       "      <th>3</th>\n",
       "      <td>7</td>\n",
       "      <td>13</td>\n",
       "      <td>644</td>\n",
       "      <td>1050</td>\n",
       "      <td>0</td>\n",
       "    </tr>\n",
       "    <tr>\n",
       "      <th>4</th>\n",
       "      <td>9</td>\n",
       "      <td>8</td>\n",
       "      <td>1017</td>\n",
       "      <td>1489</td>\n",
       "      <td>0</td>\n",
       "    </tr>\n",
       "  </tbody>\n",
       "</table>\n",
       "</div>"
      ],
      "text/plain": [
       "   id  campaign_id  coupon_id  customer_id  redemption_status\n",
       "0   1           13         27         1053                  0\n",
       "1   2           13        116           48                  0\n",
       "2   6            9        635          205                  0\n",
       "3   7           13        644         1050                  0\n",
       "4   9            8       1017         1489                  0"
      ]
     },
     "execution_count": 4,
     "metadata": {},
     "output_type": "execute_result"
    }
   ],
   "source": [
    "train_df.head()"
   ]
  },
  {
   "cell_type": "code",
   "execution_count": 5,
   "id": "1a11ff81-ed6e-434e-b3bb-1be6e1c0163b",
   "metadata": {},
   "outputs": [],
   "source": [
    "index_cols = ['campaign_id', 'coupon_id', 'customer_id']\n",
    "label_col = 'redemption_status'"
   ]
  },
  {
   "cell_type": "code",
   "execution_count": 6,
   "id": "b89e98f8-ab77-4235-9728-9ee5cfe24667",
   "metadata": {},
   "outputs": [
    {
     "name": "stdout",
     "output_type": "stream",
     "text": [
      "there are 1428 unique customers\n",
      "there are 18 unique campaigns\n",
      "there are 866 unique coupons\n"
     ]
    }
   ],
   "source": [
    "print(\"there are {} unique customers\".format(train_df['customer_id'].nunique()))\n",
    "print(\"there are {} unique campaigns\".format(train_df['campaign_id'].nunique()))\n",
    "print(\"there are {} unique coupons\".format(train_df['coupon_id'].nunique()))"
   ]
  },
  {
   "cell_type": "markdown",
   "id": "1e829e4f-245e-400f-bae7-7b546b01da5d",
   "metadata": {},
   "source": [
    "## Demographic Feature\n",
    "Combine train_df with demo_df"
   ]
  },
  {
   "cell_type": "code",
   "execution_count": 7,
   "id": "4eeeae79-b031-4b6c-8633-ca812ac79878",
   "metadata": {},
   "outputs": [
    {
     "data": {
      "text/html": [
       "<div>\n",
       "<style scoped>\n",
       "    .dataframe tbody tr th:only-of-type {\n",
       "        vertical-align: middle;\n",
       "    }\n",
       "\n",
       "    .dataframe tbody tr th {\n",
       "        vertical-align: top;\n",
       "    }\n",
       "\n",
       "    .dataframe thead th {\n",
       "        text-align: right;\n",
       "    }\n",
       "</style>\n",
       "<table border=\"1\" class=\"dataframe\">\n",
       "  <thead>\n",
       "    <tr style=\"text-align: right;\">\n",
       "      <th></th>\n",
       "      <th>id</th>\n",
       "      <th>campaign_id</th>\n",
       "      <th>coupon_id</th>\n",
       "      <th>customer_id</th>\n",
       "      <th>redemption_status</th>\n",
       "      <th>age_range</th>\n",
       "      <th>marital_status</th>\n",
       "      <th>rented</th>\n",
       "      <th>family_size</th>\n",
       "      <th>no_of_children</th>\n",
       "      <th>income_bracket</th>\n",
       "    </tr>\n",
       "  </thead>\n",
       "  <tbody>\n",
       "    <tr>\n",
       "      <th>0</th>\n",
       "      <td>1</td>\n",
       "      <td>13</td>\n",
       "      <td>27</td>\n",
       "      <td>1053</td>\n",
       "      <td>0</td>\n",
       "      <td>46-55</td>\n",
       "      <td>NaN</td>\n",
       "      <td>0.0</td>\n",
       "      <td>1</td>\n",
       "      <td>NaN</td>\n",
       "      <td>5.0</td>\n",
       "    </tr>\n",
       "    <tr>\n",
       "      <th>1</th>\n",
       "      <td>2</td>\n",
       "      <td>13</td>\n",
       "      <td>116</td>\n",
       "      <td>48</td>\n",
       "      <td>0</td>\n",
       "      <td>36-45</td>\n",
       "      <td>Married</td>\n",
       "      <td>0.0</td>\n",
       "      <td>2</td>\n",
       "      <td>NaN</td>\n",
       "      <td>3.0</td>\n",
       "    </tr>\n",
       "    <tr>\n",
       "      <th>2</th>\n",
       "      <td>6</td>\n",
       "      <td>9</td>\n",
       "      <td>635</td>\n",
       "      <td>205</td>\n",
       "      <td>0</td>\n",
       "      <td>46-55</td>\n",
       "      <td>Married</td>\n",
       "      <td>0.0</td>\n",
       "      <td>2</td>\n",
       "      <td>NaN</td>\n",
       "      <td>7.0</td>\n",
       "    </tr>\n",
       "    <tr>\n",
       "      <th>3</th>\n",
       "      <td>7</td>\n",
       "      <td>13</td>\n",
       "      <td>644</td>\n",
       "      <td>1050</td>\n",
       "      <td>0</td>\n",
       "      <td>NaN</td>\n",
       "      <td>NaN</td>\n",
       "      <td>NaN</td>\n",
       "      <td>NaN</td>\n",
       "      <td>NaN</td>\n",
       "      <td>NaN</td>\n",
       "    </tr>\n",
       "    <tr>\n",
       "      <th>4</th>\n",
       "      <td>9</td>\n",
       "      <td>8</td>\n",
       "      <td>1017</td>\n",
       "      <td>1489</td>\n",
       "      <td>0</td>\n",
       "      <td>46-55</td>\n",
       "      <td>Married</td>\n",
       "      <td>0.0</td>\n",
       "      <td>2</td>\n",
       "      <td>NaN</td>\n",
       "      <td>3.0</td>\n",
       "    </tr>\n",
       "  </tbody>\n",
       "</table>\n",
       "</div>"
      ],
      "text/plain": [
       "   id  campaign_id  coupon_id  customer_id  redemption_status age_range  \\\n",
       "0   1           13         27         1053                  0     46-55   \n",
       "1   2           13        116           48                  0     36-45   \n",
       "2   6            9        635          205                  0     46-55   \n",
       "3   7           13        644         1050                  0       NaN   \n",
       "4   9            8       1017         1489                  0     46-55   \n",
       "\n",
       "  marital_status  rented family_size no_of_children  income_bracket  \n",
       "0            NaN     0.0           1            NaN             5.0  \n",
       "1        Married     0.0           2            NaN             3.0  \n",
       "2        Married     0.0           2            NaN             7.0  \n",
       "3            NaN     NaN         NaN            NaN             NaN  \n",
       "4        Married     0.0           2            NaN             3.0  "
      ]
     },
     "execution_count": 7,
     "metadata": {},
     "output_type": "execute_result"
    }
   ],
   "source": [
    "join_df = train_df.merge(demo_df, on='customer_id', how='left')\n",
    "join_df.head()"
   ]
  },
  {
   "cell_type": "code",
   "execution_count": 8,
   "id": "4ebd938f-6dce-46c4-878f-739043856187",
   "metadata": {},
   "outputs": [],
   "source": [
    "feat_cols = ['age_range', 'marital_status', 'rented', 'family_size', 'no_of_children', 'income_bracket']\n",
    "cat_cols = ['age_range', 'marital_status','family_size', 'no_of_children']\n",
    "numer_cols = ['rented', 'income_bracket']"
   ]
  },
  {
   "cell_type": "markdown",
   "id": "a7a70af9-3e1a-472d-bad8-bad1af4fbd97",
   "metadata": {},
   "source": [
    "## Campaign Data Feature\n",
    "Combine with campaign data"
   ]
  },
  {
   "cell_type": "code",
   "execution_count": 9,
   "id": "7df180b5-5566-4329-8c72-3aa66df37c16",
   "metadata": {},
   "outputs": [],
   "source": [
    "cmpn_df['start_date'] = cmpn_df['start_date'].apply(pd.to_datetime)\n",
    "cmpn_df['end_date'] = cmpn_df['end_date'].apply(pd.to_datetime)\n",
    "cmpn_df['campaign_duration'] = (cmpn_df['end_date'] - cmpn_df['start_date']).astype('timedelta64[D]').astype(int)"
   ]
  },
  {
   "cell_type": "code",
   "execution_count": 10,
   "id": "86fbe244-1bbe-482f-b714-9b82787f1487",
   "metadata": {},
   "outputs": [
    {
     "data": {
      "text/html": [
       "<div>\n",
       "<style scoped>\n",
       "    .dataframe tbody tr th:only-of-type {\n",
       "        vertical-align: middle;\n",
       "    }\n",
       "\n",
       "    .dataframe tbody tr th {\n",
       "        vertical-align: top;\n",
       "    }\n",
       "\n",
       "    .dataframe thead th {\n",
       "        text-align: right;\n",
       "    }\n",
       "</style>\n",
       "<table border=\"1\" class=\"dataframe\">\n",
       "  <thead>\n",
       "    <tr style=\"text-align: right;\">\n",
       "      <th></th>\n",
       "      <th>id</th>\n",
       "      <th>campaign_id</th>\n",
       "      <th>coupon_id</th>\n",
       "      <th>customer_id</th>\n",
       "      <th>redemption_status</th>\n",
       "      <th>age_range</th>\n",
       "      <th>marital_status</th>\n",
       "      <th>rented</th>\n",
       "      <th>family_size</th>\n",
       "      <th>no_of_children</th>\n",
       "      <th>income_bracket</th>\n",
       "      <th>campaign_type</th>\n",
       "      <th>start_date</th>\n",
       "      <th>end_date</th>\n",
       "      <th>campaign_duration</th>\n",
       "    </tr>\n",
       "  </thead>\n",
       "  <tbody>\n",
       "    <tr>\n",
       "      <th>0</th>\n",
       "      <td>1</td>\n",
       "      <td>13</td>\n",
       "      <td>27</td>\n",
       "      <td>1053</td>\n",
       "      <td>0</td>\n",
       "      <td>46-55</td>\n",
       "      <td>NaN</td>\n",
       "      <td>0.0</td>\n",
       "      <td>1</td>\n",
       "      <td>NaN</td>\n",
       "      <td>5.0</td>\n",
       "      <td>X</td>\n",
       "      <td>2013-05-19</td>\n",
       "      <td>2013-05-07</td>\n",
       "      <td>-12</td>\n",
       "    </tr>\n",
       "    <tr>\n",
       "      <th>1</th>\n",
       "      <td>2</td>\n",
       "      <td>13</td>\n",
       "      <td>116</td>\n",
       "      <td>48</td>\n",
       "      <td>0</td>\n",
       "      <td>36-45</td>\n",
       "      <td>Married</td>\n",
       "      <td>0.0</td>\n",
       "      <td>2</td>\n",
       "      <td>NaN</td>\n",
       "      <td>3.0</td>\n",
       "      <td>X</td>\n",
       "      <td>2013-05-19</td>\n",
       "      <td>2013-05-07</td>\n",
       "      <td>-12</td>\n",
       "    </tr>\n",
       "    <tr>\n",
       "      <th>2</th>\n",
       "      <td>6</td>\n",
       "      <td>9</td>\n",
       "      <td>635</td>\n",
       "      <td>205</td>\n",
       "      <td>0</td>\n",
       "      <td>46-55</td>\n",
       "      <td>Married</td>\n",
       "      <td>0.0</td>\n",
       "      <td>2</td>\n",
       "      <td>NaN</td>\n",
       "      <td>7.0</td>\n",
       "      <td>Y</td>\n",
       "      <td>2013-11-03</td>\n",
       "      <td>2013-12-04</td>\n",
       "      <td>31</td>\n",
       "    </tr>\n",
       "    <tr>\n",
       "      <th>3</th>\n",
       "      <td>7</td>\n",
       "      <td>13</td>\n",
       "      <td>644</td>\n",
       "      <td>1050</td>\n",
       "      <td>0</td>\n",
       "      <td>NaN</td>\n",
       "      <td>NaN</td>\n",
       "      <td>NaN</td>\n",
       "      <td>NaN</td>\n",
       "      <td>NaN</td>\n",
       "      <td>NaN</td>\n",
       "      <td>X</td>\n",
       "      <td>2013-05-19</td>\n",
       "      <td>2013-05-07</td>\n",
       "      <td>-12</td>\n",
       "    </tr>\n",
       "    <tr>\n",
       "      <th>4</th>\n",
       "      <td>9</td>\n",
       "      <td>8</td>\n",
       "      <td>1017</td>\n",
       "      <td>1489</td>\n",
       "      <td>0</td>\n",
       "      <td>46-55</td>\n",
       "      <td>Married</td>\n",
       "      <td>0.0</td>\n",
       "      <td>2</td>\n",
       "      <td>NaN</td>\n",
       "      <td>3.0</td>\n",
       "      <td>X</td>\n",
       "      <td>2013-02-16</td>\n",
       "      <td>2013-05-04</td>\n",
       "      <td>77</td>\n",
       "    </tr>\n",
       "  </tbody>\n",
       "</table>\n",
       "</div>"
      ],
      "text/plain": [
       "   id  campaign_id  coupon_id  customer_id  redemption_status age_range  \\\n",
       "0   1           13         27         1053                  0     46-55   \n",
       "1   2           13        116           48                  0     36-45   \n",
       "2   6            9        635          205                  0     46-55   \n",
       "3   7           13        644         1050                  0       NaN   \n",
       "4   9            8       1017         1489                  0     46-55   \n",
       "\n",
       "  marital_status  rented family_size no_of_children  income_bracket  \\\n",
       "0            NaN     0.0           1            NaN             5.0   \n",
       "1        Married     0.0           2            NaN             3.0   \n",
       "2        Married     0.0           2            NaN             7.0   \n",
       "3            NaN     NaN         NaN            NaN             NaN   \n",
       "4        Married     0.0           2            NaN             3.0   \n",
       "\n",
       "  campaign_type start_date   end_date  campaign_duration  \n",
       "0             X 2013-05-19 2013-05-07                -12  \n",
       "1             X 2013-05-19 2013-05-07                -12  \n",
       "2             Y 2013-11-03 2013-12-04                 31  \n",
       "3             X 2013-05-19 2013-05-07                -12  \n",
       "4             X 2013-02-16 2013-05-04                 77  "
      ]
     },
     "execution_count": 10,
     "metadata": {},
     "output_type": "execute_result"
    }
   ],
   "source": [
    "join_df = join_df.merge(cmpn_df, on='campaign_id', how='left')\n",
    "join_df.head()"
   ]
  },
  {
   "cell_type": "code",
   "execution_count": 11,
   "id": "90c6a704-b5c0-41de-bf51-d84a1073f156",
   "metadata": {},
   "outputs": [],
   "source": [
    "feat_cols.extend(['campaign_type', 'campaign_duration'])\n",
    "cat_cols.append('campaign_type')\n",
    "numer_cols.append('campaign_duration')"
   ]
  },
  {
   "cell_type": "markdown",
   "id": "e17118bb-d19e-45e4-9549-e39a53399a66",
   "metadata": {},
   "source": [
    "## Coupon and Item Feature\n",
    "Combine with coupon and item data"
   ]
  },
  {
   "cell_type": "code",
   "execution_count": 12,
   "id": "87f9d68e-7244-4a5a-9086-693bb87fcbad",
   "metadata": {},
   "outputs": [
    {
     "data": {
      "text/html": [
       "<div>\n",
       "<style scoped>\n",
       "    .dataframe tbody tr th:only-of-type {\n",
       "        vertical-align: middle;\n",
       "    }\n",
       "\n",
       "    .dataframe tbody tr th {\n",
       "        vertical-align: top;\n",
       "    }\n",
       "\n",
       "    .dataframe thead th {\n",
       "        text-align: right;\n",
       "    }\n",
       "</style>\n",
       "<table border=\"1\" class=\"dataframe\">\n",
       "  <thead>\n",
       "    <tr style=\"text-align: right;\">\n",
       "      <th></th>\n",
       "      <th>coupon_id</th>\n",
       "      <th>item_id</th>\n",
       "      <th>brand</th>\n",
       "      <th>brand_type</th>\n",
       "      <th>category</th>\n",
       "    </tr>\n",
       "  </thead>\n",
       "  <tbody>\n",
       "    <tr>\n",
       "      <th>0</th>\n",
       "      <td>105</td>\n",
       "      <td>37</td>\n",
       "      <td>56</td>\n",
       "      <td>Local</td>\n",
       "      <td>Grocery</td>\n",
       "    </tr>\n",
       "    <tr>\n",
       "      <th>1</th>\n",
       "      <td>107</td>\n",
       "      <td>75</td>\n",
       "      <td>56</td>\n",
       "      <td>Local</td>\n",
       "      <td>Grocery</td>\n",
       "    </tr>\n",
       "    <tr>\n",
       "      <th>2</th>\n",
       "      <td>494</td>\n",
       "      <td>76</td>\n",
       "      <td>209</td>\n",
       "      <td>Established</td>\n",
       "      <td>Grocery</td>\n",
       "    </tr>\n",
       "    <tr>\n",
       "      <th>3</th>\n",
       "      <td>522</td>\n",
       "      <td>77</td>\n",
       "      <td>278</td>\n",
       "      <td>Established</td>\n",
       "      <td>Grocery</td>\n",
       "    </tr>\n",
       "    <tr>\n",
       "      <th>4</th>\n",
       "      <td>518</td>\n",
       "      <td>77</td>\n",
       "      <td>278</td>\n",
       "      <td>Established</td>\n",
       "      <td>Grocery</td>\n",
       "    </tr>\n",
       "  </tbody>\n",
       "</table>\n",
       "</div>"
      ],
      "text/plain": [
       "   coupon_id  item_id  brand   brand_type category\n",
       "0        105       37     56        Local  Grocery\n",
       "1        107       75     56        Local  Grocery\n",
       "2        494       76    209  Established  Grocery\n",
       "3        522       77    278  Established  Grocery\n",
       "4        518       77    278  Established  Grocery"
      ]
     },
     "execution_count": 12,
     "metadata": {},
     "output_type": "execute_result"
    }
   ],
   "source": [
    "coupon_df = cp_it_df.merge(item_df, on='item_id', how='left')\n",
    "coupon_df.head()"
   ]
  },
  {
   "cell_type": "code",
   "execution_count": 13,
   "id": "5e076c8e-97e2-4ca2-ad73-f5233ab76103",
   "metadata": {},
   "outputs": [
    {
     "name": "stdout",
     "output_type": "stream",
     "text": [
      "(1116, 9)\n",
      "(1116, 17)\n"
     ]
    }
   ],
   "source": [
    "# aggregate by coupon_id\n",
    "agg_coupon_df = coupon_df.groupby('coupon_id').agg({'item_id': 'unique', 'category': 'unique', 'brand_type': 'unique', 'brand': 'unique'} )\n",
    "agg_coupon_df['n_items'] = agg_coupon_df['item_id'].str.len()\n",
    "agg_coupon_df['n_categories'] = agg_coupon_df['category'].str.len()\n",
    "agg_coupon_df['n_brand_types'] = agg_coupon_df['brand_type'].str.len()\n",
    "agg_coupon_df['n_brands'] = agg_coupon_df['brand'].str.len()\n",
    "agg_coupon_df['brand_type'] = agg_coupon_df['brand_type'].apply(np.sort)\n",
    "agg_coupon_df['brand_type'] = agg_coupon_df['brand_type'].str.join(\"/\")\n",
    "agg_coupon_df.reset_index(inplace=True)\n",
    "print(agg_coupon_df.shape)\n",
    "\n",
    "# create categories multi-label columns for each coupon \n",
    "mlb = MultiLabelBinarizer()\n",
    "coupon_cats = mlb.fit_transform(agg_coupon_df['category'])\n",
    "coupon_cat_df = pd.DataFrame(np.column_stack(list(zip(*coupon_cats))), columns=mlb.classes_)\n",
    "print(coupon_cat_df.shape)\n",
    "final_coupon_df = pd.concat([agg_coupon_df, coupon_cat_df], axis=1)"
   ]
  },
  {
   "cell_type": "code",
   "execution_count": 14,
   "id": "c287e130-d5de-4a36-89d3-1695602ac577",
   "metadata": {},
   "outputs": [
    {
     "data": {
      "text/plain": [
       "Index(['coupon_id', 'item_id', 'category', 'brand_type', 'brand', 'n_items',\n",
       "       'n_categories', 'n_brand_types', 'n_brands', 'Bakery',\n",
       "       'Dairy, Juices & Snacks', 'Flowers & Plants', 'Garden', 'Grocery',\n",
       "       'Meat', 'Miscellaneous', 'Natural Products', 'Packaged Meat',\n",
       "       'Pharmaceutical', 'Prepared Food', 'Restauarant', 'Salads', 'Seafood',\n",
       "       'Skin & Hair Care', 'Travel', 'Vegetables (cut)'],\n",
       "      dtype='object')"
      ]
     },
     "execution_count": 14,
     "metadata": {},
     "output_type": "execute_result"
    }
   ],
   "source": [
    "final_coupon_df.columns"
   ]
  },
  {
   "cell_type": "code",
   "execution_count": 15,
   "id": "3b672596-9896-4d4d-9c22-1181f915655e",
   "metadata": {},
   "outputs": [],
   "source": [
    "column_nm = final_coupon_df.columns\n",
    "new_column_nm = [re.sub(\"[^A-Za-z0-9_ ]\", \"\", col) for col in column_nm]\n",
    "new_column_nm = [re.sub('\\s+', \"_\", col) for col in new_column_nm]\n",
    "final_coupon_df.columns = new_column_nm"
   ]
  },
  {
   "cell_type": "code",
   "execution_count": 18,
   "id": "b7ba2816-bbea-4abd-9fdd-f7442b1a863a",
   "metadata": {},
   "outputs": [
    {
     "data": {
      "text/html": [
       "<div>\n",
       "<style scoped>\n",
       "    .dataframe tbody tr th:only-of-type {\n",
       "        vertical-align: middle;\n",
       "    }\n",
       "\n",
       "    .dataframe tbody tr th {\n",
       "        vertical-align: top;\n",
       "    }\n",
       "\n",
       "    .dataframe thead th {\n",
       "        text-align: right;\n",
       "    }\n",
       "</style>\n",
       "<table border=\"1\" class=\"dataframe\">\n",
       "  <thead>\n",
       "    <tr style=\"text-align: right;\">\n",
       "      <th></th>\n",
       "      <th>coupon_id</th>\n",
       "      <th>item_id</th>\n",
       "      <th>category</th>\n",
       "      <th>brand_type</th>\n",
       "      <th>brand</th>\n",
       "      <th>n_items</th>\n",
       "      <th>n_categories</th>\n",
       "      <th>n_brand_types</th>\n",
       "      <th>n_brands</th>\n",
       "      <th>Bakery</th>\n",
       "      <th>...</th>\n",
       "      <th>Natural_Products</th>\n",
       "      <th>Packaged_Meat</th>\n",
       "      <th>Pharmaceutical</th>\n",
       "      <th>Prepared_Food</th>\n",
       "      <th>Restauarant</th>\n",
       "      <th>Salads</th>\n",
       "      <th>Seafood</th>\n",
       "      <th>Skin_Hair_Care</th>\n",
       "      <th>Travel</th>\n",
       "      <th>Vegetables_cut</th>\n",
       "    </tr>\n",
       "  </thead>\n",
       "  <tbody>\n",
       "    <tr>\n",
       "      <th>0</th>\n",
       "      <td>1</td>\n",
       "      <td>[60068, 50199, 17091, 44112, 44868, 51028, 592...</td>\n",
       "      <td>[Natural Products, Grocery]</td>\n",
       "      <td>Established</td>\n",
       "      <td>[4700, 1475, 1558]</td>\n",
       "      <td>39</td>\n",
       "      <td>2</td>\n",
       "      <td>1</td>\n",
       "      <td>3</td>\n",
       "      <td>0</td>\n",
       "      <td>...</td>\n",
       "      <td>1</td>\n",
       "      <td>0</td>\n",
       "      <td>0</td>\n",
       "      <td>0</td>\n",
       "      <td>0</td>\n",
       "      <td>0</td>\n",
       "      <td>0</td>\n",
       "      <td>0</td>\n",
       "      <td>0</td>\n",
       "      <td>0</td>\n",
       "    </tr>\n",
       "    <tr>\n",
       "      <th>1</th>\n",
       "      <td>2</td>\n",
       "      <td>[2581, 12901]</td>\n",
       "      <td>[Grocery]</td>\n",
       "      <td>Established</td>\n",
       "      <td>[2084]</td>\n",
       "      <td>2</td>\n",
       "      <td>1</td>\n",
       "      <td>1</td>\n",
       "      <td>1</td>\n",
       "      <td>0</td>\n",
       "      <td>...</td>\n",
       "      <td>0</td>\n",
       "      <td>0</td>\n",
       "      <td>0</td>\n",
       "      <td>0</td>\n",
       "      <td>0</td>\n",
       "      <td>0</td>\n",
       "      <td>0</td>\n",
       "      <td>0</td>\n",
       "      <td>0</td>\n",
       "      <td>0</td>\n",
       "    </tr>\n",
       "    <tr>\n",
       "      <th>2</th>\n",
       "      <td>3</td>\n",
       "      <td>[58906, 58943, 58944, 58946, 58964, 58972, 590...</td>\n",
       "      <td>[Grocery]</td>\n",
       "      <td>Established</td>\n",
       "      <td>[1558, 278]</td>\n",
       "      <td>17</td>\n",
       "      <td>1</td>\n",
       "      <td>1</td>\n",
       "      <td>2</td>\n",
       "      <td>0</td>\n",
       "      <td>...</td>\n",
       "      <td>0</td>\n",
       "      <td>0</td>\n",
       "      <td>0</td>\n",
       "      <td>0</td>\n",
       "      <td>0</td>\n",
       "      <td>0</td>\n",
       "      <td>0</td>\n",
       "      <td>0</td>\n",
       "      <td>0</td>\n",
       "      <td>0</td>\n",
       "    </tr>\n",
       "  </tbody>\n",
       "</table>\n",
       "<p>3 rows × 26 columns</p>\n",
       "</div>"
      ],
      "text/plain": [
       "   coupon_id                                            item_id  \\\n",
       "0          1  [60068, 50199, 17091, 44112, 44868, 51028, 592...   \n",
       "1          2                                      [2581, 12901]   \n",
       "2          3  [58906, 58943, 58944, 58946, 58964, 58972, 590...   \n",
       "\n",
       "                      category   brand_type               brand  n_items  \\\n",
       "0  [Natural Products, Grocery]  Established  [4700, 1475, 1558]       39   \n",
       "1                    [Grocery]  Established              [2084]        2   \n",
       "2                    [Grocery]  Established         [1558, 278]       17   \n",
       "\n",
       "   n_categories  n_brand_types  n_brands  Bakery  ...  Natural_Products  \\\n",
       "0             2              1         3       0  ...                 1   \n",
       "1             1              1         1       0  ...                 0   \n",
       "2             1              1         2       0  ...                 0   \n",
       "\n",
       "   Packaged_Meat  Pharmaceutical  Prepared_Food  Restauarant  Salads  Seafood  \\\n",
       "0              0               0              0            0       0        0   \n",
       "1              0               0              0            0       0        0   \n",
       "2              0               0              0            0       0        0   \n",
       "\n",
       "   Skin_Hair_Care  Travel  Vegetables_cut  \n",
       "0               0       0               0  \n",
       "1               0       0               0  \n",
       "2               0       0               0  \n",
       "\n",
       "[3 rows x 26 columns]"
      ]
     },
     "execution_count": 18,
     "metadata": {},
     "output_type": "execute_result"
    }
   ],
   "source": [
    "final_coupon_df.head(3)"
   ]
  },
  {
   "cell_type": "code",
   "execution_count": 17,
   "id": "c9614eff-c967-40a9-bd9e-22c302489313",
   "metadata": {},
   "outputs": [
    {
     "data": {
      "text/plain": [
       "Index(['coupon_id', 'item_id', 'category', 'brand_type', 'brand', 'n_items',\n",
       "       'n_categories', 'n_brand_types', 'n_brands', 'Bakery',\n",
       "       'Dairy_Juices_Snacks', 'Flowers_Plants', 'Garden', 'Grocery', 'Meat',\n",
       "       'Miscellaneous', 'Natural_Products', 'Packaged_Meat', 'Pharmaceutical',\n",
       "       'Prepared_Food', 'Restauarant', 'Salads', 'Seafood', 'Skin_Hair_Care',\n",
       "       'Travel', 'Vegetables_cut'],\n",
       "      dtype='object')"
      ]
     },
     "execution_count": 17,
     "metadata": {},
     "output_type": "execute_result"
    }
   ],
   "source": [
    "final_coupon_df.columns"
   ]
  },
  {
   "cell_type": "code",
   "execution_count": 19,
   "id": "1fae4c06-45c5-4f38-8725-7c4b5a2507d8",
   "metadata": {},
   "outputs": [
    {
     "data": {
      "text/plain": [
       "(78369, 37)"
      ]
     },
     "execution_count": 19,
     "metadata": {},
     "output_type": "execute_result"
    }
   ],
   "source": [
    "select_cols = ['coupon_id', 'brand_type', 'n_items', 'n_categories', 'n_brand_types', 'n_brands', \n",
    "               'Bakery', 'Dairy_Juices_Snacks', 'Flowers_Plants', 'Garden', 'Grocery', 'Meat', \n",
    "               'Miscellaneous', 'Natural_Products', 'Packaged_Meat', 'Pharmaceutical', 'Prepared_Food', \n",
    "               'Restauarant', 'Salads', 'Seafood', 'Skin_Hair_Care', 'Travel', 'Vegetables_cut']\n",
    "join_df = join_df.merge(final_coupon_df[select_cols], on='coupon_id', how='left')\n",
    "join_df.shape"
   ]
  },
  {
   "cell_type": "code",
   "execution_count": 20,
   "id": "68daf40f-c7cf-4e2d-87f2-63fec46829ce",
   "metadata": {},
   "outputs": [],
   "source": [
    "feat_cols.extend(['brand_type', 'n_items', 'n_categories', 'n_brand_types', 'n_brands', \n",
    "                  'Bakery', 'Dairy_Juices_Snacks', 'Flowers_Plants', 'Garden', 'Grocery', 'Meat', \n",
    "                  'Miscellaneous', 'Natural_Products', 'Packaged_Meat', 'Pharmaceutical', 'Prepared_Food', \n",
    "                  'Restauarant', 'Salads', 'Seafood', 'Skin_Hair_Care', 'Travel', 'Vegetables_cut'])\n",
    "cat_cols.extend(['brand_type'])\n",
    "numer_cols.extend(['n_items', 'n_categories', 'n_brand_types', 'n_brands',\n",
    "                   'Bakery', 'Dairy_Juices_Snacks', 'Flowers_Plants', 'Garden', 'Grocery', 'Meat', \n",
    "                  'Miscellaneous', 'Natural_Products', 'Packaged_Meat', 'Pharmaceutical', 'Prepared_Food', \n",
    "                  'Restauarant', 'Salads', 'Seafood', 'Skin_Hair_Care', 'Travel', 'Vegetables_cut'])"
   ]
  },
  {
   "cell_type": "markdown",
   "id": "8315bb94-8648-4ffb-b13f-5053fb2882f1",
   "metadata": {},
   "source": [
    "## Transaction Data Feature\n",
    "Combine with transaction history"
   ]
  },
  {
   "cell_type": "code",
   "execution_count": 21,
   "id": "906355dd-e55b-49b5-817c-3ecbef092696",
   "metadata": {},
   "outputs": [
    {
     "data": {
      "text/html": [
       "<div>\n",
       "<style scoped>\n",
       "    .dataframe tbody tr th:only-of-type {\n",
       "        vertical-align: middle;\n",
       "    }\n",
       "\n",
       "    .dataframe tbody tr th {\n",
       "        vertical-align: top;\n",
       "    }\n",
       "\n",
       "    .dataframe thead th {\n",
       "        text-align: right;\n",
       "    }\n",
       "</style>\n",
       "<table border=\"1\" class=\"dataframe\">\n",
       "  <thead>\n",
       "    <tr style=\"text-align: right;\">\n",
       "      <th></th>\n",
       "      <th>id</th>\n",
       "      <th>campaign_id</th>\n",
       "      <th>coupon_id</th>\n",
       "      <th>customer_id</th>\n",
       "      <th>redemption_status</th>\n",
       "      <th>start_date</th>\n",
       "    </tr>\n",
       "  </thead>\n",
       "  <tbody>\n",
       "    <tr>\n",
       "      <th>0</th>\n",
       "      <td>1</td>\n",
       "      <td>13</td>\n",
       "      <td>27</td>\n",
       "      <td>1053</td>\n",
       "      <td>0</td>\n",
       "      <td>2013-05-19</td>\n",
       "    </tr>\n",
       "    <tr>\n",
       "      <th>1</th>\n",
       "      <td>2</td>\n",
       "      <td>13</td>\n",
       "      <td>116</td>\n",
       "      <td>48</td>\n",
       "      <td>0</td>\n",
       "      <td>2013-05-19</td>\n",
       "    </tr>\n",
       "    <tr>\n",
       "      <th>2</th>\n",
       "      <td>6</td>\n",
       "      <td>9</td>\n",
       "      <td>635</td>\n",
       "      <td>205</td>\n",
       "      <td>0</td>\n",
       "      <td>2013-11-03</td>\n",
       "    </tr>\n",
       "    <tr>\n",
       "      <th>3</th>\n",
       "      <td>7</td>\n",
       "      <td>13</td>\n",
       "      <td>644</td>\n",
       "      <td>1050</td>\n",
       "      <td>0</td>\n",
       "      <td>2013-05-19</td>\n",
       "    </tr>\n",
       "    <tr>\n",
       "      <th>4</th>\n",
       "      <td>9</td>\n",
       "      <td>8</td>\n",
       "      <td>1017</td>\n",
       "      <td>1489</td>\n",
       "      <td>0</td>\n",
       "      <td>2013-02-16</td>\n",
       "    </tr>\n",
       "  </tbody>\n",
       "</table>\n",
       "</div>"
      ],
      "text/plain": [
       "   id  campaign_id  coupon_id  customer_id  redemption_status start_date\n",
       "0   1           13         27         1053                  0 2013-05-19\n",
       "1   2           13        116           48                  0 2013-05-19\n",
       "2   6            9        635          205                  0 2013-11-03\n",
       "3   7           13        644         1050                  0 2013-05-19\n",
       "4   9            8       1017         1489                  0 2013-02-16"
      ]
     },
     "execution_count": 21,
     "metadata": {},
     "output_type": "execute_result"
    }
   ],
   "source": [
    "txn_df['date'] = txn_df['date'].apply(pd.to_datetime)\n",
    "txn_cmpn_df = train_df.merge(cmpn_df[['campaign_id', 'start_date']], on='campaign_id', how='left')\n",
    "txn_cmpn_df.head()"
   ]
  },
  {
   "cell_type": "code",
   "execution_count": 22,
   "id": "e085fccb-0dab-43f6-8dd0-99e272b92aae",
   "metadata": {},
   "outputs": [
    {
     "data": {
      "text/html": [
       "<div>\n",
       "<style scoped>\n",
       "    .dataframe tbody tr th:only-of-type {\n",
       "        vertical-align: middle;\n",
       "    }\n",
       "\n",
       "    .dataframe tbody tr th {\n",
       "        vertical-align: top;\n",
       "    }\n",
       "\n",
       "    .dataframe thead th {\n",
       "        text-align: right;\n",
       "    }\n",
       "</style>\n",
       "<table border=\"1\" class=\"dataframe\">\n",
       "  <thead>\n",
       "    <tr style=\"text-align: right;\">\n",
       "      <th></th>\n",
       "      <th>date</th>\n",
       "      <th>customer_id</th>\n",
       "      <th>item_id</th>\n",
       "      <th>quantity</th>\n",
       "      <th>selling_price</th>\n",
       "      <th>other_discount</th>\n",
       "      <th>coupon_discount</th>\n",
       "      <th>campaign_id</th>\n",
       "      <th>start_date</th>\n",
       "      <th>date_diff</th>\n",
       "    </tr>\n",
       "  </thead>\n",
       "  <tbody>\n",
       "    <tr>\n",
       "      <th>0</th>\n",
       "      <td>2012-01-02</td>\n",
       "      <td>1501</td>\n",
       "      <td>26830</td>\n",
       "      <td>1</td>\n",
       "      <td>35.26</td>\n",
       "      <td>-10.69</td>\n",
       "      <td>0.0</td>\n",
       "      <td>13.0</td>\n",
       "      <td>2013-05-19</td>\n",
       "      <td>503.0</td>\n",
       "    </tr>\n",
       "    <tr>\n",
       "      <th>14</th>\n",
       "      <td>2012-01-02</td>\n",
       "      <td>1501</td>\n",
       "      <td>54253</td>\n",
       "      <td>1</td>\n",
       "      <td>53.43</td>\n",
       "      <td>-13.89</td>\n",
       "      <td>0.0</td>\n",
       "      <td>13.0</td>\n",
       "      <td>2013-05-19</td>\n",
       "      <td>503.0</td>\n",
       "    </tr>\n",
       "    <tr>\n",
       "      <th>28</th>\n",
       "      <td>2012-01-02</td>\n",
       "      <td>1501</td>\n",
       "      <td>31962</td>\n",
       "      <td>1</td>\n",
       "      <td>106.50</td>\n",
       "      <td>-14.25</td>\n",
       "      <td>0.0</td>\n",
       "      <td>13.0</td>\n",
       "      <td>2013-05-19</td>\n",
       "      <td>503.0</td>\n",
       "    </tr>\n",
       "    <tr>\n",
       "      <th>42</th>\n",
       "      <td>2012-01-02</td>\n",
       "      <td>1501</td>\n",
       "      <td>33647</td>\n",
       "      <td>1</td>\n",
       "      <td>67.32</td>\n",
       "      <td>0.00</td>\n",
       "      <td>0.0</td>\n",
       "      <td>13.0</td>\n",
       "      <td>2013-05-19</td>\n",
       "      <td>503.0</td>\n",
       "    </tr>\n",
       "    <tr>\n",
       "      <th>56</th>\n",
       "      <td>2012-01-02</td>\n",
       "      <td>1501</td>\n",
       "      <td>48199</td>\n",
       "      <td>1</td>\n",
       "      <td>71.24</td>\n",
       "      <td>-28.14</td>\n",
       "      <td>0.0</td>\n",
       "      <td>13.0</td>\n",
       "      <td>2013-05-19</td>\n",
       "      <td>503.0</td>\n",
       "    </tr>\n",
       "  </tbody>\n",
       "</table>\n",
       "</div>"
      ],
      "text/plain": [
       "         date  customer_id  item_id  quantity  selling_price  other_discount  \\\n",
       "0  2012-01-02         1501    26830         1          35.26          -10.69   \n",
       "14 2012-01-02         1501    54253         1          53.43          -13.89   \n",
       "28 2012-01-02         1501    31962         1         106.50          -14.25   \n",
       "42 2012-01-02         1501    33647         1          67.32            0.00   \n",
       "56 2012-01-02         1501    48199         1          71.24          -28.14   \n",
       "\n",
       "    coupon_discount  campaign_id start_date  date_diff  \n",
       "0               0.0         13.0 2013-05-19      503.0  \n",
       "14              0.0         13.0 2013-05-19      503.0  \n",
       "28              0.0         13.0 2013-05-19      503.0  \n",
       "42              0.0         13.0 2013-05-19      503.0  \n",
       "56              0.0         13.0 2013-05-19      503.0  "
      ]
     },
     "execution_count": 22,
     "metadata": {},
     "output_type": "execute_result"
    }
   ],
   "source": [
    "join_txn = txn_df.merge(txn_cmpn_df[['customer_id', 'campaign_id', 'start_date']], on='customer_id', how='left')\n",
    "join_txn = join_txn[~join_txn.duplicated()]\n",
    "join_txn['date_diff'] = (join_txn['start_date'] - join_txn['date']).dt.days\n",
    "join_txn.head()"
   ]
  },
  {
   "cell_type": "markdown",
   "id": "810406c1-14e2-4aa9-ad16-0821084c6908",
   "metadata": {},
   "source": [
    "### aggregate by amount and number of txn"
   ]
  },
  {
   "cell_type": "code",
   "execution_count": 23,
   "id": "d549b88f-eeac-4bd0-af87-cccb570942c4",
   "metadata": {},
   "outputs": [],
   "source": [
    "# create column to discretize the transaction data based on the time period before the start date of the campaign\n",
    "join_txn['date_diff_bin'] = pd.cut(join_txn['date_diff'], bins=[0, 30, 60, 90, 120, 150, 180], \n",
    "                                   labels=['P1M','P2M','P3M','P4M','P5M','P6M'])\n",
    "\n",
    "agg_txn = pd.pivot_table(data=join_txn, \n",
    "               values=['quantity','selling_price', 'other_discount', 'coupon_discount'], \n",
    "               index=['customer_id', 'campaign_id'],\n",
    "               columns=['date_diff_bin'],\n",
    "               aggfunc=np.sum\n",
    "              )\n",
    "agg_txn.columns = agg_txn.columns.to_series().str.join('_')\n",
    "agg_txn = agg_txn.reset_index()\n",
    "agg_nbr_txn = pd.pivot_table(data=join_txn, \n",
    "               values=['item_id'], \n",
    "               index=['customer_id', 'campaign_id'],\n",
    "               columns=['date_diff_bin'],\n",
    "               aggfunc='count'\n",
    "              )\n",
    "agg_nbr_txn.rename({'item_id': 'item_nbr'}, axis=1, inplace=True)\n",
    "agg_nbr_txn.columns = agg_nbr_txn.columns.to_series().str.join('_')\n",
    "agg_nbr_txn = agg_nbr_txn.reset_index()"
   ]
  },
  {
   "cell_type": "code",
   "execution_count": 24,
   "id": "c0b1cff8-8f92-499e-b43d-ca4ae8cb4e4a",
   "metadata": {},
   "outputs": [],
   "source": [
    "cols = list(agg_txn.columns[2:])\n",
    "join_df = join_df.merge(agg_txn, on=['customer_id', 'campaign_id'], how='left')\n",
    "feat_cols.extend(cols)\n",
    "numer_cols.extend(cols)"
   ]
  },
  {
   "cell_type": "code",
   "execution_count": 25,
   "id": "ffed642e-1c6b-4716-ab99-36c1afc350fc",
   "metadata": {},
   "outputs": [],
   "source": [
    "cols = list(agg_nbr_txn.columns[2:])\n",
    "join_df = join_df.merge(agg_nbr_txn, on=['customer_id', 'campaign_id'], how='left')\n",
    "feat_cols.extend(cols)\n",
    "numer_cols.extend(cols)"
   ]
  },
  {
   "cell_type": "markdown",
   "id": "03344bc4-0826-4bcf-867e-f2c4f5fc6584",
   "metadata": {},
   "source": [
    "### aggregate by brand and category"
   ]
  },
  {
   "cell_type": "code",
   "execution_count": 26,
   "id": "5e1a5285-e609-4ca8-b0d8-27ded59ddec2",
   "metadata": {},
   "outputs": [
    {
     "data": {
      "text/html": [
       "<div>\n",
       "<style scoped>\n",
       "    .dataframe tbody tr th:only-of-type {\n",
       "        vertical-align: middle;\n",
       "    }\n",
       "\n",
       "    .dataframe tbody tr th {\n",
       "        vertical-align: top;\n",
       "    }\n",
       "\n",
       "    .dataframe thead th {\n",
       "        text-align: right;\n",
       "    }\n",
       "</style>\n",
       "<table border=\"1\" class=\"dataframe\">\n",
       "  <thead>\n",
       "    <tr style=\"text-align: right;\">\n",
       "      <th></th>\n",
       "      <th>date</th>\n",
       "      <th>customer_id</th>\n",
       "      <th>item_id</th>\n",
       "      <th>quantity</th>\n",
       "      <th>selling_price</th>\n",
       "      <th>other_discount</th>\n",
       "      <th>coupon_discount</th>\n",
       "      <th>campaign_id</th>\n",
       "      <th>start_date</th>\n",
       "      <th>date_diff</th>\n",
       "      <th>date_diff_bin</th>\n",
       "      <th>brand</th>\n",
       "      <th>brand_type</th>\n",
       "      <th>category</th>\n",
       "    </tr>\n",
       "  </thead>\n",
       "  <tbody>\n",
       "    <tr>\n",
       "      <th>0</th>\n",
       "      <td>2012-01-02</td>\n",
       "      <td>1501</td>\n",
       "      <td>26830</td>\n",
       "      <td>1</td>\n",
       "      <td>35.26</td>\n",
       "      <td>-10.69</td>\n",
       "      <td>0.0</td>\n",
       "      <td>13.0</td>\n",
       "      <td>2013-05-19</td>\n",
       "      <td>503.0</td>\n",
       "      <td>NaN</td>\n",
       "      <td>56</td>\n",
       "      <td>Local</td>\n",
       "      <td>Natural Products</td>\n",
       "    </tr>\n",
       "    <tr>\n",
       "      <th>1</th>\n",
       "      <td>2012-01-02</td>\n",
       "      <td>1501</td>\n",
       "      <td>54253</td>\n",
       "      <td>1</td>\n",
       "      <td>53.43</td>\n",
       "      <td>-13.89</td>\n",
       "      <td>0.0</td>\n",
       "      <td>13.0</td>\n",
       "      <td>2013-05-19</td>\n",
       "      <td>503.0</td>\n",
       "      <td>NaN</td>\n",
       "      <td>56</td>\n",
       "      <td>Local</td>\n",
       "      <td>Natural Products</td>\n",
       "    </tr>\n",
       "    <tr>\n",
       "      <th>2</th>\n",
       "      <td>2012-01-02</td>\n",
       "      <td>1501</td>\n",
       "      <td>31962</td>\n",
       "      <td>1</td>\n",
       "      <td>106.50</td>\n",
       "      <td>-14.25</td>\n",
       "      <td>0.0</td>\n",
       "      <td>13.0</td>\n",
       "      <td>2013-05-19</td>\n",
       "      <td>503.0</td>\n",
       "      <td>NaN</td>\n",
       "      <td>524</td>\n",
       "      <td>Established</td>\n",
       "      <td>Grocery</td>\n",
       "    </tr>\n",
       "    <tr>\n",
       "      <th>3</th>\n",
       "      <td>2012-01-02</td>\n",
       "      <td>1501</td>\n",
       "      <td>33647</td>\n",
       "      <td>1</td>\n",
       "      <td>67.32</td>\n",
       "      <td>0.00</td>\n",
       "      <td>0.0</td>\n",
       "      <td>13.0</td>\n",
       "      <td>2013-05-19</td>\n",
       "      <td>503.0</td>\n",
       "      <td>NaN</td>\n",
       "      <td>1134</td>\n",
       "      <td>Established</td>\n",
       "      <td>Grocery</td>\n",
       "    </tr>\n",
       "    <tr>\n",
       "      <th>4</th>\n",
       "      <td>2012-01-02</td>\n",
       "      <td>1501</td>\n",
       "      <td>48199</td>\n",
       "      <td>1</td>\n",
       "      <td>71.24</td>\n",
       "      <td>-28.14</td>\n",
       "      <td>0.0</td>\n",
       "      <td>13.0</td>\n",
       "      <td>2013-05-19</td>\n",
       "      <td>503.0</td>\n",
       "      <td>NaN</td>\n",
       "      <td>524</td>\n",
       "      <td>Established</td>\n",
       "      <td>Grocery</td>\n",
       "    </tr>\n",
       "  </tbody>\n",
       "</table>\n",
       "</div>"
      ],
      "text/plain": [
       "        date  customer_id  item_id  quantity  selling_price  other_discount  \\\n",
       "0 2012-01-02         1501    26830         1          35.26          -10.69   \n",
       "1 2012-01-02         1501    54253         1          53.43          -13.89   \n",
       "2 2012-01-02         1501    31962         1         106.50          -14.25   \n",
       "3 2012-01-02         1501    33647         1          67.32            0.00   \n",
       "4 2012-01-02         1501    48199         1          71.24          -28.14   \n",
       "\n",
       "   coupon_discount  campaign_id start_date  date_diff date_diff_bin  brand  \\\n",
       "0              0.0         13.0 2013-05-19      503.0           NaN     56   \n",
       "1              0.0         13.0 2013-05-19      503.0           NaN     56   \n",
       "2              0.0         13.0 2013-05-19      503.0           NaN    524   \n",
       "3              0.0         13.0 2013-05-19      503.0           NaN   1134   \n",
       "4              0.0         13.0 2013-05-19      503.0           NaN    524   \n",
       "\n",
       "    brand_type          category  \n",
       "0        Local  Natural Products  \n",
       "1        Local  Natural Products  \n",
       "2  Established           Grocery  \n",
       "3  Established           Grocery  \n",
       "4  Established           Grocery  "
      ]
     },
     "execution_count": 26,
     "metadata": {},
     "output_type": "execute_result"
    }
   ],
   "source": [
    "join_txn = join_txn.merge(item_df, on='item_id', how='left')\n",
    "join_txn.head()"
   ]
  },
  {
   "cell_type": "code",
   "execution_count": 77,
   "id": "481e7810-dcca-461f-aab3-3dc626ca17ce",
   "metadata": {},
   "outputs": [],
   "source": [
    "agg_brand_txn = pd.pivot_table(data=join_txn, \n",
    "                         values=['quantity'], \n",
    "                         index=['customer_id', 'campaign_id'],\n",
    "                         columns=['brand_type', 'date_diff_bin'],\n",
    "                         aggfunc=np.sum)\n",
    "agg_brand_txn.columns = agg_brand_txn.columns.to_series().str.join('_')\n",
    "agg_brand_txn = agg_brand_txn.reset_index()\n",
    "\n",
    "agg_category_txn = pd.pivot_table(data=join_txn, \n",
    "                         values=['quantity'], \n",
    "                         index=['customer_id', 'campaign_id'],\n",
    "                         columns=['category', 'date_diff_bin'],\n",
    "                         aggfunc=np.sum)\n",
    "agg_category_txn.columns = agg_category_txn.columns.to_series().str.join('_')\n",
    "agg_category_txn = agg_category_txn.reset_index()\n"
   ]
  },
  {
   "cell_type": "code",
   "execution_count": 79,
   "id": "217de95a-2c39-489b-99e7-4b1904cee681",
   "metadata": {},
   "outputs": [],
   "source": [
    "cols = list(agg_brand_txn.columns[2:])\n",
    "join_df = join_df.merge(agg_brand_txn, on=['customer_id', 'campaign_id'], how='left')\n",
    "feat_cols.extend(cols)\n",
    "numer_cols.extend(cols)"
   ]
  },
  {
   "cell_type": "code",
   "execution_count": 98,
   "id": "f593760f-0af8-47f2-9f70-f3da51fb89a7",
   "metadata": {},
   "outputs": [],
   "source": [
    "cols = list(agg_category_txn.columns[2:])\n",
    "join_df = join_df.merge(agg_category_txn, on=['customer_id', 'campaign_id'], how='left')\n",
    "feat_cols.extend(cols)\n",
    "numer_cols.extend(cols)"
   ]
  },
  {
   "cell_type": "markdown",
   "id": "2666880f-de53-495b-bea6-dbba6f46fbfc",
   "metadata": {},
   "source": [
    "# Split Data for Train and Test"
   ]
  },
  {
   "cell_type": "code",
   "execution_count": 62,
   "id": "413e2339-dacd-48b3-a0b8-4083399d1c1a",
   "metadata": {},
   "outputs": [],
   "source": [
    "join_df['cmpn_start_mth'] = join_df['start_date'].astype(str).str[:7]"
   ]
  },
  {
   "cell_type": "code",
   "execution_count": 63,
   "id": "a8f5f4f6-f6cf-4b36-b7de-1dcb4d457671",
   "metadata": {},
   "outputs": [
    {
     "data": {
      "text/plain": [
       "cmpn_start_mth\n",
       "2012-08     4219\n",
       "2012-09      476\n",
       "2012-11     6467\n",
       "2012-12     7375\n",
       "2013-01       65\n",
       "2013-02    24139\n",
       "2013-04     5332\n",
       "2013-05    22606\n",
       "2013-07      972\n",
       "2013-08     1723\n",
       "2013-11     3168\n",
       "2013-12     1827\n",
       "dtype: int64"
      ]
     },
     "execution_count": 63,
     "metadata": {},
     "output_type": "execute_result"
    }
   ],
   "source": [
    "join_df.groupby('cmpn_start_mth').size()"
   ]
  },
  {
   "cell_type": "code",
   "execution_count": 87,
   "id": "2d448637-5c8a-40d4-8a86-6eb88813d428",
   "metadata": {},
   "outputs": [
    {
     "name": "stdout",
     "output_type": "stream",
     "text": [
      "train data size 48073\n",
      "test data size 30296\n"
     ]
    }
   ],
   "source": [
    "cutoff_date = '2013-05-01'\n",
    "train_df = join_df[join_df['start_date'] < cutoff_date]\n",
    "test_df = join_df[join_df['start_date'] >= cutoff_date]\n",
    "print(f'train data size {train_df.shape[0]}')\n",
    "print(f'test data size {test_df.shape[0]}')"
   ]
  },
  {
   "cell_type": "code",
   "execution_count": 88,
   "id": "bf01574b-ce92-49c3-b5e0-fcd15ed8bef9",
   "metadata": {},
   "outputs": [],
   "source": [
    "X_train = train_df[feat_cols]\n",
    "y_train = train_df[label_col]\n",
    "X_test = test_df[feat_cols]\n",
    "y_test = test_df[label_col]"
   ]
  },
  {
   "cell_type": "markdown",
   "id": "30aa2841-fd3c-4d79-b9e6-c3f46e55d342",
   "metadata": {},
   "source": [
    "# Prep Feature"
   ]
  },
  {
   "cell_type": "code",
   "execution_count": 89,
   "id": "e2898203-0455-416b-97f1-e647e40a599a",
   "metadata": {},
   "outputs": [
    {
     "name": "stdout",
     "output_type": "stream",
     "text": [
      "<class 'pandas.core.frame.DataFrame'>\n",
      "Int64Index: 78369 entries, 0 to 78368\n",
      "Data columns (total 6 columns):\n",
      " #   Column          Non-Null Count  Dtype \n",
      "---  ------          --------------  ----- \n",
      " 0   age_range       43661 non-null  object\n",
      " 1   marital_status  25394 non-null  object\n",
      " 2   family_size     43661 non-null  object\n",
      " 3   no_of_children  14056 non-null  object\n",
      " 4   campaign_type   78369 non-null  object\n",
      " 5   brand_type      78369 non-null  object\n",
      "dtypes: object(6)\n",
      "memory usage: 4.2+ MB\n"
     ]
    }
   ],
   "source": [
    "join_df[cat_cols].info()"
   ]
  },
  {
   "cell_type": "code",
   "execution_count": 90,
   "id": "871bd42a-c899-4908-8ed4-9d6ace21d3c2",
   "metadata": {},
   "outputs": [],
   "source": [
    "numer_transformer = Pipeline(\n",
    "    steps=[(\"imputer\", SimpleImputer(strategy=\"constant\", fill_value=0)),\n",
    "           (\"scaler\", StandardScaler())\n",
    "          ]\n",
    ")\n",
    "\n",
    "cat_feats = ['Gender', 'Region_Code', 'Occupation', 'Channel_Code']\n",
    "cat_transformer = OneHotEncoder(handle_unknown='ignore')\n",
    "\n",
    "transformer = ColumnTransformer(\n",
    "    transformers=[\n",
    "        (\"num\", numer_transformer, numer_cols),\n",
    "        (\"cat\", cat_transformer, cat_cols)\n",
    "    ], sparse_threshold = 0\n",
    ")"
   ]
  },
  {
   "cell_type": "code",
   "execution_count": 91,
   "id": "b066547a-751e-4296-b834-b2947979c59c",
   "metadata": {},
   "outputs": [],
   "source": [
    "transformer.fit(X_train);"
   ]
  },
  {
   "cell_type": "code",
   "execution_count": 92,
   "id": "4b25e3fe-308e-438f-950b-c332c8c6011c",
   "metadata": {},
   "outputs": [],
   "source": [
    "X_train_t = transformer.transform(X_train)\n",
    "X_test_t = transformer.transform(X_test)"
   ]
  },
  {
   "cell_type": "code",
   "execution_count": 93,
   "id": "36ef29bd-4133-4b43-a681-98bce016b3ba",
   "metadata": {},
   "outputs": [],
   "source": [
    "transformers = transformer.get_params()['transformers']\n",
    "feature_names = []\n",
    "for name, _, features in transformers:\n",
    "    try:\n",
    "        Var = transformer.named_transformers_[name].get_feature_names().tolist()\n",
    "    except AttributeError:\n",
    "        Var = features\n",
    "    feature_names = feature_names + Var"
   ]
  },
  {
   "cell_type": "markdown",
   "id": "5850b1d6-b91d-41fe-b4da-ae8375d3427c",
   "metadata": {},
   "source": [
    "# Model Training"
   ]
  },
  {
   "cell_type": "code",
   "execution_count": 119,
   "id": "ec0ebb14-b917-4663-abf3-189fe3348877",
   "metadata": {},
   "outputs": [],
   "source": [
    "def objective(trial, X, y):\n",
    "    params = {\n",
    "        'n_estimators': trial.suggest_int('n_estimators', 10, 1000),\n",
    "        'max_depth': trial.suggest_int('max_depth', 2, 5),\n",
    "        'max_features': trial.suggest_categorical(\"max_features\", ['sqrt', 'log2']),\n",
    "        'min_samples_split': trial.suggest_loguniform('min_samples_split', 1e-5, 0.1),\n",
    "        'min_samples_leaf': trial.suggest_loguniform('min_samples_leaf', 1e-5, 0.1),\n",
    "        'class_weight': trial.suggest_categorical('class_weight', ['balanced', 'balanced_subsample']),\n",
    "    }\n",
    "    clf = RandomForestClassifier(**params, random_state=0)\n",
    "    score = cross_validate(clf, X, y, cv = 4, scoring = 'roc_auc', return_train_score=True)\n",
    "    train_score = np.mean(score['train_score'])\n",
    "    test_score = np.mean(score['test_score'])\n",
    "    return -(test_score - 0.7 * (train_score - test_score))"
   ]
  },
  {
   "cell_type": "code",
   "execution_count": 120,
   "id": "e7c53610-0290-430d-bdf9-abe39eb0ab78",
   "metadata": {},
   "outputs": [],
   "source": [
    "#optuna.delete_study(study_name=\"cc-coupon-redemption\", storage=\"sqlite:///cc-tuning.db\")\n"
   ]
  },
  {
   "cell_type": "code",
   "execution_count": 121,
   "id": "e27f166c-5384-4e92-9da0-4da4df731970",
   "metadata": {
    "scrolled": true,
    "tags": []
   },
   "outputs": [
    {
     "name": "stderr",
     "output_type": "stream",
     "text": [
      "\u001b[32m[I 2022-06-24 18:21:23,155]\u001b[0m A new study created in RDB with name: cc-coupon-redemption\u001b[0m\n",
      "\u001b[32m[I 2022-06-24 18:21:31,766]\u001b[0m Trial 0 finished with value: -0.8215668597687859 and parameters: {'n_estimators': 108, 'max_depth': 4, 'max_features': 'log2', 'min_samples_split': 2.5498676634862613e-05, 'min_samples_leaf': 0.07399192689691342, 'class_weight': 'balanced_subsample'}. Best is trial 0 with value: -0.8215668597687859.\u001b[0m\n",
      "\u001b[32m[I 2022-06-24 18:36:59,246]\u001b[0m Trial 1 finished with value: -0.8246974958987183 and parameters: {'n_estimators': 342, 'max_depth': 2, 'max_features': 'log2', 'min_samples_split': 0.007373502530410813, 'min_samples_leaf': 0.0002545512537185734, 'class_weight': 'balanced_subsample'}. Best is trial 1 with value: -0.8246974958987183.\u001b[0m\n",
      "\u001b[32m[I 2022-06-25 06:22:59,371]\u001b[0m Trial 2 finished with value: -0.8246765019962503 and parameters: {'n_estimators': 281, 'max_depth': 2, 'max_features': 'log2', 'min_samples_split': 0.01435116135666584, 'min_samples_leaf': 0.01396472678384449, 'class_weight': 'balanced'}. Best is trial 1 with value: -0.8246974958987183.\u001b[0m\n",
      "\u001b[32m[I 2022-06-25 06:23:12,634]\u001b[0m Trial 3 finished with value: -0.8296124269336053 and parameters: {'n_estimators': 100, 'max_depth': 3, 'max_features': 'sqrt', 'min_samples_split': 0.0005689027080216459, 'min_samples_leaf': 0.0005197141174320745, 'class_weight': 'balanced_subsample'}. Best is trial 3 with value: -0.8296124269336053.\u001b[0m\n",
      "\u001b[32m[I 2022-06-25 08:28:50,451]\u001b[0m Trial 4 finished with value: -0.8443492478858176 and parameters: {'n_estimators': 551, 'max_depth': 5, 'max_features': 'log2', 'min_samples_split': 0.00037651088314398344, 'min_samples_leaf': 5.8083639948667245e-05, 'class_weight': 'balanced'}. Best is trial 4 with value: -0.8443492478858176.\u001b[0m\n",
      "\u001b[32m[I 2022-06-25 08:29:21,978]\u001b[0m Trial 5 finished with value: -0.8304511716963285 and parameters: {'n_estimators': 304, 'max_depth': 3, 'max_features': 'log2', 'min_samples_split': 1.0228606740565316e-05, 'min_samples_leaf': 1.2669007514609245e-05, 'class_weight': 'balanced_subsample'}. Best is trial 4 with value: -0.8443492478858176.\u001b[0m\n",
      "\u001b[32m[I 2022-06-25 08:29:41,346]\u001b[0m Trial 6 finished with value: -0.8322630293963176 and parameters: {'n_estimators': 199, 'max_depth': 2, 'max_features': 'sqrt', 'min_samples_split': 7.002033474056035e-05, 'min_samples_leaf': 0.027323201305223102, 'class_weight': 'balanced_subsample'}. Best is trial 4 with value: -0.8443492478858176.\u001b[0m\n",
      "\u001b[32m[I 2022-06-25 08:29:52,671]\u001b[0m Trial 7 finished with value: -0.82304050345351 and parameters: {'n_estimators': 125, 'max_depth': 2, 'max_features': 'sqrt', 'min_samples_split': 0.000163217760695656, 'min_samples_leaf': 0.0036490680275918664, 'class_weight': 'balanced_subsample'}. Best is trial 4 with value: -0.8443492478858176.\u001b[0m\n",
      "\u001b[32m[I 2022-06-25 08:30:33,515]\u001b[0m Trial 8 finished with value: -0.8341231680647442 and parameters: {'n_estimators': 514, 'max_depth': 3, 'max_features': 'sqrt', 'min_samples_split': 0.0002195836120611041, 'min_samples_leaf': 1.7971361875414865e-05, 'class_weight': 'balanced'}. Best is trial 4 with value: -0.8443492478858176.\u001b[0m\n",
      "\u001b[32m[I 2022-06-25 08:30:39,136]\u001b[0m Trial 9 finished with value: -0.8404998176661487 and parameters: {'n_estimators': 41, 'max_depth': 5, 'max_features': 'sqrt', 'min_samples_split': 7.247835665484641e-05, 'min_samples_leaf': 0.008980973557578912, 'class_weight': 'balanced_subsample'}. Best is trial 4 with value: -0.8443492478858176.\u001b[0m\n",
      "\u001b[32m[I 2022-06-25 08:31:39,860]\u001b[0m Trial 10 finished with value: -0.8426226167953413 and parameters: {'n_estimators': 789, 'max_depth': 5, 'max_features': 'log2', 'min_samples_split': 0.07830586563471599, 'min_samples_leaf': 0.00010747899313868223, 'class_weight': 'balanced'}. Best is trial 4 with value: -0.8443492478858176.\u001b[0m\n",
      "\u001b[32m[I 2022-06-25 08:32:43,884]\u001b[0m Trial 11 finished with value: -0.8444757935397157 and parameters: {'n_estimators': 798, 'max_depth': 5, 'max_features': 'log2', 'min_samples_split': 0.0028017447198305304, 'min_samples_leaf': 8.359973074091293e-05, 'class_weight': 'balanced'}. Best is trial 11 with value: -0.8444757935397157.\u001b[0m\n",
      "\u001b[32m[I 2022-06-25 08:33:49,975]\u001b[0m Trial 12 finished with value: -0.8441560557068416 and parameters: {'n_estimators': 838, 'max_depth': 5, 'max_features': 'log2', 'min_samples_split': 0.002556490560509912, 'min_samples_leaf': 6.449260605324419e-05, 'class_weight': 'balanced'}. Best is trial 11 with value: -0.8444757935397157.\u001b[0m\n",
      "\u001b[32m[I 2022-06-25 08:34:29,095]\u001b[0m Trial 13 finished with value: -0.8385350153463238 and parameters: {'n_estimators': 578, 'max_depth': 4, 'max_features': 'log2', 'min_samples_split': 0.0012788828248605636, 'min_samples_leaf': 0.0013822373641341203, 'class_weight': 'balanced'}. Best is trial 11 with value: -0.8444757935397157.\u001b[0m\n",
      "\u001b[32m[I 2022-06-25 08:35:19,610]\u001b[0m Trial 14 finished with value: -0.8383830816884742 and parameters: {'n_estimators': 676, 'max_depth': 4, 'max_features': 'log2', 'min_samples_split': 0.004558180716253355, 'min_samples_leaf': 4.642888616369474e-05, 'class_weight': 'balanced'}. Best is trial 11 with value: -0.8444757935397157.\u001b[0m\n",
      "\u001b[32m[I 2022-06-25 08:36:41,503]\u001b[0m Trial 15 finished with value: -0.8440051668981796 and parameters: {'n_estimators': 975, 'max_depth': 5, 'max_features': 'log2', 'min_samples_split': 0.000577264131526635, 'min_samples_leaf': 0.00025592504612088695, 'class_weight': 'balanced'}. Best is trial 11 with value: -0.8444757935397157.\u001b[0m\n",
      "\u001b[32m[I 2022-06-25 08:37:24,331]\u001b[0m Trial 16 finished with value: -0.8376383338589313 and parameters: {'n_estimators': 648, 'max_depth': 4, 'max_features': 'log2', 'min_samples_split': 0.038965382392183105, 'min_samples_leaf': 3.310087862609826e-05, 'class_weight': 'balanced'}. Best is trial 11 with value: -0.8444757935397157.\u001b[0m\n",
      "\u001b[32m[I 2022-06-25 08:37:59,434]\u001b[0m Trial 17 finished with value: -0.8440411095091058 and parameters: {'n_estimators': 440, 'max_depth': 5, 'max_features': 'log2', 'min_samples_split': 0.001660301790763363, 'min_samples_leaf': 0.0014136705372045457, 'class_weight': 'balanced'}. Best is trial 11 with value: -0.8444757935397157.\u001b[0m\n",
      "\u001b[32m[I 2022-06-25 08:39:14,414]\u001b[0m Trial 18 finished with value: -0.8460565524621586 and parameters: {'n_estimators': 988, 'max_depth': 5, 'max_features': 'log2', 'min_samples_split': 0.012906835977602681, 'min_samples_leaf': 0.0001614692918176391, 'class_weight': 'balanced'}. Best is trial 18 with value: -0.8460565524621586.\u001b[0m\n",
      "\u001b[32m[I 2022-06-25 08:40:21,260]\u001b[0m Trial 19 finished with value: -0.8385971904420573 and parameters: {'n_estimators': 991, 'max_depth': 4, 'max_features': 'log2', 'min_samples_split': 0.01620340551408917, 'min_samples_leaf': 0.00019112101667449435, 'class_weight': 'balanced'}. Best is trial 18 with value: -0.8460565524621586.\u001b[0m\n",
      "\u001b[32m[I 2022-06-25 08:41:26,057]\u001b[0m Trial 20 finished with value: -0.8454678451712784 and parameters: {'n_estimators': 857, 'max_depth': 5, 'max_features': 'log2', 'min_samples_split': 0.02481425970894918, 'min_samples_leaf': 0.0004483795920965575, 'class_weight': 'balanced'}. Best is trial 18 with value: -0.8460565524621586.\u001b[0m\n",
      "\u001b[32m[I 2022-06-25 08:42:31,386]\u001b[0m Trial 21 finished with value: -0.845331529783371 and parameters: {'n_estimators': 863, 'max_depth': 5, 'max_features': 'log2', 'min_samples_split': 0.02283453603786557, 'min_samples_leaf': 0.0006535679640481473, 'class_weight': 'balanced'}. Best is trial 18 with value: -0.8460565524621586.\u001b[0m\n",
      "\u001b[32m[I 2022-06-25 08:43:39,821]\u001b[0m Trial 22 finished with value: -0.8428881231112769 and parameters: {'n_estimators': 904, 'max_depth': 5, 'max_features': 'log2', 'min_samples_split': 0.09775428307629848, 'min_samples_leaf': 0.0006681010826436562, 'class_weight': 'balanced'}. Best is trial 18 with value: -0.8460565524621586.\u001b[0m\n",
      "\u001b[32m[I 2022-06-25 08:44:46,684]\u001b[0m Trial 23 finished with value: -0.8384983267799064 and parameters: {'n_estimators': 883, 'max_depth': 4, 'max_features': 'log2', 'min_samples_split': 0.02337307195793225, 'min_samples_leaf': 0.0030852456597478552, 'class_weight': 'balanced'}. Best is trial 18 with value: -0.8460565524621586.\u001b[0m\n",
      "\u001b[32m[I 2022-06-25 08:45:42,073]\u001b[0m Trial 24 finished with value: -0.8444743128424317 and parameters: {'n_estimators': 721, 'max_depth': 5, 'max_features': 'log2', 'min_samples_split': 0.007396357127771192, 'min_samples_leaf': 0.00048085403367150505, 'class_weight': 'balanced'}. Best is trial 18 with value: -0.8460565524621586.\u001b[0m\n",
      "\u001b[32m[I 2022-06-25 08:46:51,812]\u001b[0m Trial 25 finished with value: -0.8459210785030815 and parameters: {'n_estimators': 924, 'max_depth': 5, 'max_features': 'log2', 'min_samples_split': 0.03773647186448796, 'min_samples_leaf': 0.00016084779559000218, 'class_weight': 'balanced'}. Best is trial 18 with value: -0.8460565524621586.\u001b[0m\n",
      "\u001b[32m[I 2022-06-25 08:48:05,092]\u001b[0m Trial 26 finished with value: -0.843736616336227 and parameters: {'n_estimators': 930, 'max_depth': 4, 'max_features': 'sqrt', 'min_samples_split': 0.04536231574731713, 'min_samples_leaf': 0.0001611239524440401, 'class_weight': 'balanced'}. Best is trial 18 with value: -0.8460565524621586.\u001b[0m\n",
      "\u001b[32m[I 2022-06-25 08:49:02,530]\u001b[0m Trial 27 finished with value: -0.8447042771360302 and parameters: {'n_estimators': 750, 'max_depth': 5, 'max_features': 'log2', 'min_samples_split': 0.008550874872439091, 'min_samples_leaf': 2.81611378341126e-05, 'class_weight': 'balanced'}. Best is trial 18 with value: -0.8460565524621586.\u001b[0m\n",
      "\u001b[32m[I 2022-06-25 08:50:05,277]\u001b[0m Trial 28 finished with value: -0.8378178966330524 and parameters: {'n_estimators': 925, 'max_depth': 4, 'max_features': 'log2', 'min_samples_split': 0.048460663511269805, 'min_samples_leaf': 0.002579203489206795, 'class_weight': 'balanced'}. Best is trial 18 with value: -0.8460565524621586.\u001b[0m\n",
      "\u001b[32m[I 2022-06-25 08:51:22,312]\u001b[0m Trial 29 finished with value: -0.8447654070100512 and parameters: {'n_estimators': 990, 'max_depth': 5, 'max_features': 'log2', 'min_samples_split': 0.010798934050875286, 'min_samples_leaf': 0.00032520157685303046, 'class_weight': 'balanced'}. Best is trial 18 with value: -0.8460565524621586.\u001b[0m\n",
      "\u001b[32m[I 2022-06-25 08:52:05,616]\u001b[0m Trial 30 finished with value: -0.8380106342205702 and parameters: {'n_estimators': 623, 'max_depth': 4, 'max_features': 'log2', 'min_samples_split': 0.029943630146783785, 'min_samples_leaf': 0.00010909329154578782, 'class_weight': 'balanced'}. Best is trial 18 with value: -0.8460565524621586.\u001b[0m\n",
      "\u001b[32m[I 2022-06-25 08:53:11,328]\u001b[0m Trial 31 finished with value: -0.8454095876929958 and parameters: {'n_estimators': 834, 'max_depth': 5, 'max_features': 'log2', 'min_samples_split': 0.022666484996339876, 'min_samples_leaf': 0.0011970338142651212, 'class_weight': 'balanced'}. Best is trial 18 with value: -0.8460565524621586.\u001b[0m\n",
      "\u001b[32m[I 2022-06-25 08:54:18,570]\u001b[0m Trial 32 finished with value: -0.8440281946003798 and parameters: {'n_estimators': 813, 'max_depth': 5, 'max_features': 'log2', 'min_samples_split': 0.0046918258835469085, 'min_samples_leaf': 0.0014546003735059305, 'class_weight': 'balanced'}. Best is trial 18 with value: -0.8460565524621586.\u001b[0m\n",
      "\u001b[32m[I 2022-06-25 08:54:59,144]\u001b[0m Trial 33 finished with value: -0.8254113707728779 and parameters: {'n_estimators': 723, 'max_depth': 5, 'max_features': 'log2', 'min_samples_split': 0.06916077260547181, 'min_samples_leaf': 0.08009039548837532, 'class_weight': 'balanced'}. Best is trial 18 with value: -0.8460565524621586.\u001b[0m\n",
      "\u001b[32m[I 2022-06-25 08:55:42,119]\u001b[0m Trial 34 finished with value: -0.8455518202851013 and parameters: {'n_estimators': 433, 'max_depth': 5, 'max_features': 'log2', 'min_samples_split': 0.016121955725761354, 'min_samples_leaf': 0.00034493653424500566, 'class_weight': 'balanced_subsample'}. Best is trial 18 with value: -0.8460565524621586.\u001b[0m\n",
      "\u001b[32m[I 2022-06-25 08:56:23,356]\u001b[0m Trial 35 finished with value: -0.8449325042065371 and parameters: {'n_estimators': 413, 'max_depth': 5, 'max_features': 'log2', 'min_samples_split': 0.013202155103288192, 'min_samples_leaf': 0.00035590869358470225, 'class_weight': 'balanced_subsample'}. Best is trial 18 with value: -0.8460565524621586.\u001b[0m\n",
      "\u001b[32m[I 2022-06-25 08:57:04,595]\u001b[0m Trial 36 finished with value: -0.8392088007834155 and parameters: {'n_estimators': 434, 'max_depth': 4, 'max_features': 'log2', 'min_samples_split': 0.005059544123667379, 'min_samples_leaf': 0.00015454069206151372, 'class_weight': 'balanced_subsample'}. Best is trial 18 with value: -0.8460565524621586.\u001b[0m\n",
      "\u001b[32m[I 2022-06-25 08:57:35,319]\u001b[0m Trial 37 finished with value: -0.8339699435639651 and parameters: {'n_estimators': 339, 'max_depth': 3, 'max_features': 'sqrt', 'min_samples_split': 0.01766995085172905, 'min_samples_leaf': 0.0007380532479523843, 'class_weight': 'balanced_subsample'}. Best is trial 18 with value: -0.8460565524621586.\u001b[0m\n",
      "\u001b[32m[I 2022-06-25 08:59:06,085]\u001b[0m Trial 38 finished with value: -0.8451367117841678 and parameters: {'n_estimators': 933, 'max_depth': 5, 'max_features': 'log2', 'min_samples_split': 0.04231607571794386, 'min_samples_leaf': 0.0004054776931055409, 'class_weight': 'balanced_subsample'}. Best is trial 18 with value: -0.8460565524621586.\u001b[0m\n",
      "\u001b[32m[I 2022-06-25 08:59:31,917]\u001b[0m Trial 39 finished with value: -0.8445783090698669 and parameters: {'n_estimators': 256, 'max_depth': 5, 'max_features': 'log2', 'min_samples_split': 0.002583183650918888, 'min_samples_leaf': 0.00019266883558056262, 'class_weight': 'balanced_subsample'}. Best is trial 18 with value: -0.8460565524621586.\u001b[0m\n",
      "\u001b[32m[I 2022-06-25 09:00:08,162]\u001b[0m Trial 40 finished with value: -0.8293327336549484 and parameters: {'n_estimators': 481, 'max_depth': 2, 'max_features': 'sqrt', 'min_samples_split': 0.012610325247407213, 'min_samples_leaf': 0.00012313851957271256, 'class_weight': 'balanced_subsample'}. Best is trial 18 with value: -0.8460565524621586.\u001b[0m\n",
      "\u001b[32m[I 2022-06-25 09:01:12,455]\u001b[0m Trial 41 finished with value: -0.8456098277404475 and parameters: {'n_estimators': 853, 'max_depth': 5, 'max_features': 'log2', 'min_samples_split': 0.026921306166489353, 'min_samples_leaf': 0.005658417381358532, 'class_weight': 'balanced'}. Best is trial 18 with value: -0.8460565524621586.\u001b[0m\n",
      "\u001b[32m[I 2022-06-25 09:02:54,281]\u001b[0m Trial 42 finished with value: -0.842424911035867 and parameters: {'n_estimators': 956, 'max_depth': 5, 'max_features': 'log2', 'min_samples_split': 0.06910660786821514, 'min_samples_leaf': 0.00708002012167394, 'class_weight': 'balanced_subsample'}. Best is trial 18 with value: -0.8460565524621586.\u001b[0m\n",
      "\u001b[32m[I 2022-06-25 09:04:08,675]\u001b[0m Trial 43 finished with value: -0.8361911940584957 and parameters: {'n_estimators': 878, 'max_depth': 5, 'max_features': 'log2', 'min_samples_split': 0.029448280350128645, 'min_samples_leaf': 0.037257449985145887, 'class_weight': 'balanced'}. Best is trial 18 with value: -0.8460565524621586.\u001b[0m\n",
      "\u001b[32m[I 2022-06-25 09:04:43,371]\u001b[0m Trial 44 finished with value: -0.840969427827156 and parameters: {'n_estimators': 371, 'max_depth': 5, 'max_features': 'log2', 'min_samples_split': 0.008855822445894215, 'min_samples_leaf': 0.018014666170491897, 'class_weight': 'balanced_subsample'}. Best is trial 18 with value: -0.8460565524621586.\u001b[0m\n",
      "\u001b[32m[I 2022-06-25 09:05:39,179]\u001b[0m Trial 45 finished with value: -0.8432063604327402 and parameters: {'n_estimators': 762, 'max_depth': 5, 'max_features': 'log2', 'min_samples_split': 0.056078369430708416, 'min_samples_leaf': 0.0008350624637844436, 'class_weight': 'balanced'}. Best is trial 18 with value: -0.8460565524621586.\u001b[0m\n",
      "\u001b[32m[I 2022-06-25 09:06:31,306]\u001b[0m Trial 46 finished with value: -0.8479949341222802 and parameters: {'n_estimators': 573, 'max_depth': 5, 'max_features': 'sqrt', 'min_samples_split': 0.0059042390145533, 'min_samples_leaf': 0.004878688465406389, 'class_weight': 'balanced'}. Best is trial 46 with value: -0.8479949341222802.\u001b[0m\n",
      "\u001b[32m[I 2022-06-25 09:07:20,775]\u001b[0m Trial 47 finished with value: -0.8478714728035922 and parameters: {'n_estimators': 546, 'max_depth': 5, 'max_features': 'sqrt', 'min_samples_split': 0.005933753320157852, 'min_samples_leaf': 0.004927795865127354, 'class_weight': 'balanced'}. Best is trial 46 with value: -0.8479949341222802.\u001b[0m\n",
      "\u001b[32m[I 2022-06-25 09:08:06,610]\u001b[0m Trial 48 finished with value: -0.835312741473394 and parameters: {'n_estimators': 682, 'max_depth': 3, 'max_features': 'sqrt', 'min_samples_split': 0.004813531946594568, 'min_samples_leaf': 0.0056235792491401435, 'class_weight': 'balanced'}. Best is trial 46 with value: -0.8479949341222802.\u001b[0m\n",
      "\u001b[32m[I 2022-06-25 09:08:51,534]\u001b[0m Trial 49 finished with value: -0.8428167657258726 and parameters: {'n_estimators': 558, 'max_depth': 4, 'max_features': 'sqrt', 'min_samples_split': 0.003665260328320205, 'min_samples_leaf': 0.011477737302064615, 'class_weight': 'balanced'}. Best is trial 46 with value: -0.8479949341222802.\u001b[0m\n"
     ]
    }
   ],
   "source": [
    "obj_func = lambda trial: objective(trial, X_train_t, y_train)\n",
    "train = True\n",
    "if train:\n",
    "    study = optuna.create_study(study_name='cc-coupon-redemption', storage='sqlite:///cc-tuning.db', load_if_exists=True)\n",
    "    study.optimize(obj_func, n_trials=50)\n",
    "else:\n",
    "    study = optuna.load_study(study_name='cc-coupon-redemption', storage='sqlite:///../cc-tuning.db')"
   ]
  },
  {
   "cell_type": "code",
   "execution_count": 124,
   "id": "04e19f3b-87ec-4554-b927-8f250ab73cdd",
   "metadata": {},
   "outputs": [
    {
     "data": {
      "text/plain": [
       "RandomForestClassifier(class_weight='balanced', max_depth=5,\n",
       "                       max_features='sqrt',\n",
       "                       min_samples_leaf=0.004878688465406389,\n",
       "                       min_samples_split=0.0059042390145533, n_estimators=573)"
      ]
     },
     "execution_count": 124,
     "metadata": {},
     "output_type": "execute_result"
    }
   ],
   "source": [
    "clf = RandomForestClassifier(**study.best_params)\n",
    "clf.fit(X_train_t, y_train)"
   ]
  },
  {
   "cell_type": "markdown",
   "id": "c9e0d840-368d-4f8c-8f96-d031eb0572fa",
   "metadata": {},
   "source": [
    "# Model Evaluation"
   ]
  },
  {
   "cell_type": "code",
   "execution_count": 129,
   "id": "ac12bab2-4da0-46a2-92b8-5444d707606c",
   "metadata": {},
   "outputs": [],
   "source": [
    "y_train_score = clf.predict_proba(X_train_t)\n",
    "y_test_score = clf.predict_proba(X_test_t)\n",
    "y_train_pred = np.where(y_train_score[:, 1] > 0.5, 1, 0)\n",
    "y_test_pred = np.where(y_test_score[:, 1] > 0.5, 1, 0)\n"
   ]
  },
  {
   "cell_type": "markdown",
   "id": "2ddbb287-51ad-443b-a082-acce3dc56680",
   "metadata": {},
   "source": [
    "## Classification Report"
   ]
  },
  {
   "cell_type": "code",
   "execution_count": 130,
   "id": "40ff7629-5581-4a87-b8d5-963353fbe91c",
   "metadata": {},
   "outputs": [
    {
     "name": "stdout",
     "output_type": "stream",
     "text": [
      "train classification report\n",
      "              precision    recall  f1-score   support\n",
      "\n",
      "           0       1.00      0.86      0.92     47734\n",
      "           1       0.04      0.84      0.08       339\n",
      "\n",
      "    accuracy                           0.86     48073\n",
      "   macro avg       0.52      0.85      0.50     48073\n",
      "weighted avg       0.99      0.86      0.92     48073\n",
      "\n",
      "test classification report\n",
      "              precision    recall  f1-score   support\n",
      "\n",
      "           0       0.99      0.87      0.93     29906\n",
      "           1       0.05      0.57      0.10       390\n",
      "\n",
      "    accuracy                           0.87     30296\n",
      "   macro avg       0.52      0.72      0.51     30296\n",
      "weighted avg       0.98      0.87      0.92     30296\n",
      "\n"
     ]
    }
   ],
   "source": [
    "print(\"train classification report\")\n",
    "print(classification_report(y_train, y_train_pred))\n",
    "print(\"test classification report\")\n",
    "print(classification_report(y_test, y_test_pred))\n"
   ]
  },
  {
   "cell_type": "markdown",
   "id": "be9bdd6a-b395-4d15-8948-fccacaf5464c",
   "metadata": {},
   "source": [
    "## ROCAUC"
   ]
  },
  {
   "cell_type": "code",
   "execution_count": 131,
   "id": "3da70519-82fb-4035-88b0-1f54ebeb3585",
   "metadata": {},
   "outputs": [],
   "source": [
    "train_fpr, train_tpr, _ = roc_curve(y_train, y_train_score[:, 1])\n",
    "test_fpr, test_tpr, _ = roc_curve(y_test, y_test_score[:, 1])\n",
    "\n",
    "train_auc = roc_auc_score(y_train, y_train_score[:, 1])\n",
    "test_auc = roc_auc_score(y_test, y_test_score[:, 1])"
   ]
  },
  {
   "cell_type": "code",
   "execution_count": 132,
   "id": "308e0f54-a95f-4f62-8e01-d1ccec06bf6c",
   "metadata": {},
   "outputs": [
    {
     "data": {
      "image/png": "[encoded data removed]",
      "text/plain": [
       "<Figure size 432x288 with 1 Axes>"
      ]
     },
     "metadata": {
      "needs_background": "light"
     },
     "output_type": "display_data"
    }
   ],
   "source": [
    "plt.figure()\n",
    "lw = 2\n",
    "plt.plot(train_fpr, train_tpr, color=\"b\",lw=lw, label=\"Train ROC curve (area = %0.4f)\" % train_auc)\n",
    "plt.plot(test_fpr, test_tpr, color=\"r\",lw=lw, label=\"Test ROC curve (area = %0.4f)\" % test_auc)\n",
    "plt.plot([0, 1], [0, 1], color=\"navy\", lw=lw, linestyle=\"--\")\n",
    "plt.xlim([0.0, 1.0])\n",
    "plt.ylim([0.0, 1.05])\n",
    "plt.xlabel(\"False Positive Rate\")\n",
    "plt.ylabel(\"True Positive Rate\")\n",
    "plt.title(\"Receiver operating characteristic example\")\n",
    "plt.legend(loc=\"lower right\")\n",
    "plt.show()"
   ]
  },
  {
   "cell_type": "code",
   "execution_count": null,
   "id": "7674f737-8b69-4957-88ea-e54d18fbb5a2",
   "metadata": {},
   "outputs": [],
   "source": []
  }
 ],
 "metadata": {
  "kernelspec": {
   "display_name": "virtualENV",
   "language": "python",
   "name": "virtualenv"
  },
  "language_info": {
   "codemirror_mode": {
    "name": "ipython",
    "version": 3
   },
   "file_extension": ".py",
   "mimetype": "text/x-python",
   "name": "python",
   "nbconvert_exporter": "python",
   "pygments_lexer": "ipython3",
   "version": "3.9.7"
  }
 },
 "nbformat": 4,
 "nbformat_minor": 5
}
