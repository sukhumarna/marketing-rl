{
 "cells": [
  {
   "cell_type": "markdown",
   "id": "efcb0045-bc9a-4415-bf79-e616e79c336e",
   "metadata": {},
   "source": [
    "Coupon Redemption for Credit Card Campaign\n",
    "=============="
   ]
  },
  {
   "cell_type": "code",
   "execution_count": 1,
   "id": "25dc8421-fd5f-4eb8-8c70-9ab78c148902",
   "metadata": {},
   "outputs": [
    {
     "name": "stderr",
     "output_type": "stream",
     "text": [
      "/Users/sukhumarn/anaconda3/envs/mar_rl/lib/python3.10/site-packages/tqdm/auto.py:22: TqdmWarning: IProgress not found. Please update jupyter and ipywidgets. See https://ipywidgets.readthedocs.io/en/stable/user_install.html\n",
      "  from .autonotebook import tqdm as notebook_tqdm\n"
     ]
    }
   ],
   "source": [
    "import pandas as pd\n",
    "import numpy as np\n",
    "import seaborn as sns\n",
    "import matplotlib.pyplot as plt\n",
    "import re\n",
    "import optuna\n",
    "import os\n",
    "from sklearn.model_selection import cross_validate, TimeSeriesSplit\n",
    "from sklearn.preprocessing import MultiLabelBinarizer\n",
    "from sklearn.pipeline import Pipeline\n",
    "from sklearn.compose import ColumnTransformer\n",
    "from sklearn.preprocessing import OneHotEncoder, StandardScaler, OrdinalEncoder\n",
    "from sklearn.impute import SimpleImputer\n",
    "from sklearn.ensemble import RandomForestClassifier\n",
    "from sklearn.metrics import classification_report, roc_curve, roc_auc_score"
   ]
  },
  {
   "cell_type": "code",
   "execution_count": 2,
   "id": "3bfb8c52-c81c-4432-b3b5-30bb6b3ab32c",
   "metadata": {},
   "outputs": [],
   "source": [
    "colors = sns.color_palette(\"deep\")"
   ]
  },
  {
   "cell_type": "markdown",
   "id": "b4a7a78e-efce-45bf-be67-5c1c898b48b0",
   "metadata": {},
   "source": [
    "# Load Data"
   ]
  },
  {
   "cell_type": "code",
   "execution_count": 3,
   "id": "24c3965c-ac94-473f-be2e-2ac5e550e20f",
   "metadata": {},
   "outputs": [],
   "source": [
    "data_path = '../data/Predicting Coupon Redemption/train'\n",
    "train_df = pd.read_csv(os.path.join(data_path, 'train.csv'))\n",
    "demo_df = pd.read_csv(os.path.join(data_path, 'customer_demographics.csv'))\n",
    "cmpn_df = pd.read_csv(os.path.join(data_path, 'campaign_data.csv'))\n",
    "cp_it_df = pd.read_csv(os.path.join(data_path, 'coupon_item_mapping.csv'))\n",
    "txn_df = pd.read_csv(os.path.join(data_path, 'customer_transaction_data.csv'))\n",
    "item_df = pd.read_csv(os.path.join(data_path, 'item_data.csv'))"
   ]
  },
  {
   "cell_type": "markdown",
   "id": "2eb329a0-5157-46d1-a757-3b4cb2b3c24b",
   "metadata": {},
   "source": [
    "# Prepare Data"
   ]
  },
  {
   "cell_type": "code",
   "execution_count": 4,
   "id": "70071a7d-9ee9-45dd-9fc0-250fbca7fe8b",
   "metadata": {},
   "outputs": [
    {
     "data": {
      "text/html": [
       "<div>\n",
       "<style scoped>\n",
       "    .dataframe tbody tr th:only-of-type {\n",
       "        vertical-align: middle;\n",
       "    }\n",
       "\n",
       "    .dataframe tbody tr th {\n",
       "        vertical-align: top;\n",
       "    }\n",
       "\n",
       "    .dataframe thead th {\n",
       "        text-align: right;\n",
       "    }\n",
       "</style>\n",
       "<table border=\"1\" class=\"dataframe\">\n",
       "  <thead>\n",
       "    <tr style=\"text-align: right;\">\n",
       "      <th></th>\n",
       "      <th>id</th>\n",
       "      <th>campaign_id</th>\n",
       "      <th>coupon_id</th>\n",
       "      <th>customer_id</th>\n",
       "      <th>redemption_status</th>\n",
       "    </tr>\n",
       "  </thead>\n",
       "  <tbody>\n",
       "    <tr>\n",
       "      <th>0</th>\n",
       "      <td>1</td>\n",
       "      <td>13</td>\n",
       "      <td>27</td>\n",
       "      <td>1053</td>\n",
       "      <td>0</td>\n",
       "    </tr>\n",
       "    <tr>\n",
       "      <th>1</th>\n",
       "      <td>2</td>\n",
       "      <td>13</td>\n",
       "      <td>116</td>\n",
       "      <td>48</td>\n",
       "      <td>0</td>\n",
       "    </tr>\n",
       "    <tr>\n",
       "      <th>2</th>\n",
       "      <td>6</td>\n",
       "      <td>9</td>\n",
       "      <td>635</td>\n",
       "      <td>205</td>\n",
       "      <td>0</td>\n",
       "    </tr>\n",
       "    <tr>\n",
       "      <th>3</th>\n",
       "      <td>7</td>\n",
       "      <td>13</td>\n",
       "      <td>644</td>\n",
       "      <td>1050</td>\n",
       "      <td>0</td>\n",
       "    </tr>\n",
       "    <tr>\n",
       "      <th>4</th>\n",
       "      <td>9</td>\n",
       "      <td>8</td>\n",
       "      <td>1017</td>\n",
       "      <td>1489</td>\n",
       "      <td>0</td>\n",
       "    </tr>\n",
       "  </tbody>\n",
       "</table>\n",
       "</div>"
      ],
      "text/plain": [
       "   id  campaign_id  coupon_id  customer_id  redemption_status\n",
       "0   1           13         27         1053                  0\n",
       "1   2           13        116           48                  0\n",
       "2   6            9        635          205                  0\n",
       "3   7           13        644         1050                  0\n",
       "4   9            8       1017         1489                  0"
      ]
     },
     "execution_count": 4,
     "metadata": {},
     "output_type": "execute_result"
    }
   ],
   "source": [
    "train_df.head()"
   ]
  },
  {
   "cell_type": "code",
   "execution_count": 5,
   "id": "1a11ff81-ed6e-434e-b3bb-1be6e1c0163b",
   "metadata": {},
   "outputs": [],
   "source": [
    "index_cols = ['campaign_id', 'coupon_id', 'customer_id']\n",
    "label_col = 'redemption_status'"
   ]
  },
  {
   "cell_type": "code",
   "execution_count": 6,
   "id": "b89e98f8-ab77-4235-9728-9ee5cfe24667",
   "metadata": {},
   "outputs": [
    {
     "name": "stdout",
     "output_type": "stream",
     "text": [
      "there are 1428 unique customers\n",
      "there are 18 unique campaigns\n",
      "there are 866 unique coupons\n"
     ]
    }
   ],
   "source": [
    "print(\"there are {} unique customers\".format(train_df['customer_id'].nunique()))\n",
    "print(\"there are {} unique campaigns\".format(train_df['campaign_id'].nunique()))\n",
    "print(\"there are {} unique coupons\".format(train_df['coupon_id'].nunique()))"
   ]
  },
  {
   "cell_type": "markdown",
   "id": "1e829e4f-245e-400f-bae7-7b546b01da5d",
   "metadata": {},
   "source": [
    "## Demographic Feature\n",
    "Combine train_df with demo_df"
   ]
  },
  {
   "cell_type": "code",
   "execution_count": 7,
   "id": "4eeeae79-b031-4b6c-8633-ca812ac79878",
   "metadata": {},
   "outputs": [
    {
     "data": {
      "text/html": [
       "<div>\n",
       "<style scoped>\n",
       "    .dataframe tbody tr th:only-of-type {\n",
       "        vertical-align: middle;\n",
       "    }\n",
       "\n",
       "    .dataframe tbody tr th {\n",
       "        vertical-align: top;\n",
       "    }\n",
       "\n",
       "    .dataframe thead th {\n",
       "        text-align: right;\n",
       "    }\n",
       "</style>\n",
       "<table border=\"1\" class=\"dataframe\">\n",
       "  <thead>\n",
       "    <tr style=\"text-align: right;\">\n",
       "      <th></th>\n",
       "      <th>id</th>\n",
       "      <th>campaign_id</th>\n",
       "      <th>coupon_id</th>\n",
       "      <th>customer_id</th>\n",
       "      <th>redemption_status</th>\n",
       "      <th>age_range</th>\n",
       "      <th>marital_status</th>\n",
       "      <th>rented</th>\n",
       "      <th>family_size</th>\n",
       "      <th>no_of_children</th>\n",
       "      <th>income_bracket</th>\n",
       "    </tr>\n",
       "  </thead>\n",
       "  <tbody>\n",
       "    <tr>\n",
       "      <th>0</th>\n",
       "      <td>1</td>\n",
       "      <td>13</td>\n",
       "      <td>27</td>\n",
       "      <td>1053</td>\n",
       "      <td>0</td>\n",
       "      <td>46-55</td>\n",
       "      <td>NaN</td>\n",
       "      <td>0.0</td>\n",
       "      <td>1</td>\n",
       "      <td>NaN</td>\n",
       "      <td>5.0</td>\n",
       "    </tr>\n",
       "    <tr>\n",
       "      <th>1</th>\n",
       "      <td>2</td>\n",
       "      <td>13</td>\n",
       "      <td>116</td>\n",
       "      <td>48</td>\n",
       "      <td>0</td>\n",
       "      <td>36-45</td>\n",
       "      <td>Married</td>\n",
       "      <td>0.0</td>\n",
       "      <td>2</td>\n",
       "      <td>NaN</td>\n",
       "      <td>3.0</td>\n",
       "    </tr>\n",
       "    <tr>\n",
       "      <th>2</th>\n",
       "      <td>6</td>\n",
       "      <td>9</td>\n",
       "      <td>635</td>\n",
       "      <td>205</td>\n",
       "      <td>0</td>\n",
       "      <td>46-55</td>\n",
       "      <td>Married</td>\n",
       "      <td>0.0</td>\n",
       "      <td>2</td>\n",
       "      <td>NaN</td>\n",
       "      <td>7.0</td>\n",
       "    </tr>\n",
       "    <tr>\n",
       "      <th>3</th>\n",
       "      <td>7</td>\n",
       "      <td>13</td>\n",
       "      <td>644</td>\n",
       "      <td>1050</td>\n",
       "      <td>0</td>\n",
       "      <td>NaN</td>\n",
       "      <td>NaN</td>\n",
       "      <td>NaN</td>\n",
       "      <td>NaN</td>\n",
       "      <td>NaN</td>\n",
       "      <td>NaN</td>\n",
       "    </tr>\n",
       "    <tr>\n",
       "      <th>4</th>\n",
       "      <td>9</td>\n",
       "      <td>8</td>\n",
       "      <td>1017</td>\n",
       "      <td>1489</td>\n",
       "      <td>0</td>\n",
       "      <td>46-55</td>\n",
       "      <td>Married</td>\n",
       "      <td>0.0</td>\n",
       "      <td>2</td>\n",
       "      <td>NaN</td>\n",
       "      <td>3.0</td>\n",
       "    </tr>\n",
       "  </tbody>\n",
       "</table>\n",
       "</div>"
      ],
      "text/plain": [
       "   id  campaign_id  coupon_id  customer_id  redemption_status age_range  \\\n",
       "0   1           13         27         1053                  0     46-55   \n",
       "1   2           13        116           48                  0     36-45   \n",
       "2   6            9        635          205                  0     46-55   \n",
       "3   7           13        644         1050                  0       NaN   \n",
       "4   9            8       1017         1489                  0     46-55   \n",
       "\n",
       "  marital_status  rented family_size no_of_children  income_bracket  \n",
       "0            NaN     0.0           1            NaN             5.0  \n",
       "1        Married     0.0           2            NaN             3.0  \n",
       "2        Married     0.0           2            NaN             7.0  \n",
       "3            NaN     NaN         NaN            NaN             NaN  \n",
       "4        Married     0.0           2            NaN             3.0  "
      ]
     },
     "execution_count": 7,
     "metadata": {},
     "output_type": "execute_result"
    }
   ],
   "source": [
    "join_df = train_df.merge(demo_df, on='customer_id', how='left')\n",
    "join_df.head()"
   ]
  },
  {
   "cell_type": "code",
   "execution_count": 8,
   "id": "4ebd938f-6dce-46c4-878f-739043856187",
   "metadata": {},
   "outputs": [],
   "source": [
    "feat_cols = ['age_range', 'marital_status', 'rented', 'family_size', 'no_of_children', 'income_bracket']\n",
    "cat_cols = ['age_range', 'marital_status','family_size', 'no_of_children']\n",
    "numer_cols = ['rented', 'income_bracket']"
   ]
  },
  {
   "cell_type": "markdown",
   "id": "a7a70af9-3e1a-472d-bad8-bad1af4fbd97",
   "metadata": {},
   "source": [
    "## Campaign Data Feature\n",
    "Combine with campaign data"
   ]
  },
  {
   "cell_type": "code",
   "execution_count": 9,
   "id": "7df180b5-5566-4329-8c72-3aa66df37c16",
   "metadata": {},
   "outputs": [],
   "source": [
    "cmpn_df['start_date'] = cmpn_df['start_date'].apply(pd.to_datetime)\n",
    "cmpn_df['end_date'] = cmpn_df['end_date'].apply(pd.to_datetime)\n",
    "cmpn_df['campaign_duration'] = (cmpn_df['end_date'] - cmpn_df['start_date']).astype('timedelta64[D]').astype(int)"
   ]
  },
  {
   "cell_type": "code",
   "execution_count": 10,
   "id": "86fbe244-1bbe-482f-b714-9b82787f1487",
   "metadata": {},
   "outputs": [
    {
     "data": {
      "text/html": [
       "<div>\n",
       "<style scoped>\n",
       "    .dataframe tbody tr th:only-of-type {\n",
       "        vertical-align: middle;\n",
       "    }\n",
       "\n",
       "    .dataframe tbody tr th {\n",
       "        vertical-align: top;\n",
       "    }\n",
       "\n",
       "    .dataframe thead th {\n",
       "        text-align: right;\n",
       "    }\n",
       "</style>\n",
       "<table border=\"1\" class=\"dataframe\">\n",
       "  <thead>\n",
       "    <tr style=\"text-align: right;\">\n",
       "      <th></th>\n",
       "      <th>id</th>\n",
       "      <th>campaign_id</th>\n",
       "      <th>coupon_id</th>\n",
       "      <th>customer_id</th>\n",
       "      <th>redemption_status</th>\n",
       "      <th>age_range</th>\n",
       "      <th>marital_status</th>\n",
       "      <th>rented</th>\n",
       "      <th>family_size</th>\n",
       "      <th>no_of_children</th>\n",
       "      <th>income_bracket</th>\n",
       "      <th>campaign_type</th>\n",
       "      <th>start_date</th>\n",
       "      <th>end_date</th>\n",
       "      <th>campaign_duration</th>\n",
       "    </tr>\n",
       "  </thead>\n",
       "  <tbody>\n",
       "    <tr>\n",
       "      <th>0</th>\n",
       "      <td>1</td>\n",
       "      <td>13</td>\n",
       "      <td>27</td>\n",
       "      <td>1053</td>\n",
       "      <td>0</td>\n",
       "      <td>46-55</td>\n",
       "      <td>NaN</td>\n",
       "      <td>0.0</td>\n",
       "      <td>1</td>\n",
       "      <td>NaN</td>\n",
       "      <td>5.0</td>\n",
       "      <td>X</td>\n",
       "      <td>2013-05-19</td>\n",
       "      <td>2013-05-07</td>\n",
       "      <td>-12</td>\n",
       "    </tr>\n",
       "    <tr>\n",
       "      <th>1</th>\n",
       "      <td>2</td>\n",
       "      <td>13</td>\n",
       "      <td>116</td>\n",
       "      <td>48</td>\n",
       "      <td>0</td>\n",
       "      <td>36-45</td>\n",
       "      <td>Married</td>\n",
       "      <td>0.0</td>\n",
       "      <td>2</td>\n",
       "      <td>NaN</td>\n",
       "      <td>3.0</td>\n",
       "      <td>X</td>\n",
       "      <td>2013-05-19</td>\n",
       "      <td>2013-05-07</td>\n",
       "      <td>-12</td>\n",
       "    </tr>\n",
       "    <tr>\n",
       "      <th>2</th>\n",
       "      <td>6</td>\n",
       "      <td>9</td>\n",
       "      <td>635</td>\n",
       "      <td>205</td>\n",
       "      <td>0</td>\n",
       "      <td>46-55</td>\n",
       "      <td>Married</td>\n",
       "      <td>0.0</td>\n",
       "      <td>2</td>\n",
       "      <td>NaN</td>\n",
       "      <td>7.0</td>\n",
       "      <td>Y</td>\n",
       "      <td>2013-11-03</td>\n",
       "      <td>2013-12-04</td>\n",
       "      <td>31</td>\n",
       "    </tr>\n",
       "    <tr>\n",
       "      <th>3</th>\n",
       "      <td>7</td>\n",
       "      <td>13</td>\n",
       "      <td>644</td>\n",
       "      <td>1050</td>\n",
       "      <td>0</td>\n",
       "      <td>NaN</td>\n",
       "      <td>NaN</td>\n",
       "      <td>NaN</td>\n",
       "      <td>NaN</td>\n",
       "      <td>NaN</td>\n",
       "      <td>NaN</td>\n",
       "      <td>X</td>\n",
       "      <td>2013-05-19</td>\n",
       "      <td>2013-05-07</td>\n",
       "      <td>-12</td>\n",
       "    </tr>\n",
       "    <tr>\n",
       "      <th>4</th>\n",
       "      <td>9</td>\n",
       "      <td>8</td>\n",
       "      <td>1017</td>\n",
       "      <td>1489</td>\n",
       "      <td>0</td>\n",
       "      <td>46-55</td>\n",
       "      <td>Married</td>\n",
       "      <td>0.0</td>\n",
       "      <td>2</td>\n",
       "      <td>NaN</td>\n",
       "      <td>3.0</td>\n",
       "      <td>X</td>\n",
       "      <td>2013-02-16</td>\n",
       "      <td>2013-05-04</td>\n",
       "      <td>77</td>\n",
       "    </tr>\n",
       "  </tbody>\n",
       "</table>\n",
       "</div>"
      ],
      "text/plain": [
       "   id  campaign_id  coupon_id  customer_id  redemption_status age_range  \\\n",
       "0   1           13         27         1053                  0     46-55   \n",
       "1   2           13        116           48                  0     36-45   \n",
       "2   6            9        635          205                  0     46-55   \n",
       "3   7           13        644         1050                  0       NaN   \n",
       "4   9            8       1017         1489                  0     46-55   \n",
       "\n",
       "  marital_status  rented family_size no_of_children  income_bracket  \\\n",
       "0            NaN     0.0           1            NaN             5.0   \n",
       "1        Married     0.0           2            NaN             3.0   \n",
       "2        Married     0.0           2            NaN             7.0   \n",
       "3            NaN     NaN         NaN            NaN             NaN   \n",
       "4        Married     0.0           2            NaN             3.0   \n",
       "\n",
       "  campaign_type start_date   end_date  campaign_duration  \n",
       "0             X 2013-05-19 2013-05-07                -12  \n",
       "1             X 2013-05-19 2013-05-07                -12  \n",
       "2             Y 2013-11-03 2013-12-04                 31  \n",
       "3             X 2013-05-19 2013-05-07                -12  \n",
       "4             X 2013-02-16 2013-05-04                 77  "
      ]
     },
     "execution_count": 10,
     "metadata": {},
     "output_type": "execute_result"
    }
   ],
   "source": [
    "join_df = join_df.merge(cmpn_df, on='campaign_id', how='left')\n",
    "join_df.head()"
   ]
  },
  {
   "cell_type": "code",
   "execution_count": 11,
   "id": "90c6a704-b5c0-41de-bf51-d84a1073f156",
   "metadata": {},
   "outputs": [],
   "source": [
    "feat_cols.extend(['campaign_type', 'campaign_duration'])\n",
    "cat_cols.append('campaign_type')\n",
    "numer_cols.append('campaign_duration')"
   ]
  },
  {
   "cell_type": "markdown",
   "id": "e17118bb-d19e-45e4-9549-e39a53399a66",
   "metadata": {},
   "source": [
    "## Coupon and Item Feature\n",
    "Combine with coupon and item data"
   ]
  },
  {
   "cell_type": "code",
   "execution_count": 12,
   "id": "87f9d68e-7244-4a5a-9086-693bb87fcbad",
   "metadata": {},
   "outputs": [
    {
     "data": {
      "text/html": [
       "<div>\n",
       "<style scoped>\n",
       "    .dataframe tbody tr th:only-of-type {\n",
       "        vertical-align: middle;\n",
       "    }\n",
       "\n",
       "    .dataframe tbody tr th {\n",
       "        vertical-align: top;\n",
       "    }\n",
       "\n",
       "    .dataframe thead th {\n",
       "        text-align: right;\n",
       "    }\n",
       "</style>\n",
       "<table border=\"1\" class=\"dataframe\">\n",
       "  <thead>\n",
       "    <tr style=\"text-align: right;\">\n",
       "      <th></th>\n",
       "      <th>coupon_id</th>\n",
       "      <th>item_id</th>\n",
       "      <th>brand</th>\n",
       "      <th>brand_type</th>\n",
       "      <th>category</th>\n",
       "    </tr>\n",
       "  </thead>\n",
       "  <tbody>\n",
       "    <tr>\n",
       "      <th>0</th>\n",
       "      <td>105</td>\n",
       "      <td>37</td>\n",
       "      <td>56</td>\n",
       "      <td>Local</td>\n",
       "      <td>Grocery</td>\n",
       "    </tr>\n",
       "    <tr>\n",
       "      <th>1</th>\n",
       "      <td>107</td>\n",
       "      <td>75</td>\n",
       "      <td>56</td>\n",
       "      <td>Local</td>\n",
       "      <td>Grocery</td>\n",
       "    </tr>\n",
       "    <tr>\n",
       "      <th>2</th>\n",
       "      <td>494</td>\n",
       "      <td>76</td>\n",
       "      <td>209</td>\n",
       "      <td>Established</td>\n",
       "      <td>Grocery</td>\n",
       "    </tr>\n",
       "    <tr>\n",
       "      <th>3</th>\n",
       "      <td>522</td>\n",
       "      <td>77</td>\n",
       "      <td>278</td>\n",
       "      <td>Established</td>\n",
       "      <td>Grocery</td>\n",
       "    </tr>\n",
       "    <tr>\n",
       "      <th>4</th>\n",
       "      <td>518</td>\n",
       "      <td>77</td>\n",
       "      <td>278</td>\n",
       "      <td>Established</td>\n",
       "      <td>Grocery</td>\n",
       "    </tr>\n",
       "  </tbody>\n",
       "</table>\n",
       "</div>"
      ],
      "text/plain": [
       "   coupon_id  item_id  brand   brand_type category\n",
       "0        105       37     56        Local  Grocery\n",
       "1        107       75     56        Local  Grocery\n",
       "2        494       76    209  Established  Grocery\n",
       "3        522       77    278  Established  Grocery\n",
       "4        518       77    278  Established  Grocery"
      ]
     },
     "execution_count": 12,
     "metadata": {},
     "output_type": "execute_result"
    }
   ],
   "source": [
    "coupon_df = cp_it_df.merge(item_df, on='item_id', how='left')\n",
    "coupon_df.head()"
   ]
  },
  {
   "cell_type": "code",
   "execution_count": 13,
   "id": "5e076c8e-97e2-4ca2-ad73-f5233ab76103",
   "metadata": {},
   "outputs": [
    {
     "name": "stdout",
     "output_type": "stream",
     "text": [
      "(1116, 9)\n",
      "(1116, 17)\n"
     ]
    }
   ],
   "source": [
    "# aggregate by coupon_id\n",
    "agg_coupon_df = coupon_df.groupby('coupon_id').agg({'item_id': 'unique', 'category': 'unique', 'brand_type': 'unique', 'brand': 'unique'} )\n",
    "agg_coupon_df['n_items'] = agg_coupon_df['item_id'].str.len()\n",
    "agg_coupon_df['n_categories'] = agg_coupon_df['category'].str.len()\n",
    "agg_coupon_df['n_brand_types'] = agg_coupon_df['brand_type'].str.len()\n",
    "agg_coupon_df['n_brands'] = agg_coupon_df['brand'].str.len()\n",
    "agg_coupon_df['brand_type'] = agg_coupon_df['brand_type'].apply(np.sort)\n",
    "agg_coupon_df['brand_type'] = agg_coupon_df['brand_type'].str.join(\"/\")\n",
    "agg_coupon_df.reset_index(inplace=True)\n",
    "print(agg_coupon_df.shape)\n",
    "\n",
    "# create categories multi-label columns for each coupon \n",
    "mlb = MultiLabelBinarizer()\n",
    "coupon_cats = mlb.fit_transform(agg_coupon_df['category'])\n",
    "coupon_cat_df = pd.DataFrame(np.column_stack(list(zip(*coupon_cats))), columns=mlb.classes_)\n",
    "print(coupon_cat_df.shape)\n",
    "final_coupon_df = pd.concat([agg_coupon_df, coupon_cat_df], axis=1)"
   ]
  },
  {
   "cell_type": "code",
   "execution_count": 14,
   "id": "c287e130-d5de-4a36-89d3-1695602ac577",
   "metadata": {},
   "outputs": [
    {
     "data": {
      "text/plain": [
       "Index(['coupon_id', 'item_id', 'category', 'brand_type', 'brand', 'n_items',\n",
       "       'n_categories', 'n_brand_types', 'n_brands', 'Bakery',\n",
       "       'Dairy, Juices & Snacks', 'Flowers & Plants', 'Garden', 'Grocery',\n",
       "       'Meat', 'Miscellaneous', 'Natural Products', 'Packaged Meat',\n",
       "       'Pharmaceutical', 'Prepared Food', 'Restauarant', 'Salads', 'Seafood',\n",
       "       'Skin & Hair Care', 'Travel', 'Vegetables (cut)'],\n",
       "      dtype='object')"
      ]
     },
     "execution_count": 14,
     "metadata": {},
     "output_type": "execute_result"
    }
   ],
   "source": [
    "final_coupon_df.columns"
   ]
  },
  {
   "cell_type": "code",
   "execution_count": 15,
   "id": "3b672596-9896-4d4d-9c22-1181f915655e",
   "metadata": {},
   "outputs": [],
   "source": [
    "column_nm = final_coupon_df.columns\n",
    "new_column_nm = [re.sub(\"[^A-Za-z0-9_ ]\", \"\", col) for col in column_nm]\n",
    "new_column_nm = [re.sub('\\s+', \"_\", col) for col in new_column_nm]\n",
    "final_coupon_df.columns = new_column_nm"
   ]
  },
  {
   "cell_type": "code",
   "execution_count": 16,
   "id": "b7ba2816-bbea-4abd-9fdd-f7442b1a863a",
   "metadata": {},
   "outputs": [
    {
     "data": {
      "text/html": [
       "<div>\n",
       "<style scoped>\n",
       "    .dataframe tbody tr th:only-of-type {\n",
       "        vertical-align: middle;\n",
       "    }\n",
       "\n",
       "    .dataframe tbody tr th {\n",
       "        vertical-align: top;\n",
       "    }\n",
       "\n",
       "    .dataframe thead th {\n",
       "        text-align: right;\n",
       "    }\n",
       "</style>\n",
       "<table border=\"1\" class=\"dataframe\">\n",
       "  <thead>\n",
       "    <tr style=\"text-align: right;\">\n",
       "      <th></th>\n",
       "      <th>coupon_id</th>\n",
       "      <th>item_id</th>\n",
       "      <th>category</th>\n",
       "      <th>brand_type</th>\n",
       "      <th>brand</th>\n",
       "      <th>n_items</th>\n",
       "      <th>n_categories</th>\n",
       "      <th>n_brand_types</th>\n",
       "      <th>n_brands</th>\n",
       "      <th>Bakery</th>\n",
       "      <th>...</th>\n",
       "      <th>Natural_Products</th>\n",
       "      <th>Packaged_Meat</th>\n",
       "      <th>Pharmaceutical</th>\n",
       "      <th>Prepared_Food</th>\n",
       "      <th>Restauarant</th>\n",
       "      <th>Salads</th>\n",
       "      <th>Seafood</th>\n",
       "      <th>Skin_Hair_Care</th>\n",
       "      <th>Travel</th>\n",
       "      <th>Vegetables_cut</th>\n",
       "    </tr>\n",
       "  </thead>\n",
       "  <tbody>\n",
       "    <tr>\n",
       "      <th>0</th>\n",
       "      <td>1</td>\n",
       "      <td>[60068, 50199, 17091, 44112, 44868, 51028, 592...</td>\n",
       "      <td>[Natural Products, Grocery]</td>\n",
       "      <td>Established</td>\n",
       "      <td>[4700, 1475, 1558]</td>\n",
       "      <td>39</td>\n",
       "      <td>2</td>\n",
       "      <td>1</td>\n",
       "      <td>3</td>\n",
       "      <td>0</td>\n",
       "      <td>...</td>\n",
       "      <td>1</td>\n",
       "      <td>0</td>\n",
       "      <td>0</td>\n",
       "      <td>0</td>\n",
       "      <td>0</td>\n",
       "      <td>0</td>\n",
       "      <td>0</td>\n",
       "      <td>0</td>\n",
       "      <td>0</td>\n",
       "      <td>0</td>\n",
       "    </tr>\n",
       "    <tr>\n",
       "      <th>1</th>\n",
       "      <td>2</td>\n",
       "      <td>[2581, 12901]</td>\n",
       "      <td>[Grocery]</td>\n",
       "      <td>Established</td>\n",
       "      <td>[2084]</td>\n",
       "      <td>2</td>\n",
       "      <td>1</td>\n",
       "      <td>1</td>\n",
       "      <td>1</td>\n",
       "      <td>0</td>\n",
       "      <td>...</td>\n",
       "      <td>0</td>\n",
       "      <td>0</td>\n",
       "      <td>0</td>\n",
       "      <td>0</td>\n",
       "      <td>0</td>\n",
       "      <td>0</td>\n",
       "      <td>0</td>\n",
       "      <td>0</td>\n",
       "      <td>0</td>\n",
       "      <td>0</td>\n",
       "    </tr>\n",
       "    <tr>\n",
       "      <th>2</th>\n",
       "      <td>3</td>\n",
       "      <td>[58906, 58943, 58944, 58946, 58964, 58972, 590...</td>\n",
       "      <td>[Grocery]</td>\n",
       "      <td>Established</td>\n",
       "      <td>[1558, 278]</td>\n",
       "      <td>17</td>\n",
       "      <td>1</td>\n",
       "      <td>1</td>\n",
       "      <td>2</td>\n",
       "      <td>0</td>\n",
       "      <td>...</td>\n",
       "      <td>0</td>\n",
       "      <td>0</td>\n",
       "      <td>0</td>\n",
       "      <td>0</td>\n",
       "      <td>0</td>\n",
       "      <td>0</td>\n",
       "      <td>0</td>\n",
       "      <td>0</td>\n",
       "      <td>0</td>\n",
       "      <td>0</td>\n",
       "    </tr>\n",
       "  </tbody>\n",
       "</table>\n",
       "<p>3 rows × 26 columns</p>\n",
       "</div>"
      ],
      "text/plain": [
       "   coupon_id                                            item_id  \\\n",
       "0          1  [60068, 50199, 17091, 44112, 44868, 51028, 592...   \n",
       "1          2                                      [2581, 12901]   \n",
       "2          3  [58906, 58943, 58944, 58946, 58964, 58972, 590...   \n",
       "\n",
       "                      category   brand_type               brand  n_items  \\\n",
       "0  [Natural Products, Grocery]  Established  [4700, 1475, 1558]       39   \n",
       "1                    [Grocery]  Established              [2084]        2   \n",
       "2                    [Grocery]  Established         [1558, 278]       17   \n",
       "\n",
       "   n_categories  n_brand_types  n_brands  Bakery  ...  Natural_Products  \\\n",
       "0             2              1         3       0  ...                 1   \n",
       "1             1              1         1       0  ...                 0   \n",
       "2             1              1         2       0  ...                 0   \n",
       "\n",
       "   Packaged_Meat  Pharmaceutical  Prepared_Food  Restauarant  Salads  Seafood  \\\n",
       "0              0               0              0            0       0        0   \n",
       "1              0               0              0            0       0        0   \n",
       "2              0               0              0            0       0        0   \n",
       "\n",
       "   Skin_Hair_Care  Travel  Vegetables_cut  \n",
       "0               0       0               0  \n",
       "1               0       0               0  \n",
       "2               0       0               0  \n",
       "\n",
       "[3 rows x 26 columns]"
      ]
     },
     "execution_count": 16,
     "metadata": {},
     "output_type": "execute_result"
    }
   ],
   "source": [
    "final_coupon_df.head(3)"
   ]
  },
  {
   "cell_type": "code",
   "execution_count": 17,
   "id": "c9614eff-c967-40a9-bd9e-22c302489313",
   "metadata": {},
   "outputs": [
    {
     "data": {
      "text/plain": [
       "Index(['coupon_id', 'item_id', 'category', 'brand_type', 'brand', 'n_items',\n",
       "       'n_categories', 'n_brand_types', 'n_brands', 'Bakery',\n",
       "       'Dairy_Juices_Snacks', 'Flowers_Plants', 'Garden', 'Grocery', 'Meat',\n",
       "       'Miscellaneous', 'Natural_Products', 'Packaged_Meat', 'Pharmaceutical',\n",
       "       'Prepared_Food', 'Restauarant', 'Salads', 'Seafood', 'Skin_Hair_Care',\n",
       "       'Travel', 'Vegetables_cut'],\n",
       "      dtype='object')"
      ]
     },
     "execution_count": 17,
     "metadata": {},
     "output_type": "execute_result"
    }
   ],
   "source": [
    "final_coupon_df.columns"
   ]
  },
  {
   "cell_type": "code",
   "execution_count": 18,
   "id": "1fae4c06-45c5-4f38-8725-7c4b5a2507d8",
   "metadata": {},
   "outputs": [
    {
     "data": {
      "text/plain": [
       "(78369, 37)"
      ]
     },
     "execution_count": 18,
     "metadata": {},
     "output_type": "execute_result"
    }
   ],
   "source": [
    "select_cols = ['coupon_id', 'brand_type', 'n_items', 'n_categories', 'n_brand_types', 'n_brands', \n",
    "               'Bakery', 'Dairy_Juices_Snacks', 'Flowers_Plants', 'Garden', 'Grocery', 'Meat', \n",
    "               'Miscellaneous', 'Natural_Products', 'Packaged_Meat', 'Pharmaceutical', 'Prepared_Food', \n",
    "               'Restauarant', 'Salads', 'Seafood', 'Skin_Hair_Care', 'Travel', 'Vegetables_cut']\n",
    "join_df = join_df.merge(final_coupon_df[select_cols], on='coupon_id', how='left')\n",
    "join_df.shape"
   ]
  },
  {
   "cell_type": "code",
   "execution_count": 19,
   "id": "68daf40f-c7cf-4e2d-87f2-63fec46829ce",
   "metadata": {},
   "outputs": [],
   "source": [
    "feat_cols.extend(['brand_type', 'n_items', 'n_categories', 'n_brand_types', 'n_brands', \n",
    "                  'Bakery', 'Dairy_Juices_Snacks', 'Flowers_Plants', 'Garden', 'Grocery', 'Meat', \n",
    "                  'Miscellaneous', 'Natural_Products', 'Packaged_Meat', 'Pharmaceutical', 'Prepared_Food', \n",
    "                  'Restauarant', 'Salads', 'Seafood', 'Skin_Hair_Care', 'Travel', 'Vegetables_cut'])\n",
    "cat_cols.extend(['brand_type'])\n",
    "numer_cols.extend(['n_items', 'n_categories', 'n_brand_types', 'n_brands',\n",
    "                   'Bakery', 'Dairy_Juices_Snacks', 'Flowers_Plants', 'Garden', 'Grocery', 'Meat', \n",
    "                  'Miscellaneous', 'Natural_Products', 'Packaged_Meat', 'Pharmaceutical', 'Prepared_Food', \n",
    "                  'Restauarant', 'Salads', 'Seafood', 'Skin_Hair_Care', 'Travel', 'Vegetables_cut'])"
   ]
  },
  {
   "cell_type": "markdown",
   "id": "8315bb94-8648-4ffb-b13f-5053fb2882f1",
   "metadata": {},
   "source": [
    "## Transaction Data Feature\n",
    "Combine with transaction history"
   ]
  },
  {
   "cell_type": "code",
   "execution_count": 20,
   "id": "906355dd-e55b-49b5-817c-3ecbef092696",
   "metadata": {},
   "outputs": [
    {
     "data": {
      "text/html": [
       "<div>\n",
       "<style scoped>\n",
       "    .dataframe tbody tr th:only-of-type {\n",
       "        vertical-align: middle;\n",
       "    }\n",
       "\n",
       "    .dataframe tbody tr th {\n",
       "        vertical-align: top;\n",
       "    }\n",
       "\n",
       "    .dataframe thead th {\n",
       "        text-align: right;\n",
       "    }\n",
       "</style>\n",
       "<table border=\"1\" class=\"dataframe\">\n",
       "  <thead>\n",
       "    <tr style=\"text-align: right;\">\n",
       "      <th></th>\n",
       "      <th>id</th>\n",
       "      <th>campaign_id</th>\n",
       "      <th>coupon_id</th>\n",
       "      <th>customer_id</th>\n",
       "      <th>redemption_status</th>\n",
       "      <th>start_date</th>\n",
       "    </tr>\n",
       "  </thead>\n",
       "  <tbody>\n",
       "    <tr>\n",
       "      <th>0</th>\n",
       "      <td>1</td>\n",
       "      <td>13</td>\n",
       "      <td>27</td>\n",
       "      <td>1053</td>\n",
       "      <td>0</td>\n",
       "      <td>2013-05-19</td>\n",
       "    </tr>\n",
       "    <tr>\n",
       "      <th>1</th>\n",
       "      <td>2</td>\n",
       "      <td>13</td>\n",
       "      <td>116</td>\n",
       "      <td>48</td>\n",
       "      <td>0</td>\n",
       "      <td>2013-05-19</td>\n",
       "    </tr>\n",
       "    <tr>\n",
       "      <th>2</th>\n",
       "      <td>6</td>\n",
       "      <td>9</td>\n",
       "      <td>635</td>\n",
       "      <td>205</td>\n",
       "      <td>0</td>\n",
       "      <td>2013-11-03</td>\n",
       "    </tr>\n",
       "    <tr>\n",
       "      <th>3</th>\n",
       "      <td>7</td>\n",
       "      <td>13</td>\n",
       "      <td>644</td>\n",
       "      <td>1050</td>\n",
       "      <td>0</td>\n",
       "      <td>2013-05-19</td>\n",
       "    </tr>\n",
       "    <tr>\n",
       "      <th>4</th>\n",
       "      <td>9</td>\n",
       "      <td>8</td>\n",
       "      <td>1017</td>\n",
       "      <td>1489</td>\n",
       "      <td>0</td>\n",
       "      <td>2013-02-16</td>\n",
       "    </tr>\n",
       "  </tbody>\n",
       "</table>\n",
       "</div>"
      ],
      "text/plain": [
       "   id  campaign_id  coupon_id  customer_id  redemption_status start_date\n",
       "0   1           13         27         1053                  0 2013-05-19\n",
       "1   2           13        116           48                  0 2013-05-19\n",
       "2   6            9        635          205                  0 2013-11-03\n",
       "3   7           13        644         1050                  0 2013-05-19\n",
       "4   9            8       1017         1489                  0 2013-02-16"
      ]
     },
     "execution_count": 20,
     "metadata": {},
     "output_type": "execute_result"
    }
   ],
   "source": [
    "txn_df['date'] = txn_df['date'].apply(pd.to_datetime)\n",
    "txn_cmpn_df = train_df.merge(cmpn_df[['campaign_id', 'start_date']], on='campaign_id', how='left')\n",
    "txn_cmpn_df.head()"
   ]
  },
  {
   "cell_type": "code",
   "execution_count": 21,
   "id": "e085fccb-0dab-43f6-8dd0-99e272b92aae",
   "metadata": {},
   "outputs": [
    {
     "data": {
      "text/html": [
       "<div>\n",
       "<style scoped>\n",
       "    .dataframe tbody tr th:only-of-type {\n",
       "        vertical-align: middle;\n",
       "    }\n",
       "\n",
       "    .dataframe tbody tr th {\n",
       "        vertical-align: top;\n",
       "    }\n",
       "\n",
       "    .dataframe thead th {\n",
       "        text-align: right;\n",
       "    }\n",
       "</style>\n",
       "<table border=\"1\" class=\"dataframe\">\n",
       "  <thead>\n",
       "    <tr style=\"text-align: right;\">\n",
       "      <th></th>\n",
       "      <th>date</th>\n",
       "      <th>customer_id</th>\n",
       "      <th>item_id</th>\n",
       "      <th>quantity</th>\n",
       "      <th>selling_price</th>\n",
       "      <th>other_discount</th>\n",
       "      <th>coupon_discount</th>\n",
       "      <th>campaign_id</th>\n",
       "      <th>start_date</th>\n",
       "      <th>date_diff</th>\n",
       "    </tr>\n",
       "  </thead>\n",
       "  <tbody>\n",
       "    <tr>\n",
       "      <th>0</th>\n",
       "      <td>2012-01-02</td>\n",
       "      <td>1501</td>\n",
       "      <td>26830</td>\n",
       "      <td>1</td>\n",
       "      <td>35.26</td>\n",
       "      <td>-10.69</td>\n",
       "      <td>0.0</td>\n",
       "      <td>13.0</td>\n",
       "      <td>2013-05-19</td>\n",
       "      <td>503.0</td>\n",
       "    </tr>\n",
       "    <tr>\n",
       "      <th>14</th>\n",
       "      <td>2012-01-02</td>\n",
       "      <td>1501</td>\n",
       "      <td>54253</td>\n",
       "      <td>1</td>\n",
       "      <td>53.43</td>\n",
       "      <td>-13.89</td>\n",
       "      <td>0.0</td>\n",
       "      <td>13.0</td>\n",
       "      <td>2013-05-19</td>\n",
       "      <td>503.0</td>\n",
       "    </tr>\n",
       "    <tr>\n",
       "      <th>28</th>\n",
       "      <td>2012-01-02</td>\n",
       "      <td>1501</td>\n",
       "      <td>31962</td>\n",
       "      <td>1</td>\n",
       "      <td>106.50</td>\n",
       "      <td>-14.25</td>\n",
       "      <td>0.0</td>\n",
       "      <td>13.0</td>\n",
       "      <td>2013-05-19</td>\n",
       "      <td>503.0</td>\n",
       "    </tr>\n",
       "    <tr>\n",
       "      <th>42</th>\n",
       "      <td>2012-01-02</td>\n",
       "      <td>1501</td>\n",
       "      <td>33647</td>\n",
       "      <td>1</td>\n",
       "      <td>67.32</td>\n",
       "      <td>0.00</td>\n",
       "      <td>0.0</td>\n",
       "      <td>13.0</td>\n",
       "      <td>2013-05-19</td>\n",
       "      <td>503.0</td>\n",
       "    </tr>\n",
       "    <tr>\n",
       "      <th>56</th>\n",
       "      <td>2012-01-02</td>\n",
       "      <td>1501</td>\n",
       "      <td>48199</td>\n",
       "      <td>1</td>\n",
       "      <td>71.24</td>\n",
       "      <td>-28.14</td>\n",
       "      <td>0.0</td>\n",
       "      <td>13.0</td>\n",
       "      <td>2013-05-19</td>\n",
       "      <td>503.0</td>\n",
       "    </tr>\n",
       "  </tbody>\n",
       "</table>\n",
       "</div>"
      ],
      "text/plain": [
       "         date  customer_id  item_id  quantity  selling_price  other_discount  \\\n",
       "0  2012-01-02         1501    26830         1          35.26          -10.69   \n",
       "14 2012-01-02         1501    54253         1          53.43          -13.89   \n",
       "28 2012-01-02         1501    31962         1         106.50          -14.25   \n",
       "42 2012-01-02         1501    33647         1          67.32            0.00   \n",
       "56 2012-01-02         1501    48199         1          71.24          -28.14   \n",
       "\n",
       "    coupon_discount  campaign_id start_date  date_diff  \n",
       "0               0.0         13.0 2013-05-19      503.0  \n",
       "14              0.0         13.0 2013-05-19      503.0  \n",
       "28              0.0         13.0 2013-05-19      503.0  \n",
       "42              0.0         13.0 2013-05-19      503.0  \n",
       "56              0.0         13.0 2013-05-19      503.0  "
      ]
     },
     "execution_count": 21,
     "metadata": {},
     "output_type": "execute_result"
    }
   ],
   "source": [
    "join_txn = txn_df.merge(txn_cmpn_df[['customer_id', 'campaign_id', 'start_date']], on='customer_id', how='left')\n",
    "join_txn = join_txn[~join_txn.duplicated()]\n",
    "join_txn['date_diff'] = (join_txn['start_date'] - join_txn['date']).dt.days\n",
    "join_txn.head()"
   ]
  },
  {
   "cell_type": "markdown",
   "id": "810406c1-14e2-4aa9-ad16-0821084c6908",
   "metadata": {},
   "source": [
    "### aggregate by amount and number of txn"
   ]
  },
  {
   "cell_type": "code",
   "execution_count": 22,
   "id": "d549b88f-eeac-4bd0-af87-cccb570942c4",
   "metadata": {},
   "outputs": [],
   "source": [
    "# create column to discretize the transaction data based on the time period before the start date of the campaign\n",
    "join_txn['date_diff_bin'] = pd.cut(join_txn['date_diff'], bins=[0, 30, 60, 90, 120, 150, 180], \n",
    "                                   labels=['P1M','P2M','P3M','P4M','P5M','P6M'])\n",
    "\n",
    "agg_txn = pd.pivot_table(data=join_txn, \n",
    "               values=['quantity','selling_price', 'other_discount', 'coupon_discount'], \n",
    "               index=['customer_id', 'campaign_id'],\n",
    "               columns=['date_diff_bin'],\n",
    "               aggfunc=np.sum\n",
    "              )\n",
    "agg_txn.columns = agg_txn.columns.to_series().str.join('_')\n",
    "agg_txn = agg_txn.reset_index()\n",
    "agg_nbr_txn = pd.pivot_table(data=join_txn, \n",
    "               values=['item_id'], \n",
    "               index=['customer_id', 'campaign_id'],\n",
    "               columns=['date_diff_bin'],\n",
    "               aggfunc='count'\n",
    "              )\n",
    "agg_nbr_txn.rename({'item_id': 'item_nbr'}, axis=1, inplace=True)\n",
    "agg_nbr_txn.columns = agg_nbr_txn.columns.to_series().str.join('_')\n",
    "agg_nbr_txn = agg_nbr_txn.reset_index()"
   ]
  },
  {
   "cell_type": "code",
   "execution_count": 23,
   "id": "c0b1cff8-8f92-499e-b43d-ca4ae8cb4e4a",
   "metadata": {},
   "outputs": [],
   "source": [
    "cols = list(agg_txn.columns[2:])\n",
    "join_df = join_df.merge(agg_txn, on=['customer_id', 'campaign_id'], how='left')\n",
    "feat_cols.extend(cols)\n",
    "numer_cols.extend(cols)"
   ]
  },
  {
   "cell_type": "code",
   "execution_count": 24,
   "id": "ffed642e-1c6b-4716-ab99-36c1afc350fc",
   "metadata": {},
   "outputs": [],
   "source": [
    "cols = list(agg_nbr_txn.columns[2:])\n",
    "join_df = join_df.merge(agg_nbr_txn, on=['customer_id', 'campaign_id'], how='left')\n",
    "feat_cols.extend(cols)\n",
    "numer_cols.extend(cols)"
   ]
  },
  {
   "cell_type": "markdown",
   "id": "03344bc4-0826-4bcf-867e-f2c4f5fc6584",
   "metadata": {},
   "source": [
    "### aggregate by brand and category"
   ]
  },
  {
   "cell_type": "code",
   "execution_count": 25,
   "id": "5e1a5285-e609-4ca8-b0d8-27ded59ddec2",
   "metadata": {},
   "outputs": [
    {
     "data": {
      "text/html": [
       "<div>\n",
       "<style scoped>\n",
       "    .dataframe tbody tr th:only-of-type {\n",
       "        vertical-align: middle;\n",
       "    }\n",
       "\n",
       "    .dataframe tbody tr th {\n",
       "        vertical-align: top;\n",
       "    }\n",
       "\n",
       "    .dataframe thead th {\n",
       "        text-align: right;\n",
       "    }\n",
       "</style>\n",
       "<table border=\"1\" class=\"dataframe\">\n",
       "  <thead>\n",
       "    <tr style=\"text-align: right;\">\n",
       "      <th></th>\n",
       "      <th>date</th>\n",
       "      <th>customer_id</th>\n",
       "      <th>item_id</th>\n",
       "      <th>quantity</th>\n",
       "      <th>selling_price</th>\n",
       "      <th>other_discount</th>\n",
       "      <th>coupon_discount</th>\n",
       "      <th>campaign_id</th>\n",
       "      <th>start_date</th>\n",
       "      <th>date_diff</th>\n",
       "      <th>date_diff_bin</th>\n",
       "      <th>brand</th>\n",
       "      <th>brand_type</th>\n",
       "      <th>category</th>\n",
       "    </tr>\n",
       "  </thead>\n",
       "  <tbody>\n",
       "    <tr>\n",
       "      <th>0</th>\n",
       "      <td>2012-01-02</td>\n",
       "      <td>1501</td>\n",
       "      <td>26830</td>\n",
       "      <td>1</td>\n",
       "      <td>35.26</td>\n",
       "      <td>-10.69</td>\n",
       "      <td>0.0</td>\n",
       "      <td>13.0</td>\n",
       "      <td>2013-05-19</td>\n",
       "      <td>503.0</td>\n",
       "      <td>NaN</td>\n",
       "      <td>56</td>\n",
       "      <td>Local</td>\n",
       "      <td>Natural Products</td>\n",
       "    </tr>\n",
       "    <tr>\n",
       "      <th>1</th>\n",
       "      <td>2012-01-02</td>\n",
       "      <td>1501</td>\n",
       "      <td>54253</td>\n",
       "      <td>1</td>\n",
       "      <td>53.43</td>\n",
       "      <td>-13.89</td>\n",
       "      <td>0.0</td>\n",
       "      <td>13.0</td>\n",
       "      <td>2013-05-19</td>\n",
       "      <td>503.0</td>\n",
       "      <td>NaN</td>\n",
       "      <td>56</td>\n",
       "      <td>Local</td>\n",
       "      <td>Natural Products</td>\n",
       "    </tr>\n",
       "    <tr>\n",
       "      <th>2</th>\n",
       "      <td>2012-01-02</td>\n",
       "      <td>1501</td>\n",
       "      <td>31962</td>\n",
       "      <td>1</td>\n",
       "      <td>106.50</td>\n",
       "      <td>-14.25</td>\n",
       "      <td>0.0</td>\n",
       "      <td>13.0</td>\n",
       "      <td>2013-05-19</td>\n",
       "      <td>503.0</td>\n",
       "      <td>NaN</td>\n",
       "      <td>524</td>\n",
       "      <td>Established</td>\n",
       "      <td>Grocery</td>\n",
       "    </tr>\n",
       "    <tr>\n",
       "      <th>3</th>\n",
       "      <td>2012-01-02</td>\n",
       "      <td>1501</td>\n",
       "      <td>33647</td>\n",
       "      <td>1</td>\n",
       "      <td>67.32</td>\n",
       "      <td>0.00</td>\n",
       "      <td>0.0</td>\n",
       "      <td>13.0</td>\n",
       "      <td>2013-05-19</td>\n",
       "      <td>503.0</td>\n",
       "      <td>NaN</td>\n",
       "      <td>1134</td>\n",
       "      <td>Established</td>\n",
       "      <td>Grocery</td>\n",
       "    </tr>\n",
       "    <tr>\n",
       "      <th>4</th>\n",
       "      <td>2012-01-02</td>\n",
       "      <td>1501</td>\n",
       "      <td>48199</td>\n",
       "      <td>1</td>\n",
       "      <td>71.24</td>\n",
       "      <td>-28.14</td>\n",
       "      <td>0.0</td>\n",
       "      <td>13.0</td>\n",
       "      <td>2013-05-19</td>\n",
       "      <td>503.0</td>\n",
       "      <td>NaN</td>\n",
       "      <td>524</td>\n",
       "      <td>Established</td>\n",
       "      <td>Grocery</td>\n",
       "    </tr>\n",
       "  </tbody>\n",
       "</table>\n",
       "</div>"
      ],
      "text/plain": [
       "        date  customer_id  item_id  quantity  selling_price  other_discount  \\\n",
       "0 2012-01-02         1501    26830         1          35.26          -10.69   \n",
       "1 2012-01-02         1501    54253         1          53.43          -13.89   \n",
       "2 2012-01-02         1501    31962         1         106.50          -14.25   \n",
       "3 2012-01-02         1501    33647         1          67.32            0.00   \n",
       "4 2012-01-02         1501    48199         1          71.24          -28.14   \n",
       "\n",
       "   coupon_discount  campaign_id start_date  date_diff date_diff_bin  brand  \\\n",
       "0              0.0         13.0 2013-05-19      503.0           NaN     56   \n",
       "1              0.0         13.0 2013-05-19      503.0           NaN     56   \n",
       "2              0.0         13.0 2013-05-19      503.0           NaN    524   \n",
       "3              0.0         13.0 2013-05-19      503.0           NaN   1134   \n",
       "4              0.0         13.0 2013-05-19      503.0           NaN    524   \n",
       "\n",
       "    brand_type          category  \n",
       "0        Local  Natural Products  \n",
       "1        Local  Natural Products  \n",
       "2  Established           Grocery  \n",
       "3  Established           Grocery  \n",
       "4  Established           Grocery  "
      ]
     },
     "execution_count": 25,
     "metadata": {},
     "output_type": "execute_result"
    }
   ],
   "source": [
    "join_txn = join_txn.merge(item_df, on='item_id', how='left')\n",
    "join_txn.head()"
   ]
  },
  {
   "cell_type": "code",
   "execution_count": 26,
   "id": "481e7810-dcca-461f-aab3-3dc626ca17ce",
   "metadata": {},
   "outputs": [],
   "source": [
    "agg_brand_txn = pd.pivot_table(data=join_txn, \n",
    "                         values=['quantity'], \n",
    "                         index=['customer_id', 'campaign_id'],\n",
    "                         columns=['brand_type', 'date_diff_bin'],\n",
    "                         aggfunc=np.sum)\n",
    "agg_brand_txn.columns = agg_brand_txn.columns.to_series().str.join('_')\n",
    "agg_brand_txn = agg_brand_txn.reset_index()\n",
    "\n",
    "agg_category_txn = pd.pivot_table(data=join_txn, \n",
    "                         values=['quantity'], \n",
    "                         index=['customer_id', 'campaign_id'],\n",
    "                         columns=['category', 'date_diff_bin'],\n",
    "                         aggfunc=np.sum)\n",
    "agg_category_txn.columns = agg_category_txn.columns.to_series().str.join('_')\n",
    "agg_category_txn = agg_category_txn.reset_index()\n"
   ]
  },
  {
   "cell_type": "code",
   "execution_count": 27,
   "id": "217de95a-2c39-489b-99e7-4b1904cee681",
   "metadata": {},
   "outputs": [],
   "source": [
    "cols = list(agg_brand_txn.columns[2:])\n",
    "join_df = join_df.merge(agg_brand_txn, on=['customer_id', 'campaign_id'], how='left')\n",
    "feat_cols.extend(cols)\n",
    "numer_cols.extend(cols)"
   ]
  },
  {
   "cell_type": "code",
   "execution_count": 28,
   "id": "f593760f-0af8-47f2-9f70-f3da51fb89a7",
   "metadata": {},
   "outputs": [],
   "source": [
    "cols = list(agg_category_txn.columns[2:])\n",
    "join_df = join_df.merge(agg_category_txn, on=['customer_id', 'campaign_id'], how='left')\n",
    "feat_cols.extend(cols)\n",
    "numer_cols.extend(cols)"
   ]
  },
  {
   "cell_type": "markdown",
   "id": "2666880f-de53-495b-bea6-dbba6f46fbfc",
   "metadata": {},
   "source": [
    "# Split Data for Train and Test"
   ]
  },
  {
   "cell_type": "code",
   "execution_count": 29,
   "id": "413e2339-dacd-48b3-a0b8-4083399d1c1a",
   "metadata": {},
   "outputs": [
    {
     "data": {
      "text/plain": [
       "cmpn_start_mth\n",
       "2012-08     4219\n",
       "2012-09      476\n",
       "2012-11     6467\n",
       "2012-12     7375\n",
       "2013-01       65\n",
       "2013-02    24139\n",
       "2013-04     5332\n",
       "2013-05    22606\n",
       "2013-07      972\n",
       "2013-08     1723\n",
       "2013-11     3168\n",
       "2013-12     1827\n",
       "dtype: int64"
      ]
     },
     "execution_count": 29,
     "metadata": {},
     "output_type": "execute_result"
    }
   ],
   "source": [
    "join_df['cmpn_start_mth'] = join_df['start_date'].astype(str).str[:7]\n",
    "join_df.groupby('cmpn_start_mth').size()"
   ]
  },
  {
   "cell_type": "code",
   "execution_count": 30,
   "id": "7c05ac42-ae0f-4902-bf80-e31b12bc6649",
   "metadata": {},
   "outputs": [],
   "source": [
    "join_df.drop_duplicates(subset=['campaign_id', 'coupon_id', 'customer_id'], inplace=True)"
   ]
  },
  {
   "cell_type": "code",
   "execution_count": 31,
   "id": "5ad6d0f7-1d4d-4390-9aed-2044913416b2",
   "metadata": {},
   "outputs": [
    {
     "name": "stdout",
     "output_type": "stream",
     "text": [
      "train data size 48069\n",
      "test data size 30288\n"
     ]
    }
   ],
   "source": [
    "cutoff_date = '2013-05-01'\n",
    "train_df = join_df[join_df['start_date'] < cutoff_date].copy()\n",
    "test_df = join_df[join_df['start_date'] >= cutoff_date]\n",
    "print(f'train data size {train_df.shape[0]}')\n",
    "print(f'test data size {test_df.shape[0]}')"
   ]
  },
  {
   "cell_type": "code",
   "execution_count": 32,
   "id": "d33c248c-bfab-4e01-a6a0-48bac23bf428",
   "metadata": {},
   "outputs": [
    {
     "data": {
      "text/html": [
       "<div>\n",
       "<style scoped>\n",
       "    .dataframe tbody tr th:only-of-type {\n",
       "        vertical-align: middle;\n",
       "    }\n",
       "\n",
       "    .dataframe tbody tr th {\n",
       "        vertical-align: top;\n",
       "    }\n",
       "\n",
       "    .dataframe thead th {\n",
       "        text-align: right;\n",
       "    }\n",
       "</style>\n",
       "<table border=\"1\" class=\"dataframe\">\n",
       "  <thead>\n",
       "    <tr style=\"text-align: right;\">\n",
       "      <th></th>\n",
       "      <th>campaign_id</th>\n",
       "      <th>coupon_id</th>\n",
       "      <th>customer_id</th>\n",
       "      <th>start_date</th>\n",
       "    </tr>\n",
       "  </thead>\n",
       "  <tbody>\n",
       "    <tr>\n",
       "      <th>62788</th>\n",
       "      <td>29</td>\n",
       "      <td>800</td>\n",
       "      <td>338</td>\n",
       "      <td>2012-08-10</td>\n",
       "    </tr>\n",
       "    <tr>\n",
       "      <th>66898</th>\n",
       "      <td>29</td>\n",
       "      <td>597</td>\n",
       "      <td>57</td>\n",
       "      <td>2012-08-10</td>\n",
       "    </tr>\n",
       "    <tr>\n",
       "      <th>66897</th>\n",
       "      <td>29</td>\n",
       "      <td>416</td>\n",
       "      <td>795</td>\n",
       "      <td>2012-08-10</td>\n",
       "    </tr>\n",
       "    <tr>\n",
       "      <th>17416</th>\n",
       "      <td>29</td>\n",
       "      <td>982</td>\n",
       "      <td>1195</td>\n",
       "      <td>2012-08-10</td>\n",
       "    </tr>\n",
       "    <tr>\n",
       "      <th>73654</th>\n",
       "      <td>29</td>\n",
       "      <td>538</td>\n",
       "      <td>876</td>\n",
       "      <td>2012-08-10</td>\n",
       "    </tr>\n",
       "  </tbody>\n",
       "</table>\n",
       "</div>"
      ],
      "text/plain": [
       "       campaign_id  coupon_id  customer_id start_date\n",
       "62788           29        800          338 2012-08-10\n",
       "66898           29        597           57 2012-08-10\n",
       "66897           29        416          795 2012-08-10\n",
       "17416           29        982         1195 2012-08-10\n",
       "73654           29        538          876 2012-08-10"
      ]
     },
     "execution_count": 32,
     "metadata": {},
     "output_type": "execute_result"
    }
   ],
   "source": [
    "train_df.sort_values(by=['start_date'], ascending=True, inplace=True)\n",
    "train_df[['campaign_id', 'coupon_id', 'customer_id', 'start_date']].head()"
   ]
  },
  {
   "cell_type": "code",
   "execution_count": 33,
   "id": "b480e178-8bc8-43f8-85aa-9e78c8150fd6",
   "metadata": {},
   "outputs": [],
   "source": [
    "time_split = TimeSeriesSplit(n_splits=4)"
   ]
  },
  {
   "cell_type": "code",
   "execution_count": 34,
   "id": "bf01574b-ce92-49c3-b5e0-fcd15ed8bef9",
   "metadata": {},
   "outputs": [],
   "source": [
    "X_train = train_df[feat_cols]\n",
    "y_train = train_df[label_col]\n",
    "X_test = test_df[feat_cols]\n",
    "y_test = test_df[label_col]"
   ]
  },
  {
   "cell_type": "code",
   "execution_count": 50,
   "id": "d5480c40-7572-4bdc-8d62-74e0f7932ea4",
   "metadata": {},
   "outputs": [],
   "source": [
    "train_df.to_csv('../data/Predicting Coupon Redemption/processed/train.csv', index=False)\n",
    "test_df.to_csv('../data/Predicting Coupon Redemption/processed/test.csv', index=False)"
   ]
  },
  {
   "cell_type": "markdown",
   "id": "30aa2841-fd3c-4d79-b9e6-c3f46e55d342",
   "metadata": {},
   "source": [
    "# Prep Feature"
   ]
  },
  {
   "cell_type": "code",
   "execution_count": 35,
   "id": "e2898203-0455-416b-97f1-e647e40a599a",
   "metadata": {},
   "outputs": [
    {
     "name": "stdout",
     "output_type": "stream",
     "text": [
      "<class 'pandas.core.frame.DataFrame'>\n",
      "Int64Index: 78357 entries, 0 to 78368\n",
      "Data columns (total 6 columns):\n",
      " #   Column          Non-Null Count  Dtype \n",
      "---  ------          --------------  ----- \n",
      " 0   age_range       43652 non-null  object\n",
      " 1   marital_status  25388 non-null  object\n",
      " 2   family_size     43652 non-null  object\n",
      " 3   no_of_children  14052 non-null  object\n",
      " 4   campaign_type   78357 non-null  object\n",
      " 5   brand_type      78357 non-null  object\n",
      "dtypes: object(6)\n",
      "memory usage: 4.2+ MB\n"
     ]
    }
   ],
   "source": [
    "join_df[cat_cols].info()"
   ]
  },
  {
   "cell_type": "code",
   "execution_count": 36,
   "id": "871bd42a-c899-4908-8ed4-9d6ace21d3c2",
   "metadata": {},
   "outputs": [],
   "source": [
    "numer_transformer = Pipeline(\n",
    "    steps=[(\"imputer\", SimpleImputer(strategy=\"constant\", fill_value=0)),\n",
    "           (\"scaler\", StandardScaler())\n",
    "          ]\n",
    ")\n",
    "\n",
    "cat_feats = ['Gender', 'Region_Code', 'Occupation', 'Channel_Code']\n",
    "cat_transformer = OneHotEncoder(handle_unknown='ignore')\n",
    "\n",
    "transformer = ColumnTransformer(\n",
    "    transformers=[\n",
    "        (\"num\", numer_transformer, numer_cols),\n",
    "        (\"cat\", cat_transformer, cat_cols)\n",
    "    ], sparse_threshold = 0\n",
    ")"
   ]
  },
  {
   "cell_type": "code",
   "execution_count": 37,
   "id": "b066547a-751e-4296-b834-b2947979c59c",
   "metadata": {},
   "outputs": [],
   "source": [
    "transformer.fit(X_train);"
   ]
  },
  {
   "cell_type": "code",
   "execution_count": 38,
   "id": "4b25e3fe-308e-438f-950b-c332c8c6011c",
   "metadata": {},
   "outputs": [],
   "source": [
    "X_train_t = transformer.transform(X_train)\n",
    "X_test_t = transformer.transform(X_test)"
   ]
  },
  {
   "cell_type": "code",
   "execution_count": 39,
   "id": "36ef29bd-4133-4b43-a681-98bce016b3ba",
   "metadata": {},
   "outputs": [
    {
     "name": "stderr",
     "output_type": "stream",
     "text": [
      "/Users/sukhumarn/anaconda3/envs/mar_rl/lib/python3.10/site-packages/sklearn/utils/deprecation.py:87: FutureWarning: Function get_feature_names is deprecated; get_feature_names is deprecated in 1.0 and will be removed in 1.2. Please use get_feature_names_out instead.\n",
      "  warnings.warn(msg, category=FutureWarning)\n"
     ]
    }
   ],
   "source": [
    "transformers = transformer.get_params()['transformers']\n",
    "feature_names = []\n",
    "for name, _, features in transformers:\n",
    "    try:\n",
    "        Var = transformer.named_transformers_[name].get_feature_names().tolist()\n",
    "    except AttributeError:\n",
    "        Var = features\n",
    "    feature_names = feature_names + Var"
   ]
  },
  {
   "cell_type": "markdown",
   "id": "5850b1d6-b91d-41fe-b4da-ae8375d3427c",
   "metadata": {},
   "source": [
    "# Model Training"
   ]
  },
  {
   "cell_type": "code",
   "execution_count": 40,
   "id": "ec0ebb14-b917-4663-abf3-189fe3348877",
   "metadata": {},
   "outputs": [],
   "source": [
    "def objective(trial, X, y):\n",
    "    params = {\n",
    "        'n_estimators': trial.suggest_int('n_estimators', 10, 1000),\n",
    "        'max_depth': trial.suggest_int('max_depth', 2, 5),\n",
    "        'max_features': trial.suggest_categorical(\"max_features\", ['sqrt', 'log2']),\n",
    "        'min_samples_split': trial.suggest_loguniform('min_samples_split', 1e-5, 0.1),\n",
    "        'min_samples_leaf': trial.suggest_loguniform('min_samples_leaf', 1e-5, 0.1),\n",
    "        'class_weight': trial.suggest_categorical('class_weight', ['balanced', 'balanced_subsample']),\n",
    "    }\n",
    "    clf = RandomForestClassifier(**params, random_state=0)\n",
    "    score = cross_validate(clf, X, y, cv = time_split, scoring = 'roc_auc', return_train_score=True)\n",
    "    train_score = np.mean(score['train_score'])\n",
    "    test_score = np.mean(score['test_score'])\n",
    "    return -(test_score - 0.7 * (train_score - test_score))"
   ]
  },
  {
   "cell_type": "code",
   "execution_count": 41,
   "id": "e7c53610-0290-430d-bdf9-abe39eb0ab78",
   "metadata": {},
   "outputs": [],
   "source": [
    "#optuna.delete_study(study_name=\"cc-coupon-redemption\", storage=\"sqlite:///cc-tuning.db\")"
   ]
  },
  {
   "cell_type": "code",
   "execution_count": 42,
   "id": "e27f166c-5384-4e92-9da0-4da4df731970",
   "metadata": {
    "scrolled": true,
    "tags": []
   },
   "outputs": [],
   "source": [
    "obj_func = lambda trial: objective(trial, X_train_t, y_train)\n",
    "train = False\n",
    "if train:\n",
    "    study = optuna.create_study(study_name='cc-coupon-redemption', storage='sqlite:///cc-tuning.db', load_if_exists=True)\n",
    "    study.optimize(obj_func, n_trials=50)\n",
    "else:\n",
    "    study = optuna.load_study(study_name='cc-coupon-redemption', storage='sqlite:///cc-tuning.db')"
   ]
  },
  {
   "cell_type": "code",
   "execution_count": 43,
   "id": "04e19f3b-87ec-4554-b927-8f250ab73cdd",
   "metadata": {},
   "outputs": [
    {
     "data": {
      "text/html": [
       "<style>#sk-container-id-1 {color: black;background-color: white;}#sk-container-id-1 pre{padding: 0;}#sk-container-id-1 div.sk-toggleable {background-color: white;}#sk-container-id-1 label.sk-toggleable__label {cursor: pointer;display: block;width: 100%;margin-bottom: 0;padding: 0.3em;box-sizing: border-box;text-align: center;}#sk-container-id-1 label.sk-toggleable__label-arrow:before {content: \"▸\";float: left;margin-right: 0.25em;color: #696969;}#sk-container-id-1 label.sk-toggleable__label-arrow:hover:before {color: black;}#sk-container-id-1 div.sk-estimator:hover label.sk-toggleable__label-arrow:before {color: black;}#sk-container-id-1 div.sk-toggleable__content {max-height: 0;max-width: 0;overflow: hidden;text-align: left;background-color: #f0f8ff;}#sk-container-id-1 div.sk-toggleable__content pre {margin: 0.2em;color: black;border-radius: 0.25em;background-color: #f0f8ff;}#sk-container-id-1 input.sk-toggleable__control:checked~div.sk-toggleable__content {max-height: 200px;max-width: 100%;overflow: auto;}#sk-container-id-1 input.sk-toggleable__control:checked~label.sk-toggleable__label-arrow:before {content: \"▾\";}#sk-container-id-1 div.sk-estimator input.sk-toggleable__control:checked~label.sk-toggleable__label {background-color: #d4ebff;}#sk-container-id-1 div.sk-label input.sk-toggleable__control:checked~label.sk-toggleable__label {background-color: #d4ebff;}#sk-container-id-1 input.sk-hidden--visually {border: 0;clip: rect(1px 1px 1px 1px);clip: rect(1px, 1px, 1px, 1px);height: 1px;margin: -1px;overflow: hidden;padding: 0;position: absolute;width: 1px;}#sk-container-id-1 div.sk-estimator {font-family: monospace;background-color: #f0f8ff;border: 1px dotted black;border-radius: 0.25em;box-sizing: border-box;margin-bottom: 0.5em;}#sk-container-id-1 div.sk-estimator:hover {background-color: #d4ebff;}#sk-container-id-1 div.sk-parallel-item::after {content: \"\";width: 100%;border-bottom: 1px solid gray;flex-grow: 1;}#sk-container-id-1 div.sk-label:hover label.sk-toggleable__label {background-color: #d4ebff;}#sk-container-id-1 div.sk-serial::before {content: \"\";position: absolute;border-left: 1px solid gray;box-sizing: border-box;top: 0;bottom: 0;left: 50%;z-index: 0;}#sk-container-id-1 div.sk-serial {display: flex;flex-direction: column;align-items: center;background-color: white;padding-right: 0.2em;padding-left: 0.2em;position: relative;}#sk-container-id-1 div.sk-item {position: relative;z-index: 1;}#sk-container-id-1 div.sk-parallel {display: flex;align-items: stretch;justify-content: center;background-color: white;position: relative;}#sk-container-id-1 div.sk-item::before, #sk-container-id-1 div.sk-parallel-item::before {content: \"\";position: absolute;border-left: 1px solid gray;box-sizing: border-box;top: 0;bottom: 0;left: 50%;z-index: -1;}#sk-container-id-1 div.sk-parallel-item {display: flex;flex-direction: column;z-index: 1;position: relative;background-color: white;}#sk-container-id-1 div.sk-parallel-item:first-child::after {align-self: flex-end;width: 50%;}#sk-container-id-1 div.sk-parallel-item:last-child::after {align-self: flex-start;width: 50%;}#sk-container-id-1 div.sk-parallel-item:only-child::after {width: 0;}#sk-container-id-1 div.sk-dashed-wrapped {border: 1px dashed gray;margin: 0 0.4em 0.5em 0.4em;box-sizing: border-box;padding-bottom: 0.4em;background-color: white;}#sk-container-id-1 div.sk-label label {font-family: monospace;font-weight: bold;display: inline-block;line-height: 1.2em;}#sk-container-id-1 div.sk-label-container {text-align: center;}#sk-container-id-1 div.sk-container {/* jupyter's `normalize.less` sets `[hidden] { display: none; }` but bootstrap.min.css set `[hidden] { display: none !important; }` so we also need the `!important` here to be able to override the default hidden behavior on the sphinx rendered scikit-learn.org. See: https://github.com/scikit-learn/scikit-learn/issues/21755 */display: inline-block !important;position: relative;}#sk-container-id-1 div.sk-text-repr-fallback {display: none;}</style><div id=\"sk-container-id-1\" class=\"sk-top-container\"><div class=\"sk-text-repr-fallback\"><pre>RandomForestClassifier(class_weight=&#x27;balanced&#x27;, max_depth=3,\n",
       "                       min_samples_leaf=0.05635033042302766,\n",
       "                       min_samples_split=9.539624362164608e-05,\n",
       "                       n_estimators=127)</pre><b>In a Jupyter environment, please rerun this cell to show the HTML representation or trust the notebook. <br />On GitHub, the HTML representation is unable to render, please try loading this page with nbviewer.org.</b></div><div class=\"sk-container\" hidden><div class=\"sk-item\"><div class=\"sk-estimator sk-toggleable\"><input class=\"sk-toggleable__control sk-hidden--visually\" id=\"sk-estimator-id-1\" type=\"checkbox\" checked><label for=\"sk-estimator-id-1\" class=\"sk-toggleable__label sk-toggleable__label-arrow\">RandomForestClassifier</label><div class=\"sk-toggleable__content\"><pre>RandomForestClassifier(class_weight=&#x27;balanced&#x27;, max_depth=3,\n",
       "                       min_samples_leaf=0.05635033042302766,\n",
       "                       min_samples_split=9.539624362164608e-05,\n",
       "                       n_estimators=127)</pre></div></div></div></div></div>"
      ],
      "text/plain": [
       "RandomForestClassifier(class_weight='balanced', max_depth=3,\n",
       "                       min_samples_leaf=0.05635033042302766,\n",
       "                       min_samples_split=9.539624362164608e-05,\n",
       "                       n_estimators=127)"
      ]
     },
     "execution_count": 43,
     "metadata": {},
     "output_type": "execute_result"
    }
   ],
   "source": [
    "clf = RandomForestClassifier(**study.best_params)\n",
    "clf.fit(X_train_t, y_train)"
   ]
  },
  {
   "cell_type": "markdown",
   "id": "c9e0d840-368d-4f8c-8f96-d031eb0572fa",
   "metadata": {},
   "source": [
    "# Model Evaluation"
   ]
  },
  {
   "cell_type": "code",
   "execution_count": 44,
   "id": "ac12bab2-4da0-46a2-92b8-5444d707606c",
   "metadata": {},
   "outputs": [],
   "source": [
    "y_train_score = clf.predict_proba(X_train_t)\n",
    "y_test_score = clf.predict_proba(X_test_t)\n",
    "y_train_pred = np.where(y_train_score[:, 1] > 0.5, 1, 0)\n",
    "y_test_pred = np.where(y_test_score[:, 1] > 0.5, 1, 0)\n"
   ]
  },
  {
   "cell_type": "markdown",
   "id": "2ddbb287-51ad-443b-a082-acce3dc56680",
   "metadata": {},
   "source": [
    "## Classification Report"
   ]
  },
  {
   "cell_type": "code",
   "execution_count": 45,
   "id": "40ff7629-5581-4a87-b8d5-963353fbe91c",
   "metadata": {},
   "outputs": [
    {
     "name": "stdout",
     "output_type": "stream",
     "text": [
      "train classification report\n",
      "              precision    recall  f1-score   support\n",
      "\n",
      "           0       1.00      0.75      0.86     47734\n",
      "           1       0.02      0.79      0.04       335\n",
      "\n",
      "    accuracy                           0.75     48069\n",
      "   macro avg       0.51      0.77      0.45     48069\n",
      "weighted avg       0.99      0.75      0.85     48069\n",
      "\n",
      "test classification report\n",
      "              precision    recall  f1-score   support\n",
      "\n",
      "           0       0.99      0.79      0.88     29906\n",
      "           1       0.04      0.64      0.07       382\n",
      "\n",
      "    accuracy                           0.78     30288\n",
      "   macro avg       0.52      0.71      0.47     30288\n",
      "weighted avg       0.98      0.78      0.87     30288\n",
      "\n"
     ]
    }
   ],
   "source": [
    "print(\"train classification report\")\n",
    "print(classification_report(y_train, y_train_pred))\n",
    "print(\"test classification report\")\n",
    "print(classification_report(y_test, y_test_pred))\n"
   ]
  },
  {
   "cell_type": "markdown",
   "id": "be9bdd6a-b395-4d15-8948-fccacaf5464c",
   "metadata": {},
   "source": [
    "## ROCAUC"
   ]
  },
  {
   "cell_type": "code",
   "execution_count": 46,
   "id": "3da70519-82fb-4035-88b0-1f54ebeb3585",
   "metadata": {},
   "outputs": [],
   "source": [
    "train_fpr, train_tpr, _ = roc_curve(y_train, y_train_score[:, 1])\n",
    "test_fpr, test_tpr, _ = roc_curve(y_test, y_test_score[:, 1])\n",
    "\n",
    "train_auc = roc_auc_score(y_train, y_train_score[:, 1])\n",
    "test_auc = roc_auc_score(y_test, y_test_score[:, 1])"
   ]
  },
  {
   "cell_type": "code",
   "execution_count": 47,
   "id": "308e0f54-a95f-4f62-8e01-d1ccec06bf6c",
   "metadata": {},
   "outputs": [
    {
     "data": {
      "image/png": "[encoded data removed]",
      "text/plain": [
       "<Figure size 432x288 with 1 Axes>"
      ]
     },
     "metadata": {
      "needs_background": "light"
     },
     "output_type": "display_data"
    }
   ],
   "source": [
    "plt.figure()\n",
    "lw = 2\n",
    "plt.plot(train_fpr, train_tpr, color=\"b\",lw=lw, label=\"Train ROC curve (area = %0.4f)\" % train_auc)\n",
    "plt.plot(test_fpr, test_tpr, color=\"r\",lw=lw, label=\"Test ROC curve (area = %0.4f)\" % test_auc)\n",
    "plt.plot([0, 1], [0, 1], color=\"navy\", lw=lw, linestyle=\"--\")\n",
    "plt.xlim([0.0, 1.0])\n",
    "plt.ylim([0.0, 1.05])\n",
    "plt.xlabel(\"False Positive Rate\")\n",
    "plt.ylabel(\"True Positive Rate\")\n",
    "plt.title(\"Receiver operating characteristic example\")\n",
    "plt.legend(loc=\"lower right\")\n",
    "plt.show()"
   ]
  }
 ],
 "metadata": {
  "kernelspec": {
   "display_name": "mar_rl",
   "language": "python",
   "name": "mar_rl"
  },
  "language_info": {
   "codemirror_mode": {
    "name": "ipython",
    "version": 3
   },
   "file_extension": ".py",
   "mimetype": "text/x-python",
   "name": "python",
   "nbconvert_exporter": "python",
   "pygments_lexer": "ipython3",
   "version": "3.10.4"
  }
 },
 "nbformat": 4,
 "nbformat_minor": 5
}
