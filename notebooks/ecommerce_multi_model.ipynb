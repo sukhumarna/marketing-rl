{
 "cells": [
  {
   "cell_type": "code",
   "execution_count": 1,
   "id": "82684049-03d6-4db9-b2ec-dc839e49f006",
   "metadata": {},
   "outputs": [],
   "source": [
    "import numpy as np \n",
    "import pandas as pd \n",
    "import os\n",
    "import matplotlib.pyplot as plt\n"
   ]
  },
  {
   "cell_type": "markdown",
   "id": "b0fb7b5e-cfa6-4fc0-afd6-7c6daa3511c6",
   "metadata": {},
   "source": [
    "## Data Path"
   ]
  },
  {
   "cell_type": "code",
   "execution_count": 2,
   "id": "366be32d-286f-4f3d-9ef4-e401dc005e17",
   "metadata": {},
   "outputs": [],
   "source": [
    "def plot_roc_cur(y_true, y_score, c='b', label = ''):\n",
    "    # Compute ROC curve and ROC area for each class\n",
    "    fpr, tpr, _ = roc_curve(y_true, y_score)\n",
    "    roc_auc = auc(fpr, tpr)\n",
    "\n",
    "    # Plot of a ROC curve for a specific class\n",
    "    lw = 2\n",
    "    plt.plot(fpr, tpr, color=c, lw=lw,\n",
    "             label=f'{label} ROC curve (area = {roc_auc:0.4f})')\n",
    "    plt.plot([0, 1], [0, 1], color='navy', lw=lw, linestyle='--')\n",
    "    plt.xlim([0.0, 1.0])\n",
    "    plt.ylim([0.0, 1.05])\n",
    "    plt.xlabel('False Positive Rate')\n",
    "    plt.ylabel('True Positive Rate')\n",
    "    plt.title('Receiver operating characteristic')\n",
    "    plt.legend(loc=\"lower right\")"
   ]
  },
  {
   "cell_type": "code",
   "execution_count": 3,
   "id": "c1e4acbf-1327-477f-b38a-de207f7398c3",
   "metadata": {},
   "outputs": [],
   "source": [
    "data_path = '../data/ECommerce/Multi-Store'\n",
    "train_label = 'train_label.parquet'\n",
    "train_feature = 'train_feature.parquet'\n",
    "val_label = 'val_label.parquet'\n",
    "val_feature = 'val_feature.parquet'\n",
    "test_label = 'test_label.parquet'\n",
    "test_feature = 'test_feature.parquet'"
   ]
  },
  {
   "cell_type": "markdown",
   "id": "517e50ba-9656-4733-962a-2c0cbbc44263",
   "metadata": {},
   "source": [
    "## Prep Train Data"
   ]
  },
  {
   "cell_type": "code",
   "execution_count": 21,
   "id": "7560f9f2-c7b0-496d-b5e4-6c7cf05bbff5",
   "metadata": {},
   "outputs": [],
   "source": [
    "train_label_df = pd.read_parquet(os.path.join(data_path, train_label))\n",
    "train_feature_df = pd.read_parquet(os.path.join(data_path, train_feature))"
   ]
  },
  {
   "cell_type": "code",
   "execution_count": 22,
   "id": "55b50d63-0123-4e31-b2eb-1049282a15c7",
   "metadata": {},
   "outputs": [],
   "source": [
    "cols = [col.replace('count_', '') for col in train_label_df.columns]\n",
    "train_label_df.columns = cols\n"
   ]
  },
  {
   "cell_type": "code",
   "execution_count": 23,
   "id": "04f4a952-a2e3-4529-9a65-ba9a1ddb8608",
   "metadata": {},
   "outputs": [],
   "source": [
    "class_cols = cols[2:]\n",
    "index_cols = ['user_id', 'event_month']\n",
    "feature_cols = train_feature_df.columns[2:]"
   ]
  },
  {
   "cell_type": "code",
   "execution_count": 24,
   "id": "73c504a1-43df-4119-9838-245b7671cbba",
   "metadata": {},
   "outputs": [
    {
     "data": {
      "text/html": [
       "<div>\n",
       "<style scoped>\n",
       "    .dataframe tbody tr th:only-of-type {\n",
       "        vertical-align: middle;\n",
       "    }\n",
       "\n",
       "    .dataframe tbody tr th {\n",
       "        vertical-align: top;\n",
       "    }\n",
       "\n",
       "    .dataframe thead th {\n",
       "        text-align: right;\n",
       "    }\n",
       "</style>\n",
       "<table border=\"1\" class=\"dataframe\">\n",
       "  <thead>\n",
       "    <tr style=\"text-align: right;\">\n",
       "      <th></th>\n",
       "      <th>user_id</th>\n",
       "      <th>event_month</th>\n",
       "      <th>construction</th>\n",
       "      <th>electronics</th>\n",
       "      <th>appliances</th>\n",
       "      <th>NA</th>\n",
       "      <th>apparel</th>\n",
       "      <th>sport</th>\n",
       "      <th>furniture</th>\n",
       "      <th>computers</th>\n",
       "      <th>kids</th>\n",
       "      <th>auto</th>\n",
       "    </tr>\n",
       "  </thead>\n",
       "  <tbody>\n",
       "    <tr>\n",
       "      <th>0</th>\n",
       "      <td>100037567</td>\n",
       "      <td>2020-01</td>\n",
       "      <td>NaN</td>\n",
       "      <td>NaN</td>\n",
       "      <td>NaN</td>\n",
       "      <td>NaN</td>\n",
       "      <td>3.0</td>\n",
       "      <td>NaN</td>\n",
       "      <td>NaN</td>\n",
       "      <td>NaN</td>\n",
       "      <td>NaN</td>\n",
       "      <td>NaN</td>\n",
       "    </tr>\n",
       "    <tr>\n",
       "      <th>1</th>\n",
       "      <td>100140882</td>\n",
       "      <td>2020-01</td>\n",
       "      <td>NaN</td>\n",
       "      <td>NaN</td>\n",
       "      <td>2.0</td>\n",
       "      <td>NaN</td>\n",
       "      <td>NaN</td>\n",
       "      <td>NaN</td>\n",
       "      <td>NaN</td>\n",
       "      <td>NaN</td>\n",
       "      <td>NaN</td>\n",
       "      <td>NaN</td>\n",
       "    </tr>\n",
       "    <tr>\n",
       "      <th>2</th>\n",
       "      <td>146333366</td>\n",
       "      <td>2020-01</td>\n",
       "      <td>1.0</td>\n",
       "      <td>NaN</td>\n",
       "      <td>NaN</td>\n",
       "      <td>NaN</td>\n",
       "      <td>NaN</td>\n",
       "      <td>NaN</td>\n",
       "      <td>NaN</td>\n",
       "      <td>NaN</td>\n",
       "      <td>NaN</td>\n",
       "      <td>NaN</td>\n",
       "    </tr>\n",
       "    <tr>\n",
       "      <th>3</th>\n",
       "      <td>151417990</td>\n",
       "      <td>2020-01</td>\n",
       "      <td>NaN</td>\n",
       "      <td>NaN</td>\n",
       "      <td>NaN</td>\n",
       "      <td>NaN</td>\n",
       "      <td>NaN</td>\n",
       "      <td>NaN</td>\n",
       "      <td>NaN</td>\n",
       "      <td>1.0</td>\n",
       "      <td>NaN</td>\n",
       "      <td>NaN</td>\n",
       "    </tr>\n",
       "    <tr>\n",
       "      <th>4</th>\n",
       "      <td>154128341</td>\n",
       "      <td>2020-02</td>\n",
       "      <td>NaN</td>\n",
       "      <td>NaN</td>\n",
       "      <td>2.0</td>\n",
       "      <td>1.0</td>\n",
       "      <td>NaN</td>\n",
       "      <td>NaN</td>\n",
       "      <td>NaN</td>\n",
       "      <td>NaN</td>\n",
       "      <td>NaN</td>\n",
       "      <td>NaN</td>\n",
       "    </tr>\n",
       "  </tbody>\n",
       "</table>\n",
       "</div>"
      ],
      "text/plain": [
       "     user_id event_month  construction  electronics  appliances   NA  apparel  \\\n",
       "0  100037567     2020-01           NaN          NaN         NaN  NaN      3.0   \n",
       "1  100140882     2020-01           NaN          NaN         2.0  NaN      NaN   \n",
       "2  146333366     2020-01           1.0          NaN         NaN  NaN      NaN   \n",
       "3  151417990     2020-01           NaN          NaN         NaN  NaN      NaN   \n",
       "4  154128341     2020-02           NaN          NaN         2.0  1.0      NaN   \n",
       "\n",
       "   sport  furniture  computers  kids  auto  \n",
       "0    NaN        NaN        NaN   NaN   NaN  \n",
       "1    NaN        NaN        NaN   NaN   NaN  \n",
       "2    NaN        NaN        NaN   NaN   NaN  \n",
       "3    NaN        NaN        1.0   NaN   NaN  \n",
       "4    NaN        NaN        NaN   NaN   NaN  "
      ]
     },
     "execution_count": 24,
     "metadata": {},
     "output_type": "execute_result"
    }
   ],
   "source": [
    "train_label_df.head()"
   ]
  },
  {
   "cell_type": "code",
   "execution_count": 25,
   "id": "305303ef-905b-42d1-baa1-a1073f248c8d",
   "metadata": {},
   "outputs": [],
   "source": [
    "for each_class in class_cols:\n",
    "    row = train_label_df[each_class].notnull()\n",
    "    train_label_df.loc[row, each_class] = 1\n",
    "train_label_df.fillna(0, inplace=True)\n",
    "train_feature_df.fillna(0, inplace=True)"
   ]
  },
  {
   "cell_type": "code",
   "execution_count": 26,
   "id": "1468fc82-75ed-40d3-a2bd-e1df9b778d6e",
   "metadata": {},
   "outputs": [],
   "source": [
    "train_feature_df.set_index(index_cols, inplace=True)\n",
    "train_label_df.set_index(index_cols, inplace=True)"
   ]
  },
  {
   "cell_type": "code",
   "execution_count": 27,
   "id": "e14a4df0-237c-43f5-8732-40ea0396bb3e",
   "metadata": {},
   "outputs": [],
   "source": [
    "train_feature_df = train_feature_df.reindex(train_label_df.index)"
   ]
  },
  {
   "cell_type": "code",
   "execution_count": 29,
   "id": "6d6b659f-136c-4da3-ac38-08d400d0b6a5",
   "metadata": {},
   "outputs": [
    {
     "data": {
      "text/html": [
       "<div>\n",
       "<style scoped>\n",
       "    .dataframe tbody tr th:only-of-type {\n",
       "        vertical-align: middle;\n",
       "    }\n",
       "\n",
       "    .dataframe tbody tr th {\n",
       "        vertical-align: top;\n",
       "    }\n",
       "\n",
       "    .dataframe thead th {\n",
       "        text-align: right;\n",
       "    }\n",
       "</style>\n",
       "<table border=\"1\" class=\"dataframe\">\n",
       "  <thead>\n",
       "    <tr style=\"text-align: right;\">\n",
       "      <th></th>\n",
       "      <th></th>\n",
       "      <th>construction</th>\n",
       "      <th>electronics</th>\n",
       "      <th>appliances</th>\n",
       "      <th>NA</th>\n",
       "      <th>apparel</th>\n",
       "      <th>sport</th>\n",
       "      <th>furniture</th>\n",
       "      <th>computers</th>\n",
       "      <th>kids</th>\n",
       "      <th>auto</th>\n",
       "    </tr>\n",
       "    <tr>\n",
       "      <th>user_id</th>\n",
       "      <th>event_month</th>\n",
       "      <th></th>\n",
       "      <th></th>\n",
       "      <th></th>\n",
       "      <th></th>\n",
       "      <th></th>\n",
       "      <th></th>\n",
       "      <th></th>\n",
       "      <th></th>\n",
       "      <th></th>\n",
       "      <th></th>\n",
       "    </tr>\n",
       "  </thead>\n",
       "  <tbody>\n",
       "    <tr>\n",
       "      <th>100037567</th>\n",
       "      <th>2020-01</th>\n",
       "      <td>0.0</td>\n",
       "      <td>0.0</td>\n",
       "      <td>0.0</td>\n",
       "      <td>0.0</td>\n",
       "      <td>1.0</td>\n",
       "      <td>0.0</td>\n",
       "      <td>0.0</td>\n",
       "      <td>0.0</td>\n",
       "      <td>0.0</td>\n",
       "      <td>0.0</td>\n",
       "    </tr>\n",
       "    <tr>\n",
       "      <th>100140882</th>\n",
       "      <th>2020-01</th>\n",
       "      <td>0.0</td>\n",
       "      <td>0.0</td>\n",
       "      <td>1.0</td>\n",
       "      <td>0.0</td>\n",
       "      <td>0.0</td>\n",
       "      <td>0.0</td>\n",
       "      <td>0.0</td>\n",
       "      <td>0.0</td>\n",
       "      <td>0.0</td>\n",
       "      <td>0.0</td>\n",
       "    </tr>\n",
       "    <tr>\n",
       "      <th>146333366</th>\n",
       "      <th>2020-01</th>\n",
       "      <td>1.0</td>\n",
       "      <td>0.0</td>\n",
       "      <td>0.0</td>\n",
       "      <td>0.0</td>\n",
       "      <td>0.0</td>\n",
       "      <td>0.0</td>\n",
       "      <td>0.0</td>\n",
       "      <td>0.0</td>\n",
       "      <td>0.0</td>\n",
       "      <td>0.0</td>\n",
       "    </tr>\n",
       "    <tr>\n",
       "      <th>151417990</th>\n",
       "      <th>2020-01</th>\n",
       "      <td>0.0</td>\n",
       "      <td>0.0</td>\n",
       "      <td>0.0</td>\n",
       "      <td>0.0</td>\n",
       "      <td>0.0</td>\n",
       "      <td>0.0</td>\n",
       "      <td>0.0</td>\n",
       "      <td>1.0</td>\n",
       "      <td>0.0</td>\n",
       "      <td>0.0</td>\n",
       "    </tr>\n",
       "    <tr>\n",
       "      <th>154128341</th>\n",
       "      <th>2020-02</th>\n",
       "      <td>0.0</td>\n",
       "      <td>0.0</td>\n",
       "      <td>1.0</td>\n",
       "      <td>1.0</td>\n",
       "      <td>0.0</td>\n",
       "      <td>0.0</td>\n",
       "      <td>0.0</td>\n",
       "      <td>0.0</td>\n",
       "      <td>0.0</td>\n",
       "      <td>0.0</td>\n",
       "    </tr>\n",
       "  </tbody>\n",
       "</table>\n",
       "</div>"
      ],
      "text/plain": [
       "                       construction  electronics  appliances   NA  apparel  \\\n",
       "user_id   event_month                                                        \n",
       "100037567 2020-01               0.0          0.0         0.0  0.0      1.0   \n",
       "100140882 2020-01               0.0          0.0         1.0  0.0      0.0   \n",
       "146333366 2020-01               1.0          0.0         0.0  0.0      0.0   \n",
       "151417990 2020-01               0.0          0.0         0.0  0.0      0.0   \n",
       "154128341 2020-02               0.0          0.0         1.0  1.0      0.0   \n",
       "\n",
       "                       sport  furniture  computers  kids  auto  \n",
       "user_id   event_month                                           \n",
       "100037567 2020-01        0.0        0.0        0.0   0.0   0.0  \n",
       "100140882 2020-01        0.0        0.0        0.0   0.0   0.0  \n",
       "146333366 2020-01        0.0        0.0        0.0   0.0   0.0  \n",
       "151417990 2020-01        0.0        0.0        1.0   0.0   0.0  \n",
       "154128341 2020-02        0.0        0.0        0.0   0.0   0.0  "
      ]
     },
     "execution_count": 29,
     "metadata": {},
     "output_type": "execute_result"
    }
   ],
   "source": [
    "train_label_df.head()"
   ]
  },
  {
   "cell_type": "code",
   "execution_count": 30,
   "id": "c5d7feba-7495-4d3a-ba50-e96ec162a15e",
   "metadata": {},
   "outputs": [
    {
     "data": {
      "text/plain": [
       "construction    0.156289\n",
       "electronics     0.097583\n",
       "appliances      0.076699\n",
       "NA              0.061307\n",
       "apparel         0.048757\n",
       "sport           0.033387\n",
       "furniture       0.020929\n",
       "computers       0.019511\n",
       "kids            0.009910\n",
       "auto            0.005108\n",
       "dtype: float64"
      ]
     },
     "execution_count": 30,
     "metadata": {},
     "output_type": "execute_result"
    }
   ],
   "source": [
    "train_label_df.mean()"
   ]
  },
  {
   "cell_type": "markdown",
   "id": "dfb28067-ce08-465c-a464-2fc68ee7d96c",
   "metadata": {},
   "source": [
    "## Prep Model"
   ]
  },
  {
   "cell_type": "code",
   "execution_count": 31,
   "id": "556cebd4-aa72-40f7-ae7a-5894db469129",
   "metadata": {},
   "outputs": [],
   "source": [
    "from sklearn.linear_model import LogisticRegression\n",
    "from sklearn.multioutput import MultiOutputClassifier\n",
    "from sklearn.ensemble import RandomForestClassifier\n",
    "from sklearn.metrics import roc_curve, auc, confusion_matrix, fbeta_score"
   ]
  },
  {
   "cell_type": "markdown",
   "id": "6749bbfa-31c9-4de8-9593-6ac002b1de38",
   "metadata": {},
   "source": [
    "### Construction"
   ]
  },
  {
   "cell_type": "code",
   "execution_count": 32,
   "id": "bd24ee12-20a3-4ad0-a031-7a079221eb00",
   "metadata": {},
   "outputs": [],
   "source": [
    "params = {\n",
    "    'class_weight': 'balanced',\n",
    "    'n_estimators': 500\n",
    "}\n",
    "clf = RandomForestClassifier(**params, random_state=0)\n"
   ]
  },
  {
   "cell_type": "code",
   "execution_count": 33,
   "id": "2fbbf88b-57b3-4f0b-bf0f-09feb4ffe17c",
   "metadata": {},
   "outputs": [
    {
     "data": {
      "text/plain": [
       "RandomForestClassifier(class_weight='balanced', n_estimators=500,\n",
       "                       random_state=0)"
      ]
     },
     "execution_count": 33,
     "metadata": {},
     "output_type": "execute_result"
    }
   ],
   "source": [
    "clf.fit(train_feature_df[feature_cols], train_label_df['construction'])\n"
   ]
  },
  {
   "cell_type": "code",
   "execution_count": 34,
   "id": "24595fb5-d1f0-470d-9fcb-93a504e8433b",
   "metadata": {},
   "outputs": [],
   "source": [
    "y_train_pred = clf.predict_proba(train_feature_df[feature_cols])\n"
   ]
  },
  {
   "cell_type": "code",
   "execution_count": 35,
   "id": "c0881a02-eb67-4f09-816a-edab5914dedc",
   "metadata": {},
   "outputs": [
    {
     "data": {
      "image/png": "[encoded data removed]",
      "text/plain": [
       "<Figure size 432x288 with 1 Axes>"
      ]
     },
     "metadata": {
      "needs_background": "light"
     },
     "output_type": "display_data"
    }
   ],
   "source": [
    "plot_roc_cur(train_label_df['construction'], y_train_pred[:, 1])\n"
   ]
  }
 ],
 "metadata": {
  "kernelspec": {
   "display_name": "virtualENV",
   "language": "python",
   "name": "virtualenv"
  },
  "language_info": {
   "codemirror_mode": {
    "name": "ipython",
    "version": 3
   },
   "file_extension": ".py",
   "mimetype": "text/x-python",
   "name": "python",
   "nbconvert_exporter": "python",
   "pygments_lexer": "ipython3",
   "version": "3.9.7"
  }
 },
 "nbformat": 4,
 "nbformat_minor": 5
}
