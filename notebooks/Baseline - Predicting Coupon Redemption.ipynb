{
 "cells": [
  {
   "cell_type": "markdown",
   "id": "efcb0045-bc9a-4415-bf79-e616e79c336e",
   "metadata": {},
   "source": [
    "Coupon Redemption for Credit Card Campaign\n",
    "=============="
   ]
  },
  {
   "cell_type": "code",
   "execution_count": 1,
   "id": "25dc8421-fd5f-4eb8-8c70-9ab78c148902",
   "metadata": {},
   "outputs": [],
   "source": [
    "import pandas as pd\n",
    "import numpy as np\n",
    "import seaborn as sns\n",
    "import matplotlib.pyplot as plt\n",
    "import os"
   ]
  },
  {
   "cell_type": "code",
   "execution_count": 4,
   "id": "3bfb8c52-c81c-4432-b3b5-30bb6b3ab32c",
   "metadata": {},
   "outputs": [],
   "source": [
    "colors = sns.color_palette(\"deep\")"
   ]
  },
  {
   "cell_type": "markdown",
   "id": "b4a7a78e-efce-45bf-be67-5c1c898b48b0",
   "metadata": {},
   "source": [
    "# Load Data"
   ]
  },
  {
   "cell_type": "code",
   "execution_count": 2,
   "id": "24c3965c-ac94-473f-be2e-2ac5e550e20f",
   "metadata": {},
   "outputs": [],
   "source": [
    "data_path = '../data/Predicting Coupon Redemption'\n",
    "train_df = pd.read_csv(os.path.join(data_path, 'train.csv'))\n",
    "demo_df = pd.read_csv(os.path.join(data_path, 'customer_demographics.csv'))\n",
    "cmpn_df = pd.read_csv(os.path.join(data_path, 'campaign_data.csv'))\n",
    "cp_it_df = pd.read_csv(os.path.join(data_path, 'coupon_item_mapping.csv'))\n",
    "txn_df = pd.read_csv(os.path.join(data_path, 'customer_transaction_data.csv'))\n",
    "item_df = pd.read_csv(os.path.join(data_path, 'item_data.csv'))"
   ]
  },
  {
   "cell_type": "markdown",
   "id": "2eb329a0-5157-46d1-a757-3b4cb2b3c24b",
   "metadata": {},
   "source": [
    "# Prepare Data"
   ]
  },
  {
   "cell_type": "code",
   "execution_count": 11,
   "id": "70071a7d-9ee9-45dd-9fc0-250fbca7fe8b",
   "metadata": {},
   "outputs": [
    {
     "data": {
      "text/html": [
       "<div>\n",
       "<style scoped>\n",
       "    .dataframe tbody tr th:only-of-type {\n",
       "        vertical-align: middle;\n",
       "    }\n",
       "\n",
       "    .dataframe tbody tr th {\n",
       "        vertical-align: top;\n",
       "    }\n",
       "\n",
       "    .dataframe thead th {\n",
       "        text-align: right;\n",
       "    }\n",
       "</style>\n",
       "<table border=\"1\" class=\"dataframe\">\n",
       "  <thead>\n",
       "    <tr style=\"text-align: right;\">\n",
       "      <th></th>\n",
       "      <th>id</th>\n",
       "      <th>campaign_id</th>\n",
       "      <th>coupon_id</th>\n",
       "      <th>customer_id</th>\n",
       "      <th>redemption_status</th>\n",
       "    </tr>\n",
       "  </thead>\n",
       "  <tbody>\n",
       "    <tr>\n",
       "      <th>0</th>\n",
       "      <td>1</td>\n",
       "      <td>13</td>\n",
       "      <td>27</td>\n",
       "      <td>1053</td>\n",
       "      <td>0</td>\n",
       "    </tr>\n",
       "    <tr>\n",
       "      <th>1</th>\n",
       "      <td>2</td>\n",
       "      <td>13</td>\n",
       "      <td>116</td>\n",
       "      <td>48</td>\n",
       "      <td>0</td>\n",
       "    </tr>\n",
       "    <tr>\n",
       "      <th>2</th>\n",
       "      <td>6</td>\n",
       "      <td>9</td>\n",
       "      <td>635</td>\n",
       "      <td>205</td>\n",
       "      <td>0</td>\n",
       "    </tr>\n",
       "    <tr>\n",
       "      <th>3</th>\n",
       "      <td>7</td>\n",
       "      <td>13</td>\n",
       "      <td>644</td>\n",
       "      <td>1050</td>\n",
       "      <td>0</td>\n",
       "    </tr>\n",
       "    <tr>\n",
       "      <th>4</th>\n",
       "      <td>9</td>\n",
       "      <td>8</td>\n",
       "      <td>1017</td>\n",
       "      <td>1489</td>\n",
       "      <td>0</td>\n",
       "    </tr>\n",
       "  </tbody>\n",
       "</table>\n",
       "</div>"
      ],
      "text/plain": [
       "   id  campaign_id  coupon_id  customer_id  redemption_status\n",
       "0   1           13         27         1053                  0\n",
       "1   2           13        116           48                  0\n",
       "2   6            9        635          205                  0\n",
       "3   7           13        644         1050                  0\n",
       "4   9            8       1017         1489                  0"
      ]
     },
     "execution_count": 11,
     "metadata": {},
     "output_type": "execute_result"
    }
   ],
   "source": [
    "train_df.head()"
   ]
  },
  {
   "cell_type": "code",
   "execution_count": 3,
   "id": "b89e98f8-ab77-4235-9728-9ee5cfe24667",
   "metadata": {},
   "outputs": [
    {
     "name": "stdout",
     "output_type": "stream",
     "text": [
      "there are 1428 unique customers\n",
      "there are 18 unique campaigns\n",
      "there are 866 unique coupons\n"
     ]
    }
   ],
   "source": [
    "print(\"there are {} unique customers\".format(train_df['customer_id'].nunique()))\n",
    "print(\"there are {} unique campaigns\".format(train_df['campaign_id'].nunique()))\n",
    "print(\"there are {} unique coupons\".format(train_df['coupon_id'].nunique()))"
   ]
  },
  {
   "cell_type": "markdown",
   "id": "1e829e4f-245e-400f-bae7-7b546b01da5d",
   "metadata": {},
   "source": [
    "Combine train_df with demo_df"
   ]
  },
  {
   "cell_type": "code",
   "execution_count": 7,
   "id": "4eeeae79-b031-4b6c-8633-ca812ac79878",
   "metadata": {},
   "outputs": [
    {
     "data": {
      "text/plain": [
       "(78369, 11)"
      ]
     },
     "execution_count": 7,
     "metadata": {},
     "output_type": "execute_result"
    }
   ],
   "source": [
    "join_df = train_df.merge(demo_df, on='customer_id', how='left')\n",
    "join_df.shape"
   ]
  },
  {
   "cell_type": "markdown",
   "id": "a7a70af9-3e1a-472d-bad8-bad1af4fbd97",
   "metadata": {},
   "source": [
    "Combine with campaign data"
   ]
  },
  {
   "cell_type": "code",
   "execution_count": 5,
   "id": "7df180b5-5566-4329-8c72-3aa66df37c16",
   "metadata": {},
   "outputs": [],
   "source": [
    "cmpn_df['start_date'] = cmpn_df['start_date'].apply(pd.to_datetime)\n",
    "cmpn_df['end_date'] = cmpn_df['end_date'].apply(pd.to_datetime)\n",
    "cmpn_df['campaign_duration'] = (cmpn_df['end_date'] - cmpn_df['start_date']).astype('timedelta64[D]').astype(int)"
   ]
  },
  {
   "cell_type": "code",
   "execution_count": 8,
   "id": "86fbe244-1bbe-482f-b714-9b82787f1487",
   "metadata": {},
   "outputs": [
    {
     "data": {
      "text/plain": [
       "(78369, 15)"
      ]
     },
     "execution_count": 8,
     "metadata": {},
     "output_type": "execute_result"
    }
   ],
   "source": [
    "join_df = join_df.merge(cmpn_df, on='campaign_id', how='left')\n",
    "join_df.shape"
   ]
  },
  {
   "cell_type": "markdown",
   "id": "e17118bb-d19e-45e4-9549-e39a53399a66",
   "metadata": {},
   "source": [
    "Combine with coupon and item data"
   ]
  },
  {
   "cell_type": "code",
   "execution_count": 9,
   "id": "87f9d68e-7244-4a5a-9086-693bb87fcbad",
   "metadata": {},
   "outputs": [
    {
     "data": {
      "text/html": [
       "<div>\n",
       "<style scoped>\n",
       "    .dataframe tbody tr th:only-of-type {\n",
       "        vertical-align: middle;\n",
       "    }\n",
       "\n",
       "    .dataframe tbody tr th {\n",
       "        vertical-align: top;\n",
       "    }\n",
       "\n",
       "    .dataframe thead th {\n",
       "        text-align: right;\n",
       "    }\n",
       "</style>\n",
       "<table border=\"1\" class=\"dataframe\">\n",
       "  <thead>\n",
       "    <tr style=\"text-align: right;\">\n",
       "      <th></th>\n",
       "      <th>coupon_id</th>\n",
       "      <th>item_id</th>\n",
       "      <th>brand</th>\n",
       "      <th>brand_type</th>\n",
       "      <th>category</th>\n",
       "    </tr>\n",
       "  </thead>\n",
       "  <tbody>\n",
       "    <tr>\n",
       "      <th>0</th>\n",
       "      <td>105</td>\n",
       "      <td>37</td>\n",
       "      <td>56</td>\n",
       "      <td>Local</td>\n",
       "      <td>Grocery</td>\n",
       "    </tr>\n",
       "    <tr>\n",
       "      <th>1</th>\n",
       "      <td>107</td>\n",
       "      <td>75</td>\n",
       "      <td>56</td>\n",
       "      <td>Local</td>\n",
       "      <td>Grocery</td>\n",
       "    </tr>\n",
       "    <tr>\n",
       "      <th>2</th>\n",
       "      <td>494</td>\n",
       "      <td>76</td>\n",
       "      <td>209</td>\n",
       "      <td>Established</td>\n",
       "      <td>Grocery</td>\n",
       "    </tr>\n",
       "    <tr>\n",
       "      <th>3</th>\n",
       "      <td>522</td>\n",
       "      <td>77</td>\n",
       "      <td>278</td>\n",
       "      <td>Established</td>\n",
       "      <td>Grocery</td>\n",
       "    </tr>\n",
       "    <tr>\n",
       "      <th>4</th>\n",
       "      <td>518</td>\n",
       "      <td>77</td>\n",
       "      <td>278</td>\n",
       "      <td>Established</td>\n",
       "      <td>Grocery</td>\n",
       "    </tr>\n",
       "  </tbody>\n",
       "</table>\n",
       "</div>"
      ],
      "text/plain": [
       "   coupon_id  item_id  brand   brand_type category\n",
       "0        105       37     56        Local  Grocery\n",
       "1        107       75     56        Local  Grocery\n",
       "2        494       76    209  Established  Grocery\n",
       "3        522       77    278  Established  Grocery\n",
       "4        518       77    278  Established  Grocery"
      ]
     },
     "execution_count": 9,
     "metadata": {},
     "output_type": "execute_result"
    }
   ],
   "source": [
    "coupon_df = cp_it_df.merge(item_df, on='item_id', how='left')\n",
    "coupon_df.head()"
   ]
  },
  {
   "cell_type": "code",
   "execution_count": 10,
   "id": "5e076c8e-97e2-4ca2-ad73-f5233ab76103",
   "metadata": {},
   "outputs": [
    {
     "data": {
      "text/html": [
       "<div>\n",
       "<style scoped>\n",
       "    .dataframe tbody tr th:only-of-type {\n",
       "        vertical-align: middle;\n",
       "    }\n",
       "\n",
       "    .dataframe tbody tr th {\n",
       "        vertical-align: top;\n",
       "    }\n",
       "\n",
       "    .dataframe thead th {\n",
       "        text-align: right;\n",
       "    }\n",
       "</style>\n",
       "<table border=\"1\" class=\"dataframe\">\n",
       "  <thead>\n",
       "    <tr style=\"text-align: right;\">\n",
       "      <th></th>\n",
       "      <th>item_id</th>\n",
       "      <th>category</th>\n",
       "      <th>brand_type</th>\n",
       "      <th>brand</th>\n",
       "      <th>n_items</th>\n",
       "      <th>n_categories</th>\n",
       "      <th>n_brand_types</th>\n",
       "      <th>n_brands</th>\n",
       "    </tr>\n",
       "    <tr>\n",
       "      <th>coupon_id</th>\n",
       "      <th></th>\n",
       "      <th></th>\n",
       "      <th></th>\n",
       "      <th></th>\n",
       "      <th></th>\n",
       "      <th></th>\n",
       "      <th></th>\n",
       "      <th></th>\n",
       "    </tr>\n",
       "  </thead>\n",
       "  <tbody>\n",
       "    <tr>\n",
       "      <th>1</th>\n",
       "      <td>[60068, 50199, 17091, 44112, 44868, 51028, 592...</td>\n",
       "      <td>[Natural Products, Grocery]</td>\n",
       "      <td>Established</td>\n",
       "      <td>[4700, 1475, 1558]</td>\n",
       "      <td>39</td>\n",
       "      <td>2</td>\n",
       "      <td>1</td>\n",
       "      <td>3</td>\n",
       "    </tr>\n",
       "    <tr>\n",
       "      <th>2</th>\n",
       "      <td>[2581, 12901]</td>\n",
       "      <td>[Grocery]</td>\n",
       "      <td>Established</td>\n",
       "      <td>[2084]</td>\n",
       "      <td>2</td>\n",
       "      <td>1</td>\n",
       "      <td>1</td>\n",
       "      <td>1</td>\n",
       "    </tr>\n",
       "    <tr>\n",
       "      <th>3</th>\n",
       "      <td>[58906, 58943, 58944, 58946, 58964, 58972, 590...</td>\n",
       "      <td>[Grocery]</td>\n",
       "      <td>Established</td>\n",
       "      <td>[1558, 278]</td>\n",
       "      <td>17</td>\n",
       "      <td>1</td>\n",
       "      <td>1</td>\n",
       "      <td>2</td>\n",
       "    </tr>\n",
       "    <tr>\n",
       "      <th>4</th>\n",
       "      <td>[36772, 51649, 51212, 51221, 51243, 51598, 528...</td>\n",
       "      <td>[Grocery]</td>\n",
       "      <td>Established</td>\n",
       "      <td>[544]</td>\n",
       "      <td>24</td>\n",
       "      <td>1</td>\n",
       "      <td>1</td>\n",
       "      <td>1</td>\n",
       "    </tr>\n",
       "    <tr>\n",
       "      <th>5</th>\n",
       "      <td>[57118, 53496, 57079, 46144, 46006, 44994, 57016]</td>\n",
       "      <td>[Pharmaceutical]</td>\n",
       "      <td>Established</td>\n",
       "      <td>[5357]</td>\n",
       "      <td>7</td>\n",
       "      <td>1</td>\n",
       "      <td>1</td>\n",
       "      <td>1</td>\n",
       "    </tr>\n",
       "  </tbody>\n",
       "</table>\n",
       "</div>"
      ],
      "text/plain": [
       "                                                     item_id  \\\n",
       "coupon_id                                                      \n",
       "1          [60068, 50199, 17091, 44112, 44868, 51028, 592...   \n",
       "2                                              [2581, 12901]   \n",
       "3          [58906, 58943, 58944, 58946, 58964, 58972, 590...   \n",
       "4          [36772, 51649, 51212, 51221, 51243, 51598, 528...   \n",
       "5          [57118, 53496, 57079, 46144, 46006, 44994, 57016]   \n",
       "\n",
       "                              category   brand_type               brand  \\\n",
       "coupon_id                                                                 \n",
       "1          [Natural Products, Grocery]  Established  [4700, 1475, 1558]   \n",
       "2                            [Grocery]  Established              [2084]   \n",
       "3                            [Grocery]  Established         [1558, 278]   \n",
       "4                            [Grocery]  Established               [544]   \n",
       "5                     [Pharmaceutical]  Established              [5357]   \n",
       "\n",
       "           n_items  n_categories  n_brand_types  n_brands  \n",
       "coupon_id                                                  \n",
       "1               39             2              1         3  \n",
       "2                2             1              1         1  \n",
       "3               17             1              1         2  \n",
       "4               24             1              1         1  \n",
       "5                7             1              1         1  "
      ]
     },
     "execution_count": 10,
     "metadata": {},
     "output_type": "execute_result"
    }
   ],
   "source": [
    "# aggregate by coupon_id\n",
    "agg_coupon_df = coupon_df.groupby('coupon_id').agg({'item_id': 'unique', 'category': 'unique', 'brand_type': 'unique', 'brand': 'unique'} )\n",
    "agg_coupon_df['n_items'] = agg_coupon_df['item_id'].str.len()\n",
    "agg_coupon_df['n_categories'] = agg_coupon_df['category'].str.len()\n",
    "agg_coupon_df['n_brand_types'] = agg_coupon_df['brand_type'].str.len()\n",
    "agg_coupon_df['n_brands'] = agg_coupon_df['brand'].str.len()\n",
    "agg_coupon_df['brand_type'] = agg_coupon_df['brand_type'].apply(np.sort)\n",
    "agg_coupon_df['brand_type'] = agg_coupon_df['brand_type'].str.join(\"/\")\n",
    "agg_coupon_df.head()"
   ]
  },
  {
   "cell_type": "code",
   "execution_count": 12,
   "id": "1fae4c06-45c5-4f38-8725-7c4b5a2507d8",
   "metadata": {},
   "outputs": [
    {
     "data": {
      "text/plain": [
       "(78369, 23)"
      ]
     },
     "execution_count": 12,
     "metadata": {},
     "output_type": "execute_result"
    }
   ],
   "source": [
    "join_df = join_df.merge(agg_coupon_df, on='coupon_id', how='left')\n",
    "join_df.shape"
   ]
  },
  {
   "cell_type": "markdown",
   "id": "8315bb94-8648-4ffb-b13f-5053fb2882f1",
   "metadata": {},
   "source": [
    "### Transaction Data"
   ]
  },
  {
   "cell_type": "code",
   "execution_count": 72,
   "id": "906355dd-e55b-49b5-817c-3ecbef092696",
   "metadata": {},
   "outputs": [
    {
     "data": {
      "text/html": [
       "<div>\n",
       "<style scoped>\n",
       "    .dataframe tbody tr th:only-of-type {\n",
       "        vertical-align: middle;\n",
       "    }\n",
       "\n",
       "    .dataframe tbody tr th {\n",
       "        vertical-align: top;\n",
       "    }\n",
       "\n",
       "    .dataframe thead th {\n",
       "        text-align: right;\n",
       "    }\n",
       "</style>\n",
       "<table border=\"1\" class=\"dataframe\">\n",
       "  <thead>\n",
       "    <tr style=\"text-align: right;\">\n",
       "      <th></th>\n",
       "      <th>date</th>\n",
       "      <th>customer_id</th>\n",
       "      <th>item_id</th>\n",
       "      <th>quantity</th>\n",
       "      <th>selling_price</th>\n",
       "      <th>other_discount</th>\n",
       "      <th>coupon_discount</th>\n",
       "    </tr>\n",
       "  </thead>\n",
       "  <tbody>\n",
       "    <tr>\n",
       "      <th>0</th>\n",
       "      <td>2012-01-02</td>\n",
       "      <td>1501</td>\n",
       "      <td>26830</td>\n",
       "      <td>1</td>\n",
       "      <td>35.26</td>\n",
       "      <td>-10.69</td>\n",
       "      <td>0.0</td>\n",
       "    </tr>\n",
       "    <tr>\n",
       "      <th>1</th>\n",
       "      <td>2012-01-02</td>\n",
       "      <td>1501</td>\n",
       "      <td>54253</td>\n",
       "      <td>1</td>\n",
       "      <td>53.43</td>\n",
       "      <td>-13.89</td>\n",
       "      <td>0.0</td>\n",
       "    </tr>\n",
       "    <tr>\n",
       "      <th>2</th>\n",
       "      <td>2012-01-02</td>\n",
       "      <td>1501</td>\n",
       "      <td>31962</td>\n",
       "      <td>1</td>\n",
       "      <td>106.50</td>\n",
       "      <td>-14.25</td>\n",
       "      <td>0.0</td>\n",
       "    </tr>\n",
       "    <tr>\n",
       "      <th>3</th>\n",
       "      <td>2012-01-02</td>\n",
       "      <td>1501</td>\n",
       "      <td>33647</td>\n",
       "      <td>1</td>\n",
       "      <td>67.32</td>\n",
       "      <td>0.00</td>\n",
       "      <td>0.0</td>\n",
       "    </tr>\n",
       "    <tr>\n",
       "      <th>4</th>\n",
       "      <td>2012-01-02</td>\n",
       "      <td>1501</td>\n",
       "      <td>48199</td>\n",
       "      <td>1</td>\n",
       "      <td>71.24</td>\n",
       "      <td>-28.14</td>\n",
       "      <td>0.0</td>\n",
       "    </tr>\n",
       "  </tbody>\n",
       "</table>\n",
       "</div>"
      ],
      "text/plain": [
       "         date  customer_id  item_id  quantity  selling_price  other_discount  \\\n",
       "0  2012-01-02         1501    26830         1          35.26          -10.69   \n",
       "1  2012-01-02         1501    54253         1          53.43          -13.89   \n",
       "2  2012-01-02         1501    31962         1         106.50          -14.25   \n",
       "3  2012-01-02         1501    33647         1          67.32            0.00   \n",
       "4  2012-01-02         1501    48199         1          71.24          -28.14   \n",
       "\n",
       "   coupon_discount  \n",
       "0              0.0  \n",
       "1              0.0  \n",
       "2              0.0  \n",
       "3              0.0  \n",
       "4              0.0  "
      ]
     },
     "execution_count": 72,
     "metadata": {},
     "output_type": "execute_result"
    }
   ],
   "source": [
    "txn_df.head()"
   ]
  }
 ],
 "metadata": {
  "kernelspec": {
   "display_name": "mar_rl",
   "language": "python",
   "name": "mar_rl"
  },
  "language_info": {
   "codemirror_mode": {
    "name": "ipython",
    "version": 3
   },
   "file_extension": ".py",
   "mimetype": "text/x-python",
   "name": "python",
   "nbconvert_exporter": "python",
   "pygments_lexer": "ipython3",
   "version": "3.10.4"
  }
 },
 "nbformat": 4,
 "nbformat_minor": 5
}
