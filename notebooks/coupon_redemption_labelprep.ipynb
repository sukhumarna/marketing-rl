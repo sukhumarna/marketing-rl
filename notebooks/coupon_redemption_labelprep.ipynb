{
 "cells": [
  {
   "cell_type": "markdown",
   "id": "a51eea7b-ec8c-4f61-b899-01eec5d45c32",
   "metadata": {},
   "source": [
    "# Coupon Redemption: Category Prediction"
   ]
  },
  {
   "cell_type": "code",
   "execution_count": 3,
   "id": "75280101-d478-4ae6-b03e-902ca995ee2c",
   "metadata": {},
   "outputs": [],
   "source": [
    "import pandas as pd\n",
    "import numpy as np\n",
    "import seaborn as sns\n",
    "import matplotlib.pyplot as plt\n",
    "import os"
   ]
  },
  {
   "cell_type": "markdown",
   "id": "c9fca2dc-6110-4dd0-accf-703d7c855daf",
   "metadata": {},
   "source": [
    "## Define Data"
   ]
  },
  {
   "cell_type": "code",
   "execution_count": 4,
   "id": "8016acdb-4149-4028-a19d-b75f3bf204ca",
   "metadata": {},
   "outputs": [],
   "source": [
    "data_path = '../data/Predicting Coupon Redemption/train'\n",
    "train_df = pd.read_csv(os.path.join(data_path, 'train.csv'))\n",
    "demo_df = pd.read_csv(os.path.join(data_path, 'customer_demographics.csv'))\n",
    "cmpn_df = pd.read_csv(os.path.join(data_path, 'campaign_data.csv'))\n",
    "cp_it_df = pd.read_csv(os.path.join(data_path, 'coupon_item_mapping.csv'))\n",
    "txn_df = pd.read_csv(os.path.join(data_path, 'customer_transaction_data.csv'))\n",
    "item_df = pd.read_csv(os.path.join(data_path, 'item_data.csv'))"
   ]
  }
 ],
 "metadata": {
  "kernelspec": {
   "display_name": "virtualENV",
   "language": "python",
   "name": "virtualenv"
  },
  "language_info": {
   "codemirror_mode": {
    "name": "ipython",
    "version": 3
   },
   "file_extension": ".py",
   "mimetype": "text/x-python",
   "name": "python",
   "nbconvert_exporter": "python",
   "pygments_lexer": "ipython3",
   "version": "3.9.7"
  }
 },
 "nbformat": 4,
 "nbformat_minor": 5
}
