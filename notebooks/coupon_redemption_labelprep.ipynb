{
 "cells": [
  {
   "cell_type": "markdown",
   "id": "a51eea7b-ec8c-4f61-b899-01eec5d45c32",
   "metadata": {},
   "source": [
    "# Coupon Redemption: Category Prediction"
   ]
  },
  {
   "cell_type": "code",
   "execution_count": 28,
   "id": "75280101-d478-4ae6-b03e-902ca995ee2c",
   "metadata": {},
   "outputs": [],
   "source": [
    "import pandas as pd\n",
    "import numpy as np\n",
    "import seaborn as sns\n",
    "import matplotlib.pyplot as plt\n",
    "import re\n",
    "import os"
   ]
  },
  {
   "cell_type": "markdown",
   "id": "c9fca2dc-6110-4dd0-accf-703d7c855daf",
   "metadata": {},
   "source": [
    "## Load Data"
   ]
  },
  {
   "cell_type": "code",
   "execution_count": 2,
   "id": "8016acdb-4149-4028-a19d-b75f3bf204ca",
   "metadata": {},
   "outputs": [],
   "source": [
    "data_path = '../data/Predicting Coupon Redemption/train'\n",
    "train_df = pd.read_csv(os.path.join(data_path, 'train.csv'))\n",
    "demo_df = pd.read_csv(os.path.join(data_path, 'customer_demographics.csv'))\n",
    "cmpn_df = pd.read_csv(os.path.join(data_path, 'campaign_data.csv'))\n",
    "cp_it_df = pd.read_csv(os.path.join(data_path, 'coupon_item_mapping.csv'))\n",
    "txn_df = pd.read_csv(os.path.join(data_path, 'customer_transaction_data.csv'))\n",
    "item_df = pd.read_csv(os.path.join(data_path, 'item_data.csv'))"
   ]
  },
  {
   "cell_type": "code",
   "execution_count": 5,
   "id": "c6b962ec-07e0-425a-913c-6a43a9b4b97a",
   "metadata": {},
   "outputs": [
    {
     "data": {
      "text/plain": [
       "(1324566, 7)"
      ]
     },
     "execution_count": 5,
     "metadata": {},
     "output_type": "execute_result"
    }
   ],
   "source": [
    "txn_df.shape"
   ]
  },
  {
   "cell_type": "code",
   "execution_count": 6,
   "id": "bc00d978-22bc-42ec-8d81-474d1091885f",
   "metadata": {},
   "outputs": [
    {
     "data": {
      "text/plain": [
       "(1324566, 8)"
      ]
     },
     "execution_count": 6,
     "metadata": {},
     "output_type": "execute_result"
    }
   ],
   "source": [
    "txn_df = txn_df.merge(item_df[['item_id', 'category']], on='item_id', how='left')\n",
    "txn_df.shape"
   ]
  },
  {
   "cell_type": "code",
   "execution_count": 18,
   "id": "6b1cf726-a7cd-4741-8dae-8ff92074f9c7",
   "metadata": {},
   "outputs": [],
   "source": [
    "txn_df['txn_month'] = txn_df['date'].str[:7]"
   ]
  },
  {
   "cell_type": "code",
   "execution_count": 19,
   "id": "ca482a82-7121-427c-b68d-40f13927b261",
   "metadata": {},
   "outputs": [
    {
     "data": {
      "text/html": [
       "<div>\n",
       "<style scoped>\n",
       "    .dataframe tbody tr th:only-of-type {\n",
       "        vertical-align: middle;\n",
       "    }\n",
       "\n",
       "    .dataframe tbody tr th {\n",
       "        vertical-align: top;\n",
       "    }\n",
       "\n",
       "    .dataframe thead th {\n",
       "        text-align: right;\n",
       "    }\n",
       "</style>\n",
       "<table border=\"1\" class=\"dataframe\">\n",
       "  <thead>\n",
       "    <tr style=\"text-align: right;\">\n",
       "      <th></th>\n",
       "      <th>date</th>\n",
       "      <th>customer_id</th>\n",
       "      <th>item_id</th>\n",
       "      <th>quantity</th>\n",
       "      <th>selling_price</th>\n",
       "      <th>other_discount</th>\n",
       "      <th>coupon_discount</th>\n",
       "      <th>category</th>\n",
       "      <th>txn_month</th>\n",
       "    </tr>\n",
       "  </thead>\n",
       "  <tbody>\n",
       "    <tr>\n",
       "      <th>0</th>\n",
       "      <td>2012-01-02</td>\n",
       "      <td>1501</td>\n",
       "      <td>26830</td>\n",
       "      <td>1</td>\n",
       "      <td>35.26</td>\n",
       "      <td>-10.69</td>\n",
       "      <td>0.0</td>\n",
       "      <td>Natural Products</td>\n",
       "      <td>2012-01</td>\n",
       "    </tr>\n",
       "    <tr>\n",
       "      <th>1</th>\n",
       "      <td>2012-01-02</td>\n",
       "      <td>1501</td>\n",
       "      <td>54253</td>\n",
       "      <td>1</td>\n",
       "      <td>53.43</td>\n",
       "      <td>-13.89</td>\n",
       "      <td>0.0</td>\n",
       "      <td>Natural Products</td>\n",
       "      <td>2012-01</td>\n",
       "    </tr>\n",
       "    <tr>\n",
       "      <th>2</th>\n",
       "      <td>2012-01-02</td>\n",
       "      <td>1501</td>\n",
       "      <td>31962</td>\n",
       "      <td>1</td>\n",
       "      <td>106.50</td>\n",
       "      <td>-14.25</td>\n",
       "      <td>0.0</td>\n",
       "      <td>Grocery</td>\n",
       "      <td>2012-01</td>\n",
       "    </tr>\n",
       "    <tr>\n",
       "      <th>3</th>\n",
       "      <td>2012-01-02</td>\n",
       "      <td>1501</td>\n",
       "      <td>33647</td>\n",
       "      <td>1</td>\n",
       "      <td>67.32</td>\n",
       "      <td>0.00</td>\n",
       "      <td>0.0</td>\n",
       "      <td>Grocery</td>\n",
       "      <td>2012-01</td>\n",
       "    </tr>\n",
       "    <tr>\n",
       "      <th>4</th>\n",
       "      <td>2012-01-02</td>\n",
       "      <td>1501</td>\n",
       "      <td>48199</td>\n",
       "      <td>1</td>\n",
       "      <td>71.24</td>\n",
       "      <td>-28.14</td>\n",
       "      <td>0.0</td>\n",
       "      <td>Grocery</td>\n",
       "      <td>2012-01</td>\n",
       "    </tr>\n",
       "  </tbody>\n",
       "</table>\n",
       "</div>"
      ],
      "text/plain": [
       "         date  customer_id  item_id  quantity  selling_price  other_discount  \\\n",
       "0  2012-01-02         1501    26830         1          35.26          -10.69   \n",
       "1  2012-01-02         1501    54253         1          53.43          -13.89   \n",
       "2  2012-01-02         1501    31962         1         106.50          -14.25   \n",
       "3  2012-01-02         1501    33647         1          67.32            0.00   \n",
       "4  2012-01-02         1501    48199         1          71.24          -28.14   \n",
       "\n",
       "   coupon_discount          category txn_month  \n",
       "0              0.0  Natural Products   2012-01  \n",
       "1              0.0  Natural Products   2012-01  \n",
       "2              0.0           Grocery   2012-01  \n",
       "3              0.0           Grocery   2012-01  \n",
       "4              0.0           Grocery   2012-01  "
      ]
     },
     "execution_count": 19,
     "metadata": {},
     "output_type": "execute_result"
    }
   ],
   "source": [
    "txn_df.head()"
   ]
  },
  {
   "cell_type": "markdown",
   "id": "0704c443-74ba-4a8d-ba95-1ee9622396ac",
   "metadata": {},
   "source": [
    "## Clean Data"
   ]
  },
  {
   "cell_type": "code",
   "execution_count": 27,
   "id": "1f0a9a47-7a57-4d9b-aa62-5ad8d6d0c5a7",
   "metadata": {},
   "outputs": [
    {
     "name": "stdout",
     "output_type": "stream",
     "text": [
      "duplicated rows:  2916\n",
      "drop duplicate rows\n",
      "duplicated rows:  0\n"
     ]
    }
   ],
   "source": [
    "# drop duplicate rows\n",
    "print('duplicated rows: ', txn_df.duplicated().sum())\n",
    "print('drop duplicate rows')\n",
    "txn_df.drop_duplicates(inplace=True)\n",
    "print('duplicated rows: ', txn_df.duplicated().sum())"
   ]
  },
  {
   "cell_type": "code",
   "execution_count": 46,
   "id": "f865623f-009d-4673-ad05-3a987a9fc408",
   "metadata": {},
   "outputs": [
    {
     "data": {
      "text/plain": [
       "Grocery              939995\n",
       "Pharmaceutical       154847\n",
       "PackagedMeat          65981\n",
       "NaturalProducts       52902\n",
       "Meat                  23049\n",
       "DairyJuicesSnacks     20435\n",
       "Bakery                18196\n",
       "Fuel                  13792\n",
       "PreparedFood          13045\n",
       "Seafood                7026\n",
       "SkinHairCare           4856\n",
       "Miscellaneous          3190\n",
       "FlowersPlants          1601\n",
       "Alcohol                1341\n",
       "Salads                  428\n",
       "Garden                  413\n",
       "Travel                  246\n",
       "Restauarant             211\n",
       "Vegetablescut            96\n",
       "Name: category, dtype: int64"
      ]
     },
     "execution_count": 46,
     "metadata": {},
     "output_type": "execute_result"
    }
   ],
   "source": [
    "# remove space and symbols from category name\n",
    "categories = txn_df['category'].unique()\n",
    "new_categories = [re.sub('\\s+', \"\", re.sub(\"[^A-Za-z0-9_ ]\", \"\", cat_nm)) for cat_nm in categories]\n",
    "cat_nm_map = dict(zip(categories, new_categories))\n",
    "txn_df['category'] = txn_df['category'].map(cat_nm_map)\n",
    "txn_df['category'].value_counts(dropna=False)"
   ]
  },
  {
   "cell_type": "code",
   "execution_count": 57,
   "id": "911c0945-3709-473e-92bb-b1dd1b8317e1",
   "metadata": {},
   "outputs": [
    {
     "name": "stdout",
     "output_type": "stream",
     "text": [
      "there are total 1582 unique user ids\n"
     ]
    }
   ],
   "source": [
    "all_ids = txn_df['customer_id'].unique()\n",
    "print(f'there are total {len(all_ids)} unique user ids')"
   ]
  },
  {
   "cell_type": "markdown",
   "id": "1c6ba79e-99c1-4f88-a797-408f3bc3c378",
   "metadata": {},
   "source": [
    "## Prep Label"
   ]
  },
  {
   "cell_type": "code",
   "execution_count": 63,
   "id": "07581c41-676b-4997-8da1-7fce9a816e2f",
   "metadata": {},
   "outputs": [],
   "source": [
    "def prep_label(df, tnx_months=None):\n",
    "    label = df.pivot_table(index=['customer_id', 'txn_month'], columns=['category'], values=['quantity'], aggfunc='count')\n",
    "    flat_cols = [col[1] for col in label.columns]\n",
    "    label.columns = flat_cols\n",
    "    label.reset_index(inplace=True)\n",
    "    if tnx_months is None:\n",
    "        tnx_months = label['txn_month'].unique()\n",
    "    print('total event months:', tnx_months)\n",
    "    \n",
    "    for m in tnx_months:\n",
    "        m_user_ids = set(label[label['txn_month']==m]['customer_id'].unique())\n",
    "        nopurchase_ids = set(all_ids).difference(m_user_ids)\n",
    "        print(f'add {len(nopurchase_ids)} users with no purchase to label df for month {m}')\n",
    "        \n",
    "        nopurchase_label = pd.DataFrame(nopurchase_ids, columns=['customer_id'])\n",
    "        nopurchase_label['txn_month'] = m\n",
    "        for col in label.columns[2:]:\n",
    "            nopurchase_label[col] = np.nan\n",
    "        label = pd.concat([label, nopurchase_label], ignore_index=True)\n",
    "    return label"
   ]
  },
  {
   "cell_type": "code",
   "execution_count": 64,
   "id": "7f2643dd-540c-4ea9-867d-a0717444221a",
   "metadata": {},
   "outputs": [
    {
     "name": "stdout",
     "output_type": "stream",
     "text": [
      "total event months: ['2012-02' '2012-03' '2012-04' '2012-05' '2012-06' '2012-07' '2012-08'\n",
      " '2012-09' '2012-10' '2012-11' '2012-12' '2013-01' '2013-02' '2013-03'\n",
      " '2013-04' '2013-05' '2013-06' '2012-01' '2013-07']\n",
      "add 928 users with no purchase to label df for month 2012-02\n",
      "add 532 users with no purchase to label df for month 2012-03\n",
      "add 119 users with no purchase to label df for month 2012-04\n",
      "add 138 users with no purchase to label df for month 2012-05\n",
      "add 128 users with no purchase to label df for month 2012-06\n",
      "add 117 users with no purchase to label df for month 2012-07\n",
      "add 106 users with no purchase to label df for month 2012-08\n",
      "add 93 users with no purchase to label df for month 2012-09\n",
      "add 102 users with no purchase to label df for month 2012-10\n",
      "add 99 users with no purchase to label df for month 2012-11\n",
      "add 100 users with no purchase to label df for month 2012-12\n",
      "add 95 users with no purchase to label df for month 2013-01\n",
      "add 85 users with no purchase to label df for month 2013-02\n",
      "add 87 users with no purchase to label df for month 2013-03\n",
      "add 115 users with no purchase to label df for month 2013-04\n",
      "add 101 users with no purchase to label df for month 2013-05\n",
      "add 122 users with no purchase to label df for month 2013-06\n",
      "add 1231 users with no purchase to label df for month 2012-01\n",
      "add 961 users with no purchase to label df for month 2013-07\n"
     ]
    }
   ],
   "source": [
    "label_df = prep_label(txn_df)"
   ]
  },
  {
   "cell_type": "markdown",
   "id": "7bf040fd-1318-47da-938a-ab04f7b9fa3d",
   "metadata": {},
   "source": [
    "## Check Positive Ratio"
   ]
  },
  {
   "cell_type": "code",
   "execution_count": 66,
   "id": "1fa2a469-a2b3-4837-aca2-847d08ee36b6",
   "metadata": {},
   "outputs": [],
   "source": [
    "class_cols = label_df.columns[2:]"
   ]
  },
  {
   "cell_type": "code",
   "execution_count": 67,
   "id": "50e894d3-b8bb-4b73-9963-6ed0c8ed9300",
   "metadata": {},
   "outputs": [],
   "source": [
    "for each_class in class_cols:\n",
    "    row = label_df[each_class].notnull()\n",
    "    label_df.loc[row, each_class] = 1\n",
    "label_df.fillna(0, inplace=True)"
   ]
  },
  {
   "cell_type": "code",
   "execution_count": 73,
   "id": "faa6d4ef-7765-477a-82fc-8fce1cb3cafc",
   "metadata": {},
   "outputs": [
    {
     "data": {
      "text/html": [
       "<div>\n",
       "<style scoped>\n",
       "    .dataframe tbody tr th:only-of-type {\n",
       "        vertical-align: middle;\n",
       "    }\n",
       "\n",
       "    .dataframe tbody tr th {\n",
       "        vertical-align: top;\n",
       "    }\n",
       "\n",
       "    .dataframe thead th {\n",
       "        text-align: right;\n",
       "    }\n",
       "</style>\n",
       "<table border=\"1\" class=\"dataframe\">\n",
       "  <thead>\n",
       "    <tr style=\"text-align: right;\">\n",
       "      <th></th>\n",
       "      <th>customer_id</th>\n",
       "      <th>txn_month</th>\n",
       "      <th>Alcohol</th>\n",
       "      <th>Bakery</th>\n",
       "      <th>DairyJuicesSnacks</th>\n",
       "      <th>FlowersPlants</th>\n",
       "      <th>Fuel</th>\n",
       "      <th>Garden</th>\n",
       "      <th>Grocery</th>\n",
       "      <th>Meat</th>\n",
       "      <th>...</th>\n",
       "      <th>NaturalProducts</th>\n",
       "      <th>PackagedMeat</th>\n",
       "      <th>Pharmaceutical</th>\n",
       "      <th>PreparedFood</th>\n",
       "      <th>Restauarant</th>\n",
       "      <th>Salads</th>\n",
       "      <th>Seafood</th>\n",
       "      <th>SkinHairCare</th>\n",
       "      <th>Travel</th>\n",
       "      <th>Vegetablescut</th>\n",
       "    </tr>\n",
       "  </thead>\n",
       "  <tbody>\n",
       "    <tr>\n",
       "      <th>0</th>\n",
       "      <td>1</td>\n",
       "      <td>2012-02</td>\n",
       "      <td>0.0</td>\n",
       "      <td>1.0</td>\n",
       "      <td>0.0</td>\n",
       "      <td>0.0</td>\n",
       "      <td>0.0</td>\n",
       "      <td>0.0</td>\n",
       "      <td>1.0</td>\n",
       "      <td>0.0</td>\n",
       "      <td>...</td>\n",
       "      <td>0.0</td>\n",
       "      <td>1.0</td>\n",
       "      <td>1.0</td>\n",
       "      <td>0.0</td>\n",
       "      <td>0.0</td>\n",
       "      <td>0.0</td>\n",
       "      <td>0.0</td>\n",
       "      <td>0.0</td>\n",
       "      <td>0.0</td>\n",
       "      <td>0.0</td>\n",
       "    </tr>\n",
       "    <tr>\n",
       "      <th>1</th>\n",
       "      <td>1</td>\n",
       "      <td>2012-03</td>\n",
       "      <td>0.0</td>\n",
       "      <td>0.0</td>\n",
       "      <td>0.0</td>\n",
       "      <td>0.0</td>\n",
       "      <td>0.0</td>\n",
       "      <td>0.0</td>\n",
       "      <td>1.0</td>\n",
       "      <td>0.0</td>\n",
       "      <td>...</td>\n",
       "      <td>0.0</td>\n",
       "      <td>1.0</td>\n",
       "      <td>1.0</td>\n",
       "      <td>1.0</td>\n",
       "      <td>0.0</td>\n",
       "      <td>0.0</td>\n",
       "      <td>0.0</td>\n",
       "      <td>0.0</td>\n",
       "      <td>0.0</td>\n",
       "      <td>0.0</td>\n",
       "    </tr>\n",
       "    <tr>\n",
       "      <th>2</th>\n",
       "      <td>1</td>\n",
       "      <td>2012-04</td>\n",
       "      <td>0.0</td>\n",
       "      <td>1.0</td>\n",
       "      <td>0.0</td>\n",
       "      <td>0.0</td>\n",
       "      <td>0.0</td>\n",
       "      <td>0.0</td>\n",
       "      <td>1.0</td>\n",
       "      <td>1.0</td>\n",
       "      <td>...</td>\n",
       "      <td>0.0</td>\n",
       "      <td>1.0</td>\n",
       "      <td>1.0</td>\n",
       "      <td>1.0</td>\n",
       "      <td>0.0</td>\n",
       "      <td>0.0</td>\n",
       "      <td>0.0</td>\n",
       "      <td>0.0</td>\n",
       "      <td>0.0</td>\n",
       "      <td>0.0</td>\n",
       "    </tr>\n",
       "    <tr>\n",
       "      <th>3</th>\n",
       "      <td>1</td>\n",
       "      <td>2012-05</td>\n",
       "      <td>0.0</td>\n",
       "      <td>1.0</td>\n",
       "      <td>0.0</td>\n",
       "      <td>0.0</td>\n",
       "      <td>0.0</td>\n",
       "      <td>0.0</td>\n",
       "      <td>1.0</td>\n",
       "      <td>1.0</td>\n",
       "      <td>...</td>\n",
       "      <td>1.0</td>\n",
       "      <td>1.0</td>\n",
       "      <td>1.0</td>\n",
       "      <td>0.0</td>\n",
       "      <td>0.0</td>\n",
       "      <td>0.0</td>\n",
       "      <td>0.0</td>\n",
       "      <td>0.0</td>\n",
       "      <td>0.0</td>\n",
       "      <td>0.0</td>\n",
       "    </tr>\n",
       "    <tr>\n",
       "      <th>4</th>\n",
       "      <td>1</td>\n",
       "      <td>2012-06</td>\n",
       "      <td>0.0</td>\n",
       "      <td>1.0</td>\n",
       "      <td>0.0</td>\n",
       "      <td>0.0</td>\n",
       "      <td>0.0</td>\n",
       "      <td>0.0</td>\n",
       "      <td>1.0</td>\n",
       "      <td>0.0</td>\n",
       "      <td>...</td>\n",
       "      <td>1.0</td>\n",
       "      <td>1.0</td>\n",
       "      <td>1.0</td>\n",
       "      <td>0.0</td>\n",
       "      <td>0.0</td>\n",
       "      <td>0.0</td>\n",
       "      <td>0.0</td>\n",
       "      <td>0.0</td>\n",
       "      <td>0.0</td>\n",
       "      <td>0.0</td>\n",
       "    </tr>\n",
       "  </tbody>\n",
       "</table>\n",
       "<p>5 rows × 21 columns</p>\n",
       "</div>"
      ],
      "text/plain": [
       "   customer_id txn_month  Alcohol  Bakery  DairyJuicesSnacks  FlowersPlants  \\\n",
       "0            1   2012-02      0.0     1.0                0.0            0.0   \n",
       "1            1   2012-03      0.0     0.0                0.0            0.0   \n",
       "2            1   2012-04      0.0     1.0                0.0            0.0   \n",
       "3            1   2012-05      0.0     1.0                0.0            0.0   \n",
       "4            1   2012-06      0.0     1.0                0.0            0.0   \n",
       "\n",
       "   Fuel  Garden  Grocery  Meat  ...  NaturalProducts  PackagedMeat  \\\n",
       "0   0.0     0.0      1.0   0.0  ...              0.0           1.0   \n",
       "1   0.0     0.0      1.0   0.0  ...              0.0           1.0   \n",
       "2   0.0     0.0      1.0   1.0  ...              0.0           1.0   \n",
       "3   0.0     0.0      1.0   1.0  ...              1.0           1.0   \n",
       "4   0.0     0.0      1.0   0.0  ...              1.0           1.0   \n",
       "\n",
       "   Pharmaceutical  PreparedFood  Restauarant  Salads  Seafood  SkinHairCare  \\\n",
       "0             1.0           0.0          0.0     0.0      0.0           0.0   \n",
       "1             1.0           1.0          0.0     0.0      0.0           0.0   \n",
       "2             1.0           1.0          0.0     0.0      0.0           0.0   \n",
       "3             1.0           0.0          0.0     0.0      0.0           0.0   \n",
       "4             1.0           0.0          0.0     0.0      0.0           0.0   \n",
       "\n",
       "   Travel  Vegetablescut  \n",
       "0     0.0            0.0  \n",
       "1     0.0            0.0  \n",
       "2     0.0            0.0  \n",
       "3     0.0            0.0  \n",
       "4     0.0            0.0  \n",
       "\n",
       "[5 rows x 21 columns]"
      ]
     },
     "execution_count": 73,
     "metadata": {},
     "output_type": "execute_result"
    }
   ],
   "source": [
    "label_df.head()"
   ]
  },
  {
   "cell_type": "code",
   "execution_count": 74,
   "id": "5411c6c6-9af6-4f17-a4f7-d95dc20c4ee1",
   "metadata": {},
   "outputs": [],
   "source": [
    "label_df.to_parquet(os.path.join(data_path, 'label.parquet'))"
   ]
  }
 ],
 "metadata": {
  "kernelspec": {
   "display_name": "mar_rl",
   "language": "python",
   "name": "mar_rl"
  },
  "language_info": {
   "codemirror_mode": {
    "name": "ipython",
    "version": 3
   },
   "file_extension": ".py",
   "mimetype": "text/x-python",
   "name": "python",
   "nbconvert_exporter": "python",
   "pygments_lexer": "ipython3",
   "version": "3.10.4"
  }
 },
 "nbformat": 4,
 "nbformat_minor": 5
}
