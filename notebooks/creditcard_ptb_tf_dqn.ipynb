{
 "cells": [
  {
   "cell_type": "markdown",
   "id": "0deb761b-3d9b-4ed2-b04e-7a933dd0b680",
   "metadata": {},
   "source": [
    "# Credit Card PTB by TF Agent DQN"
   ]
  },
  {
   "cell_type": "code",
   "execution_count": 1,
   "id": "b88042bb-949c-4b77-90c0-e5030f416ce7",
   "metadata": {},
   "outputs": [],
   "source": [
    "import os\n",
    "import sys\n",
    "curr_folder = globals()['_dh']\n",
    "\n",
    "os.chdir(os.path.join(curr_folder[0], '..'))\n",
    "sys.path.append(os.path.join(curr_folder[0], '..'))\n",
    "sys.path.append(os.path.join(curr_folder[0], '../marketing_rl'))"
   ]
  },
  {
   "cell_type": "code",
   "execution_count": 2,
   "id": "a1ccfacc-6730-488d-891f-e993fae9187b",
   "metadata": {},
   "outputs": [],
   "source": [
    "import pandas as pd\n",
    "import numpy as np\n",
    "import matplotlib.pyplot as plt\n",
    "import tensorflow as tf\n",
    "import tf_agents.utils.common as common\n",
    "from tf_agents.agents.dqn import dqn_agent\n",
    "from tf_agents.drivers import dynamic_step_driver\n",
    "from tf_agents.networks.q_network import QNetwork\n",
    "from tf_agents.metrics import tf_metrics\n",
    "from tf_agents.environments import tf_py_environment\n",
    "from tf_agents.replay_buffers import TFUniformReplayBuffer\n",
    "from sklearn.model_selection import train_test_split\n",
    "from sklearn.pipeline import Pipeline\n",
    "from sklearn.compose import ColumnTransformer\n",
    "from sklearn.preprocessing import OneHotEncoder, StandardScaler, OrdinalEncoder\n",
    "from sklearn.impute import SimpleImputer\n",
    "from sklearn.metrics import roc_curve, roc_auc_score\n",
    "from marketing_rl.environment.biclass_tf_env import BiClassTFEnv, EnvMode"
   ]
  },
  {
   "cell_type": "markdown",
   "id": "ba1cfaa6-2531-4d05-ac65-63ca7a9ddf03",
   "metadata": {},
   "source": [
    "## Load Data"
   ]
  },
  {
   "cell_type": "code",
   "execution_count": 3,
   "id": "b4eb3588-03e1-4887-ad36-4607e885bda2",
   "metadata": {},
   "outputs": [
    {
     "name": "stdout",
     "output_type": "stream",
     "text": [
      "total data size is 245725\n"
     ]
    }
   ],
   "source": [
    "data_path = 'data/Credit Card Lead Prediction/train.csv'\n",
    "df = pd.read_csv(data_path)\n",
    "print('total data size is', df.shape[0])"
   ]
  },
  {
   "cell_type": "markdown",
   "id": "1aaeec99-a129-4f7f-824b-ca1780199085",
   "metadata": {},
   "source": [
    "## Preparation"
   ]
  },
  {
   "cell_type": "markdown",
   "id": "0e1a68cd-2de0-4bd3-a3aa-3f2ee32febb7",
   "metadata": {},
   "source": [
    "### Prep Data"
   ]
  },
  {
   "cell_type": "code",
   "execution_count": 4,
   "id": "55b6c298-df9c-4c6d-bba2-846ed4c32587",
   "metadata": {},
   "outputs": [],
   "source": [
    "label_col = 'Is_Lead'\n",
    "index_col = 'ID'\n",
    "feat_cols = ['Gender', 'Age', 'Region_Code', 'Occupation', 'Channel_Code',\n",
    "             'Vintage', 'Credit_Product', 'Avg_Account_Balance', 'Is_Active']"
   ]
  },
  {
   "cell_type": "code",
   "execution_count": 5,
   "id": "bad7e5dc-fc60-413c-91b0-84e1ee661f48",
   "metadata": {},
   "outputs": [
    {
     "name": "stdout",
     "output_type": "stream",
     "text": [
      "train size is 172007\n",
      "test size is 73718\n",
      "train positive 40818, train negative 131189\n"
     ]
    }
   ],
   "source": [
    "X_train, X_test, y_train, y_test = train_test_split(df[feat_cols], df[label_col], random_state=0, test_size=0.3, shuffle=True)\n",
    "print('train size is', X_train.shape[0])\n",
    "print('test size is', X_test.shape[0])\n",
    "print('train positive {}, train negative {}'.format(sum(y_train==1),sum(y_train==0)))"
   ]
  },
  {
   "cell_type": "code",
   "execution_count": 6,
   "id": "017526cc-5319-4c17-8c32-e0c3221d348e",
   "metadata": {},
   "outputs": [],
   "source": [
    "numer_feats = ['Age', 'Vintage', 'Avg_Account_Balance']\n",
    "numer_transformer = StandardScaler()\n",
    "\n",
    "\n",
    "binary_feats = ['Is_Active', 'Credit_Product']\n",
    "binary_transformer = Pipeline(\n",
    "    steps=[(\"imputer\", SimpleImputer(strategy=\"constant\", fill_value='No')), (\"ordinal\", OrdinalEncoder())]\n",
    ")\n",
    "\n",
    "cat_feats = ['Gender', 'Region_Code', 'Occupation', 'Channel_Code']\n",
    "cat_transformer = OneHotEncoder(handle_unknown='ignore')\n",
    "\n",
    "transformer = ColumnTransformer(\n",
    "    transformers=[\n",
    "        (\"num\", numer_transformer, numer_feats),\n",
    "        (\"ordinal\", binary_transformer, binary_feats),\n",
    "        (\"cat\", cat_transformer, cat_feats)\n",
    "    ], sparse_threshold = 0\n",
    ")"
   ]
  },
  {
   "cell_type": "code",
   "execution_count": 7,
   "id": "b1b14475-954f-490f-b1b2-5a76755cd6a9",
   "metadata": {},
   "outputs": [],
   "source": [
    "X_train_t = transformer.fit_transform(X_train)\n",
    "X_test_t = transformer.transform(X_test)"
   ]
  },
  {
   "cell_type": "code",
   "execution_count": 8,
   "id": "e0c66104-a6e4-4561-ac85-a2259fd0aabf",
   "metadata": {},
   "outputs": [
    {
     "name": "stdout",
     "output_type": "stream",
     "text": [
      "[train] positive sample to negative sample is 0.3111388912180137\n"
     ]
    }
   ],
   "source": [
    "pos_neg_ratio = sum(y_train==1)/sum(y_train==0)\n",
    "print('[train] positive sample to negative sample is', pos_neg_ratio)"
   ]
  },
  {
   "cell_type": "markdown",
   "id": "43dd9680-e29a-414b-9ab5-7711a39c5bf9",
   "metadata": {},
   "source": [
    "### Prep Environment"
   ]
  },
  {
   "cell_type": "code",
   "execution_count": 9,
   "id": "fd1a9ebc-ce2e-472c-9d0a-0c4b72f2cfca",
   "metadata": {},
   "outputs": [],
   "source": [
    "train_data_x = np.array(X_train_t)\n",
    "train_data_y = np.array(y_train)"
   ]
  },
  {
   "cell_type": "code",
   "execution_count": 10,
   "id": "eca18079-df42-4045-92f9-3db18c57d973",
   "metadata": {},
   "outputs": [],
   "source": [
    "train_env = BiClassTFEnv(data_x=train_data_x, data_y=train_data_y, pos_neg_ratio=pos_neg_ratio, early_stop=10)\n",
    "train_tf_env = tf_py_environment.TFPyEnvironment(train_env)"
   ]
  },
  {
   "cell_type": "markdown",
   "id": "2e34678a-0d15-46de-836a-7cd0c4448391",
   "metadata": {},
   "source": [
    "## Agent Initialization"
   ]
  },
  {
   "cell_type": "code",
   "execution_count": 11,
   "id": "24dd957b-847a-46a1-bae8-ef06e120064e",
   "metadata": {},
   "outputs": [],
   "source": [
    "# define parameters\n",
    "fc_layers = (64,)\n",
    "learning_rate = 1e-4\n",
    "batch_size = 128\n",
    "replay_buffer_capacity = 100000\n",
    "\n",
    "num_iterations = 3000\n",
    "\n",
    "log_interval = 200\n",
    "eval_interval = 1000\n",
    "\n"
   ]
  },
  {
   "cell_type": "code",
   "execution_count": 12,
   "id": "d6ffd703-7426-4343-bf8e-400469678985",
   "metadata": {},
   "outputs": [
    {
     "name": "stderr",
     "output_type": "stream",
     "text": [
      "2022-06-07 11:12:34.706327: I tensorflow/core/platform/cpu_feature_guard.cc:151] This TensorFlow binary is optimized with oneAPI Deep Neural Network Library (oneDNN) to use the following CPU instructions in performance-critical operations:  AVX2 FMA\n",
      "To enable them in other operations, rebuild TensorFlow with the appropriate compiler flags.\n"
     ]
    }
   ],
   "source": [
    "# q network\n",
    "q_net = QNetwork(\n",
    "    input_tensor_spec = train_tf_env.observation_spec(),\n",
    "    action_spec = train_tf_env.action_spec(),\n",
    "    fc_layer_params = fc_layers,\n",
    ")\n",
    "\n",
    "optimizer = tf.compat.v1.train.AdamOptimizer(learning_rate=learning_rate)\n",
    "train_step_counter = tf.compat.v2.Variable(0)\n",
    "global_step = tf.compat.v1.train.get_or_create_global_step()\n",
    "\n",
    "# dqn agent\n",
    "agent = dqn_agent.DqnAgent(\n",
    "    time_step_spec = train_tf_env.time_step_spec(),\n",
    "    action_spec = train_tf_env.action_spec(),\n",
    "    q_network = q_net,\n",
    "    optimizer = optimizer,\n",
    "    td_errors_loss_fn = common.element_wise_squared_loss,\n",
    "    train_step_counter = train_step_counter,\n",
    "    emit_log_probability = True\n",
    ")\n",
    "agent.initialize()\n"
   ]
  },
  {
   "cell_type": "markdown",
   "id": "ce1848d0-a835-4762-b38e-6b5db2daf286",
   "metadata": {},
   "source": [
    "## Agent Training"
   ]
  },
  {
   "cell_type": "code",
   "execution_count": 13,
   "id": "2a7e179c-0629-4cd5-876c-28015455097b",
   "metadata": {},
   "outputs": [
    {
     "name": "stdout",
     "output_type": "stream",
     "text": [
      "Batch Size: None\n"
     ]
    }
   ],
   "source": [
    "# initiate replay buffer for training\n",
    "replay_buffer = TFUniformReplayBuffer(\n",
    "    data_spec = agent.collect_data_spec,\n",
    "    batch_size = train_tf_env.batch_size,\n",
    "    max_length = replay_buffer_capacity,\n",
    ")\n",
    "print(\"Batch Size: {}\".format(train_env.batch_size))\n",
    "\n",
    "replay_observer = [replay_buffer.add_batch]\n",
    "\n",
    "# policy\n",
    "eval_policy = agent.policy\n",
    "collect_policy = agent.collect_policy\n"
   ]
  },
  {
   "cell_type": "code",
   "execution_count": 23,
   "id": "4d183343-19cc-497a-82c1-c9476d63e69a",
   "metadata": {},
   "outputs": [],
   "source": [
    "dataset = replay_buffer.as_dataset(\n",
    "    num_parallel_calls = 3, \n",
    "    sample_batch_size = batch_size,\n",
    "    num_steps = 2\n",
    ").prefetch(3)\n",
    "\n",
    "date_iter = iter(dataset)"
   ]
  },
  {
   "cell_type": "code",
   "execution_count": 24,
   "id": "93f257cc-b5b7-4988-8eea-b8c576eec091",
   "metadata": {},
   "outputs": [],
   "source": [
    "metrics = [\n",
    "    tf_metrics.NumberOfEpisodes(),\n",
    "    tf_metrics.EnvironmentSteps(),\n",
    "    tf_metrics.AverageReturnMetric(),\n",
    "    tf_metrics.AverageEpisodeLengthMetric(),\n",
    "    \n",
    "]\n",
    "\n",
    "driver = dynamic_step_driver.DynamicStepDriver(\n",
    "    env = train_tf_env,\n",
    "    policy = collect_policy,\n",
    "    observers = replay_observer + metrics,\n",
    ")\n"
   ]
  },
  {
   "cell_type": "code",
   "execution_count": 25,
   "id": "a8579732-5cb7-4b1f-9d01-cba3610248f8",
   "metadata": {},
   "outputs": [],
   "source": [
    "def compute_avg_return(environment, policy, num_episodes=10):\n",
    "    print('computing average return for {} episodes'.format(num_episodes))\n",
    "    total_return = 0.0\n",
    "    total_step = 0\n",
    "    for i in range(num_episodes):\n",
    "        time_step = environment.reset()\n",
    "        episode_return = 0.0\n",
    "\n",
    "        while not time_step.is_last():\n",
    "            action_step = policy.action(time_step)\n",
    "            time_step = environment.step(action_step.action)\n",
    "            episode_return += time_step.reward\n",
    "            total_step += 1\n",
    "        total_return += episode_return\n",
    "            \n",
    "    print(f'total step is {total_step}')\n",
    "    print(f'total reward is {total_return}')\n",
    "    avg_return = total_return / num_episodes\n",
    "    return avg_return.numpy()[0]\n"
   ]
  },
  {
   "cell_type": "code",
   "execution_count": 26,
   "id": "357a9566-106a-4153-937e-7b1c67ca036f",
   "metadata": {},
   "outputs": [],
   "source": [
    "agent.train = common.function(agent.train)"
   ]
  },
  {
   "cell_type": "code",
   "execution_count": 28,
   "id": "8d4b2a2a-15ec-4b76-91eb-8f8bf1c16967",
   "metadata": {},
   "outputs": [
    {
     "name": "stdout",
     "output_type": "stream",
     "text": [
      "step = 200: loss = 0.2857546806335449\n",
      "Average episode length: 101.25\n",
      "step = 400: loss = 0.2813805043697357\n",
      "Average episode length: 130.22222900390625\n",
      "step = 600: loss = 0.3240312337875366\n",
      "Average episode length: 142.6999969482422\n",
      "step = 800: loss = 0.28743019700050354\n",
      "Average episode length: 151.0\n",
      "step = 1000: loss = 0.30310332775115967\n",
      "Average episode length: 164.5\n",
      "computing average return for 1 episodes\n",
      "total step is 73718\n",
      "total reward is [12018.165]\n",
      "step = 1000: Average Return = 12018.1650390625\n",
      "step = 1200: loss = 0.2615489959716797\n",
      "Average episode length: 174.89999389648438\n",
      "step = 1400: loss = 0.24516496062278748\n",
      "Average episode length: 181.6999969482422\n",
      "step = 1600: loss = 0.2692219913005829\n",
      "Average episode length: 194.1999969482422\n",
      "step = 1800: loss = 0.24195602536201477\n",
      "Average episode length: 194.1999969482422\n",
      "step = 2000: loss = 0.28554555773735046\n",
      "Average episode length: 206.60000610351562\n",
      "computing average return for 1 episodes\n",
      "total step is 73718\n",
      "total reward is [12008.408]\n",
      "step = 2000: Average Return = 12008.408203125\n",
      "step = 2200: loss = 0.23389148712158203\n",
      "Average episode length: 209.60000610351562\n",
      "step = 2400: loss = 0.2926159203052521\n",
      "Average episode length: 198.39999389648438\n",
      "step = 2600: loss = 0.24770408868789673\n",
      "Average episode length: 192.0\n",
      "step = 2800: loss = 0.2748805284500122\n",
      "Average episode length: 190.5\n",
      "step = 3000: loss = 0.27810144424438477\n",
      "Average episode length: 191.6999969482422\n",
      "computing average return for 1 episodes\n",
      "total step is 73718\n",
      "total reward is [12189.891]\n",
      "step = 3000: Average Return = 12189.890625\n"
     ]
    }
   ],
   "source": [
    "time_step = train_tf_env.reset()\n",
    "episode_len = []\n",
    "step_len = []\n",
    "losses = []\n",
    "returns = []\n",
    "agent.train_step_counter.assign(0)\n",
    "for i in range(num_iterations+1):\n",
    "    time_step, _ = driver.run(time_step)\n",
    "    \n",
    "    experience, _ = next(date_iter)\n",
    "    train_loss = agent.train(experience=experience)\n",
    "    step = agent.train_step_counter.numpy()\n",
    "\n",
    "    if step % log_interval == 0:\n",
    "        print('step = {0}: loss = {1}'.format(step, train_loss.loss))\n",
    "        episode_len.append(metrics[3].result().numpy())\n",
    "        step_len.append(step)\n",
    "        print('Average episode length: {}'.format(metrics[3].result().numpy()))\n",
    "    \n",
    "    if step % eval_interval == 0:\n",
    "        avg_return = compute_avg_return(eval_tf_env, agent.policy, num_eval_episodes)\n",
    "        print('step = {0}: Average Return = {1}'.format(step, avg_return))\n",
    "        losses.append(train_loss)\n",
    "        returns.append(avg_return)"
   ]
  },
  {
   "cell_type": "code",
   "execution_count": 19,
   "id": "07a04c08-0bd5-4632-ad2c-875e26b38ec3",
   "metadata": {},
   "outputs": [],
   "source": [
    "eval_data_x = np.array(X_test_t)\n",
    "eval_data_y = np.array(y_test)\n",
    "\n",
    "eval_env = BiClassTFEnv(data_x=eval_data_x, data_y=eval_data_y, pos_neg_ratio=pos_neg_ratio, mode=EnvMode.TEST)\n",
    "eval_tf_env = tf_py_environment.TFPyEnvironment(eval_env)\n"
   ]
  },
  {
   "cell_type": "markdown",
   "id": "00100e75-3703-4424-92bf-8ec3dc51e113",
   "metadata": {},
   "source": [
    "## Evaluation"
   ]
  },
  {
   "cell_type": "code",
   "execution_count": 51,
   "id": "b171799c-ea94-49c2-b141-599f6754365a",
   "metadata": {},
   "outputs": [],
   "source": [
    "from tf_agents.trajectories import StepType "
   ]
  },
  {
   "cell_type": "code",
   "execution_count": 78,
   "id": "797c32e1-0d34-43a3-8a66-e94c50bde3c8",
   "metadata": {},
   "outputs": [
    {
     "data": {
      "text/plain": [
       "array([[-1.20490136, -0.86558419,  1.31248727, ...,  0.        ,\n",
       "         0.        ,  0.        ],\n",
       "       [-0.73240057, -0.68026878, -0.1643117 , ...,  0.        ,\n",
       "         0.        ,  0.        ],\n",
       "       [-1.06990113, -0.86558419, -0.36911084, ...,  0.        ,\n",
       "         0.        ,  0.        ],\n",
       "       ...,\n",
       "       [-0.39490001, -0.80381238, -0.76413925, ...,  1.        ,\n",
       "         0.        ,  0.        ],\n",
       "       [ 0.34760123, -0.46406746, -0.26182323, ...,  1.        ,\n",
       "         0.        ,  0.        ],\n",
       "       [ 0.41510134,  0.61693909,  0.01834165, ...,  1.        ,\n",
       "         0.        ,  0.        ]])"
      ]
     },
     "execution_count": 78,
     "metadata": {},
     "output_type": "execute_result"
    }
   ],
   "source": [
    "eval_data_x"
   ]
  },
  {
   "cell_type": "code",
   "execution_count": 83,
   "id": "9bd7059d-e64b-46fc-b002-137e4a5a6aa8",
   "metadata": {},
   "outputs": [],
   "source": [
    "eval_q_values, _ = agent._q_network(eval_data_x) \n",
    "train_q_values, _ = agent._q_network(train_data_x) "
   ]
  },
  {
   "cell_type": "code",
   "execution_count": 86,
   "id": "3a5eade3-f3d3-41f2-9a3e-77454bfff8ce",
   "metadata": {},
   "outputs": [],
   "source": [
    "train_fpr, train_tpr, _ = roc_curve(train_data_y, train_q_values[:, 1])\n",
    "test_fpr, test_tpr, _ = roc_curve(eval_data_y, eval_q_values[:, 1])\n",
    "\n",
    "train_auc = roc_auc_score(y_train, train_q_values[:, 1])\n",
    "test_auc = roc_auc_score(y_test, eval_q_values[:, 1])"
   ]
  },
  {
   "cell_type": "code",
   "execution_count": 87,
   "id": "159f9475-3fd5-40d5-ad36-bd3cf52c7b78",
   "metadata": {},
   "outputs": [
    {
     "data": {
      "image/png": "[encoded data removed]",
      "text/plain": [
       "<Figure size 432x288 with 1 Axes>"
      ]
     },
     "metadata": {
      "needs_background": "light"
     },
     "output_type": "display_data"
    }
   ],
   "source": [
    "plt.figure()\n",
    "lw = 2\n",
    "plt.plot(train_fpr, train_tpr, color=\"b\",lw=lw, label=\"Train ROC curve (area = %0.2f)\" % train_auc)\n",
    "plt.plot(test_fpr, test_tpr, color=\"r\",lw=lw, label=\"Test ROC curve (area = %0.2f)\" % test_auc)\n",
    "plt.plot([0, 1], [0, 1], color=\"navy\", lw=lw, linestyle=\"--\")\n",
    "plt.xlim([0.0, 1.0])\n",
    "plt.ylim([0.0, 1.05])\n",
    "plt.xlabel(\"False Positive Rate\")\n",
    "plt.ylabel(\"True Positive Rate\")\n",
    "plt.title(\"Receiver operating characteristic example\")\n",
    "plt.legend(loc=\"lower right\")\n",
    "plt.show()"
   ]
  }
 ],
 "metadata": {
  "kernelspec": {
   "display_name": "mar_rl",
   "language": "python",
   "name": "mar_rl"
  },
  "language_info": {
   "codemirror_mode": {
    "name": "ipython",
    "version": 3
   },
   "file_extension": ".py",
   "mimetype": "text/x-python",
   "name": "python",
   "nbconvert_exporter": "python",
   "pygments_lexer": "ipython3",
   "version": "3.10.4"
  }
 },
 "nbformat": 4,
 "nbformat_minor": 5
}